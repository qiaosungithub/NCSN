{
 "cells": [
  {
   "cell_type": "markdown",
   "metadata": {},
   "source": [
    "# Implementation of NCSN (Noise Conditional Score Networks)"
   ]
  },
  {
   "cell_type": "code",
   "execution_count": 1,
   "metadata": {},
   "outputs": [
    {
     "name": "stdout",
     "output_type": "stream",
     "text": [
      "Tue Oct 22 19:49:01 2024       \n",
      "+---------------------------------------------------------------------------------------+\n",
      "| NVIDIA-SMI 535.86.10              Driver Version: 535.86.10    CUDA Version: 12.2     |\n",
      "|-----------------------------------------+----------------------+----------------------+\n",
      "| GPU  Name                 Persistence-M | Bus-Id        Disp.A | Volatile Uncorr. ECC |\n",
      "| Fan  Temp   Perf          Pwr:Usage/Cap |         Memory-Usage | GPU-Util  Compute M. |\n",
      "|                                         |                      |               MIG M. |\n",
      "|=========================================+======================+======================|\n",
      "|   0  Tesla V100-SXM2-32GB           On  | 00000004:04:00.0 Off |                    0 |\n",
      "| N/A   44C    P0              43W / 300W |      0MiB / 32768MiB |      0%      Default |\n",
      "|                                         |                      |                  N/A |\n",
      "+-----------------------------------------+----------------------+----------------------+\n",
      "|   1  Tesla V100-SXM2-32GB           On  | 00000004:05:00.0 Off |                    0 |\n",
      "| N/A   44C    P0              44W / 300W |      0MiB / 32768MiB |      0%      Default |\n",
      "|                                         |                      |                  N/A |\n",
      "+-----------------------------------------+----------------------+----------------------+\n",
      "|   2  Tesla V100-SXM2-32GB           On  | 00000035:03:00.0 Off |                    0 |\n",
      "| N/A   39C    P0              43W / 300W |      0MiB / 32768MiB |      0%      Default |\n",
      "|                                         |                      |                  N/A |\n",
      "+-----------------------------------------+----------------------+----------------------+\n",
      "|   3  Tesla V100-SXM2-32GB           On  | 00000035:04:00.0 Off |                    0 |\n",
      "| N/A   43C    P0              41W / 300W |      0MiB / 32768MiB |      0%      Default |\n",
      "|                                         |                      |                  N/A |\n",
      "+-----------------------------------------+----------------------+----------------------+\n",
      "                                                                                         \n",
      "+---------------------------------------------------------------------------------------+\n",
      "| Processes:                                                                            |\n",
      "|  GPU   GI   CI        PID   Type   Process name                            GPU Memory |\n",
      "|        ID   ID                                                             Usage      |\n",
      "|=======================================================================================|\n",
      "|  No running processes found                                                           |\n",
      "+---------------------------------------------------------------------------------------+\n",
      "/nobackup/users/sqa24/anaconda3/envs/wgt/bin/python\n"
     ]
    }
   ],
   "source": [
    "%load_ext autoreload\n",
    "%autoreload 2\n",
    "!nvidia-smi\n",
    "!which python"
   ]
  },
  {
   "cell_type": "code",
   "execution_count": 2,
   "metadata": {},
   "outputs": [
    {
     "name": "stdout",
     "output_type": "stream",
     "text": [
      "Files already downloaded and verified\n",
      "Files already downloaded and verified\n"
     ]
    }
   ],
   "source": [
    "try:\n",
    "    from NCSN.train import train, make_dataset, cal_noise_level, langevin\n",
    "    from NCSN.utils import train_set, val_set\n",
    "    from NCSN.model import CondUNet, UNetv2\n",
    "except:\n",
    "    from train import train, make_dataset, cal_noise_level, langevin\n",
    "    from utils import train_set, val_set\n",
    "    from model import CondUNet, UNetv2\n",
    "\n",
    "from torch.utils.data import DataLoader\n",
    "\n",
    "import torch\n",
    "import torch.nn as nn\n",
    "import torch.nn.functional as F\n",
    "import datetime\n",
    "import os\n",
    "\n",
    "train_loader = DataLoader(train_set, 256, shuffle=True, drop_last=False, pin_memory=True)\n",
    "val_loader = DataLoader(val_set, 500, shuffle=True, drop_last=False, pin_memory=True)\n",
    "\n",
    "def timestr():\n",
    "    now = datetime.datetime.now()\n",
    "    return now.strftime(\"%Y%m%d_%H%M%S\")"
   ]
  },
  {
   "cell_type": "code",
   "execution_count": 3,
   "metadata": {},
   "outputs": [
    {
     "name": "stdout",
     "output_type": "stream",
     "text": [
      "model: UNetv2(\n",
      "  (conv1): Conv2d(1, 16, kernel_size=(3, 3), stride=(1, 1), padding=(1, 1))\n",
      "  (conv2): Conv2d(16, 64, kernel_size=(3, 3), stride=(1, 1), padding=(1, 1))\n",
      "  (conv3): Conv2d(64, 256, kernel_size=(3, 3), stride=(1, 1), padding=(1, 1))\n",
      "  (conv_up1): Conv2d(128, 32, kernel_size=(3, 3), stride=(1, 1), padding=(1, 1))\n",
      "  (conv_up2): Conv2d(32, 8, kernel_size=(3, 3), stride=(1, 1), padding=(1, 1))\n",
      "  (conv_up3): Conv2d(8, 1, kernel_size=(3, 3), stride=(1, 1), padding=(1, 1))\n",
      "  (up1): ConvTranspose2d(256, 64, kernel_size=(2, 2), stride=(2, 2))\n",
      "  (up2): ConvTranspose2d(32, 16, kernel_size=(2, 2), stride=(2, 2))\n",
      "  (pool): AvgPool2d(kernel_size=2, stride=2, padding=0)\n",
      ")\n",
      "number of parameters: 264097\n",
      "time string: 20241022_182843\n",
      "code files copied\n"
     ]
    },
    {
     "name": "stderr",
     "output_type": "stream",
     "text": [
      "Epoch 2/200:   1%|▍                                                     | 2/235 [00:00<00:20, 11.39it/s, Train Loss=1.5]"
     ]
    },
    {
     "name": "stdout",
     "output_type": "stream",
     "text": [
      "Epoch 0: train loss 0.859027462817253\n"
     ]
    },
    {
     "name": "stderr",
     "output_type": "stream",
     "text": [
      "Epoch 3/200:   1%|▍                                                    | 2/235 [00:00<00:20, 11.39it/s, Train Loss=1.24]"
     ]
    },
    {
     "name": "stdout",
     "output_type": "stream",
     "text": [
      "Epoch 1: train loss 0.6839413024009542\n"
     ]
    },
    {
     "name": "stderr",
     "output_type": "stream",
     "text": [
      "Epoch 4/200:   1%|▍                                                    | 2/235 [00:00<00:20, 11.34it/s, Train Loss=1.17]"
     ]
    },
    {
     "name": "stdout",
     "output_type": "stream",
     "text": [
      "Epoch 2: train loss 0.5908247067573222\n"
     ]
    },
    {
     "name": "stderr",
     "output_type": "stream",
     "text": [
      "Epoch 5/200:   1%|▍                                                    | 2/235 [00:00<00:20, 11.37it/s, Train Loss=1.01]"
     ]
    },
    {
     "name": "stdout",
     "output_type": "stream",
     "text": [
      "Epoch 3: train loss 0.5324361089696276\n"
     ]
    },
    {
     "name": "stderr",
     "output_type": "stream",
     "text": [
      "                                                                                                                        \r"
     ]
    },
    {
     "name": "stdout",
     "output_type": "stream",
     "text": [
      "Epoch 4: train loss 0.4908827690368003\n"
     ]
    },
    {
     "name": "stderr",
     "output_type": "stream",
     "text": [
      "Corruption MSE: 0.063251, Recovered MSE: 22.471667: 100%|██████████████████████████| 2000/2000 [00:07<00:00, 269.83it/s]\n",
      "Epoch 6/200:   1%|▍                                                   | 2/235 [00:00<00:20, 11.63it/s, Train Loss=0.962]"
     ]
    },
    {
     "name": "stdout",
     "output_type": "stream",
     "text": [
      "Current best MSE: inf -> 22.4716669921875\n"
     ]
    },
    {
     "name": "stderr",
     "output_type": "stream",
     "text": [
      "Epoch 7/200:   1%|▍                                                   | 2/235 [00:00<00:20, 11.37it/s, Train Loss=0.859]"
     ]
    },
    {
     "name": "stdout",
     "output_type": "stream",
     "text": [
      "Epoch 5: train loss 0.45820495346759227\n"
     ]
    },
    {
     "name": "stderr",
     "output_type": "stream",
     "text": [
      "Epoch 8/200:   1%|▍                                                   | 2/235 [00:00<00:20, 11.37it/s, Train Loss=0.843]"
     ]
    },
    {
     "name": "stdout",
     "output_type": "stream",
     "text": [
      "Epoch 6: train loss 0.4276010959706408\n"
     ]
    },
    {
     "name": "stderr",
     "output_type": "stream",
     "text": [
      "Epoch 9/200:   1%|▍                                                   | 2/235 [00:00<00:20, 11.32it/s, Train Loss=0.765]"
     ]
    },
    {
     "name": "stdout",
     "output_type": "stream",
     "text": [
      "Epoch 7: train loss 0.4025224393986641\n"
     ]
    },
    {
     "name": "stderr",
     "output_type": "stream",
     "text": [
      "Epoch 10/200:   1%|▍                                                  | 2/235 [00:00<00:21, 11.04it/s, Train Loss=0.693]"
     ]
    },
    {
     "name": "stdout",
     "output_type": "stream",
     "text": [
      "Epoch 8: train loss 0.3826751970230265\n"
     ]
    },
    {
     "name": "stderr",
     "output_type": "stream",
     "text": [
      "                                                                                                                        \r"
     ]
    },
    {
     "name": "stdout",
     "output_type": "stream",
     "text": [
      "Epoch 9: train loss 0.3634591368918723\n"
     ]
    },
    {
     "name": "stderr",
     "output_type": "stream",
     "text": [
      "Corruption MSE: 0.063603, Recovered MSE: 0.865407: 100%|███████████████████████████| 2000/2000 [00:07<00:00, 269.57it/s]\n",
      "Epoch 11/200:   1%|▍                                                  | 2/235 [00:00<00:20, 11.61it/s, Train Loss=0.718]"
     ]
    },
    {
     "name": "stdout",
     "output_type": "stream",
     "text": [
      "Current best MSE: 22.4716669921875 -> 0.8654071044921875\n"
     ]
    },
    {
     "name": "stderr",
     "output_type": "stream",
     "text": [
      "Epoch 12/200:   1%|▍                                                  | 2/235 [00:00<00:21, 11.07it/s, Train Loss=0.658]"
     ]
    },
    {
     "name": "stdout",
     "output_type": "stream",
     "text": [
      "Epoch 10: train loss 0.345896104295203\n"
     ]
    },
    {
     "name": "stderr",
     "output_type": "stream",
     "text": [
      "Epoch 13/200:   1%|▍                                                  | 2/235 [00:00<00:20, 11.35it/s, Train Loss=0.692]"
     ]
    },
    {
     "name": "stdout",
     "output_type": "stream",
     "text": [
      "Epoch 11: train loss 0.3283837616443634\n"
     ]
    },
    {
     "name": "stderr",
     "output_type": "stream",
     "text": [
      "Epoch 14/200:   1%|▍                                                  | 2/235 [00:00<00:20, 11.36it/s, Train Loss=0.586]"
     ]
    },
    {
     "name": "stdout",
     "output_type": "stream",
     "text": [
      "Epoch 12: train loss 0.3172486161932032\n"
     ]
    },
    {
     "name": "stderr",
     "output_type": "stream",
     "text": [
      "Epoch 15/200:   1%|▍                                                  | 2/235 [00:00<00:20, 11.24it/s, Train Loss=0.637]"
     ]
    },
    {
     "name": "stdout",
     "output_type": "stream",
     "text": [
      "Epoch 13: train loss 0.306239194565631\n"
     ]
    },
    {
     "name": "stderr",
     "output_type": "stream",
     "text": [
      "                                                                                                                        \r"
     ]
    },
    {
     "name": "stdout",
     "output_type": "stream",
     "text": [
      "Epoch 14: train loss 0.2967737380494463\n"
     ]
    },
    {
     "name": "stderr",
     "output_type": "stream",
     "text": [
      "Corruption MSE: 0.063277, Recovered MSE: 0.070385: 100%|███████████████████████████| 2000/2000 [00:07<00:00, 270.15it/s]\n",
      "Epoch 16/200:   1%|▍                                                  | 2/235 [00:00<00:20, 11.61it/s, Train Loss=0.599]"
     ]
    },
    {
     "name": "stdout",
     "output_type": "stream",
     "text": [
      "Current best MSE: 0.8654071044921875 -> 0.0703850040435791\n"
     ]
    },
    {
     "name": "stderr",
     "output_type": "stream",
     "text": [
      "Epoch 17/200:   1%|▍                                                  | 2/235 [00:00<00:20, 11.36it/s, Train Loss=0.577]"
     ]
    },
    {
     "name": "stdout",
     "output_type": "stream",
     "text": [
      "Epoch 15: train loss 0.2929829736339285\n"
     ]
    },
    {
     "name": "stderr",
     "output_type": "stream",
     "text": [
      "Epoch 18/200:   1%|▍                                                  | 2/235 [00:00<00:20, 11.35it/s, Train Loss=0.542]"
     ]
    },
    {
     "name": "stdout",
     "output_type": "stream",
     "text": [
      "Epoch 16: train loss 0.28272727398162195\n"
     ]
    },
    {
     "name": "stderr",
     "output_type": "stream",
     "text": [
      "Epoch 19/200:   1%|▍                                                  | 2/235 [00:00<00:20, 11.35it/s, Train Loss=0.555]"
     ]
    },
    {
     "name": "stdout",
     "output_type": "stream",
     "text": [
      "Epoch 17: train loss 0.2771655801128834\n"
     ]
    },
    {
     "name": "stderr",
     "output_type": "stream",
     "text": [
      "Epoch 20/200:   1%|▍                                                  | 2/235 [00:00<00:20, 11.26it/s, Train Loss=0.549]"
     ]
    },
    {
     "name": "stdout",
     "output_type": "stream",
     "text": [
      "Epoch 18: train loss 0.27051367835795626\n"
     ]
    },
    {
     "name": "stderr",
     "output_type": "stream",
     "text": [
      "                                                                                                                        \r"
     ]
    },
    {
     "name": "stdout",
     "output_type": "stream",
     "text": [
      "Epoch 19: train loss 0.26124767122116493\n"
     ]
    },
    {
     "name": "stderr",
     "output_type": "stream",
     "text": [
      "Corruption MSE: 0.063627, Recovered MSE: 0.034632: 100%|███████████████████████████| 2000/2000 [00:07<00:00, 270.32it/s]\n",
      "Epoch 21/200:   1%|▍                                                  | 2/235 [00:00<00:20, 11.60it/s, Train Loss=0.516]"
     ]
    },
    {
     "name": "stdout",
     "output_type": "stream",
     "text": [
      "Current best MSE: 0.0703850040435791 -> 0.03463201999664307\n"
     ]
    },
    {
     "name": "stderr",
     "output_type": "stream",
     "text": [
      "Epoch 22/200:   1%|▍                                                  | 2/235 [00:00<00:20, 11.15it/s, Train Loss=0.518]"
     ]
    },
    {
     "name": "stdout",
     "output_type": "stream",
     "text": [
      "Epoch 20: train loss 0.2571842821354562\n"
     ]
    },
    {
     "name": "stderr",
     "output_type": "stream",
     "text": [
      "Epoch 23/200:   1%|▍                                                  | 2/235 [00:00<00:20, 11.37it/s, Train Loss=0.483]"
     ]
    },
    {
     "name": "stdout",
     "output_type": "stream",
     "text": [
      "Epoch 21: train loss 0.25072640351792597\n"
     ]
    },
    {
     "name": "stderr",
     "output_type": "stream",
     "text": [
      "Epoch 24/200:   1%|▍                                                  | 2/235 [00:00<00:20, 11.38it/s, Train Loss=0.499]"
     ]
    },
    {
     "name": "stdout",
     "output_type": "stream",
     "text": [
      "Epoch 22: train loss 0.24482885966909693\n"
     ]
    },
    {
     "name": "stderr",
     "output_type": "stream",
     "text": [
      "Epoch 25/200:   1%|▍                                                  | 2/235 [00:00<00:20, 11.36it/s, Train Loss=0.497]"
     ]
    },
    {
     "name": "stdout",
     "output_type": "stream",
     "text": [
      "Epoch 23: train loss 0.23908180550057836\n"
     ]
    },
    {
     "name": "stderr",
     "output_type": "stream",
     "text": [
      "                                                                                                                        \r"
     ]
    },
    {
     "name": "stdout",
     "output_type": "stream",
     "text": [
      "Epoch 24: train loss 0.23416482736455632\n"
     ]
    },
    {
     "name": "stderr",
     "output_type": "stream",
     "text": [
      "Corruption MSE: 0.063745, Recovered MSE: 0.034992: 100%|███████████████████████████| 2000/2000 [00:07<00:00, 270.37it/s]\n",
      "Epoch 27/200:   1%|▍                                                  | 2/235 [00:00<00:20, 11.37it/s, Train Loss=0.451]"
     ]
    },
    {
     "name": "stdout",
     "output_type": "stream",
     "text": [
      "Epoch 25: train loss 0.22934356598143882\n"
     ]
    },
    {
     "name": "stderr",
     "output_type": "stream",
     "text": [
      "Epoch 28/200:   1%|▍                                                  | 2/235 [00:00<00:20, 11.27it/s, Train Loss=0.441]"
     ]
    },
    {
     "name": "stdout",
     "output_type": "stream",
     "text": [
      "Epoch 26: train loss 0.22452552014208854\n"
     ]
    },
    {
     "name": "stderr",
     "output_type": "stream",
     "text": [
      "Epoch 29/200:   1%|▍                                                  | 2/235 [00:00<00:20, 11.36it/s, Train Loss=0.432]"
     ]
    },
    {
     "name": "stdout",
     "output_type": "stream",
     "text": [
      "Epoch 27: train loss 0.22066808495115728\n"
     ]
    },
    {
     "name": "stderr",
     "output_type": "stream",
     "text": [
      "Epoch 30/200:   1%|▍                                                  | 2/235 [00:00<00:20, 11.36it/s, Train Loss=0.415]"
     ]
    },
    {
     "name": "stdout",
     "output_type": "stream",
     "text": [
      "Epoch 28: train loss 0.21666624723596775\n"
     ]
    },
    {
     "name": "stderr",
     "output_type": "stream",
     "text": [
      "                                                                                                                        \r"
     ]
    },
    {
     "name": "stdout",
     "output_type": "stream",
     "text": [
      "Epoch 29: train loss 0.21123694067305707\n"
     ]
    },
    {
     "name": "stderr",
     "output_type": "stream",
     "text": [
      "Corruption MSE: 0.062824, Recovered MSE: 0.034241: 100%|███████████████████████████| 2000/2000 [00:07<00:00, 270.45it/s]\n",
      "Epoch 31/200:   1%|▍                                                  | 2/235 [00:00<00:20, 11.58it/s, Train Loss=0.393]"
     ]
    },
    {
     "name": "stdout",
     "output_type": "stream",
     "text": [
      "Current best MSE: 0.03463201999664307 -> 0.03424135971069336\n"
     ]
    },
    {
     "name": "stderr",
     "output_type": "stream",
     "text": [
      "Epoch 32/200:   1%|▍                                                  | 2/235 [00:00<00:21, 11.09it/s, Train Loss=0.409]"
     ]
    },
    {
     "name": "stdout",
     "output_type": "stream",
     "text": [
      "Epoch 30: train loss 0.20714781239945837\n"
     ]
    },
    {
     "name": "stderr",
     "output_type": "stream",
     "text": [
      "Epoch 33/200:   1%|▍                                                  | 2/235 [00:00<00:20, 11.35it/s, Train Loss=0.404]"
     ]
    },
    {
     "name": "stdout",
     "output_type": "stream",
     "text": [
      "Epoch 31: train loss 0.2058558814069058\n"
     ]
    },
    {
     "name": "stderr",
     "output_type": "stream",
     "text": [
      "Epoch 34/200:   1%|▍                                                   | 2/235 [00:00<00:20, 11.37it/s, Train Loss=0.41]"
     ]
    },
    {
     "name": "stdout",
     "output_type": "stream",
     "text": [
      "Epoch 32: train loss 0.20111428930404338\n"
     ]
    },
    {
     "name": "stderr",
     "output_type": "stream",
     "text": [
      "Epoch 35/200:   1%|▍                                                  | 2/235 [00:00<00:20, 11.36it/s, Train Loss=0.407]"
     ]
    },
    {
     "name": "stdout",
     "output_type": "stream",
     "text": [
      "Epoch 33: train loss 0.19937373031961156\n"
     ]
    },
    {
     "name": "stderr",
     "output_type": "stream",
     "text": [
      "                                                                                                                        \r"
     ]
    },
    {
     "name": "stdout",
     "output_type": "stream",
     "text": [
      "Epoch 34: train loss 0.19573026711636402\n"
     ]
    },
    {
     "name": "stderr",
     "output_type": "stream",
     "text": [
      "Corruption MSE: 0.063299, Recovered MSE: 0.031557: 100%|███████████████████████████| 2000/2000 [00:07<00:00, 270.33it/s]\n",
      "Epoch 36/200:   1%|▍                                                  | 2/235 [00:00<00:20, 11.59it/s, Train Loss=0.404]"
     ]
    },
    {
     "name": "stdout",
     "output_type": "stream",
     "text": [
      "Current best MSE: 0.03424135971069336 -> 0.03155719995498657\n"
     ]
    },
    {
     "name": "stderr",
     "output_type": "stream",
     "text": [
      "Epoch 37/200:   1%|▍                                                  | 2/235 [00:00<00:20, 11.38it/s, Train Loss=0.378]"
     ]
    },
    {
     "name": "stdout",
     "output_type": "stream",
     "text": [
      "Epoch 35: train loss 0.1922135018287821\n"
     ]
    },
    {
     "name": "stderr",
     "output_type": "stream",
     "text": [
      "Epoch 38/200:   1%|▍                                                  | 2/235 [00:00<00:20, 11.35it/s, Train Loss=0.367]"
     ]
    },
    {
     "name": "stdout",
     "output_type": "stream",
     "text": [
      "Epoch 36: train loss 0.18997571690285459\n"
     ]
    },
    {
     "name": "stderr",
     "output_type": "stream",
     "text": [
      "Epoch 39/200:   1%|▍                                                  | 2/235 [00:00<00:20, 11.37it/s, Train Loss=0.373]"
     ]
    },
    {
     "name": "stdout",
     "output_type": "stream",
     "text": [
      "Epoch 37: train loss 0.18739591811565642\n"
     ]
    },
    {
     "name": "stderr",
     "output_type": "stream",
     "text": [
      "Epoch 40/200:   1%|▍                                                  | 2/235 [00:00<00:20, 11.39it/s, Train Loss=0.364]"
     ]
    },
    {
     "name": "stdout",
     "output_type": "stream",
     "text": [
      "Epoch 38: train loss 0.1847243163179844\n"
     ]
    },
    {
     "name": "stderr",
     "output_type": "stream",
     "text": [
      "                                                                                                                        \r"
     ]
    },
    {
     "name": "stdout",
     "output_type": "stream",
     "text": [
      "Epoch 39: train loss 0.1817318353881227\n"
     ]
    },
    {
     "name": "stderr",
     "output_type": "stream",
     "text": [
      "Corruption MSE: 0.063168, Recovered MSE: 0.027131: 100%|███████████████████████████| 2000/2000 [00:07<00:00, 270.30it/s]\n",
      "Epoch 41/200:   1%|▍                                                  | 2/235 [00:00<00:20, 11.58it/s, Train Loss=0.351]"
     ]
    },
    {
     "name": "stdout",
     "output_type": "stream",
     "text": [
      "Current best MSE: 0.03155719995498657 -> 0.027131324291229247\n"
     ]
    },
    {
     "name": "stderr",
     "output_type": "stream",
     "text": [
      "Epoch 42/200:   1%|▍                                                   | 2/235 [00:00<00:20, 11.37it/s, Train Loss=0.36]"
     ]
    },
    {
     "name": "stdout",
     "output_type": "stream",
     "text": [
      "Epoch 40: train loss 0.18009236049144825\n"
     ]
    },
    {
     "name": "stderr",
     "output_type": "stream",
     "text": [
      "Epoch 43/200:   1%|▍                                                  | 2/235 [00:00<00:20, 11.24it/s, Train Loss=0.382]"
     ]
    },
    {
     "name": "stdout",
     "output_type": "stream",
     "text": [
      "Epoch 41: train loss 0.1771092082591767\n"
     ]
    },
    {
     "name": "stderr",
     "output_type": "stream",
     "text": [
      "Epoch 44/200:   1%|▍                                                  | 2/235 [00:00<00:20, 11.37it/s, Train Loss=0.328]"
     ]
    },
    {
     "name": "stdout",
     "output_type": "stream",
     "text": [
      "Epoch 42: train loss 0.17494234816825135\n"
     ]
    },
    {
     "name": "stderr",
     "output_type": "stream",
     "text": [
      "Epoch 45/200:   1%|▍                                                  | 2/235 [00:00<00:20, 11.40it/s, Train Loss=0.336]"
     ]
    },
    {
     "name": "stdout",
     "output_type": "stream",
     "text": [
      "Epoch 43: train loss 0.17246685345122154\n"
     ]
    },
    {
     "name": "stderr",
     "output_type": "stream",
     "text": [
      "                                                                                                                        \r"
     ]
    },
    {
     "name": "stdout",
     "output_type": "stream",
     "text": [
      "Epoch 44: train loss 0.17206198604817086\n"
     ]
    },
    {
     "name": "stderr",
     "output_type": "stream",
     "text": [
      "Corruption MSE: 0.063075, Recovered MSE: 0.023604: 100%|███████████████████████████| 2000/2000 [00:07<00:00, 270.12it/s]\n",
      "Epoch 46/200:   1%|▍                                                   | 2/235 [00:00<00:20, 11.53it/s, Train Loss=0.34]"
     ]
    },
    {
     "name": "stdout",
     "output_type": "stream",
     "text": [
      "Current best MSE: 0.027131324291229247 -> 0.02360369825363159\n"
     ]
    },
    {
     "name": "stderr",
     "output_type": "stream",
     "text": [
      "Epoch 47/200:   1%|▍                                                   | 2/235 [00:00<00:20, 11.36it/s, Train Loss=0.35]"
     ]
    },
    {
     "name": "stdout",
     "output_type": "stream",
     "text": [
      "Epoch 45: train loss 0.17090274697922644\n"
     ]
    },
    {
     "name": "stderr",
     "output_type": "stream",
     "text": [
      "Epoch 48/200:   1%|▍                                                  | 2/235 [00:00<00:20, 11.19it/s, Train Loss=0.336]"
     ]
    },
    {
     "name": "stdout",
     "output_type": "stream",
     "text": [
      "Epoch 46: train loss 0.16750357563191273\n"
     ]
    },
    {
     "name": "stderr",
     "output_type": "stream",
     "text": [
      "Epoch 49/200:   1%|▍                                                  | 2/235 [00:00<00:20, 11.27it/s, Train Loss=0.328]"
     ]
    },
    {
     "name": "stdout",
     "output_type": "stream",
     "text": [
      "Epoch 47: train loss 0.16673955777858165\n"
     ]
    },
    {
     "name": "stderr",
     "output_type": "stream",
     "text": [
      "Epoch 50/200:   1%|▍                                                  | 2/235 [00:00<00:20, 11.33it/s, Train Loss=0.336]"
     ]
    },
    {
     "name": "stdout",
     "output_type": "stream",
     "text": [
      "Epoch 48: train loss 0.16450463476333213\n"
     ]
    },
    {
     "name": "stderr",
     "output_type": "stream",
     "text": [
      "                                                                                                                        \r"
     ]
    },
    {
     "name": "stdout",
     "output_type": "stream",
     "text": [
      "Epoch 49: train loss 0.16458004110671104\n"
     ]
    },
    {
     "name": "stderr",
     "output_type": "stream",
     "text": [
      "Corruption MSE: 0.063258, Recovered MSE: 0.021561: 100%|███████████████████████████| 2000/2000 [00:07<00:00, 270.02it/s]\n",
      "Epoch 51/200:   1%|▍                                                  | 2/235 [00:00<00:20, 11.60it/s, Train Loss=0.326]"
     ]
    },
    {
     "name": "stdout",
     "output_type": "stream",
     "text": [
      "Current best MSE: 0.02360369825363159 -> 0.021560906410217285\n"
     ]
    },
    {
     "name": "stderr",
     "output_type": "stream",
     "text": [
      "Epoch 52/200:   1%|▍                                                  | 2/235 [00:00<00:20, 11.38it/s, Train Loss=0.317]"
     ]
    },
    {
     "name": "stdout",
     "output_type": "stream",
     "text": [
      "Epoch 50: train loss 0.16166934611949516\n"
     ]
    },
    {
     "name": "stderr",
     "output_type": "stream",
     "text": [
      "Epoch 53/200:   1%|▍                                                   | 2/235 [00:00<00:20, 11.37it/s, Train Loss=0.32]"
     ]
    },
    {
     "name": "stdout",
     "output_type": "stream",
     "text": [
      "Epoch 51: train loss 0.16132931582471158\n"
     ]
    },
    {
     "name": "stderr",
     "output_type": "stream",
     "text": [
      "Epoch 54/200:   1%|▍                                                  | 2/235 [00:00<00:20, 11.35it/s, Train Loss=0.313]"
     ]
    },
    {
     "name": "stdout",
     "output_type": "stream",
     "text": [
      "Epoch 52: train loss 0.15922782706453445\n"
     ]
    },
    {
     "name": "stderr",
     "output_type": "stream",
     "text": [
      "Epoch 55/200:   1%|▍                                                  | 2/235 [00:00<00:20, 11.35it/s, Train Loss=0.319]"
     ]
    },
    {
     "name": "stdout",
     "output_type": "stream",
     "text": [
      "Epoch 53: train loss 0.1580064504070485\n"
     ]
    },
    {
     "name": "stderr",
     "output_type": "stream",
     "text": [
      "                                                                                                                        \r"
     ]
    },
    {
     "name": "stdout",
     "output_type": "stream",
     "text": [
      "Epoch 54: train loss 0.15764250070490735\n"
     ]
    },
    {
     "name": "stderr",
     "output_type": "stream",
     "text": [
      "Corruption MSE: 0.062952, Recovered MSE: 0.020424: 100%|███████████████████████████| 2000/2000 [00:07<00:00, 270.09it/s]\n",
      "Epoch 56/200:   1%|▍                                                   | 2/235 [00:00<00:20, 11.63it/s, Train Loss=0.31]"
     ]
    },
    {
     "name": "stdout",
     "output_type": "stream",
     "text": [
      "Current best MSE: 0.021560906410217285 -> 0.02042408227920532\n"
     ]
    },
    {
     "name": "stderr",
     "output_type": "stream",
     "text": [
      "Epoch 57/200:   1%|▍                                                  | 2/235 [00:00<00:20, 11.37it/s, Train Loss=0.293]"
     ]
    },
    {
     "name": "stdout",
     "output_type": "stream",
     "text": [
      "Epoch 55: train loss 0.15566779895031707\n"
     ]
    },
    {
     "name": "stderr",
     "output_type": "stream",
     "text": [
      "Epoch 58/200:   1%|▍                                                  | 2/235 [00:00<00:20, 11.38it/s, Train Loss=0.327]"
     ]
    },
    {
     "name": "stdout",
     "output_type": "stream",
     "text": [
      "Epoch 56: train loss 0.1537410593413292\n"
     ]
    },
    {
     "name": "stderr",
     "output_type": "stream",
     "text": [
      "Epoch 59/200:   1%|▍                                                  | 2/235 [00:00<00:20, 11.38it/s, Train Loss=0.329]"
     ]
    },
    {
     "name": "stdout",
     "output_type": "stream",
     "text": [
      "Epoch 57: train loss 0.15403796599266376\n"
     ]
    },
    {
     "name": "stderr",
     "output_type": "stream",
     "text": [
      "Epoch 60/200:   1%|▍                                                  | 2/235 [00:00<00:20, 11.38it/s, Train Loss=0.304]"
     ]
    },
    {
     "name": "stdout",
     "output_type": "stream",
     "text": [
      "Epoch 58: train loss 0.15306366396711227\n"
     ]
    },
    {
     "name": "stderr",
     "output_type": "stream",
     "text": [
      "                                                                                                                        \r"
     ]
    },
    {
     "name": "stdout",
     "output_type": "stream",
     "text": [
      "Epoch 59: train loss 0.15242252590808464\n"
     ]
    },
    {
     "name": "stderr",
     "output_type": "stream",
     "text": [
      "Corruption MSE: 0.063691, Recovered MSE: 0.020379: 100%|███████████████████████████| 2000/2000 [00:07<00:00, 270.48it/s]\n",
      "Epoch 61/200:   1%|▍                                                  | 2/235 [00:00<00:20, 11.62it/s, Train Loss=0.288]"
     ]
    },
    {
     "name": "stdout",
     "output_type": "stream",
     "text": [
      "Current best MSE: 0.02042408227920532 -> 0.02037925577163696\n"
     ]
    },
    {
     "name": "stderr",
     "output_type": "stream",
     "text": [
      "Epoch 62/200:   1%|▍                                                  | 2/235 [00:00<00:21, 11.09it/s, Train Loss=0.295]"
     ]
    },
    {
     "name": "stdout",
     "output_type": "stream",
     "text": [
      "Epoch 60: train loss 0.15145528303815964\n"
     ]
    },
    {
     "name": "stderr",
     "output_type": "stream",
     "text": [
      "Epoch 63/200:   1%|▍                                                  | 2/235 [00:00<00:20, 11.38it/s, Train Loss=0.316]"
     ]
    },
    {
     "name": "stdout",
     "output_type": "stream",
     "text": [
      "Epoch 61: train loss 0.14881277249214497\n"
     ]
    },
    {
     "name": "stderr",
     "output_type": "stream",
     "text": [
      "Epoch 64/200:   1%|▍                                                  | 2/235 [00:00<00:20, 11.39it/s, Train Loss=0.282]"
     ]
    },
    {
     "name": "stdout",
     "output_type": "stream",
     "text": [
      "Epoch 62: train loss 0.1481739417352575\n"
     ]
    },
    {
     "name": "stderr",
     "output_type": "stream",
     "text": [
      "Epoch 65/200:   1%|▍                                                  | 2/235 [00:00<00:20, 11.31it/s, Train Loss=0.293]"
     ]
    },
    {
     "name": "stdout",
     "output_type": "stream",
     "text": [
      "Epoch 63: train loss 0.1466607097298541\n"
     ]
    },
    {
     "name": "stderr",
     "output_type": "stream",
     "text": [
      "                                                                                                                        \r"
     ]
    },
    {
     "name": "stdout",
     "output_type": "stream",
     "text": [
      "Epoch 64: train loss 0.14602479465464327\n"
     ]
    },
    {
     "name": "stderr",
     "output_type": "stream",
     "text": [
      "Corruption MSE: 0.063321, Recovered MSE: 0.019797: 100%|███████████████████████████| 2000/2000 [00:07<00:00, 270.06it/s]\n",
      "Epoch 66/200:   1%|▍                                                  | 2/235 [00:00<00:20, 11.63it/s, Train Loss=0.277]"
     ]
    },
    {
     "name": "stdout",
     "output_type": "stream",
     "text": [
      "Current best MSE: 0.02037925577163696 -> 0.01979719352722168\n"
     ]
    },
    {
     "name": "stderr",
     "output_type": "stream",
     "text": [
      "Epoch 67/200:   1%|▍                                                  | 2/235 [00:00<00:20, 11.38it/s, Train Loss=0.292]"
     ]
    },
    {
     "name": "stdout",
     "output_type": "stream",
     "text": [
      "Epoch 65: train loss 0.14669729325365513\n"
     ]
    },
    {
     "name": "stderr",
     "output_type": "stream",
     "text": [
      "Epoch 68/200:   1%|▍                                                  | 2/235 [00:00<00:20, 11.38it/s, Train Loss=0.285]"
     ]
    },
    {
     "name": "stdout",
     "output_type": "stream",
     "text": [
      "Epoch 66: train loss 0.1448725940699273\n"
     ]
    },
    {
     "name": "stderr",
     "output_type": "stream",
     "text": [
      "Epoch 69/200:   1%|▍                                                  | 2/235 [00:00<00:20, 11.39it/s, Train Loss=0.281]"
     ]
    },
    {
     "name": "stdout",
     "output_type": "stream",
     "text": [
      "Epoch 67: train loss 0.14522760225103257\n"
     ]
    },
    {
     "name": "stderr",
     "output_type": "stream",
     "text": [
      "Epoch 70/200:   1%|▍                                                  | 2/235 [00:00<00:20, 11.37it/s, Train Loss=0.272]"
     ]
    },
    {
     "name": "stdout",
     "output_type": "stream",
     "text": [
      "Epoch 68: train loss 0.14377667618558762\n"
     ]
    },
    {
     "name": "stderr",
     "output_type": "stream",
     "text": [
      "                                                                                                                        \r"
     ]
    },
    {
     "name": "stdout",
     "output_type": "stream",
     "text": [
      "Epoch 69: train loss 0.1427923561093655\n"
     ]
    },
    {
     "name": "stderr",
     "output_type": "stream",
     "text": [
      "Corruption MSE: 0.063547, Recovered MSE: 0.020440: 100%|███████████████████████████| 2000/2000 [00:07<00:00, 269.73it/s]\n",
      "Epoch 72/200:   1%|▍                                                   | 2/235 [00:00<00:20, 11.37it/s, Train Loss=0.29]"
     ]
    },
    {
     "name": "stdout",
     "output_type": "stream",
     "text": [
      "Epoch 70: train loss 0.14237501126654606\n"
     ]
    },
    {
     "name": "stderr",
     "output_type": "stream",
     "text": [
      "Epoch 73/200:   1%|▍                                                  | 2/235 [00:00<00:20, 11.38it/s, Train Loss=0.285]"
     ]
    },
    {
     "name": "stdout",
     "output_type": "stream",
     "text": [
      "Epoch 71: train loss 0.14177614834080352\n"
     ]
    },
    {
     "name": "stderr",
     "output_type": "stream",
     "text": [
      "Epoch 74/200:   1%|▍                                                  | 2/235 [00:00<00:20, 11.37it/s, Train Loss=0.278]"
     ]
    },
    {
     "name": "stdout",
     "output_type": "stream",
     "text": [
      "Epoch 72: train loss 0.13996847363862586\n"
     ]
    },
    {
     "name": "stderr",
     "output_type": "stream",
     "text": [
      "Epoch 75/200:   1%|▍                                                  | 2/235 [00:00<00:20, 11.36it/s, Train Loss=0.288]"
     ]
    },
    {
     "name": "stdout",
     "output_type": "stream",
     "text": [
      "Epoch 73: train loss 0.14060537558286748\n"
     ]
    },
    {
     "name": "stderr",
     "output_type": "stream",
     "text": [
      "                                                                                                                        \r"
     ]
    },
    {
     "name": "stdout",
     "output_type": "stream",
     "text": [
      "Epoch 74: train loss 0.13983499303143077\n"
     ]
    },
    {
     "name": "stderr",
     "output_type": "stream",
     "text": [
      "Corruption MSE: 0.063768, Recovered MSE: 0.020772: 100%|███████████████████████████| 2000/2000 [00:07<00:00, 270.37it/s]\n",
      "Epoch 77/200:   1%|▍                                                  | 2/235 [00:00<00:20, 11.38it/s, Train Loss=0.258]"
     ]
    },
    {
     "name": "stdout",
     "output_type": "stream",
     "text": [
      "Epoch 75: train loss 0.13999576400569144\n"
     ]
    },
    {
     "name": "stderr",
     "output_type": "stream",
     "text": [
      "Epoch 78/200:   1%|▍                                                  | 2/235 [00:00<00:20, 11.38it/s, Train Loss=0.276]"
     ]
    },
    {
     "name": "stdout",
     "output_type": "stream",
     "text": [
      "Epoch 76: train loss 0.13843538957707424\n"
     ]
    },
    {
     "name": "stderr",
     "output_type": "stream",
     "text": [
      "Epoch 79/200:   1%|▍                                                  | 2/235 [00:00<00:20, 11.37it/s, Train Loss=0.279]"
     ]
    },
    {
     "name": "stdout",
     "output_type": "stream",
     "text": [
      "Epoch 77: train loss 0.1388238325398019\n"
     ]
    },
    {
     "name": "stderr",
     "output_type": "stream",
     "text": [
      "Epoch 80/200:   1%|▍                                                  | 2/235 [00:00<00:20, 11.35it/s, Train Loss=0.279]"
     ]
    },
    {
     "name": "stdout",
     "output_type": "stream",
     "text": [
      "Epoch 78: train loss 0.13736441167111094\n"
     ]
    },
    {
     "name": "stderr",
     "output_type": "stream",
     "text": [
      "                                                                                                                        \r"
     ]
    },
    {
     "name": "stdout",
     "output_type": "stream",
     "text": [
      "Epoch 79: train loss 0.1371757280636341\n"
     ]
    },
    {
     "name": "stderr",
     "output_type": "stream",
     "text": [
      "Corruption MSE: 0.063230, Recovered MSE: 0.020564: 100%|███████████████████████████| 2000/2000 [00:07<00:00, 270.73it/s]\n",
      "Epoch 82/200:   1%|▍                                                  | 2/235 [00:00<00:21, 11.06it/s, Train Loss=0.258]"
     ]
    },
    {
     "name": "stdout",
     "output_type": "stream",
     "text": [
      "Epoch 80: train loss 0.13650093921955594\n"
     ]
    },
    {
     "name": "stderr",
     "output_type": "stream",
     "text": [
      "Epoch 83/200:   1%|▍                                                  | 2/235 [00:00<00:20, 11.35it/s, Train Loss=0.287]"
     ]
    },
    {
     "name": "stdout",
     "output_type": "stream",
     "text": [
      "Epoch 81: train loss 0.13538390141218268\n"
     ]
    },
    {
     "name": "stderr",
     "output_type": "stream",
     "text": [
      "Epoch 84/200:   1%|▍                                                  | 2/235 [00:00<00:20, 11.38it/s, Train Loss=0.271]"
     ]
    },
    {
     "name": "stdout",
     "output_type": "stream",
     "text": [
      "Epoch 82: train loss 0.13597636631828675\n"
     ]
    },
    {
     "name": "stderr",
     "output_type": "stream",
     "text": [
      "Epoch 85/200:   1%|▍                                                  | 2/235 [00:00<00:20, 11.39it/s, Train Loss=0.328]"
     ]
    },
    {
     "name": "stdout",
     "output_type": "stream",
     "text": [
      "Epoch 83: train loss 0.13545020869437685\n"
     ]
    },
    {
     "name": "stderr",
     "output_type": "stream",
     "text": [
      "                                                                                                                        \r"
     ]
    },
    {
     "name": "stdout",
     "output_type": "stream",
     "text": [
      "Epoch 84: train loss 0.13528253905316617\n"
     ]
    },
    {
     "name": "stderr",
     "output_type": "stream",
     "text": [
      "Corruption MSE: 0.063569, Recovered MSE: 0.020712: 100%|███████████████████████████| 2000/2000 [00:07<00:00, 269.44it/s]\n",
      "Epoch 87/200:   1%|▍                                                  | 2/235 [00:00<00:20, 11.34it/s, Train Loss=0.268]"
     ]
    },
    {
     "name": "stdout",
     "output_type": "stream",
     "text": [
      "Epoch 85: train loss 0.134137062569882\n"
     ]
    },
    {
     "name": "stderr",
     "output_type": "stream",
     "text": [
      "Epoch 88/200:   1%|▍                                                  | 2/235 [00:00<00:20, 11.39it/s, Train Loss=0.283]"
     ]
    },
    {
     "name": "stdout",
     "output_type": "stream",
     "text": [
      "Epoch 86: train loss 0.13350899305115355\n"
     ]
    },
    {
     "name": "stderr",
     "output_type": "stream",
     "text": [
      "Epoch 89/200:   1%|▍                                                    | 2/235 [00:00<00:20, 11.38it/s, Train Loss=0.3]"
     ]
    },
    {
     "name": "stdout",
     "output_type": "stream",
     "text": [
      "Epoch 87: train loss 0.13362099344426012\n"
     ]
    },
    {
     "name": "stderr",
     "output_type": "stream",
     "text": [
      "Epoch 90/200:   1%|▍                                                  | 2/235 [00:00<00:20, 11.37it/s, Train Loss=0.246]"
     ]
    },
    {
     "name": "stdout",
     "output_type": "stream",
     "text": [
      "Epoch 88: train loss 0.13294790219119254\n"
     ]
    },
    {
     "name": "stderr",
     "output_type": "stream",
     "text": [
      "                                                                                                                        \r"
     ]
    },
    {
     "name": "stdout",
     "output_type": "stream",
     "text": [
      "Epoch 89: train loss 0.1320389649018328\n"
     ]
    },
    {
     "name": "stderr",
     "output_type": "stream",
     "text": [
      "Corruption MSE: 0.063121, Recovered MSE: 0.020649: 100%|███████████████████████████| 2000/2000 [00:07<00:00, 270.31it/s]\n",
      "Epoch 92/200:   1%|▍                                                   | 2/235 [00:00<00:20, 11.39it/s, Train Loss=0.29]"
     ]
    },
    {
     "name": "stdout",
     "output_type": "stream",
     "text": [
      "Epoch 90: train loss 0.13118743550904255\n"
     ]
    },
    {
     "name": "stderr",
     "output_type": "stream",
     "text": [
      "Epoch 93/200:   1%|▍                                                  | 2/235 [00:00<00:20, 11.26it/s, Train Loss=0.265]"
     ]
    },
    {
     "name": "stdout",
     "output_type": "stream",
     "text": [
      "Epoch 91: train loss 0.13155740553394277\n"
     ]
    },
    {
     "name": "stderr",
     "output_type": "stream",
     "text": [
      "Epoch 94/200:   1%|▍                                                  | 2/235 [00:00<00:20, 11.36it/s, Train Loss=0.277]"
     ]
    },
    {
     "name": "stdout",
     "output_type": "stream",
     "text": [
      "Epoch 92: train loss 0.13096307053210887\n"
     ]
    },
    {
     "name": "stderr",
     "output_type": "stream",
     "text": [
      "Epoch 95/200:   1%|▍                                                  | 2/235 [00:00<00:20, 11.36it/s, Train Loss=0.258]"
     ]
    },
    {
     "name": "stdout",
     "output_type": "stream",
     "text": [
      "Epoch 93: train loss 0.13098567721057444\n"
     ]
    },
    {
     "name": "stderr",
     "output_type": "stream",
     "text": [
      "                                                                                                                        \r"
     ]
    },
    {
     "name": "stdout",
     "output_type": "stream",
     "text": [
      "Epoch 94: train loss 0.13068048126519993\n"
     ]
    },
    {
     "name": "stderr",
     "output_type": "stream",
     "text": [
      "Corruption MSE: 0.063386, Recovered MSE: 0.020944: 100%|███████████████████████████| 2000/2000 [00:07<00:00, 270.31it/s]\n",
      "Epoch 97/200:   1%|▍                                                  | 2/235 [00:00<00:20, 11.39it/s, Train Loss=0.267]"
     ]
    },
    {
     "name": "stdout",
     "output_type": "stream",
     "text": [
      "Epoch 95: train loss 0.13046671028466936\n"
     ]
    },
    {
     "name": "stderr",
     "output_type": "stream",
     "text": [
      "Epoch 98/200:   1%|▍                                                   | 2/235 [00:00<00:20, 11.37it/s, Train Loss=0.25]"
     ]
    },
    {
     "name": "stdout",
     "output_type": "stream",
     "text": [
      "Epoch 96: train loss 0.1297378901154437\n"
     ]
    },
    {
     "name": "stderr",
     "output_type": "stream",
     "text": [
      "Epoch 99/200:   1%|▍                                                  | 2/235 [00:00<00:20, 11.38it/s, Train Loss=0.264]"
     ]
    },
    {
     "name": "stdout",
     "output_type": "stream",
     "text": [
      "Epoch 97: train loss 0.1301741768388038\n"
     ]
    },
    {
     "name": "stderr",
     "output_type": "stream",
     "text": [
      "Epoch 100/200:   1%|▍                                                 | 2/235 [00:00<00:20, 11.39it/s, Train Loss=0.257]"
     ]
    },
    {
     "name": "stdout",
     "output_type": "stream",
     "text": [
      "Epoch 98: train loss 0.12854104073757822\n"
     ]
    },
    {
     "name": "stderr",
     "output_type": "stream",
     "text": [
      "                                                                                                                        \r"
     ]
    },
    {
     "name": "stdout",
     "output_type": "stream",
     "text": [
      "Epoch 99: train loss 0.12855251152464683\n"
     ]
    },
    {
     "name": "stderr",
     "output_type": "stream",
     "text": [
      "Corruption MSE: 0.063495, Recovered MSE: 0.020649: 100%|███████████████████████████| 2000/2000 [00:07<00:00, 270.27it/s]\n",
      "Epoch 102/200:   1%|▍                                                  | 2/235 [00:00<00:20, 11.38it/s, Train Loss=0.26]"
     ]
    },
    {
     "name": "stdout",
     "output_type": "stream",
     "text": [
      "Epoch 100: train loss 0.12779595953352907\n"
     ]
    },
    {
     "name": "stderr",
     "output_type": "stream",
     "text": [
      "Epoch 103/200:   1%|▍                                                 | 2/235 [00:00<00:20, 11.39it/s, Train Loss=0.269]"
     ]
    },
    {
     "name": "stdout",
     "output_type": "stream",
     "text": [
      "Epoch 101: train loss 0.12819080184748832\n"
     ]
    },
    {
     "name": "stderr",
     "output_type": "stream",
     "text": [
      "Epoch 104/200:   1%|▍                                                 | 2/235 [00:00<00:20, 11.37it/s, Train Loss=0.263]"
     ]
    },
    {
     "name": "stdout",
     "output_type": "stream",
     "text": [
      "Epoch 102: train loss 0.12765642001907876\n"
     ]
    },
    {
     "name": "stderr",
     "output_type": "stream",
     "text": [
      "Epoch 105/200:   1%|▍                                                 | 2/235 [00:00<00:20, 11.39it/s, Train Loss=0.259]"
     ]
    },
    {
     "name": "stdout",
     "output_type": "stream",
     "text": [
      "Epoch 103: train loss 0.1283897728361982\n"
     ]
    },
    {
     "name": "stderr",
     "output_type": "stream",
     "text": [
      "                                                                                                                        \r"
     ]
    },
    {
     "name": "stdout",
     "output_type": "stream",
     "text": [
      "Epoch 104: train loss 0.12686093570070064\n"
     ]
    },
    {
     "name": "stderr",
     "output_type": "stream",
     "text": [
      "Corruption MSE: 0.063317, Recovered MSE: 0.020396: 100%|███████████████████████████| 2000/2000 [00:07<00:00, 270.24it/s]\n",
      "Epoch 107/200:   1%|▍                                                 | 2/235 [00:00<00:20, 11.39it/s, Train Loss=0.263]"
     ]
    },
    {
     "name": "stdout",
     "output_type": "stream",
     "text": [
      "Epoch 105: train loss 0.12836695313453675\n"
     ]
    },
    {
     "name": "stderr",
     "output_type": "stream",
     "text": [
      "Epoch 108/200:   1%|▍                                                  | 2/235 [00:00<00:20, 11.37it/s, Train Loss=0.25]"
     ]
    },
    {
     "name": "stdout",
     "output_type": "stream",
     "text": [
      "Epoch 106: train loss 0.12673480770689377\n"
     ]
    },
    {
     "name": "stderr",
     "output_type": "stream",
     "text": [
      "Epoch 109/200:   1%|▍                                                 | 2/235 [00:00<00:20, 11.34it/s, Train Loss=0.252]"
     ]
    },
    {
     "name": "stdout",
     "output_type": "stream",
     "text": [
      "Epoch 107: train loss 0.12573092915910355\n"
     ]
    },
    {
     "name": "stderr",
     "output_type": "stream",
     "text": [
      "Epoch 110/200:   1%|▍                                                 | 2/235 [00:00<00:20, 11.36it/s, Train Loss=0.263]"
     ]
    },
    {
     "name": "stdout",
     "output_type": "stream",
     "text": [
      "Epoch 108: train loss 0.1264291505864326\n"
     ]
    },
    {
     "name": "stderr",
     "output_type": "stream",
     "text": [
      "                                                                                                                        \r"
     ]
    },
    {
     "name": "stdout",
     "output_type": "stream",
     "text": [
      "Epoch 109: train loss 0.12527477348104438\n"
     ]
    },
    {
     "name": "stderr",
     "output_type": "stream",
     "text": [
      "Corruption MSE: 0.063683, Recovered MSE: 0.020465: 100%|███████████████████████████| 2000/2000 [00:07<00:00, 270.12it/s]\n",
      "Epoch 112/200:   1%|▍                                                 | 2/235 [00:00<00:20, 11.37it/s, Train Loss=0.248]"
     ]
    },
    {
     "name": "stdout",
     "output_type": "stream",
     "text": [
      "Epoch 110: train loss 0.12582724779210192\n"
     ]
    },
    {
     "name": "stderr",
     "output_type": "stream",
     "text": [
      "Epoch 113/200:   1%|▍                                                 | 2/235 [00:00<00:20, 11.37it/s, Train Loss=0.268]"
     ]
    },
    {
     "name": "stdout",
     "output_type": "stream",
     "text": [
      "Epoch 111: train loss 0.12473677644070158\n"
     ]
    },
    {
     "name": "stderr",
     "output_type": "stream",
     "text": [
      "Epoch 114/200:   1%|▍                                                 | 2/235 [00:00<00:20, 11.39it/s, Train Loss=0.257]"
     ]
    },
    {
     "name": "stdout",
     "output_type": "stream",
     "text": [
      "Epoch 112: train loss 0.1243591070175171\n"
     ]
    },
    {
     "name": "stderr",
     "output_type": "stream",
     "text": [
      "Epoch 115/200:   1%|▍                                                  | 2/235 [00:00<00:20, 11.36it/s, Train Loss=0.25]"
     ]
    },
    {
     "name": "stdout",
     "output_type": "stream",
     "text": [
      "Epoch 113: train loss 0.12449872829812639\n"
     ]
    },
    {
     "name": "stderr",
     "output_type": "stream",
     "text": [
      "                                                                                                                        \r"
     ]
    },
    {
     "name": "stdout",
     "output_type": "stream",
     "text": [
      "Epoch 114: train loss 0.12458135117875768\n"
     ]
    },
    {
     "name": "stderr",
     "output_type": "stream",
     "text": [
      "Corruption MSE: 0.063465, Recovered MSE: 0.019710: 100%|███████████████████████████| 2000/2000 [00:07<00:00, 270.59it/s]\n",
      "Epoch 116/200:   1%|▍                                                 | 2/235 [00:00<00:20, 11.63it/s, Train Loss=0.245]"
     ]
    },
    {
     "name": "stdout",
     "output_type": "stream",
     "text": [
      "Current best MSE: 0.01979719352722168 -> 0.01970965814590454\n"
     ]
    },
    {
     "name": "stderr",
     "output_type": "stream",
     "text": [
      "Epoch 117/200:   1%|▍                                                 | 2/235 [00:00<00:20, 11.37it/s, Train Loss=0.262]"
     ]
    },
    {
     "name": "stdout",
     "output_type": "stream",
     "text": [
      "Epoch 115: train loss 0.12382206127364585\n"
     ]
    },
    {
     "name": "stderr",
     "output_type": "stream",
     "text": [
      "Epoch 118/200:   1%|▍                                                  | 2/235 [00:00<00:20, 11.36it/s, Train Loss=0.24]"
     ]
    },
    {
     "name": "stdout",
     "output_type": "stream",
     "text": [
      "Epoch 116: train loss 0.12336747630479487\n"
     ]
    },
    {
     "name": "stderr",
     "output_type": "stream",
     "text": [
      "Epoch 119/200:   1%|▍                                                 | 2/235 [00:00<00:20, 11.36it/s, Train Loss=0.264]"
     ]
    },
    {
     "name": "stdout",
     "output_type": "stream",
     "text": [
      "Epoch 117: train loss 0.12332484893342283\n"
     ]
    },
    {
     "name": "stderr",
     "output_type": "stream",
     "text": [
      "Epoch 120/200:   1%|▍                                                 | 2/235 [00:00<00:20, 11.37it/s, Train Loss=0.242]"
     ]
    },
    {
     "name": "stdout",
     "output_type": "stream",
     "text": [
      "Epoch 118: train loss 0.12329484772809009\n"
     ]
    },
    {
     "name": "stderr",
     "output_type": "stream",
     "text": [
      "                                                                                                                        \r"
     ]
    },
    {
     "name": "stdout",
     "output_type": "stream",
     "text": [
      "Epoch 119: train loss 0.12628978703250276\n"
     ]
    },
    {
     "name": "stderr",
     "output_type": "stream",
     "text": [
      "Corruption MSE: 0.062862, Recovered MSE: 0.019385: 100%|███████████████████████████| 2000/2000 [00:07<00:00, 270.47it/s]\n",
      "Epoch 121/200:   1%|▍                                                 | 2/235 [00:00<00:20, 11.62it/s, Train Loss=0.251]"
     ]
    },
    {
     "name": "stdout",
     "output_type": "stream",
     "text": [
      "Current best MSE: 0.01970965814590454 -> 0.019385410785675048\n"
     ]
    },
    {
     "name": "stderr",
     "output_type": "stream",
     "text": [
      "Epoch 122/200:   1%|▍                                                 | 2/235 [00:00<00:20, 11.38it/s, Train Loss=0.236]"
     ]
    },
    {
     "name": "stdout",
     "output_type": "stream",
     "text": [
      "Epoch 120: train loss 0.12325161724014486\n"
     ]
    },
    {
     "name": "stderr",
     "output_type": "stream",
     "text": [
      "Epoch 123/200:   1%|▍                                                 | 2/235 [00:00<00:20, 11.38it/s, Train Loss=0.232]"
     ]
    },
    {
     "name": "stdout",
     "output_type": "stream",
     "text": [
      "Epoch 121: train loss 0.12276738656962172\n"
     ]
    },
    {
     "name": "stderr",
     "output_type": "stream",
     "text": [
      "Epoch 124/200:   1%|▍                                                 | 2/235 [00:00<00:20, 11.36it/s, Train Loss=0.237]"
     ]
    },
    {
     "name": "stdout",
     "output_type": "stream",
     "text": [
      "Epoch 122: train loss 0.12237586420267187\n"
     ]
    },
    {
     "name": "stderr",
     "output_type": "stream",
     "text": [
      "Epoch 125/200:   1%|▍                                                 | 2/235 [00:00<00:20, 11.36it/s, Train Loss=0.245]"
     ]
    },
    {
     "name": "stdout",
     "output_type": "stream",
     "text": [
      "Epoch 123: train loss 0.12255880743899245\n"
     ]
    },
    {
     "name": "stderr",
     "output_type": "stream",
     "text": [
      "                                                                                                                        \r"
     ]
    },
    {
     "name": "stdout",
     "output_type": "stream",
     "text": [
      "Epoch 124: train loss 0.12240887347688066\n"
     ]
    },
    {
     "name": "stderr",
     "output_type": "stream",
     "text": [
      "Corruption MSE: 0.063554, Recovered MSE: 0.019197: 100%|███████████████████████████| 2000/2000 [00:07<00:00, 270.36it/s]\n",
      "Epoch 126/200:   1%|▍                                                 | 2/235 [00:00<00:20, 11.63it/s, Train Loss=0.234]"
     ]
    },
    {
     "name": "stdout",
     "output_type": "stream",
     "text": [
      "Current best MSE: 0.019385410785675048 -> 0.019197020530700683\n"
     ]
    },
    {
     "name": "stderr",
     "output_type": "stream",
     "text": [
      "Epoch 127/200:   1%|▍                                                 | 2/235 [00:00<00:20, 11.38it/s, Train Loss=0.254]"
     ]
    },
    {
     "name": "stdout",
     "output_type": "stream",
     "text": [
      "Epoch 125: train loss 0.12166365023623121\n"
     ]
    },
    {
     "name": "stderr",
     "output_type": "stream",
     "text": [
      "Epoch 128/200:   1%|▍                                                 | 2/235 [00:00<00:20, 11.38it/s, Train Loss=0.253]"
     ]
    },
    {
     "name": "stdout",
     "output_type": "stream",
     "text": [
      "Epoch 126: train loss 0.12190272392744714\n"
     ]
    },
    {
     "name": "stderr",
     "output_type": "stream",
     "text": [
      "Epoch 129/200:   1%|▍                                                 | 2/235 [00:00<00:20, 11.37it/s, Train Loss=0.241]"
     ]
    },
    {
     "name": "stdout",
     "output_type": "stream",
     "text": [
      "Epoch 127: train loss 0.12159345254619071\n"
     ]
    },
    {
     "name": "stderr",
     "output_type": "stream",
     "text": [
      "Epoch 130/200:   1%|▍                                                 | 2/235 [00:00<00:20, 11.38it/s, Train Loss=0.243]"
     ]
    },
    {
     "name": "stdout",
     "output_type": "stream",
     "text": [
      "Epoch 128: train loss 0.12250698024922228\n"
     ]
    },
    {
     "name": "stderr",
     "output_type": "stream",
     "text": [
      "                                                                                                                        \r"
     ]
    },
    {
     "name": "stdout",
     "output_type": "stream",
     "text": [
      "Epoch 129: train loss 0.12044163118017481\n"
     ]
    },
    {
     "name": "stderr",
     "output_type": "stream",
     "text": [
      "Corruption MSE: 0.063558, Recovered MSE: 0.018838: 100%|███████████████████████████| 2000/2000 [00:07<00:00, 270.02it/s]\n",
      "Epoch 131/200:   1%|▍                                                 | 2/235 [00:00<00:20, 11.63it/s, Train Loss=0.253]"
     ]
    },
    {
     "name": "stdout",
     "output_type": "stream",
     "text": [
      "Current best MSE: 0.019197020530700683 -> 0.018837801933288573\n"
     ]
    },
    {
     "name": "stderr",
     "output_type": "stream",
     "text": [
      "Epoch 132/200:   1%|▍                                                 | 2/235 [00:00<00:20, 11.36it/s, Train Loss=0.231]"
     ]
    },
    {
     "name": "stdout",
     "output_type": "stream",
     "text": [
      "Epoch 130: train loss 0.12105234772601026\n"
     ]
    },
    {
     "name": "stderr",
     "output_type": "stream",
     "text": [
      "Epoch 133/200:   1%|▍                                                 | 2/235 [00:00<00:21, 11.06it/s, Train Loss=0.242]"
     ]
    },
    {
     "name": "stdout",
     "output_type": "stream",
     "text": [
      "Epoch 131: train loss 0.12180107901705073\n"
     ]
    },
    {
     "name": "stderr",
     "output_type": "stream",
     "text": [
      "Epoch 134/200:   1%|▍                                                 | 2/235 [00:00<00:20, 11.37it/s, Train Loss=0.242]"
     ]
    },
    {
     "name": "stdout",
     "output_type": "stream",
     "text": [
      "Epoch 132: train loss 0.12073918130803615\n"
     ]
    },
    {
     "name": "stderr",
     "output_type": "stream",
     "text": [
      "Epoch 135/200:   1%|▍                                                 | 2/235 [00:00<00:20, 11.38it/s, Train Loss=0.232]"
     ]
    },
    {
     "name": "stdout",
     "output_type": "stream",
     "text": [
      "Epoch 133: train loss 0.12050531211685626\n"
     ]
    },
    {
     "name": "stderr",
     "output_type": "stream",
     "text": [
      "                                                                                                                        \r"
     ]
    },
    {
     "name": "stdout",
     "output_type": "stream",
     "text": [
      "Epoch 134: train loss 0.12030074025722261\n"
     ]
    },
    {
     "name": "stderr",
     "output_type": "stream",
     "text": [
      "Corruption MSE: 0.063960, Recovered MSE: 0.018549: 100%|███████████████████████████| 2000/2000 [00:07<00:00, 270.27it/s]\n",
      "Epoch 136/200:   1%|▍                                                 | 2/235 [00:00<00:20, 11.62it/s, Train Loss=0.237]"
     ]
    },
    {
     "name": "stdout",
     "output_type": "stream",
     "text": [
      "Current best MSE: 0.018837801933288573 -> 0.01854940128326416\n"
     ]
    },
    {
     "name": "stderr",
     "output_type": "stream",
     "text": [
      "Epoch 137/200:   1%|▍                                                 | 2/235 [00:00<00:20, 11.37it/s, Train Loss=0.227]"
     ]
    },
    {
     "name": "stdout",
     "output_type": "stream",
     "text": [
      "Epoch 135: train loss 0.11948839074119609\n"
     ]
    },
    {
     "name": "stderr",
     "output_type": "stream",
     "text": [
      "Epoch 138/200:   1%|▍                                                 | 2/235 [00:00<00:20, 11.30it/s, Train Loss=0.233]"
     ]
    },
    {
     "name": "stdout",
     "output_type": "stream",
     "text": [
      "Epoch 136: train loss 0.11893501630488862\n"
     ]
    },
    {
     "name": "stderr",
     "output_type": "stream",
     "text": [
      "Epoch 139/200:   1%|▍                                                 | 2/235 [00:00<00:20, 11.39it/s, Train Loss=0.231]"
     ]
    },
    {
     "name": "stdout",
     "output_type": "stream",
     "text": [
      "Epoch 137: train loss 0.11908819723002453\n"
     ]
    },
    {
     "name": "stderr",
     "output_type": "stream",
     "text": [
      "Epoch 140/200:   1%|▍                                                 | 2/235 [00:00<00:20, 11.38it/s, Train Loss=0.226]"
     ]
    },
    {
     "name": "stdout",
     "output_type": "stream",
     "text": [
      "Epoch 138: train loss 0.11895119040570361\n"
     ]
    },
    {
     "name": "stderr",
     "output_type": "stream",
     "text": [
      "                                                                                                                        \r"
     ]
    },
    {
     "name": "stdout",
     "output_type": "stream",
     "text": [
      "Epoch 139: train loss 0.11891442286841412\n"
     ]
    },
    {
     "name": "stderr",
     "output_type": "stream",
     "text": [
      "Corruption MSE: 0.063700, Recovered MSE: 0.018198: 100%|███████████████████████████| 2000/2000 [00:07<00:00, 270.29it/s]\n",
      "Epoch 141/200:   1%|▍                                                 | 2/235 [00:00<00:20, 11.62it/s, Train Loss=0.245]"
     ]
    },
    {
     "name": "stdout",
     "output_type": "stream",
     "text": [
      "Current best MSE: 0.01854940128326416 -> 0.018197588443756102\n"
     ]
    },
    {
     "name": "stderr",
     "output_type": "stream",
     "text": [
      "Epoch 142/200:   1%|▍                                                 | 2/235 [00:00<00:20, 11.38it/s, Train Loss=0.237]"
     ]
    },
    {
     "name": "stdout",
     "output_type": "stream",
     "text": [
      "Epoch 140: train loss 0.1188614805962177\n"
     ]
    },
    {
     "name": "stderr",
     "output_type": "stream",
     "text": [
      "Epoch 143/200:   1%|▍                                                 | 2/235 [00:00<00:20, 11.37it/s, Train Loss=0.258]"
     ]
    },
    {
     "name": "stdout",
     "output_type": "stream",
     "text": [
      "Epoch 141: train loss 0.11822997537699152\n"
     ]
    },
    {
     "name": "stderr",
     "output_type": "stream",
     "text": [
      "Epoch 144/200:   1%|▍                                                 | 2/235 [00:00<00:20, 11.37it/s, Train Loss=0.235]"
     ]
    },
    {
     "name": "stdout",
     "output_type": "stream",
     "text": [
      "Epoch 142: train loss 0.11856533399921783\n"
     ]
    },
    {
     "name": "stderr",
     "output_type": "stream",
     "text": [
      "Epoch 145/200:   1%|▍                                                 | 2/235 [00:00<00:20, 11.37it/s, Train Loss=0.234]"
     ]
    },
    {
     "name": "stdout",
     "output_type": "stream",
     "text": [
      "Epoch 143: train loss 0.11862746477127076\n"
     ]
    },
    {
     "name": "stderr",
     "output_type": "stream",
     "text": [
      "                                                                                                                        \r"
     ]
    },
    {
     "name": "stdout",
     "output_type": "stream",
     "text": [
      "Epoch 144: train loss 0.11870580477283356\n"
     ]
    },
    {
     "name": "stderr",
     "output_type": "stream",
     "text": [
      "Corruption MSE: 0.063334, Recovered MSE: 0.017587: 100%|███████████████████████████| 2000/2000 [00:07<00:00, 270.08it/s]\n",
      "Epoch 146/200:   1%|▍                                                 | 2/235 [00:00<00:20, 11.62it/s, Train Loss=0.238]"
     ]
    },
    {
     "name": "stdout",
     "output_type": "stream",
     "text": [
      "Current best MSE: 0.018197588443756102 -> 0.017587113857269288\n"
     ]
    },
    {
     "name": "stderr",
     "output_type": "stream",
     "text": [
      "Epoch 147/200:   1%|▍                                                 | 2/235 [00:00<00:20, 11.37it/s, Train Loss=0.234]"
     ]
    },
    {
     "name": "stdout",
     "output_type": "stream",
     "text": [
      "Epoch 145: train loss 0.1174482895338789\n"
     ]
    },
    {
     "name": "stderr",
     "output_type": "stream",
     "text": [
      "Epoch 148/200:   1%|▍                                                 | 2/235 [00:00<00:20, 11.39it/s, Train Loss=0.243]"
     ]
    },
    {
     "name": "stdout",
     "output_type": "stream",
     "text": [
      "Epoch 146: train loss 0.11736462480844335\n"
     ]
    },
    {
     "name": "stderr",
     "output_type": "stream",
     "text": [
      "Epoch 149/200:   1%|▍                                                 | 2/235 [00:00<00:20, 11.38it/s, Train Loss=0.233]"
     ]
    },
    {
     "name": "stdout",
     "output_type": "stream",
     "text": [
      "Epoch 147: train loss 0.11738282794013936\n"
     ]
    },
    {
     "name": "stderr",
     "output_type": "stream",
     "text": [
      "Epoch 150/200:   1%|▍                                                 | 2/235 [00:00<00:20, 11.37it/s, Train Loss=0.252]"
     ]
    },
    {
     "name": "stdout",
     "output_type": "stream",
     "text": [
      "Epoch 148: train loss 0.11627369754491969\n"
     ]
    },
    {
     "name": "stderr",
     "output_type": "stream",
     "text": [
      "                                                                                                                        \r"
     ]
    },
    {
     "name": "stdout",
     "output_type": "stream",
     "text": [
      "Epoch 149: train loss 0.11648311925695297\n"
     ]
    },
    {
     "name": "stderr",
     "output_type": "stream",
     "text": [
      "Corruption MSE: 0.063506, Recovered MSE: 0.017462: 100%|███████████████████████████| 2000/2000 [00:07<00:00, 270.04it/s]\n",
      "Epoch 151/200:   1%|▍                                                 | 2/235 [00:00<00:20, 11.63it/s, Train Loss=0.231]"
     ]
    },
    {
     "name": "stdout",
     "output_type": "stream",
     "text": [
      "Current best MSE: 0.017587113857269288 -> 0.017461986541748048\n"
     ]
    },
    {
     "name": "stderr",
     "output_type": "stream",
     "text": [
      "Epoch 152/200:   1%|▍                                                 | 2/235 [00:00<00:20, 11.39it/s, Train Loss=0.236]"
     ]
    },
    {
     "name": "stdout",
     "output_type": "stream",
     "text": [
      "Epoch 150: train loss 0.11691089678317942\n"
     ]
    },
    {
     "name": "stderr",
     "output_type": "stream",
     "text": [
      "Epoch 153/200:   1%|▍                                                 | 2/235 [00:00<00:20, 11.38it/s, Train Loss=0.231]"
     ]
    },
    {
     "name": "stdout",
     "output_type": "stream",
     "text": [
      "Epoch 151: train loss 0.11606646097720938\n"
     ]
    },
    {
     "name": "stderr",
     "output_type": "stream",
     "text": [
      "Epoch 154/200:   1%|▍                                                 | 2/235 [00:00<00:20, 11.37it/s, Train Loss=0.234]"
     ]
    },
    {
     "name": "stdout",
     "output_type": "stream",
     "text": [
      "Epoch 152: train loss 0.11576821382375474\n"
     ]
    },
    {
     "name": "stderr",
     "output_type": "stream",
     "text": [
      "Epoch 155/200:   1%|▍                                                 | 2/235 [00:00<00:20, 11.37it/s, Train Loss=0.226]"
     ]
    },
    {
     "name": "stdout",
     "output_type": "stream",
     "text": [
      "Epoch 153: train loss 0.115918168267037\n"
     ]
    },
    {
     "name": "stderr",
     "output_type": "stream",
     "text": [
      "                                                                                                                        \r"
     ]
    },
    {
     "name": "stdout",
     "output_type": "stream",
     "text": [
      "Epoch 154: train loss 0.11612759115214044\n"
     ]
    },
    {
     "name": "stderr",
     "output_type": "stream",
     "text": [
      "Corruption MSE: 0.063866, Recovered MSE: 0.017095: 100%|███████████████████████████| 2000/2000 [00:07<00:00, 270.26it/s]\n",
      "Epoch 156/200:   1%|▍                                                 | 2/235 [00:00<00:20, 11.62it/s, Train Loss=0.241]"
     ]
    },
    {
     "name": "stdout",
     "output_type": "stream",
     "text": [
      "Current best MSE: 0.017461986541748048 -> 0.017094592094421386\n"
     ]
    },
    {
     "name": "stderr",
     "output_type": "stream",
     "text": [
      "Epoch 157/200:   1%|▍                                                 | 2/235 [00:00<00:20, 11.38it/s, Train Loss=0.225]"
     ]
    },
    {
     "name": "stdout",
     "output_type": "stream",
     "text": [
      "Epoch 155: train loss 0.11531510803293675\n"
     ]
    },
    {
     "name": "stderr",
     "output_type": "stream",
     "text": [
      "Epoch 158/200:   1%|▍                                                 | 2/235 [00:00<00:20, 11.37it/s, Train Loss=0.228]"
     ]
    },
    {
     "name": "stdout",
     "output_type": "stream",
     "text": [
      "Epoch 156: train loss 0.11555520109039671\n"
     ]
    },
    {
     "name": "stderr",
     "output_type": "stream",
     "text": [
      "Epoch 159/200:   1%|▍                                                 | 2/235 [00:00<00:20, 11.37it/s, Train Loss=0.232]"
     ]
    },
    {
     "name": "stdout",
     "output_type": "stream",
     "text": [
      "Epoch 157: train loss 0.11510013738211165\n"
     ]
    },
    {
     "name": "stderr",
     "output_type": "stream",
     "text": [
      "Epoch 160/200:   1%|▍                                                 | 2/235 [00:00<00:20, 11.36it/s, Train Loss=0.238]"
     ]
    },
    {
     "name": "stdout",
     "output_type": "stream",
     "text": [
      "Epoch 158: train loss 0.11485823285072408\n"
     ]
    },
    {
     "name": "stderr",
     "output_type": "stream",
     "text": [
      "                                                                                                                        \r"
     ]
    },
    {
     "name": "stdout",
     "output_type": "stream",
     "text": [
      "Epoch 159: train loss 0.1158831166460159\n"
     ]
    },
    {
     "name": "stderr",
     "output_type": "stream",
     "text": [
      "Corruption MSE: 0.063526, Recovered MSE: 0.016527: 100%|███████████████████████████| 2000/2000 [00:07<00:00, 270.60it/s]\n",
      "Epoch 161/200:   1%|▍                                                 | 2/235 [00:00<00:20, 11.60it/s, Train Loss=0.218]"
     ]
    },
    {
     "name": "stdout",
     "output_type": "stream",
     "text": [
      "Current best MSE: 0.017094592094421386 -> 0.016527249813079833\n"
     ]
    },
    {
     "name": "stderr",
     "output_type": "stream",
     "text": [
      "Epoch 162/200:   1%|▍                                                 | 2/235 [00:00<00:20, 11.37it/s, Train Loss=0.236]"
     ]
    },
    {
     "name": "stdout",
     "output_type": "stream",
     "text": [
      "Epoch 160: train loss 0.11459587213206798\n"
     ]
    },
    {
     "name": "stderr",
     "output_type": "stream",
     "text": [
      "Epoch 163/200:   1%|▍                                                 | 2/235 [00:00<00:20, 11.38it/s, Train Loss=0.228]"
     ]
    },
    {
     "name": "stdout",
     "output_type": "stream",
     "text": [
      "Epoch 161: train loss 0.11431515714589585\n"
     ]
    },
    {
     "name": "stderr",
     "output_type": "stream",
     "text": [
      "Epoch 164/200:   1%|▍                                                 | 2/235 [00:00<00:20, 11.38it/s, Train Loss=0.215]"
     ]
    },
    {
     "name": "stdout",
     "output_type": "stream",
     "text": [
      "Epoch 162: train loss 0.11393966652611469\n"
     ]
    },
    {
     "name": "stderr",
     "output_type": "stream",
     "text": [
      "Epoch 165/200:   1%|▍                                                 | 2/235 [00:00<00:20, 11.38it/s, Train Loss=0.226]"
     ]
    },
    {
     "name": "stdout",
     "output_type": "stream",
     "text": [
      "Epoch 163: train loss 0.11424086838960648\n"
     ]
    },
    {
     "name": "stderr",
     "output_type": "stream",
     "text": [
      "                                                                                                                        \r"
     ]
    },
    {
     "name": "stdout",
     "output_type": "stream",
     "text": [
      "Epoch 164: train loss 0.1143592357001406\n"
     ]
    },
    {
     "name": "stderr",
     "output_type": "stream",
     "text": [
      "Corruption MSE: 0.063434, Recovered MSE: 0.016393: 100%|███████████████████████████| 2000/2000 [00:07<00:00, 270.55it/s]\n",
      "Epoch 166/200:   1%|▍                                                 | 2/235 [00:00<00:20, 11.63it/s, Train Loss=0.223]"
     ]
    },
    {
     "name": "stdout",
     "output_type": "stream",
     "text": [
      "Current best MSE: 0.016527249813079833 -> 0.016392613887786865\n"
     ]
    },
    {
     "name": "stderr",
     "output_type": "stream",
     "text": [
      "Epoch 167/200:   1%|▍                                                  | 2/235 [00:00<00:20, 11.38it/s, Train Loss=0.22]"
     ]
    },
    {
     "name": "stdout",
     "output_type": "stream",
     "text": [
      "Epoch 165: train loss 0.11438938087605416\n"
     ]
    },
    {
     "name": "stderr",
     "output_type": "stream",
     "text": [
      "Epoch 168/200:   1%|▍                                                 | 2/235 [00:00<00:20, 11.37it/s, Train Loss=0.238]"
     ]
    },
    {
     "name": "stdout",
     "output_type": "stream",
     "text": [
      "Epoch 166: train loss 0.11352610271027748\n"
     ]
    },
    {
     "name": "stderr",
     "output_type": "stream",
     "text": [
      "Epoch 169/200:   1%|▍                                                 | 2/235 [00:00<00:20, 11.38it/s, Train Loss=0.225]"
     ]
    },
    {
     "name": "stdout",
     "output_type": "stream",
     "text": [
      "Epoch 167: train loss 0.11340187718259527\n"
     ]
    },
    {
     "name": "stderr",
     "output_type": "stream",
     "text": [
      "Epoch 170/200:   1%|▍                                                 | 2/235 [00:00<00:20, 11.38it/s, Train Loss=0.225]"
     ]
    },
    {
     "name": "stdout",
     "output_type": "stream",
     "text": [
      "Epoch 168: train loss 0.11328564692050852\n"
     ]
    },
    {
     "name": "stderr",
     "output_type": "stream",
     "text": [
      "                                                                                                                        \r"
     ]
    },
    {
     "name": "stdout",
     "output_type": "stream",
     "text": [
      "Epoch 169: train loss 0.11275709968932132\n"
     ]
    },
    {
     "name": "stderr",
     "output_type": "stream",
     "text": [
      "Corruption MSE: 0.063356, Recovered MSE: 0.016112: 100%|███████████████████████████| 2000/2000 [00:07<00:00, 270.36it/s]\n",
      "Epoch 171/200:   1%|▍                                                 | 2/235 [00:00<00:20, 11.61it/s, Train Loss=0.223]"
     ]
    },
    {
     "name": "stdout",
     "output_type": "stream",
     "text": [
      "Current best MSE: 0.016392613887786865 -> 0.01611180567741394\n"
     ]
    },
    {
     "name": "stderr",
     "output_type": "stream",
     "text": [
      "Epoch 172/200:   1%|▍                                                 | 2/235 [00:00<00:20, 11.37it/s, Train Loss=0.219]"
     ]
    },
    {
     "name": "stdout",
     "output_type": "stream",
     "text": [
      "Epoch 170: train loss 0.1131298337845092\n"
     ]
    },
    {
     "name": "stderr",
     "output_type": "stream",
     "text": [
      "Epoch 173/200:   1%|▍                                                 | 2/235 [00:00<00:20, 11.39it/s, Train Loss=0.223]"
     ]
    },
    {
     "name": "stdout",
     "output_type": "stream",
     "text": [
      "Epoch 171: train loss 0.11311738145478228\n"
     ]
    },
    {
     "name": "stderr",
     "output_type": "stream",
     "text": [
      "Epoch 174/200:   1%|▍                                                 | 2/235 [00:00<00:20, 11.38it/s, Train Loss=0.221]"
     ]
    },
    {
     "name": "stdout",
     "output_type": "stream",
     "text": [
      "Epoch 172: train loss 0.11248682968794031\n"
     ]
    },
    {
     "name": "stderr",
     "output_type": "stream",
     "text": [
      "Epoch 175/200:   1%|▍                                                  | 2/235 [00:00<00:20, 11.39it/s, Train Loss=0.22]"
     ]
    },
    {
     "name": "stdout",
     "output_type": "stream",
     "text": [
      "Epoch 173: train loss 0.11249310256952935\n"
     ]
    },
    {
     "name": "stderr",
     "output_type": "stream",
     "text": [
      "                                                                                                                        \r"
     ]
    },
    {
     "name": "stdout",
     "output_type": "stream",
     "text": [
      "Epoch 174: train loss 0.11157135383245793\n"
     ]
    },
    {
     "name": "stderr",
     "output_type": "stream",
     "text": [
      "Corruption MSE: 0.062932, Recovered MSE: 0.015661: 100%|███████████████████████████| 2000/2000 [00:07<00:00, 270.59it/s]\n",
      "Epoch 176/200:   1%|▍                                                 | 2/235 [00:00<00:20, 11.63it/s, Train Loss=0.224]"
     ]
    },
    {
     "name": "stdout",
     "output_type": "stream",
     "text": [
      "Current best MSE: 0.01611180567741394 -> 0.015660959005355836\n"
     ]
    },
    {
     "name": "stderr",
     "output_type": "stream",
     "text": [
      "Epoch 177/200:   1%|▍                                                 | 2/235 [00:00<00:20, 11.39it/s, Train Loss=0.233]"
     ]
    },
    {
     "name": "stdout",
     "output_type": "stream",
     "text": [
      "Epoch 175: train loss 0.11206752074525711\n"
     ]
    },
    {
     "name": "stderr",
     "output_type": "stream",
     "text": [
      "Epoch 178/200:   1%|▍                                                 | 2/235 [00:00<00:20, 11.35it/s, Train Loss=0.229]"
     ]
    },
    {
     "name": "stdout",
     "output_type": "stream",
     "text": [
      "Epoch 176: train loss 0.11122222612512872\n"
     ]
    },
    {
     "name": "stderr",
     "output_type": "stream",
     "text": [
      "Epoch 179/200:   1%|▍                                                 | 2/235 [00:00<00:20, 11.36it/s, Train Loss=0.215]"
     ]
    },
    {
     "name": "stdout",
     "output_type": "stream",
     "text": [
      "Epoch 177: train loss 0.11175525629139961\n"
     ]
    },
    {
     "name": "stderr",
     "output_type": "stream",
     "text": [
      "Epoch 180/200:   1%|▍                                                 | 2/235 [00:00<00:20, 11.36it/s, Train Loss=0.231]"
     ]
    },
    {
     "name": "stdout",
     "output_type": "stream",
     "text": [
      "Epoch 178: train loss 0.11140319565509228\n"
     ]
    },
    {
     "name": "stderr",
     "output_type": "stream",
     "text": [
      "                                                                                                                        \r"
     ]
    },
    {
     "name": "stdout",
     "output_type": "stream",
     "text": [
      "Epoch 179: train loss 0.11095807793292593\n"
     ]
    },
    {
     "name": "stderr",
     "output_type": "stream",
     "text": [
      "Corruption MSE: 0.063600, Recovered MSE: 0.015585: 100%|███████████████████████████| 2000/2000 [00:07<00:00, 270.80it/s]\n",
      "Epoch 181/200:   1%|▍                                                 | 2/235 [00:00<00:20, 11.63it/s, Train Loss=0.221]"
     ]
    },
    {
     "name": "stdout",
     "output_type": "stream",
     "text": [
      "Current best MSE: 0.015660959005355836 -> 0.015584585428237915\n"
     ]
    },
    {
     "name": "stderr",
     "output_type": "stream",
     "text": [
      "Epoch 182/200:   1%|▍                                                 | 2/235 [00:00<00:20, 11.39it/s, Train Loss=0.213]"
     ]
    },
    {
     "name": "stdout",
     "output_type": "stream",
     "text": [
      "Epoch 180: train loss 0.11036612664131408\n"
     ]
    },
    {
     "name": "stderr",
     "output_type": "stream",
     "text": [
      "Epoch 183/200:   1%|▍                                                 | 2/235 [00:00<00:20, 11.39it/s, Train Loss=0.204]"
     ]
    },
    {
     "name": "stdout",
     "output_type": "stream",
     "text": [
      "Epoch 181: train loss 0.11070944378350643\n"
     ]
    },
    {
     "name": "stderr",
     "output_type": "stream",
     "text": [
      "Epoch 184/200:   1%|▍                                                 | 2/235 [00:00<00:20, 11.40it/s, Train Loss=0.221]"
     ]
    },
    {
     "name": "stdout",
     "output_type": "stream",
     "text": [
      "Epoch 182: train loss 0.11009767686432981\n"
     ]
    },
    {
     "name": "stderr",
     "output_type": "stream",
     "text": [
      "Epoch 185/200:   1%|▍                                                 | 2/235 [00:00<00:20, 11.39it/s, Train Loss=0.225]"
     ]
    },
    {
     "name": "stdout",
     "output_type": "stream",
     "text": [
      "Epoch 183: train loss 0.11082219373672567\n"
     ]
    },
    {
     "name": "stderr",
     "output_type": "stream",
     "text": [
      "                                                                                                                        \r"
     ]
    },
    {
     "name": "stdout",
     "output_type": "stream",
     "text": [
      "Epoch 184: train loss 0.11093870819883143\n"
     ]
    },
    {
     "name": "stderr",
     "output_type": "stream",
     "text": [
      "Corruption MSE: 0.063594, Recovered MSE: 0.015284: 100%|███████████████████████████| 2000/2000 [00:07<00:00, 269.97it/s]\n",
      "Epoch 186/200:   1%|▍                                                 | 2/235 [00:00<00:20, 11.63it/s, Train Loss=0.222]"
     ]
    },
    {
     "name": "stdout",
     "output_type": "stream",
     "text": [
      "Current best MSE: 0.015584585428237915 -> 0.015283512353897095\n"
     ]
    },
    {
     "name": "stderr",
     "output_type": "stream",
     "text": [
      "Epoch 187/200:   1%|▍                                                 | 2/235 [00:00<00:20, 11.38it/s, Train Loss=0.216]"
     ]
    },
    {
     "name": "stdout",
     "output_type": "stream",
     "text": [
      "Epoch 185: train loss 0.11000582468002401\n"
     ]
    },
    {
     "name": "stderr",
     "output_type": "stream",
     "text": [
      "Epoch 188/200:   1%|▍                                                 | 2/235 [00:00<00:20, 11.38it/s, Train Loss=0.227]"
     ]
    },
    {
     "name": "stdout",
     "output_type": "stream",
     "text": [
      "Epoch 186: train loss 0.10991515317495833\n"
     ]
    },
    {
     "name": "stderr",
     "output_type": "stream",
     "text": [
      "Epoch 189/200:   1%|▍                                                 | 2/235 [00:00<00:20, 11.38it/s, Train Loss=0.218]"
     ]
    },
    {
     "name": "stdout",
     "output_type": "stream",
     "text": [
      "Epoch 187: train loss 0.10918758628850288\n"
     ]
    },
    {
     "name": "stderr",
     "output_type": "stream",
     "text": [
      "Epoch 190/200:   1%|▍                                                 | 2/235 [00:00<00:20, 11.36it/s, Train Loss=0.212]"
     ]
    },
    {
     "name": "stdout",
     "output_type": "stream",
     "text": [
      "Epoch 188: train loss 0.10876090063693676\n"
     ]
    },
    {
     "name": "stderr",
     "output_type": "stream",
     "text": [
      "                                                                                                                        \r"
     ]
    },
    {
     "name": "stdout",
     "output_type": "stream",
     "text": [
      "Epoch 189: train loss 0.10916099538828464\n"
     ]
    },
    {
     "name": "stderr",
     "output_type": "stream",
     "text": [
      "Corruption MSE: 0.063099, Recovered MSE: 0.014984: 100%|███████████████████████████| 2000/2000 [00:07<00:00, 270.12it/s]\n",
      "Epoch 191/200:   1%|▍                                                 | 2/235 [00:00<00:20, 11.60it/s, Train Loss=0.223]"
     ]
    },
    {
     "name": "stdout",
     "output_type": "stream",
     "text": [
      "Current best MSE: 0.015283512353897095 -> 0.01498395299911499\n"
     ]
    },
    {
     "name": "stderr",
     "output_type": "stream",
     "text": [
      "Epoch 192/200:   1%|▍                                                 | 2/235 [00:00<00:20, 11.37it/s, Train Loss=0.216]"
     ]
    },
    {
     "name": "stdout",
     "output_type": "stream",
     "text": [
      "Epoch 190: train loss 0.1095327780601826\n"
     ]
    },
    {
     "name": "stderr",
     "output_type": "stream",
     "text": [
      "Epoch 193/200:   1%|▍                                                 | 2/235 [00:00<00:20, 11.37it/s, Train Loss=0.209]"
     ]
    },
    {
     "name": "stdout",
     "output_type": "stream",
     "text": [
      "Epoch 191: train loss 0.10943602158668193\n"
     ]
    },
    {
     "name": "stderr",
     "output_type": "stream",
     "text": [
      "Epoch 194/200:   1%|▍                                                 | 2/235 [00:00<00:20, 11.38it/s, Train Loss=0.214]"
     ]
    },
    {
     "name": "stdout",
     "output_type": "stream",
     "text": [
      "Epoch 192: train loss 0.108037073307849\n"
     ]
    },
    {
     "name": "stderr",
     "output_type": "stream",
     "text": [
      "Epoch 195/200:   1%|▍                                                 | 2/235 [00:00<00:20, 11.39it/s, Train Loss=0.209]"
     ]
    },
    {
     "name": "stdout",
     "output_type": "stream",
     "text": [
      "Epoch 193: train loss 0.10922080792011099\n"
     ]
    },
    {
     "name": "stderr",
     "output_type": "stream",
     "text": [
      "                                                                                                                        \r"
     ]
    },
    {
     "name": "stdout",
     "output_type": "stream",
     "text": [
      "Epoch 194: train loss 0.10813406033718839\n"
     ]
    },
    {
     "name": "stderr",
     "output_type": "stream",
     "text": [
      "Corruption MSE: 0.062573, Recovered MSE: 0.014441: 100%|███████████████████████████| 2000/2000 [00:07<00:00, 270.16it/s]\n",
      "Epoch 196/200:   1%|▍                                                 | 2/235 [00:00<00:20, 11.51it/s, Train Loss=0.216]"
     ]
    },
    {
     "name": "stdout",
     "output_type": "stream",
     "text": [
      "Current best MSE: 0.01498395299911499 -> 0.014440977573394775\n"
     ]
    },
    {
     "name": "stderr",
     "output_type": "stream",
     "text": [
      "Epoch 197/200:   1%|▍                                                 | 2/235 [00:00<00:21, 11.07it/s, Train Loss=0.222]"
     ]
    },
    {
     "name": "stdout",
     "output_type": "stream",
     "text": [
      "Epoch 195: train loss 0.10932942552769438\n"
     ]
    },
    {
     "name": "stderr",
     "output_type": "stream",
     "text": [
      "Epoch 198/200:   1%|▍                                                 | 2/235 [00:00<00:20, 11.30it/s, Train Loss=0.211]"
     ]
    },
    {
     "name": "stdout",
     "output_type": "stream",
     "text": [
      "Epoch 196: train loss 0.10828428484023886\n"
     ]
    },
    {
     "name": "stderr",
     "output_type": "stream",
     "text": [
      "Epoch 199/200:   1%|▍                                                 | 2/235 [00:00<00:20, 11.38it/s, Train Loss=0.214]"
     ]
    },
    {
     "name": "stdout",
     "output_type": "stream",
     "text": [
      "Epoch 197: train loss 0.10818495563370116\n"
     ]
    },
    {
     "name": "stderr",
     "output_type": "stream",
     "text": [
      "Epoch 200/200:   1%|▍                                                 | 2/235 [00:00<00:20, 11.38it/s, Train Loss=0.222]"
     ]
    },
    {
     "name": "stdout",
     "output_type": "stream",
     "text": [
      "Epoch 198: train loss 0.10855060993356908\n"
     ]
    },
    {
     "name": "stderr",
     "output_type": "stream",
     "text": [
      "                                                                                                                        \r"
     ]
    },
    {
     "name": "stdout",
     "output_type": "stream",
     "text": [
      "Epoch 199: train loss 0.10697510635599176\n"
     ]
    },
    {
     "name": "stderr",
     "output_type": "stream",
     "text": [
      "Corruption MSE: 0.063483, Recovered MSE: 0.014693: 100%|███████████████████████████| 2000/2000 [00:07<00:00, 270.44it/s]\n"
     ]
    }
   ],
   "source": [
    "# Here are the hyperparameters\n",
    "\n",
    "epochs = 200\n",
    "criterion = nn.MSELoss()\n",
    "init_sigma = 28\n",
    "final_sigma = 0.01\n",
    "n_sigma = 75\n",
    "eps = 1e-5\n",
    "T = 5\n",
    "eval_freq = 5\n",
    "ema_decay = 0.999\n",
    "\n",
    "sigmas = cal_noise_level(init_sigma, final_sigma, n_sigma)\n",
    "model = UNetv2(sigmas=torch.tensor(sigmas))\n",
    "optimizer = torch.optim.Adam(model.parameters(), lr=1e-4)\n",
    "\n",
    "print(\"model:\", model)\n",
    "# calculate the number of parameters\n",
    "num_params = sum(p.numel() for p in model.parameters())\n",
    "print(\"number of parameters:\", num_params)\n",
    "\n",
    "\n",
    "time_str = timestr()\n",
    "print(\"time string:\", time_str)\n",
    "\n",
    "train(epochs=epochs, model=model, optimizer=optimizer, criterion=criterion, train_loader=train_loader, val_loader=val_loader, sigmas=sigmas, eps=eps, T=T, time_str=time_str, eval_freq=eval_freq, ema_decay=ema_decay)"
   ]
  },
  {
   "cell_type": "code",
   "execution_count": 4,
   "metadata": {},
   "outputs": [],
   "source": [
    "# # load a model\n",
    "# import os\n",
    "# model = UNet(L=n_sigma).cuda()\n",
    "# print(sum(p.numel() for p in model.parameters() if p.requires_grad))\n",
    "# eval_epoch = 70\n",
    "# model.load_state_dict(torch.load(f'NCSN/models/{eval_epoch}.pth'))\n",
    "# make_dataset(model, sigmas, eps=eps, T=T)\n",
    "# print(\"Dataset created\")\n",
    "# os.system(\"python NCSN/evaluate.py\")"
   ]
  },
  {
   "cell_type": "code",
   "execution_count": 1,
   "metadata": {},
   "outputs": [
    {
     "name": "stdout",
     "output_type": "stream",
     "text": [
      "Files already downloaded and verified\n",
      "Files already downloaded and verified\n",
      "level: 0, step_size: 47.03999999999986, grad_norm: 1.195145845413208, image_norm: 191.0624237060547, snr: 0.295379102230072, grad_mean_norm: 275.4219665527344\n",
      "level: 0, step_size: 47.03999999999986, grad_norm: 0.9893203973770142, image_norm: 251.9375457763672, snr: 0.24224522709846497, grad_mean_norm: 82.0451889038086\n",
      "level: 0, step_size: 47.03999999999986, grad_norm: 0.97486811876297, image_norm: 298.11053466796875, snr: 0.23741193115711212, grad_mean_norm: 85.88428497314453\n",
      "level: 0, step_size: 47.03999999999986, grad_norm: 0.9631657004356384, image_norm: 333.8455810546875, snr: 0.23982571065425873, grad_mean_norm: 81.64767456054688\n",
      "level: 0, step_size: 47.03999999999986, grad_norm: 0.9543590545654297, image_norm: 367.0375671386719, snr: 0.23320022225379944, grad_mean_norm: 80.03102111816406\n",
      "level: 0, step_size: 47.03999999999986, grad_norm: 0.9616582989692688, image_norm: 393.6832580566406, snr: 0.23432517051696777, grad_mean_norm: 84.80855560302734\n",
      "level: 0, step_size: 47.03999999999986, grad_norm: 0.9633936882019043, image_norm: 417.8719787597656, snr: 0.23465606570243835, grad_mean_norm: 80.9060287475586\n",
      "level: 0, step_size: 47.03999999999986, grad_norm: 0.9646299481391907, image_norm: 442.2306213378906, snr: 0.23895809054374695, grad_mean_norm: 74.96125793457031\n",
      "level: 0, step_size: 47.03999999999986, grad_norm: 0.9706448912620544, image_norm: 461.28424072265625, snr: 0.23806476593017578, grad_mean_norm: 79.02104187011719\n",
      "level: 0, step_size: 47.03999999999986, grad_norm: 0.973012387752533, image_norm: 475.8057556152344, snr: 0.24111224710941315, grad_mean_norm: 78.77025604248047\n",
      "level: 1, step_size: 37.95778659460488, grad_norm: 1.0934488773345947, image_norm: 488.9130859375, snr: 0.24150457978248596, grad_mean_norm: 76.05015563964844\n",
      "level: 1, step_size: 37.95778659460488, grad_norm: 1.1052669286727905, image_norm: 495.9294128417969, snr: 0.2417498677968979, grad_mean_norm: 79.25150299072266\n",
      "level: 1, step_size: 37.95778659460488, grad_norm: 1.1009241342544556, image_norm: 504.833984375, snr: 0.2430935800075531, grad_mean_norm: 76.63301849365234\n",
      "level: 1, step_size: 37.95778659460488, grad_norm: 1.1031779050827026, image_norm: 514.7286987304688, snr: 0.24365395307540894, grad_mean_norm: 77.60264587402344\n",
      "level: 1, step_size: 37.95778659460488, grad_norm: 1.1089116334915161, image_norm: 524.51416015625, snr: 0.24335050582885742, grad_mean_norm: 77.14629364013672\n",
      "level: 1, step_size: 37.95778659460488, grad_norm: 1.1114567518234253, image_norm: 532.3053588867188, snr: 0.24380271136760712, grad_mean_norm: 76.34318542480469\n",
      "level: 1, step_size: 37.95778659460488, grad_norm: 1.11356782913208, image_norm: 541.3556518554688, snr: 0.24521884322166443, grad_mean_norm: 76.97000122070312\n",
      "level: 1, step_size: 37.95778659460488, grad_norm: 1.116094946861267, image_norm: 547.52294921875, snr: 0.24832762777805328, grad_mean_norm: 80.93284606933594\n",
      "level: 1, step_size: 37.95778659460488, grad_norm: 1.1196587085723877, image_norm: 551.8702392578125, snr: 0.24664729833602905, grad_mean_norm: 78.32042694091797\n",
      "level: 1, step_size: 37.95778659460488, grad_norm: 1.121230959892273, image_norm: 560.8065795898438, snr: 0.24880552291870117, grad_mean_norm: 78.88921356201172\n",
      "level: 2, step_size: 30.629114863128592, grad_norm: 1.2560079097747803, image_norm: 563.8987426757812, snr: 0.24914807081222534, grad_mean_norm: 80.27083587646484\n",
      "level: 2, step_size: 30.629114863128592, grad_norm: 1.2569470405578613, image_norm: 566.2530517578125, snr: 0.25272461771965027, grad_mean_norm: 82.42428588867188\n",
      "level: 2, step_size: 30.629114863128592, grad_norm: 1.2559541463851929, image_norm: 566.6728515625, snr: 0.2475982904434204, grad_mean_norm: 82.91558837890625\n",
      "level: 2, step_size: 30.629114863128592, grad_norm: 1.2604089975357056, image_norm: 567.3135986328125, snr: 0.25138354301452637, grad_mean_norm: 80.7630386352539\n",
      "level: 2, step_size: 30.629114863128592, grad_norm: 1.2572439908981323, image_norm: 565.0985717773438, snr: 0.24563221633434296, grad_mean_norm: 79.4737548828125\n",
      "level: 2, step_size: 30.629114863128592, grad_norm: 1.2556190490722656, image_norm: 567.4658203125, snr: 0.2472892701625824, grad_mean_norm: 78.67332458496094\n",
      "level: 2, step_size: 30.629114863128592, grad_norm: 1.2505120038986206, image_norm: 568.9137573242188, snr: 0.24831652641296387, grad_mean_norm: 79.92222595214844\n",
      "level: 2, step_size: 30.629114863128592, grad_norm: 1.250385046005249, image_norm: 571.7931518554688, snr: 0.24540507793426514, grad_mean_norm: 77.48845672607422\n",
      "level: 2, step_size: 30.629114863128592, grad_norm: 1.2487329244613647, image_norm: 572.9314575195312, snr: 0.24684648215770721, grad_mean_norm: 76.68024444580078\n",
      "level: 2, step_size: 30.629114863128592, grad_norm: 1.2513822317123413, image_norm: 574.4232788085938, snr: 0.249362051486969, grad_mean_norm: 77.37006378173828\n",
      "level: 3, step_size: 24.715421036485523, grad_norm: 1.3899834156036377, image_norm: 575.6008911132812, snr: 0.24620339274406433, grad_mean_norm: 76.58616638183594\n",
      "level: 3, step_size: 24.715421036485523, grad_norm: 1.3918389081954956, image_norm: 578.22412109375, snr: 0.24638527631759644, grad_mean_norm: 76.76447296142578\n",
      "level: 3, step_size: 24.715421036485523, grad_norm: 1.3945612907409668, image_norm: 578.9409790039062, snr: 0.24507257342338562, grad_mean_norm: 75.57770538330078\n",
      "level: 3, step_size: 24.715421036485523, grad_norm: 1.3952231407165527, image_norm: 578.0077514648438, snr: 0.24354322254657745, grad_mean_norm: 74.37195587158203\n",
      "level: 3, step_size: 24.715421036485523, grad_norm: 1.395058274269104, image_norm: 577.0242309570312, snr: 0.24981266260147095, grad_mean_norm: 75.88159942626953\n",
      "level: 3, step_size: 24.715421036485523, grad_norm: 1.3927350044250488, image_norm: 576.59521484375, snr: 0.24964873492717743, grad_mean_norm: 74.46245574951172\n",
      "level: 3, step_size: 24.715421036485523, grad_norm: 1.3960787057876587, image_norm: 575.9506225585938, snr: 0.24819810688495636, grad_mean_norm: 74.79674530029297\n",
      "level: 3, step_size: 24.715421036485523, grad_norm: 1.3942407369613647, image_norm: 576.4682006835938, snr: 0.24699988961219788, grad_mean_norm: 73.09264373779297\n",
      "level: 3, step_size: 24.715421036485523, grad_norm: 1.3949596881866455, image_norm: 579.2748413085938, snr: 0.24303977191448212, grad_mean_norm: 74.52290344238281\n",
      "level: 3, step_size: 24.715421036485523, grad_norm: 1.3968372344970703, image_norm: 578.2775268554688, snr: 0.2506273686885834, grad_mean_norm: 76.0447769165039\n",
      "level: 4, step_size: 19.94350929631651, grad_norm: 1.5526169538497925, image_norm: 576.4439697265625, snr: 0.24685820937156677, grad_mean_norm: 74.9117431640625\n",
      "level: 4, step_size: 19.94350929631651, grad_norm: 1.5567082166671753, image_norm: 575.0541381835938, snr: 0.25147950649261475, grad_mean_norm: 73.5835952758789\n",
      "level: 4, step_size: 19.94350929631651, grad_norm: 1.5582361221313477, image_norm: 573.21044921875, snr: 0.2503892183303833, grad_mean_norm: 72.35224151611328\n",
      "level: 4, step_size: 19.94350929631651, grad_norm: 1.5566266775131226, image_norm: 571.23388671875, snr: 0.24753476679325104, grad_mean_norm: 72.87694549560547\n",
      "level: 4, step_size: 19.94350929631651, grad_norm: 1.5570895671844482, image_norm: 568.59765625, snr: 0.247767373919487, grad_mean_norm: 74.49104309082031\n",
      "level: 4, step_size: 19.94350929631651, grad_norm: 1.5561466217041016, image_norm: 567.3322143554688, snr: 0.24976709485054016, grad_mean_norm: 76.39904022216797\n",
      "level: 4, step_size: 19.94350929631651, grad_norm: 1.551815390586853, image_norm: 565.8824462890625, snr: 0.2454412579536438, grad_mean_norm: 74.041748046875\n",
      "level: 4, step_size: 19.94350929631651, grad_norm: 1.5529344081878662, image_norm: 564.0463256835938, snr: 0.24740983545780182, grad_mean_norm: 73.12519836425781\n",
      "level: 4, step_size: 19.94350929631651, grad_norm: 1.5523661375045776, image_norm: 564.3421020507812, snr: 0.2479238212108612, grad_mean_norm: 73.48384094238281\n",
      "level: 4, step_size: 19.94350929631651, grad_norm: 1.551328182220459, image_norm: 566.3200073242188, snr: 0.24598176777362823, grad_mean_norm: 74.21822357177734\n",
      "level: 5, step_size: 16.092930905975823, grad_norm: 1.7237364053726196, image_norm: 563.4400634765625, snr: 0.24849361181259155, grad_mean_norm: 74.9821548461914\n",
      "level: 5, step_size: 16.092930905975823, grad_norm: 1.7242923974990845, image_norm: 559.7039184570312, snr: 0.24747197329998016, grad_mean_norm: 73.887939453125\n",
      "level: 5, step_size: 16.092930905975823, grad_norm: 1.7227157354354858, image_norm: 558.5533447265625, snr: 0.24276739358901978, grad_mean_norm: 74.05050659179688\n",
      "level: 5, step_size: 16.092930905975823, grad_norm: 1.7213366031646729, image_norm: 555.76416015625, snr: 0.24825581908226013, grad_mean_norm: 72.63417053222656\n",
      "level: 5, step_size: 16.092930905975823, grad_norm: 1.7254170179367065, image_norm: 552.5162353515625, snr: 0.24861176311969757, grad_mean_norm: 70.33991241455078\n",
      "level: 5, step_size: 16.092930905975823, grad_norm: 1.7235069274902344, image_norm: 551.6517944335938, snr: 0.24861757457256317, grad_mean_norm: 70.67699432373047\n",
      "level: 5, step_size: 16.092930905975823, grad_norm: 1.7208868265151978, image_norm: 548.2364501953125, snr: 0.24756528437137604, grad_mean_norm: 72.5949478149414\n",
      "level: 5, step_size: 16.092930905975823, grad_norm: 1.7187362909317017, image_norm: 545.6390991210938, snr: 0.24909032881259918, grad_mean_norm: 69.98062896728516\n",
      "level: 5, step_size: 16.092930905975823, grad_norm: 1.7180120944976807, image_norm: 544.985107421875, snr: 0.24626106023788452, grad_mean_norm: 70.94499206542969\n",
      "level: 5, step_size: 16.092930905975823, grad_norm: 1.7195526361465454, image_norm: 545.7310791015625, snr: 0.2438657581806183, grad_mean_norm: 73.26199340820312\n",
      "level: 6, step_size: 12.985800106521122, grad_norm: 1.9118388891220093, image_norm: 544.1625366210938, snr: 0.24514611065387726, grad_mean_norm: 74.41596221923828\n",
      "level: 6, step_size: 12.985800106521122, grad_norm: 1.9066647291183472, image_norm: 539.9893798828125, snr: 0.24402540922164917, grad_mean_norm: 74.71749877929688\n",
      "level: 6, step_size: 12.985800106521122, grad_norm: 1.9021189212799072, image_norm: 538.1931762695312, snr: 0.24421821534633636, grad_mean_norm: 74.17332458496094\n",
      "level: 6, step_size: 12.985800106521122, grad_norm: 1.8998209238052368, image_norm: 534.8472900390625, snr: 0.24661414325237274, grad_mean_norm: 73.94482421875\n",
      "level: 6, step_size: 12.985800106521122, grad_norm: 1.904265284538269, image_norm: 533.0994262695312, snr: 0.24452883005142212, grad_mean_norm: 75.08909606933594\n",
      "level: 6, step_size: 12.985800106521122, grad_norm: 1.9003031253814697, image_norm: 530.7159423828125, snr: 0.24668170511722565, grad_mean_norm: 73.88519287109375\n",
      "level: 6, step_size: 12.985800106521122, grad_norm: 1.8986231088638306, image_norm: 528.0787963867188, snr: 0.2452491968870163, grad_mean_norm: 73.7051773071289\n",
      "level: 6, step_size: 12.985800106521122, grad_norm: 1.8998329639434814, image_norm: 524.84228515625, snr: 0.2451903373003006, grad_mean_norm: 73.91621398925781\n",
      "level: 6, step_size: 12.985800106521122, grad_norm: 1.8969074487686157, image_norm: 521.3458862304688, snr: 0.24385395646095276, grad_mean_norm: 73.22384643554688\n",
      "level: 6, step_size: 12.985800106521122, grad_norm: 1.8948856592178345, image_norm: 519.3804931640625, snr: 0.24294914305210114, grad_mean_norm: 72.94390106201172\n",
      "level: 7, step_size: 10.478576301095393, grad_norm: 2.111198902130127, image_norm: 517.6506958007812, snr: 0.24304665625095367, grad_mean_norm: 74.49939727783203\n",
      "level: 7, step_size: 10.478576301095393, grad_norm: 2.1120364665985107, image_norm: 512.7717895507812, snr: 0.24680404365062714, grad_mean_norm: 72.71399688720703\n",
      "level: 7, step_size: 10.478576301095393, grad_norm: 2.110823631286621, image_norm: 508.81573486328125, snr: 0.24689814448356628, grad_mean_norm: 72.03019714355469\n",
      "level: 7, step_size: 10.478576301095393, grad_norm: 2.1038501262664795, image_norm: 505.3185119628906, snr: 0.24798141419887543, grad_mean_norm: 72.07817840576172\n",
      "level: 7, step_size: 10.478576301095393, grad_norm: 2.1008431911468506, image_norm: 503.9195251464844, snr: 0.24254247546195984, grad_mean_norm: 72.46835327148438\n",
      "level: 7, step_size: 10.478576301095393, grad_norm: 2.0974926948547363, image_norm: 503.7388610839844, snr: 0.242458313703537, grad_mean_norm: 73.4453125\n",
      "level: 7, step_size: 10.478576301095393, grad_norm: 2.0953924655914307, image_norm: 501.4327697753906, snr: 0.2426830381155014, grad_mean_norm: 74.74752807617188\n",
      "level: 7, step_size: 10.478576301095393, grad_norm: 2.0974745750427246, image_norm: 499.068603515625, snr: 0.24193769693374634, grad_mean_norm: 75.89603424072266\n",
      "level: 7, step_size: 10.478576301095393, grad_norm: 2.094337224960327, image_norm: 496.2692565917969, snr: 0.23701885342597961, grad_mean_norm: 76.96550750732422\n",
      "level: 7, step_size: 10.478576301095393, grad_norm: 2.0924477577209473, image_norm: 492.4541931152344, snr: 0.24279005825519562, grad_mean_norm: 76.83223724365234\n",
      "level: 8, step_size: 8.45543288801582, grad_norm: 2.326054334640503, image_norm: 488.6636657714844, snr: 0.24369952082633972, grad_mean_norm: 75.98157501220703\n",
      "level: 8, step_size: 8.45543288801582, grad_norm: 2.324620485305786, image_norm: 487.3955993652344, snr: 0.24217402935028076, grad_mean_norm: 77.35908508300781\n",
      "level: 8, step_size: 8.45543288801582, grad_norm: 2.3224050998687744, image_norm: 484.5466003417969, snr: 0.24014011025428772, grad_mean_norm: 76.79051971435547\n",
      "level: 8, step_size: 8.45543288801582, grad_norm: 2.3206794261932373, image_norm: 481.7541198730469, snr: 0.24305327236652374, grad_mean_norm: 77.23224639892578\n",
      "level: 8, step_size: 8.45543288801582, grad_norm: 2.3190925121307373, image_norm: 478.8246154785156, snr: 0.2398715764284134, grad_mean_norm: 77.21150207519531\n",
      "level: 8, step_size: 8.45543288801582, grad_norm: 2.3121144771575928, image_norm: 473.9128112792969, snr: 0.24049970507621765, grad_mean_norm: 76.83766174316406\n",
      "level: 8, step_size: 8.45543288801582, grad_norm: 2.310636281967163, image_norm: 470.4042053222656, snr: 0.24043676257133484, grad_mean_norm: 77.06217956542969\n",
      "level: 8, step_size: 8.45543288801582, grad_norm: 2.3061673641204834, image_norm: 466.5475158691406, snr: 0.237919420003891, grad_mean_norm: 77.7112045288086\n",
      "level: 8, step_size: 8.45543288801582, grad_norm: 2.3038575649261475, image_norm: 464.37823486328125, snr: 0.24239091575145721, grad_mean_norm: 76.81878662109375\n",
      "level: 8, step_size: 8.45543288801582, grad_norm: 2.3036115169525146, image_norm: 460.7646484375, snr: 0.23773154616355896, grad_mean_norm: 77.56124114990234\n",
      "level: 9, step_size: 6.822906401537182, grad_norm: 2.5596578121185303, image_norm: 457.875, snr: 0.2384612262248993, grad_mean_norm: 76.43783569335938\n",
      "level: 9, step_size: 6.822906401537182, grad_norm: 2.558537721633911, image_norm: 454.5741882324219, snr: 0.2375498116016388, grad_mean_norm: 75.78118896484375\n",
      "level: 9, step_size: 6.822906401537182, grad_norm: 2.5589535236358643, image_norm: 452.28125, snr: 0.2379240095615387, grad_mean_norm: 75.19091796875\n",
      "level: 9, step_size: 6.822906401537182, grad_norm: 2.558368682861328, image_norm: 449.5325622558594, snr: 0.23906877636909485, grad_mean_norm: 76.51580047607422\n",
      "level: 9, step_size: 6.822906401537182, grad_norm: 2.5555570125579834, image_norm: 447.7948913574219, snr: 0.2376476228237152, grad_mean_norm: 76.93898010253906\n",
      "level: 9, step_size: 6.822906401537182, grad_norm: 2.555375814437866, image_norm: 445.6197814941406, snr: 0.2396801859140396, grad_mean_norm: 75.76042938232422\n",
      "level: 9, step_size: 6.822906401537182, grad_norm: 2.555866241455078, image_norm: 444.6080017089844, snr: 0.23693573474884033, grad_mean_norm: 75.75845336914062\n",
      "level: 9, step_size: 6.822906401537182, grad_norm: 2.5551400184631348, image_norm: 441.54278564453125, snr: 0.2388281375169754, grad_mean_norm: 72.66383361816406\n",
      "level: 9, step_size: 6.822906401537182, grad_norm: 2.552058458328247, image_norm: 437.5071716308594, snr: 0.23912665247917175, grad_mean_norm: 73.26255798339844\n",
      "level: 9, step_size: 6.822906401537182, grad_norm: 2.549268960952759, image_norm: 436.6017761230469, snr: 0.23584966361522675, grad_mean_norm: 73.63005065917969\n",
      "level: 10, step_size: 5.505578765827221, grad_norm: 2.833944082260132, image_norm: 433.9367370605469, snr: 0.23807834088802338, grad_mean_norm: 73.5191421508789\n",
      "level: 10, step_size: 5.505578765827221, grad_norm: 2.832933187484741, image_norm: 431.4936218261719, snr: 0.23921872675418854, grad_mean_norm: 73.51673889160156\n",
      "level: 10, step_size: 5.505578765827221, grad_norm: 2.8268394470214844, image_norm: 429.3371276855469, snr: 0.23914530873298645, grad_mean_norm: 73.60639190673828\n",
      "level: 10, step_size: 5.505578765827221, grad_norm: 2.8230931758880615, image_norm: 426.5249938964844, snr: 0.23700028657913208, grad_mean_norm: 74.06861877441406\n",
      "level: 10, step_size: 5.505578765827221, grad_norm: 2.818662643432617, image_norm: 423.9347839355469, snr: 0.23888221383094788, grad_mean_norm: 73.65328979492188\n",
      "level: 10, step_size: 5.505578765827221, grad_norm: 2.819181442260742, image_norm: 421.20654296875, snr: 0.234919011592865, grad_mean_norm: 73.80784606933594\n",
      "level: 10, step_size: 5.505578765827221, grad_norm: 2.820749044418335, image_norm: 420.0175476074219, snr: 0.23511219024658203, grad_mean_norm: 74.2940902709961\n",
      "level: 10, step_size: 5.505578765827221, grad_norm: 2.8234188556671143, image_norm: 417.4796447753906, snr: 0.2372349500656128, grad_mean_norm: 74.11804962158203\n",
      "level: 10, step_size: 5.505578765827221, grad_norm: 2.828585147857666, image_norm: 414.4504089355469, snr: 0.23629945516586304, grad_mean_norm: 75.2182388305664\n",
      "level: 10, step_size: 5.505578765827221, grad_norm: 2.8245818614959717, image_norm: 411.64874267578125, snr: 0.23923945426940918, grad_mean_norm: 75.2430419921875\n",
      "level: 11, step_size: 4.442593194580327, grad_norm: 3.1462666988372803, image_norm: 409.12030029296875, snr: 0.2370128333568573, grad_mean_norm: 76.11650848388672\n",
      "level: 11, step_size: 4.442593194580327, grad_norm: 3.1363797187805176, image_norm: 406.1327819824219, snr: 0.2333259880542755, grad_mean_norm: 75.4279556274414\n",
      "level: 11, step_size: 4.442593194580327, grad_norm: 3.1351430416107178, image_norm: 402.5242004394531, snr: 0.23613467812538147, grad_mean_norm: 74.55961608886719\n",
      "level: 11, step_size: 4.442593194580327, grad_norm: 3.129688262939453, image_norm: 401.1760559082031, snr: 0.2343074232339859, grad_mean_norm: 73.1467056274414\n",
      "level: 11, step_size: 4.442593194580327, grad_norm: 3.1232597827911377, image_norm: 399.0486145019531, snr: 0.24024920165538788, grad_mean_norm: 73.02552795410156\n",
      "level: 11, step_size: 4.442593194580327, grad_norm: 3.1221096515655518, image_norm: 396.18212890625, snr: 0.23493096232414246, grad_mean_norm: 73.5898666381836\n",
      "level: 11, step_size: 4.442593194580327, grad_norm: 3.1229076385498047, image_norm: 394.83038330078125, snr: 0.23666968941688538, grad_mean_norm: 74.5404281616211\n",
      "level: 11, step_size: 4.442593194580327, grad_norm: 3.1254231929779053, image_norm: 391.9266357421875, snr: 0.23724810779094696, grad_mean_norm: 75.84683227539062\n",
      "level: 11, step_size: 4.442593194580327, grad_norm: 3.121946096420288, image_norm: 389.1990051269531, snr: 0.23604246973991394, grad_mean_norm: 75.15617370605469\n",
      "level: 11, step_size: 4.442593194580327, grad_norm: 3.119685173034668, image_norm: 386.6071472167969, snr: 0.23562943935394287, grad_mean_norm: 75.26778411865234\n",
      "level: 12, step_size: 3.584842780750943, grad_norm: 3.473398208618164, image_norm: 384.6713562011719, snr: 0.23559127748012543, grad_mean_norm: 76.45865631103516\n",
      "level: 12, step_size: 3.584842780750943, grad_norm: 3.476522922515869, image_norm: 381.2123718261719, snr: 0.23738420009613037, grad_mean_norm: 77.19084930419922\n",
      "level: 12, step_size: 3.584842780750943, grad_norm: 3.4772675037384033, image_norm: 378.946533203125, snr: 0.23391786217689514, grad_mean_norm: 77.17176055908203\n",
      "level: 12, step_size: 3.584842780750943, grad_norm: 3.473870038986206, image_norm: 376.7119140625, snr: 0.23400083184242249, grad_mean_norm: 76.53604888916016\n",
      "level: 12, step_size: 3.584842780750943, grad_norm: 3.480257511138916, image_norm: 373.5705261230469, snr: 0.23437021672725677, grad_mean_norm: 77.99263763427734\n",
      "level: 12, step_size: 3.584842780750943, grad_norm: 3.469665288925171, image_norm: 370.5758972167969, snr: 0.23511315882205963, grad_mean_norm: 76.94444274902344\n",
      "level: 12, step_size: 3.584842780750943, grad_norm: 3.4664864540100098, image_norm: 368.1908874511719, snr: 0.23379479348659515, grad_mean_norm: 77.26446533203125\n",
      "level: 12, step_size: 3.584842780750943, grad_norm: 3.4615561962127686, image_norm: 367.0511169433594, snr: 0.23552554845809937, grad_mean_norm: 77.5833969116211\n",
      "level: 12, step_size: 3.584842780750943, grad_norm: 3.463599443435669, image_norm: 365.4945983886719, snr: 0.23394609987735748, grad_mean_norm: 77.68244171142578\n",
      "level: 12, step_size: 3.584842780750943, grad_norm: 3.472095489501953, image_norm: 362.11309814453125, snr: 0.23540914058685303, grad_mean_norm: 78.85253143310547\n",
      "level: 13, step_size: 2.892701897256689, grad_norm: 3.8614258766174316, image_norm: 358.57855224609375, snr: 0.23156586289405823, grad_mean_norm: 78.61559295654297\n",
      "level: 13, step_size: 2.892701897256689, grad_norm: 3.8617379665374756, image_norm: 356.6842041015625, snr: 0.23432809114456177, grad_mean_norm: 78.9002685546875\n",
      "level: 13, step_size: 2.892701897256689, grad_norm: 3.860250949859619, image_norm: 354.26446533203125, snr: 0.23650316894054413, grad_mean_norm: 77.87902069091797\n",
      "level: 13, step_size: 2.892701897256689, grad_norm: 3.8671510219573975, image_norm: 352.28271484375, snr: 0.23627394437789917, grad_mean_norm: 77.56185913085938\n",
      "level: 13, step_size: 2.892701897256689, grad_norm: 3.8733291625976562, image_norm: 350.3886413574219, snr: 0.23543794453144073, grad_mean_norm: 76.87588500976562\n",
      "level: 13, step_size: 2.892701897256689, grad_norm: 3.8764915466308594, image_norm: 348.7445983886719, snr: 0.2369084358215332, grad_mean_norm: 76.57555389404297\n",
      "level: 13, step_size: 2.892701897256689, grad_norm: 3.8695290088653564, image_norm: 347.01495361328125, snr: 0.23408302664756775, grad_mean_norm: 77.4714584350586\n",
      "level: 13, step_size: 2.892701897256689, grad_norm: 3.871021270751953, image_norm: 344.89202880859375, snr: 0.2376275360584259, grad_mean_norm: 77.3205795288086\n",
      "level: 13, step_size: 2.892701897256689, grad_norm: 3.864840030670166, image_norm: 342.24859619140625, snr: 0.2382533997297287, grad_mean_norm: 76.2096939086914\n",
      "level: 13, step_size: 2.892701897256689, grad_norm: 3.860607624053955, image_norm: 340.3426208496094, snr: 0.23359902203083038, grad_mean_norm: 75.9635238647461\n",
      "level: 14, step_size: 2.3341956058222433, grad_norm: 4.298095226287842, image_norm: 338.2681579589844, snr: 0.23634280264377594, grad_mean_norm: 78.03886413574219\n",
      "level: 14, step_size: 2.3341956058222433, grad_norm: 4.295009136199951, image_norm: 336.2074890136719, snr: 0.2365129441022873, grad_mean_norm: 77.9944839477539\n",
      "level: 14, step_size: 2.3341956058222433, grad_norm: 4.297431945800781, image_norm: 334.1557312011719, snr: 0.22928021848201752, grad_mean_norm: 76.75402069091797\n",
      "level: 14, step_size: 2.3341956058222433, grad_norm: 4.294923782348633, image_norm: 331.81744384765625, snr: 0.23450243473052979, grad_mean_norm: 75.36737823486328\n",
      "level: 14, step_size: 2.3341956058222433, grad_norm: 4.2976861000061035, image_norm: 329.4534912109375, snr: 0.23566359281539917, grad_mean_norm: 75.24488067626953\n",
      "level: 14, step_size: 2.3341956058222433, grad_norm: 4.289651393890381, image_norm: 327.181396484375, snr: 0.23275472223758698, grad_mean_norm: 74.86148834228516\n",
      "level: 14, step_size: 2.3341956058222433, grad_norm: 4.301344394683838, image_norm: 325.578125, snr: 0.2370285838842392, grad_mean_norm: 75.00224304199219\n",
      "level: 14, step_size: 2.3341956058222433, grad_norm: 4.303374767303467, image_norm: 323.36749267578125, snr: 0.23217472434043884, grad_mean_norm: 74.08645629882812\n",
      "level: 14, step_size: 2.3341956058222433, grad_norm: 4.313422679901123, image_norm: 320.98004150390625, snr: 0.2350418120622635, grad_mean_norm: 74.42195892333984\n",
      "level: 14, step_size: 2.3341956058222433, grad_norm: 4.303390026092529, image_norm: 319.0389099121094, snr: 0.2350718379020691, grad_mean_norm: 74.13773345947266\n",
      "level: 15, step_size: 1.8835225058644853, grad_norm: 4.791341304779053, image_norm: 316.707275390625, snr: 0.23849959671497345, grad_mean_norm: 74.17132568359375\n",
      "level: 15, step_size: 1.8835225058644853, grad_norm: 4.788910388946533, image_norm: 313.8045349121094, snr: 0.23403382301330566, grad_mean_norm: 73.80786895751953\n",
      "level: 15, step_size: 1.8835225058644853, grad_norm: 4.7965521812438965, image_norm: 311.9954528808594, snr: 0.2355329841375351, grad_mean_norm: 73.78903198242188\n",
      "level: 15, step_size: 1.8835225058644853, grad_norm: 4.79602575302124, image_norm: 310.4120788574219, snr: 0.2337733954191208, grad_mean_norm: 73.99516296386719\n",
      "level: 15, step_size: 1.8835225058644853, grad_norm: 4.793240547180176, image_norm: 308.36395263671875, snr: 0.23506076633930206, grad_mean_norm: 74.48683166503906\n",
      "level: 15, step_size: 1.8835225058644853, grad_norm: 4.790931224822998, image_norm: 306.0323181152344, snr: 0.2349700778722763, grad_mean_norm: 72.97624206542969\n",
      "level: 15, step_size: 1.8835225058644853, grad_norm: 4.796963691711426, image_norm: 304.2172546386719, snr: 0.2344416230916977, grad_mean_norm: 72.8205337524414\n",
      "level: 15, step_size: 1.8835225058644853, grad_norm: 4.795658111572266, image_norm: 301.3907165527344, snr: 0.2332790195941925, grad_mean_norm: 72.3336181640625\n",
      "level: 15, step_size: 1.8835225058644853, grad_norm: 4.790578365325928, image_norm: 299.14801025390625, snr: 0.23504476249217987, grad_mean_norm: 70.87525177001953\n",
      "level: 15, step_size: 1.8835225058644853, grad_norm: 4.799320220947266, image_norm: 296.6190490722656, snr: 0.23869536817073822, grad_mean_norm: 72.48603057861328\n",
      "level: 16, step_size: 1.5198627832427674, grad_norm: 5.335992336273193, image_norm: 294.5397644042969, snr: 0.23642835021018982, grad_mean_norm: 71.60271453857422\n",
      "level: 16, step_size: 1.5198627832427674, grad_norm: 5.3351945877075195, image_norm: 292.478759765625, snr: 0.23601047694683075, grad_mean_norm: 71.84745025634766\n",
      "level: 16, step_size: 1.5198627832427674, grad_norm: 5.328111171722412, image_norm: 291.2896423339844, snr: 0.23304596543312073, grad_mean_norm: 71.79584503173828\n",
      "level: 16, step_size: 1.5198627832427674, grad_norm: 5.332866668701172, image_norm: 289.553955078125, snr: 0.2331172525882721, grad_mean_norm: 71.46235656738281\n",
      "level: 16, step_size: 1.5198627832427674, grad_norm: 5.33976411819458, image_norm: 287.4262390136719, snr: 0.23526258766651154, grad_mean_norm: 71.7497787475586\n",
      "level: 16, step_size: 1.5198627832427674, grad_norm: 5.333604335784912, image_norm: 285.43121337890625, snr: 0.23596179485321045, grad_mean_norm: 71.23712921142578\n",
      "level: 16, step_size: 1.5198627832427674, grad_norm: 5.337321758270264, image_norm: 283.56134033203125, snr: 0.23444367945194244, grad_mean_norm: 72.0794677734375\n",
      "level: 16, step_size: 1.5198627832427674, grad_norm: 5.341306209564209, image_norm: 281.3516845703125, snr: 0.23811452090740204, grad_mean_norm: 73.61587524414062\n",
      "level: 16, step_size: 1.5198627832427674, grad_norm: 5.339961528778076, image_norm: 279.8228454589844, snr: 0.23364120721817017, grad_mean_norm: 73.87278747558594\n",
      "level: 16, step_size: 1.5198627832427674, grad_norm: 5.348603248596191, image_norm: 277.0790710449219, snr: 0.23699486255645752, grad_mean_norm: 74.05632019042969\n",
      "level: 17, step_size: 1.2264163941201391, grad_norm: 5.963764667510986, image_norm: 275.4613952636719, snr: 0.2328440397977829, grad_mean_norm: 74.52867889404297\n",
      "level: 17, step_size: 1.2264163941201391, grad_norm: 5.977633476257324, image_norm: 273.7734375, snr: 0.23491960763931274, grad_mean_norm: 74.83512115478516\n",
      "level: 17, step_size: 1.2264163941201391, grad_norm: 5.983006477355957, image_norm: 271.7918701171875, snr: 0.2360045611858368, grad_mean_norm: 74.3156967163086\n",
      "level: 17, step_size: 1.2264163941201391, grad_norm: 5.990675449371338, image_norm: 269.9078674316406, snr: 0.23958228528499603, grad_mean_norm: 73.709228515625\n",
      "level: 17, step_size: 1.2264163941201391, grad_norm: 6.00666618347168, image_norm: 268.4820861816406, snr: 0.23820379376411438, grad_mean_norm: 73.40755462646484\n",
      "level: 17, step_size: 1.2264163941201391, grad_norm: 5.995860576629639, image_norm: 266.27197265625, snr: 0.2357484996318817, grad_mean_norm: 73.20838165283203\n",
      "level: 17, step_size: 1.2264163941201391, grad_norm: 6.005651950836182, image_norm: 264.5245056152344, snr: 0.2377750128507614, grad_mean_norm: 74.8404312133789\n",
      "level: 17, step_size: 1.2264163941201391, grad_norm: 6.0120744705200195, image_norm: 262.9864196777344, snr: 0.23972727358341217, grad_mean_norm: 73.16796875\n",
      "level: 17, step_size: 1.2264163941201391, grad_norm: 6.013862609863281, image_norm: 261.3968200683594, snr: 0.23848776519298553, grad_mean_norm: 72.63015747070312\n",
      "level: 17, step_size: 1.2264163941201391, grad_norm: 6.0071120262146, image_norm: 259.4493103027344, snr: 0.23694747686386108, grad_mean_norm: 72.37449645996094\n",
      "level: 18, step_size: 0.989626950768223, grad_norm: 6.691474914550781, image_norm: 257.6031799316406, snr: 0.2367515116930008, grad_mean_norm: 72.00357055664062\n",
      "level: 18, step_size: 0.989626950768223, grad_norm: 6.700841426849365, image_norm: 255.651123046875, snr: 0.23913532495498657, grad_mean_norm: 71.94383239746094\n",
      "level: 18, step_size: 0.989626950768223, grad_norm: 6.709023475646973, image_norm: 254.15567016601562, snr: 0.23764635622501373, grad_mean_norm: 71.73400115966797\n",
      "level: 18, step_size: 0.989626950768223, grad_norm: 6.7124152183532715, image_norm: 251.87612915039062, snr: 0.23797351121902466, grad_mean_norm: 71.40798950195312\n",
      "level: 18, step_size: 0.989626950768223, grad_norm: 6.704991340637207, image_norm: 250.3140106201172, snr: 0.23900069296360016, grad_mean_norm: 72.44178771972656\n",
      "level: 18, step_size: 0.989626950768223, grad_norm: 6.688244819641113, image_norm: 248.68887329101562, snr: 0.2412276715040207, grad_mean_norm: 72.85157775878906\n",
      "level: 18, step_size: 0.989626950768223, grad_norm: 6.686862945556641, image_norm: 246.90505981445312, snr: 0.23442670702934265, grad_mean_norm: 71.37678527832031\n",
      "level: 18, step_size: 0.989626950768223, grad_norm: 6.676822185516357, image_norm: 244.4984893798828, snr: 0.23905155062675476, grad_mean_norm: 72.23843383789062\n",
      "level: 18, step_size: 0.989626950768223, grad_norm: 6.675146579742432, image_norm: 242.6547393798828, snr: 0.2376968413591385, grad_mean_norm: 72.14472961425781\n",
      "level: 18, step_size: 0.989626950768223, grad_norm: 6.68794584274292, image_norm: 241.16014099121094, snr: 0.24054040014743805, grad_mean_norm: 72.7126693725586\n",
      "level: 19, step_size: 0.798555455049529, grad_norm: 7.447028636932373, image_norm: 239.7778778076172, snr: 0.23922553658485413, grad_mean_norm: 73.50828552246094\n",
      "level: 19, step_size: 0.798555455049529, grad_norm: 7.443968296051025, image_norm: 237.839111328125, snr: 0.24109171330928802, grad_mean_norm: 73.16207885742188\n",
      "level: 19, step_size: 0.798555455049529, grad_norm: 7.441052436828613, image_norm: 236.3677215576172, snr: 0.23564410209655762, grad_mean_norm: 73.0307388305664\n",
      "level: 19, step_size: 0.798555455049529, grad_norm: 7.439805507659912, image_norm: 234.8046417236328, snr: 0.23685605823993683, grad_mean_norm: 72.94330596923828\n",
      "level: 19, step_size: 0.798555455049529, grad_norm: 7.44094705581665, image_norm: 232.9370574951172, snr: 0.23635347187519073, grad_mean_norm: 72.35511016845703\n",
      "level: 19, step_size: 0.798555455049529, grad_norm: 7.438554286956787, image_norm: 231.1289825439453, snr: 0.23811128735542297, grad_mean_norm: 72.4617919921875\n",
      "level: 19, step_size: 0.798555455049529, grad_norm: 7.435296058654785, image_norm: 229.59902954101562, snr: 0.24041564762592316, grad_mean_norm: 73.58179473876953\n",
      "level: 19, step_size: 0.798555455049529, grad_norm: 7.4266815185546875, image_norm: 227.86441040039062, snr: 0.2396308183670044, grad_mean_norm: 72.09713745117188\n",
      "level: 19, step_size: 0.798555455049529, grad_norm: 7.453708171844482, image_norm: 226.64854431152344, snr: 0.2371336668729782, grad_mean_norm: 72.6098861694336\n",
      "level: 19, step_size: 0.798555455049529, grad_norm: 7.45869779586792, image_norm: 224.8311767578125, snr: 0.2424604445695877, grad_mean_norm: 73.40876770019531\n",
      "level: 20, step_size: 0.6443749478471025, grad_norm: 8.314480781555176, image_norm: 223.06484985351562, snr: 0.23635704815387726, grad_mean_norm: 73.91868591308594\n",
      "level: 20, step_size: 0.6443749478471025, grad_norm: 8.324844360351562, image_norm: 221.4167022705078, snr: 0.23633906245231628, grad_mean_norm: 73.63333892822266\n",
      "level: 20, step_size: 0.6443749478471025, grad_norm: 8.333117485046387, image_norm: 219.90087890625, snr: 0.23993611335754395, grad_mean_norm: 73.63926696777344\n",
      "level: 20, step_size: 0.6443749478471025, grad_norm: 8.331149101257324, image_norm: 218.5380859375, snr: 0.23691704869270325, grad_mean_norm: 73.7951431274414\n",
      "level: 20, step_size: 0.6443749478471025, grad_norm: 8.327234268188477, image_norm: 216.91751098632812, snr: 0.23825372755527496, grad_mean_norm: 73.02682495117188\n",
      "level: 20, step_size: 0.6443749478471025, grad_norm: 8.335522651672363, image_norm: 215.57737731933594, snr: 0.23940442502498627, grad_mean_norm: 72.1973876953125\n",
      "level: 20, step_size: 0.6443749478471025, grad_norm: 8.33838939666748, image_norm: 213.81692504882812, snr: 0.23617616295814514, grad_mean_norm: 72.93240356445312\n",
      "level: 20, step_size: 0.6443749478471025, grad_norm: 8.327862739562988, image_norm: 212.3271484375, snr: 0.23767881095409393, grad_mean_norm: 72.90164947509766\n",
      "level: 20, step_size: 0.6443749478471025, grad_norm: 8.35289478302002, image_norm: 210.67190551757812, snr: 0.23942944407463074, grad_mean_norm: 72.6395492553711\n",
      "level: 20, step_size: 0.6443749478471025, grad_norm: 8.359564781188965, image_norm: 208.96080017089844, snr: 0.24250906705856323, grad_mean_norm: 72.43579864501953\n",
      "level: 21, step_size: 0.5199627286838868, grad_norm: 9.305305480957031, image_norm: 207.33279418945312, snr: 0.23979005217552185, grad_mean_norm: 71.73869323730469\n",
      "level: 21, step_size: 0.5199627286838868, grad_norm: 9.326143264770508, image_norm: 205.91690063476562, snr: 0.2413242608308792, grad_mean_norm: 71.8191909790039\n",
      "level: 21, step_size: 0.5199627286838868, grad_norm: 9.337252616882324, image_norm: 204.42539978027344, snr: 0.23881138861179352, grad_mean_norm: 72.6397933959961\n",
      "level: 21, step_size: 0.5199627286838868, grad_norm: 9.327387809753418, image_norm: 202.90139770507812, snr: 0.24135655164718628, grad_mean_norm: 71.71794891357422\n",
      "level: 21, step_size: 0.5199627286838868, grad_norm: 9.337872505187988, image_norm: 201.82395935058594, snr: 0.2424839437007904, grad_mean_norm: 72.48645782470703\n",
      "level: 21, step_size: 0.5199627286838868, grad_norm: 9.335383415222168, image_norm: 200.5835723876953, snr: 0.24091127514839172, grad_mean_norm: 72.94268035888672\n",
      "level: 21, step_size: 0.5199627286838868, grad_norm: 9.322044372558594, image_norm: 199.25657653808594, snr: 0.23950418829917908, grad_mean_norm: 72.09882354736328\n",
      "level: 21, step_size: 0.5199627286838868, grad_norm: 9.324274063110352, image_norm: 197.89259338378906, snr: 0.2406221330165863, grad_mean_norm: 72.02665710449219\n",
      "level: 21, step_size: 0.5199627286838868, grad_norm: 9.316740989685059, image_norm: 196.14210510253906, snr: 0.2431766837835312, grad_mean_norm: 70.50127410888672\n",
      "level: 21, step_size: 0.5199627286838868, grad_norm: 9.317537307739258, image_norm: 195.03489685058594, snr: 0.2428184300661087, grad_mean_norm: 70.08858489990234\n",
      "level: 22, step_size: 0.41957130723918945, grad_norm: 10.384454727172852, image_norm: 193.224609375, snr: 0.23878362774848938, grad_mean_norm: 71.2799301147461\n",
      "level: 22, step_size: 0.41957130723918945, grad_norm: 10.398001670837402, image_norm: 191.84483337402344, snr: 0.2418643832206726, grad_mean_norm: 71.59178161621094\n",
      "level: 22, step_size: 0.41957130723918945, grad_norm: 10.399275779724121, image_norm: 190.64732360839844, snr: 0.24280546605587006, grad_mean_norm: 71.79234313964844\n",
      "level: 22, step_size: 0.41957130723918945, grad_norm: 10.396525382995605, image_norm: 189.7667236328125, snr: 0.238360196352005, grad_mean_norm: 72.16317749023438\n",
      "level: 22, step_size: 0.41957130723918945, grad_norm: 10.404547691345215, image_norm: 188.63607788085938, snr: 0.2393314391374588, grad_mean_norm: 72.05532836914062\n",
      "level: 22, step_size: 0.41957130723918945, grad_norm: 10.401700019836426, image_norm: 187.34239196777344, snr: 0.23893702030181885, grad_mean_norm: 72.88713836669922\n",
      "level: 22, step_size: 0.41957130723918945, grad_norm: 10.404983520507812, image_norm: 186.2268829345703, snr: 0.24265627562999725, grad_mean_norm: 73.10724639892578\n",
      "level: 22, step_size: 0.41957130723918945, grad_norm: 10.418035507202148, image_norm: 184.7772979736328, snr: 0.2428700476884842, grad_mean_norm: 72.6614761352539\n",
      "level: 22, step_size: 0.41957130723918945, grad_norm: 10.446070671081543, image_norm: 183.73512268066406, snr: 0.24153916537761688, grad_mean_norm: 73.65933990478516\n",
      "level: 22, step_size: 0.41957130723918945, grad_norm: 10.464093208312988, image_norm: 182.5635986328125, snr: 0.24312444031238556, grad_mean_norm: 74.52005767822266\n",
      "level: 23, step_size: 0.3385628856591114, grad_norm: 11.653555870056152, image_norm: 181.26611328125, snr: 0.2414492815732956, grad_mean_norm: 73.78347778320312\n",
      "level: 23, step_size: 0.3385628856591114, grad_norm: 11.671293258666992, image_norm: 180.09329223632812, snr: 0.24383321404457092, grad_mean_norm: 74.8106460571289\n",
      "level: 23, step_size: 0.3385628856591114, grad_norm: 11.673857688903809, image_norm: 178.8144989013672, snr: 0.24328097701072693, grad_mean_norm: 75.3226547241211\n",
      "level: 23, step_size: 0.3385628856591114, grad_norm: 11.673665046691895, image_norm: 177.71728515625, snr: 0.2441263049840927, grad_mean_norm: 74.82694244384766\n",
      "level: 23, step_size: 0.3385628856591114, grad_norm: 11.665091514587402, image_norm: 176.5291748046875, snr: 0.24411457777023315, grad_mean_norm: 74.4273681640625\n",
      "level: 23, step_size: 0.3385628856591114, grad_norm: 11.665545463562012, image_norm: 175.33224487304688, snr: 0.24175547063350677, grad_mean_norm: 74.64712524414062\n",
      "level: 23, step_size: 0.3385628856591114, grad_norm: 11.669051170349121, image_norm: 174.451904296875, snr: 0.24360327422618866, grad_mean_norm: 74.73300170898438\n",
      "level: 23, step_size: 0.3385628856591114, grad_norm: 11.664210319519043, image_norm: 173.4614715576172, snr: 0.241172656416893, grad_mean_norm: 74.17668151855469\n",
      "level: 23, step_size: 0.3385628856591114, grad_norm: 11.657100677490234, image_norm: 172.39356994628906, snr: 0.24045559763908386, grad_mean_norm: 74.24867248535156\n",
      "level: 23, step_size: 0.3385628856591114, grad_norm: 11.672429084777832, image_norm: 171.36868286132812, snr: 0.23902198672294617, grad_mean_norm: 75.05219268798828\n",
      "level: 24, step_size: 0.2731951054996216, grad_norm: 12.99210262298584, image_norm: 170.12200927734375, snr: 0.244206964969635, grad_mean_norm: 75.48731231689453\n",
      "level: 24, step_size: 0.2731951054996216, grad_norm: 12.999542236328125, image_norm: 169.27920532226562, snr: 0.24284934997558594, grad_mean_norm: 75.65262603759766\n",
      "level: 24, step_size: 0.2731951054996216, grad_norm: 13.006634712219238, image_norm: 168.49375915527344, snr: 0.24368207156658173, grad_mean_norm: 75.57262420654297\n",
      "level: 24, step_size: 0.2731951054996216, grad_norm: 13.002578735351562, image_norm: 167.46774291992188, snr: 0.24009273946285248, grad_mean_norm: 75.93272399902344\n",
      "level: 24, step_size: 0.2731951054996216, grad_norm: 13.024026870727539, image_norm: 166.53395080566406, snr: 0.24244195222854614, grad_mean_norm: 76.0471420288086\n",
      "level: 24, step_size: 0.2731951054996216, grad_norm: 13.012272834777832, image_norm: 165.15774536132812, snr: 0.2471621185541153, grad_mean_norm: 75.45677947998047\n",
      "level: 24, step_size: 0.2731951054996216, grad_norm: 13.0289306640625, image_norm: 164.2494659423828, snr: 0.24272476136684418, grad_mean_norm: 75.33861541748047\n",
      "level: 24, step_size: 0.2731951054996216, grad_norm: 13.036307334899902, image_norm: 163.39794921875, snr: 0.24614545702934265, grad_mean_norm: 75.52140045166016\n",
      "level: 24, step_size: 0.2731951054996216, grad_norm: 13.039694786071777, image_norm: 162.08502197265625, snr: 0.24188005924224854, grad_mean_norm: 75.28594970703125\n",
      "level: 24, step_size: 0.2731951054996216, grad_norm: 13.045865058898926, image_norm: 160.93833923339844, snr: 0.24478305876255035, grad_mean_norm: 75.43745422363281\n",
      "level: 25, step_size: 0.2204481614210295, grad_norm: 14.540526390075684, image_norm: 160.1465606689453, snr: 0.24060988426208496, grad_mean_norm: 75.86228942871094\n",
      "level: 25, step_size: 0.2204481614210295, grad_norm: 14.536880493164062, image_norm: 159.00369262695312, snr: 0.24434775114059448, grad_mean_norm: 76.46142578125\n",
      "level: 25, step_size: 0.2204481614210295, grad_norm: 14.5483980178833, image_norm: 157.8985137939453, snr: 0.24370817840099335, grad_mean_norm: 77.52262115478516\n",
      "level: 25, step_size: 0.2204481614210295, grad_norm: 14.563392639160156, image_norm: 156.8864288330078, snr: 0.24394844472408295, grad_mean_norm: 76.81522369384766\n",
      "level: 25, step_size: 0.2204481614210295, grad_norm: 14.578314781188965, image_norm: 155.75259399414062, snr: 0.2466031014919281, grad_mean_norm: 76.703369140625\n",
      "level: 25, step_size: 0.2204481614210295, grad_norm: 14.592337608337402, image_norm: 154.7449951171875, snr: 0.24416682124137878, grad_mean_norm: 76.84497833251953\n",
      "level: 25, step_size: 0.2204481614210295, grad_norm: 14.588760375976562, image_norm: 153.686767578125, snr: 0.24516524374485016, grad_mean_norm: 77.35047912597656\n",
      "level: 25, step_size: 0.2204481614210295, grad_norm: 14.600668907165527, image_norm: 152.60154724121094, snr: 0.2429906129837036, grad_mean_norm: 77.88763427734375\n",
      "level: 25, step_size: 0.2204481614210295, grad_norm: 14.588104248046875, image_norm: 151.70468139648438, snr: 0.2440713793039322, grad_mean_norm: 78.11820983886719\n",
      "level: 25, step_size: 0.2204481614210295, grad_norm: 14.586010932922363, image_norm: 150.78404235839844, snr: 0.24713701009750366, grad_mean_norm: 77.05455017089844\n",
      "level: 26, step_size: 0.17788529477875153, grad_norm: 16.26116371154785, image_norm: 149.9281005859375, snr: 0.2441323697566986, grad_mean_norm: 77.583984375\n",
      "level: 26, step_size: 0.17788529477875153, grad_norm: 16.284154891967773, image_norm: 148.80606079101562, snr: 0.2458517700433731, grad_mean_norm: 78.05863189697266\n",
      "level: 26, step_size: 0.17788529477875153, grad_norm: 16.27755355834961, image_norm: 147.9807891845703, snr: 0.24621032178401947, grad_mean_norm: 77.89519500732422\n",
      "level: 26, step_size: 0.17788529477875153, grad_norm: 16.283227920532227, image_norm: 146.867919921875, snr: 0.2457752525806427, grad_mean_norm: 77.92247009277344\n",
      "level: 26, step_size: 0.17788529477875153, grad_norm: 16.27597427368164, image_norm: 145.8236541748047, snr: 0.24426484107971191, grad_mean_norm: 77.5334243774414\n",
      "level: 26, step_size: 0.17788529477875153, grad_norm: 16.283472061157227, image_norm: 144.7301025390625, snr: 0.24462710320949554, grad_mean_norm: 78.07797241210938\n",
      "level: 26, step_size: 0.17788529477875153, grad_norm: 16.290210723876953, image_norm: 143.81942749023438, snr: 0.24277743697166443, grad_mean_norm: 78.07564544677734\n",
      "level: 26, step_size: 0.17788529477875153, grad_norm: 16.312498092651367, image_norm: 142.7555389404297, snr: 0.24513652920722961, grad_mean_norm: 78.45532989501953\n",
      "level: 26, step_size: 0.17788529477875153, grad_norm: 16.30823516845703, image_norm: 141.898681640625, snr: 0.24882318079471588, grad_mean_norm: 78.36454010009766\n",
      "level: 26, step_size: 0.17788529477875153, grad_norm: 16.317340850830078, image_norm: 140.8580322265625, snr: 0.246063232421875, grad_mean_norm: 78.4198989868164\n",
      "level: 27, step_size: 0.14354022231144228, grad_norm: 18.167774200439453, image_norm: 140.063232421875, snr: 0.2421792447566986, grad_mean_norm: 79.01449584960938\n",
      "level: 27, step_size: 0.14354022231144228, grad_norm: 18.15595817565918, image_norm: 139.3094940185547, snr: 0.24862170219421387, grad_mean_norm: 77.9644775390625\n",
      "level: 27, step_size: 0.14354022231144228, grad_norm: 18.139677047729492, image_norm: 138.5343475341797, snr: 0.24458152055740356, grad_mean_norm: 77.83873748779297\n",
      "level: 27, step_size: 0.14354022231144228, grad_norm: 18.142362594604492, image_norm: 137.6986083984375, snr: 0.24559584259986877, grad_mean_norm: 77.27178192138672\n",
      "level: 27, step_size: 0.14354022231144228, grad_norm: 18.154539108276367, image_norm: 137.0680389404297, snr: 0.24715273082256317, grad_mean_norm: 78.41370391845703\n",
      "level: 27, step_size: 0.14354022231144228, grad_norm: 18.15728759765625, image_norm: 136.2397003173828, snr: 0.24638773500919342, grad_mean_norm: 77.93940734863281\n",
      "level: 27, step_size: 0.14354022231144228, grad_norm: 18.164915084838867, image_norm: 135.35806274414062, snr: 0.2473025619983673, grad_mean_norm: 78.03466796875\n",
      "level: 27, step_size: 0.14354022231144228, grad_norm: 18.157243728637695, image_norm: 134.32115173339844, snr: 0.24735482037067413, grad_mean_norm: 77.77165222167969\n",
      "level: 27, step_size: 0.14354022231144228, grad_norm: 18.148923873901367, image_norm: 133.3509521484375, snr: 0.24511030316352844, grad_mean_norm: 77.34431457519531\n",
      "level: 27, step_size: 0.14354022231144228, grad_norm: 18.14938735961914, image_norm: 132.73165893554688, snr: 0.2451421022415161, grad_mean_norm: 76.65849304199219\n",
      "level: 28, step_size: 0.1158262994523785, grad_norm: 20.215007781982422, image_norm: 131.9816436767578, snr: 0.2465003877878189, grad_mean_norm: 75.83975982666016\n",
      "level: 28, step_size: 0.1158262994523785, grad_norm: 20.218582153320312, image_norm: 131.205810546875, snr: 0.24981443583965302, grad_mean_norm: 76.50106048583984\n",
      "level: 28, step_size: 0.1158262994523785, grad_norm: 20.2048282623291, image_norm: 130.47569274902344, snr: 0.24353322386741638, grad_mean_norm: 76.78301239013672\n",
      "level: 28, step_size: 0.1158262994523785, grad_norm: 20.225126266479492, image_norm: 129.59495544433594, snr: 0.24145914614200592, grad_mean_norm: 77.01789093017578\n",
      "level: 28, step_size: 0.1158262994523785, grad_norm: 20.232309341430664, image_norm: 128.95751953125, snr: 0.24183493852615356, grad_mean_norm: 77.16620635986328\n",
      "level: 28, step_size: 0.1158262994523785, grad_norm: 20.2264347076416, image_norm: 128.23294067382812, snr: 0.24665451049804688, grad_mean_norm: 76.72911071777344\n",
      "level: 28, step_size: 0.1158262994523785, grad_norm: 20.221384048461914, image_norm: 127.31856536865234, snr: 0.24409161508083344, grad_mean_norm: 76.12060546875\n",
      "level: 28, step_size: 0.1158262994523785, grad_norm: 20.21065330505371, image_norm: 126.68135070800781, snr: 0.24653740227222443, grad_mean_norm: 77.24848175048828\n",
      "level: 28, step_size: 0.1158262994523785, grad_norm: 20.208492279052734, image_norm: 125.76274871826172, snr: 0.2461678683757782, grad_mean_norm: 77.12981414794922\n",
      "level: 28, step_size: 0.1158262994523785, grad_norm: 20.199167251586914, image_norm: 124.81646728515625, snr: 0.24921970069408417, grad_mean_norm: 77.04251098632812\n",
      "level: 29, step_size: 0.09346322186769125, grad_norm: 22.503416061401367, image_norm: 124.1164321899414, snr: 0.24618634581565857, grad_mean_norm: 77.42705535888672\n",
      "level: 29, step_size: 0.09346322186769125, grad_norm: 22.497150421142578, image_norm: 123.29869842529297, snr: 0.2457083910703659, grad_mean_norm: 76.88263702392578\n",
      "level: 29, step_size: 0.09346322186769125, grad_norm: 22.475662231445312, image_norm: 122.71721649169922, snr: 0.2468501776456833, grad_mean_norm: 77.067626953125\n",
      "level: 29, step_size: 0.09346322186769125, grad_norm: 22.470932006835938, image_norm: 122.028076171875, snr: 0.2454579472541809, grad_mean_norm: 76.96891784667969\n",
      "level: 29, step_size: 0.09346322186769125, grad_norm: 22.469926834106445, image_norm: 121.2967300415039, snr: 0.24075882136821747, grad_mean_norm: 76.67851257324219\n",
      "level: 29, step_size: 0.09346322186769125, grad_norm: 22.482711791992188, image_norm: 120.56975555419922, snr: 0.24327367544174194, grad_mean_norm: 77.147705078125\n",
      "level: 29, step_size: 0.09346322186769125, grad_norm: 22.490520477294922, image_norm: 119.7142105102539, snr: 0.24541346728801727, grad_mean_norm: 78.01484680175781\n",
      "level: 29, step_size: 0.09346322186769125, grad_norm: 22.48916244506836, image_norm: 118.897705078125, snr: 0.24411670863628387, grad_mean_norm: 77.2942886352539\n",
      "level: 29, step_size: 0.09346322186769125, grad_norm: 22.494705200195312, image_norm: 118.21187591552734, snr: 0.2417333573102951, grad_mean_norm: 77.31369018554688\n",
      "level: 29, step_size: 0.09346322186769125, grad_norm: 22.48671531677246, image_norm: 117.5858383178711, snr: 0.24851298332214355, grad_mean_norm: 76.74134063720703\n",
      "level: 30, step_size: 0.07541787904119984, grad_norm: 25.028051376342773, image_norm: 116.9362564086914, snr: 0.24604521691799164, grad_mean_norm: 76.54190063476562\n",
      "level: 30, step_size: 0.07541787904119984, grad_norm: 25.028106689453125, image_norm: 116.1644287109375, snr: 0.2466316521167755, grad_mean_norm: 75.88019561767578\n",
      "level: 30, step_size: 0.07541787904119984, grad_norm: 25.008329391479492, image_norm: 115.32549285888672, snr: 0.25016701221466064, grad_mean_norm: 75.81890869140625\n",
      "level: 30, step_size: 0.07541787904119984, grad_norm: 25.03150749206543, image_norm: 114.62873840332031, snr: 0.24330097436904907, grad_mean_norm: 76.15196990966797\n",
      "level: 30, step_size: 0.07541787904119984, grad_norm: 25.016204833984375, image_norm: 114.0630111694336, snr: 0.24704545736312866, grad_mean_norm: 75.50184631347656\n",
      "level: 30, step_size: 0.07541787904119984, grad_norm: 25.013912200927734, image_norm: 113.42994689941406, snr: 0.24587208032608032, grad_mean_norm: 75.7507095336914\n",
      "level: 30, step_size: 0.07541787904119984, grad_norm: 25.01334571838379, image_norm: 113.0047378540039, snr: 0.2480456829071045, grad_mean_norm: 75.73030090332031\n",
      "level: 30, step_size: 0.07541787904119984, grad_norm: 25.014915466308594, image_norm: 112.28474426269531, snr: 0.24468186497688293, grad_mean_norm: 74.79422760009766\n",
      "level: 30, step_size: 0.07541787904119984, grad_norm: 25.01184844970703, image_norm: 111.7170181274414, snr: 0.24377602338790894, grad_mean_norm: 75.063720703125\n",
      "level: 30, step_size: 0.07541787904119984, grad_norm: 25.0227108001709, image_norm: 111.08385467529297, snr: 0.24475523829460144, grad_mean_norm: 75.2840576171875\n",
      "level: 31, step_size: 0.060856627509855384, grad_norm: 27.862812042236328, image_norm: 110.50312805175781, snr: 0.24513518810272217, grad_mean_norm: 75.64537048339844\n",
      "level: 31, step_size: 0.060856627509855384, grad_norm: 27.86787223815918, image_norm: 109.86360931396484, snr: 0.24772554636001587, grad_mean_norm: 76.01818084716797\n",
      "level: 31, step_size: 0.060856627509855384, grad_norm: 27.856958389282227, image_norm: 109.22358703613281, snr: 0.24727895855903625, grad_mean_norm: 75.8656234741211\n",
      "level: 31, step_size: 0.060856627509855384, grad_norm: 27.85505485534668, image_norm: 108.6876449584961, snr: 0.24688521027565002, grad_mean_norm: 76.63899993896484\n",
      "level: 31, step_size: 0.060856627509855384, grad_norm: 27.843753814697266, image_norm: 108.1039810180664, snr: 0.24520021677017212, grad_mean_norm: 76.35623931884766\n",
      "level: 31, step_size: 0.060856627509855384, grad_norm: 27.815698623657227, image_norm: 107.57318115234375, snr: 0.2446645051240921, grad_mean_norm: 75.87830352783203\n",
      "level: 31, step_size: 0.060856627509855384, grad_norm: 27.782703399658203, image_norm: 107.105712890625, snr: 0.24701669812202454, grad_mean_norm: 76.06470489501953\n",
      "level: 31, step_size: 0.060856627509855384, grad_norm: 27.769662857055664, image_norm: 106.36189270019531, snr: 0.24461981654167175, grad_mean_norm: 75.9738998413086\n",
      "level: 31, step_size: 0.060856627509855384, grad_norm: 27.740310668945312, image_norm: 105.85107421875, snr: 0.2450348287820816, grad_mean_norm: 75.72710418701172\n",
      "level: 31, step_size: 0.060856627509855384, grad_norm: 27.737329483032227, image_norm: 105.26472473144531, snr: 0.24547313153743744, grad_mean_norm: 76.4047622680664\n",
      "level: 32, step_size: 0.04910677890915089, grad_norm: 30.883535385131836, image_norm: 104.68834686279297, snr: 0.246759295463562, grad_mean_norm: 75.61024475097656\n",
      "level: 32, step_size: 0.04910677890915089, grad_norm: 30.868738174438477, image_norm: 104.16650390625, snr: 0.24080081284046173, grad_mean_norm: 76.08126831054688\n",
      "level: 32, step_size: 0.04910677890915089, grad_norm: 30.86982536315918, image_norm: 103.56713104248047, snr: 0.24680866301059723, grad_mean_norm: 75.8005142211914\n",
      "level: 32, step_size: 0.04910677890915089, grad_norm: 30.84014320373535, image_norm: 103.09392547607422, snr: 0.24704039096832275, grad_mean_norm: 75.45015716552734\n",
      "level: 32, step_size: 0.04910677890915089, grad_norm: 30.832447052001953, image_norm: 102.41584777832031, snr: 0.24404902756214142, grad_mean_norm: 75.17354583740234\n",
      "level: 32, step_size: 0.04910677890915089, grad_norm: 30.811063766479492, image_norm: 101.84259796142578, snr: 0.241653710603714, grad_mean_norm: 75.1119613647461\n",
      "level: 32, step_size: 0.04910677890915089, grad_norm: 30.7822208404541, image_norm: 101.23587036132812, snr: 0.24332170188426971, grad_mean_norm: 74.80693054199219\n",
      "level: 32, step_size: 0.04910677890915089, grad_norm: 30.7695255279541, image_norm: 100.80699157714844, snr: 0.24506157636642456, grad_mean_norm: 75.05366516113281\n",
      "level: 32, step_size: 0.04910677890915089, grad_norm: 30.794370651245117, image_norm: 100.3303451538086, snr: 0.24310758709907532, grad_mean_norm: 75.26902770996094\n",
      "level: 32, step_size: 0.04910677890915089, grad_norm: 30.793792724609375, image_norm: 99.73912811279297, snr: 0.24330241978168488, grad_mean_norm: 75.21372985839844\n",
      "level: 33, step_size: 0.03962552368584177, grad_norm: 34.262847900390625, image_norm: 99.29055786132812, snr: 0.24186204373836517, grad_mean_norm: 75.76983642578125\n",
      "level: 33, step_size: 0.03962552368584177, grad_norm: 34.24445343017578, image_norm: 98.75291442871094, snr: 0.24540291726589203, grad_mean_norm: 75.94287872314453\n",
      "level: 33, step_size: 0.03962552368584177, grad_norm: 34.247474670410156, image_norm: 98.22756958007812, snr: 0.2428920865058899, grad_mean_norm: 75.76990509033203\n",
      "level: 33, step_size: 0.03962552368584177, grad_norm: 34.23795700073242, image_norm: 97.7051010131836, snr: 0.24036729335784912, grad_mean_norm: 75.3357925415039\n",
      "level: 33, step_size: 0.03962552368584177, grad_norm: 34.23185348510742, image_norm: 97.23326873779297, snr: 0.24244701862335205, grad_mean_norm: 74.68832397460938\n",
      "level: 33, step_size: 0.03962552368584177, grad_norm: 34.21685791015625, image_norm: 96.76602935791016, snr: 0.24182461202144623, grad_mean_norm: 74.0186538696289\n",
      "level: 33, step_size: 0.03962552368584177, grad_norm: 34.19975662231445, image_norm: 96.2308349609375, snr: 0.24480395019054413, grad_mean_norm: 73.85033416748047\n",
      "level: 33, step_size: 0.03962552368584177, grad_norm: 34.18346405029297, image_norm: 95.58870697021484, snr: 0.2433679848909378, grad_mean_norm: 73.80277252197266\n",
      "level: 33, step_size: 0.03962552368584177, grad_norm: 34.15218734741211, image_norm: 95.05787658691406, snr: 0.2423480749130249, grad_mean_norm: 73.95173645019531\n",
      "level: 33, step_size: 0.03962552368584177, grad_norm: 34.11741256713867, image_norm: 94.55806732177734, snr: 0.24372611939907074, grad_mean_norm: 74.06218719482422\n",
      "level: 34, step_size: 0.03197485484197809, grad_norm: 37.935035705566406, image_norm: 94.13082122802734, snr: 0.24679329991340637, grad_mean_norm: 73.96495056152344\n",
      "level: 34, step_size: 0.03197485484197809, grad_norm: 37.917911529541016, image_norm: 93.64708709716797, snr: 0.2439582198858261, grad_mean_norm: 74.18569946289062\n",
      "level: 34, step_size: 0.03197485484197809, grad_norm: 37.90163803100586, image_norm: 93.28121948242188, snr: 0.24211430549621582, grad_mean_norm: 74.14606475830078\n",
      "level: 34, step_size: 0.03197485484197809, grad_norm: 37.892879486083984, image_norm: 92.84078216552734, snr: 0.24200910329818726, grad_mean_norm: 73.77074432373047\n",
      "level: 34, step_size: 0.03197485484197809, grad_norm: 37.8962516784668, image_norm: 92.37670135498047, snr: 0.24255818128585815, grad_mean_norm: 73.84864044189453\n",
      "level: 34, step_size: 0.03197485484197809, grad_norm: 37.90321731567383, image_norm: 91.9113540649414, snr: 0.2433522343635559, grad_mean_norm: 74.25315856933594\n",
      "level: 34, step_size: 0.03197485484197809, grad_norm: 37.888668060302734, image_norm: 91.5200424194336, snr: 0.24175453186035156, grad_mean_norm: 74.13150787353516\n",
      "level: 34, step_size: 0.03197485484197809, grad_norm: 37.87873458862305, image_norm: 91.01583099365234, snr: 0.24327701330184937, grad_mean_norm: 73.87631225585938\n",
      "level: 34, step_size: 0.03197485484197809, grad_norm: 37.83974838256836, image_norm: 90.49687194824219, snr: 0.2388266772031784, grad_mean_norm: 73.84291076660156\n",
      "level: 34, step_size: 0.03197485484197809, grad_norm: 37.829811096191406, image_norm: 90.03242492675781, snr: 0.24519553780555725, grad_mean_norm: 73.36433410644531\n",
      "level: 35, step_size: 0.02580133325861554, grad_norm: 42.11017608642578, image_norm: 89.62052154541016, snr: 0.2387232780456543, grad_mean_norm: 73.32544708251953\n",
      "level: 35, step_size: 0.02580133325861554, grad_norm: 42.096038818359375, image_norm: 89.2502212524414, snr: 0.23989129066467285, grad_mean_norm: 72.78280639648438\n",
      "level: 35, step_size: 0.02580133325861554, grad_norm: 42.10237503051758, image_norm: 88.7792739868164, snr: 0.2420235425233841, grad_mean_norm: 72.69937896728516\n",
      "level: 35, step_size: 0.02580133325861554, grad_norm: 42.07826614379883, image_norm: 88.3172836303711, snr: 0.24162974953651428, grad_mean_norm: 73.12714385986328\n",
      "level: 35, step_size: 0.02580133325861554, grad_norm: 42.05046844482422, image_norm: 87.74706268310547, snr: 0.24074997007846832, grad_mean_norm: 72.94981384277344\n",
      "level: 35, step_size: 0.02580133325861554, grad_norm: 42.02708053588867, image_norm: 87.3857421875, snr: 0.23853938281536102, grad_mean_norm: 72.91010284423828\n",
      "level: 35, step_size: 0.02580133325861554, grad_norm: 41.99073791503906, image_norm: 86.99349212646484, snr: 0.24110066890716553, grad_mean_norm: 73.01041412353516\n",
      "level: 35, step_size: 0.02580133325861554, grad_norm: 41.970638275146484, image_norm: 86.6751480102539, snr: 0.2426171600818634, grad_mean_norm: 73.3149642944336\n",
      "level: 35, step_size: 0.02580133325861554, grad_norm: 41.97800827026367, image_norm: 86.22303009033203, snr: 0.24030975997447968, grad_mean_norm: 72.89398956298828\n",
      "level: 35, step_size: 0.02580133325861554, grad_norm: 41.96439743041992, image_norm: 85.8222427368164, snr: 0.24090924859046936, grad_mean_norm: 73.34214782714844\n",
      "level: 36, step_size: 0.020819759814770706, grad_norm: 46.717010498046875, image_norm: 85.52388000488281, snr: 0.24254144728183746, grad_mean_norm: 73.31884002685547\n",
      "level: 36, step_size: 0.020819759814770706, grad_norm: 46.69221878051758, image_norm: 85.15324401855469, snr: 0.24071301519870758, grad_mean_norm: 73.4801254272461\n",
      "level: 36, step_size: 0.020819759814770706, grad_norm: 46.66041564941406, image_norm: 84.78092193603516, snr: 0.2432277947664261, grad_mean_norm: 73.25746154785156\n",
      "level: 36, step_size: 0.020819759814770706, grad_norm: 46.663787841796875, image_norm: 84.43375396728516, snr: 0.24051505327224731, grad_mean_norm: 73.09598541259766\n",
      "level: 36, step_size: 0.020819759814770706, grad_norm: 46.666015625, image_norm: 84.04393005371094, snr: 0.2425602674484253, grad_mean_norm: 73.61165618896484\n",
      "level: 36, step_size: 0.020819759814770706, grad_norm: 46.67061233520508, image_norm: 83.6387710571289, snr: 0.24024935066699982, grad_mean_norm: 74.19252014160156\n",
      "level: 36, step_size: 0.020819759814770706, grad_norm: 46.69282913208008, image_norm: 83.32966613769531, snr: 0.24041029810905457, grad_mean_norm: 74.0108642578125\n",
      "level: 36, step_size: 0.020819759814770706, grad_norm: 46.6812858581543, image_norm: 82.9765625, snr: 0.24346892535686493, grad_mean_norm: 74.47440338134766\n",
      "level: 36, step_size: 0.020819759814770706, grad_norm: 46.665748596191406, image_norm: 82.58151245117188, snr: 0.24061891436576843, grad_mean_norm: 74.68241882324219\n",
      "level: 36, step_size: 0.020819759814770706, grad_norm: 46.63923263549805, image_norm: 82.24584197998047, snr: 0.24171683192253113, grad_mean_norm: 74.55471801757812\n",
      "level: 37, step_size: 0.016799999999999968, grad_norm: 51.91324996948242, image_norm: 81.94561767578125, snr: 0.2409730851650238, grad_mean_norm: 74.8626480102539\n",
      "level: 37, step_size: 0.016799999999999968, grad_norm: 51.90741729736328, image_norm: 81.58552551269531, snr: 0.23985253274440765, grad_mean_norm: 74.98887634277344\n",
      "level: 37, step_size: 0.016799999999999968, grad_norm: 51.914710998535156, image_norm: 81.22960662841797, snr: 0.24208903312683105, grad_mean_norm: 75.41826629638672\n",
      "level: 37, step_size: 0.016799999999999968, grad_norm: 51.92171859741211, image_norm: 80.93859100341797, snr: 0.24526041746139526, grad_mean_norm: 75.28817749023438\n",
      "level: 37, step_size: 0.016799999999999968, grad_norm: 51.9279899597168, image_norm: 80.51844787597656, snr: 0.24052105844020844, grad_mean_norm: 75.2936782836914\n",
      "level: 37, step_size: 0.016799999999999968, grad_norm: 51.93061065673828, image_norm: 80.10625457763672, snr: 0.2437145859003067, grad_mean_norm: 75.14685821533203\n",
      "level: 37, step_size: 0.016799999999999968, grad_norm: 51.925758361816406, image_norm: 79.75390625, snr: 0.23875591158866882, grad_mean_norm: 75.27080535888672\n",
      "level: 37, step_size: 0.016799999999999968, grad_norm: 51.903663635253906, image_norm: 79.43727111816406, snr: 0.23983387649059296, grad_mean_norm: 75.1646957397461\n",
      "level: 37, step_size: 0.016799999999999968, grad_norm: 51.89239501953125, image_norm: 79.07349395751953, snr: 0.24045430123806, grad_mean_norm: 75.19441223144531\n",
      "level: 37, step_size: 0.016799999999999968, grad_norm: 51.88943099975586, image_norm: 78.7353286743164, snr: 0.24390645325183868, grad_mean_norm: 75.19287872314453\n",
      "level: 38, step_size: 0.013556352355216033, grad_norm: 57.733680725097656, image_norm: 78.35444641113281, snr: 0.24038369953632355, grad_mean_norm: 75.44007110595703\n",
      "level: 38, step_size: 0.013556352355216033, grad_norm: 57.71392822265625, image_norm: 77.97887420654297, snr: 0.24264249205589294, grad_mean_norm: 75.14744567871094\n",
      "level: 38, step_size: 0.013556352355216033, grad_norm: 57.681312561035156, image_norm: 77.65342712402344, snr: 0.23849719762802124, grad_mean_norm: 75.03487396240234\n",
      "level: 38, step_size: 0.013556352355216033, grad_norm: 57.66851806640625, image_norm: 77.29074096679688, snr: 0.2372189164161682, grad_mean_norm: 75.18041229248047\n",
      "level: 38, step_size: 0.013556352355216033, grad_norm: 57.6475944519043, image_norm: 76.98268127441406, snr: 0.23839260637760162, grad_mean_norm: 75.19286346435547\n",
      "level: 38, step_size: 0.013556352355216033, grad_norm: 57.6275749206543, image_norm: 76.67296600341797, snr: 0.23902663588523865, grad_mean_norm: 75.29356384277344\n",
      "level: 38, step_size: 0.013556352355216033, grad_norm: 57.63212203979492, image_norm: 76.3276138305664, snr: 0.2417665719985962, grad_mean_norm: 75.4847412109375\n",
      "level: 38, step_size: 0.013556352355216033, grad_norm: 57.62164306640625, image_norm: 75.98585510253906, snr: 0.2395191192626953, grad_mean_norm: 75.54766082763672\n",
      "level: 38, step_size: 0.013556352355216033, grad_norm: 57.62954330444336, image_norm: 75.71749114990234, snr: 0.24383863806724548, grad_mean_norm: 75.8252944946289\n",
      "level: 38, step_size: 0.013556352355216033, grad_norm: 57.62575912475586, image_norm: 75.4368896484375, snr: 0.23565246164798737, grad_mean_norm: 75.93833923339844\n",
      "level: 39, step_size: 0.010938969593974519, grad_norm: 64.13347625732422, image_norm: 75.1579360961914, snr: 0.23935598134994507, grad_mean_norm: 75.96930694580078\n",
      "level: 39, step_size: 0.010938969593974519, grad_norm: 64.12310791015625, image_norm: 74.90169525146484, snr: 0.2432948350906372, grad_mean_norm: 75.76251983642578\n",
      "level: 39, step_size: 0.010938969593974519, grad_norm: 64.12181091308594, image_norm: 74.5367660522461, snr: 0.23991097509860992, grad_mean_norm: 75.65530395507812\n",
      "level: 39, step_size: 0.010938969593974519, grad_norm: 64.12767791748047, image_norm: 74.26810455322266, snr: 0.2382637858390808, grad_mean_norm: 75.55364227294922\n",
      "level: 39, step_size: 0.010938969593974519, grad_norm: 64.13090515136719, image_norm: 73.99053955078125, snr: 0.23954124748706818, grad_mean_norm: 75.58354949951172\n",
      "level: 39, step_size: 0.010938969593974519, grad_norm: 64.0934066772461, image_norm: 73.66136932373047, snr: 0.2394319772720337, grad_mean_norm: 75.72452545166016\n",
      "level: 39, step_size: 0.010938969593974519, grad_norm: 64.08126068115234, image_norm: 73.3542251586914, snr: 0.24321132898330688, grad_mean_norm: 75.78376007080078\n",
      "level: 39, step_size: 0.010938969593974519, grad_norm: 64.04170227050781, image_norm: 73.11388397216797, snr: 0.24092917144298553, grad_mean_norm: 75.49202728271484\n",
      "level: 39, step_size: 0.010938969593974519, grad_norm: 64.03536224365234, image_norm: 72.84949493408203, snr: 0.24015915393829346, grad_mean_norm: 75.77839660644531\n",
      "level: 39, step_size: 0.010938969593974519, grad_norm: 64.03182983398438, image_norm: 72.59376525878906, snr: 0.2407674640417099, grad_mean_norm: 75.54194641113281\n",
      "level: 40, step_size: 0.008826936084459124, grad_norm: 71.29222869873047, image_norm: 72.30975341796875, snr: 0.23609726130962372, grad_mean_norm: 75.41962432861328\n",
      "level: 40, step_size: 0.008826936084459124, grad_norm: 71.2509536743164, image_norm: 71.96289825439453, snr: 0.24110522866249084, grad_mean_norm: 75.25064849853516\n",
      "level: 40, step_size: 0.008826936084459124, grad_norm: 71.22054290771484, image_norm: 71.68831634521484, snr: 0.23877115547657013, grad_mean_norm: 75.25562286376953\n",
      "level: 40, step_size: 0.008826936084459124, grad_norm: 71.21116638183594, image_norm: 71.42171478271484, snr: 0.24064359068870544, grad_mean_norm: 74.98787689208984\n",
      "level: 40, step_size: 0.008826936084459124, grad_norm: 71.2015609741211, image_norm: 71.1947250366211, snr: 0.23915250599384308, grad_mean_norm: 74.88126373291016\n",
      "level: 40, step_size: 0.008826936084459124, grad_norm: 71.17552947998047, image_norm: 70.92326354980469, snr: 0.23714086413383484, grad_mean_norm: 74.65337371826172\n",
      "level: 40, step_size: 0.008826936084459124, grad_norm: 71.18675994873047, image_norm: 70.7038345336914, snr: 0.237257719039917, grad_mean_norm: 74.70448303222656\n",
      "level: 40, step_size: 0.008826936084459124, grad_norm: 71.19349670410156, image_norm: 70.42942810058594, snr: 0.23780234158039093, grad_mean_norm: 74.74839782714844\n",
      "level: 40, step_size: 0.008826936084459124, grad_norm: 71.2005844116211, image_norm: 70.12621307373047, snr: 0.23844695091247559, grad_mean_norm: 74.73136901855469\n",
      "level: 40, step_size: 0.008826936084459124, grad_norm: 71.18584442138672, image_norm: 69.8874282836914, snr: 0.2384527623653412, grad_mean_norm: 74.81517791748047\n",
      "level: 41, step_size: 0.007122681891541624, grad_norm: 79.20613861083984, image_norm: 69.62797546386719, snr: 0.23761031031608582, grad_mean_norm: 74.7243881225586\n",
      "level: 41, step_size: 0.007122681891541624, grad_norm: 79.18214416503906, image_norm: 69.39986419677734, snr: 0.23703411221504211, grad_mean_norm: 74.84191131591797\n",
      "level: 41, step_size: 0.007122681891541624, grad_norm: 79.16046142578125, image_norm: 69.15962982177734, snr: 0.23897051811218262, grad_mean_norm: 74.62026977539062\n",
      "level: 41, step_size: 0.007122681891541624, grad_norm: 79.14656829833984, image_norm: 68.90192413330078, snr: 0.23477168381214142, grad_mean_norm: 74.63199615478516\n",
      "level: 41, step_size: 0.007122681891541624, grad_norm: 79.12017822265625, image_norm: 68.65673065185547, snr: 0.23724369704723358, grad_mean_norm: 74.68569946289062\n",
      "level: 41, step_size: 0.007122681891541624, grad_norm: 79.08434295654297, image_norm: 68.4007797241211, snr: 0.24066488444805145, grad_mean_norm: 74.73809051513672\n",
      "level: 41, step_size: 0.007122681891541624, grad_norm: 79.04215240478516, image_norm: 68.19966125488281, snr: 0.23792624473571777, grad_mean_norm: 74.54337310791016\n",
      "level: 41, step_size: 0.007122681891541624, grad_norm: 79.02730560302734, image_norm: 67.96292114257812, snr: 0.23910725116729736, grad_mean_norm: 74.62806701660156\n",
      "level: 41, step_size: 0.007122681891541624, grad_norm: 78.98140716552734, image_norm: 67.7582778930664, snr: 0.2405557632446289, grad_mean_norm: 74.26779174804688\n",
      "level: 41, step_size: 0.007122681891541624, grad_norm: 78.98052215576172, image_norm: 67.51185607910156, snr: 0.23892146348953247, grad_mean_norm: 74.2909927368164\n",
      "level: 42, step_size: 0.005747475323562801, grad_norm: 87.89928436279297, image_norm: 67.30552673339844, snr: 0.23484031856060028, grad_mean_norm: 74.27735137939453\n",
      "level: 42, step_size: 0.005747475323562801, grad_norm: 87.87771606445312, image_norm: 67.06956481933594, snr: 0.23880749940872192, grad_mean_norm: 74.14639282226562\n",
      "level: 42, step_size: 0.005747475323562801, grad_norm: 87.91588592529297, image_norm: 66.8833999633789, snr: 0.23367559909820557, grad_mean_norm: 73.88636016845703\n",
      "level: 42, step_size: 0.005747475323562801, grad_norm: 87.91143798828125, image_norm: 66.68037414550781, snr: 0.23602814972400665, grad_mean_norm: 73.86168670654297\n",
      "level: 42, step_size: 0.005747475323562801, grad_norm: 87.90585327148438, image_norm: 66.45491027832031, snr: 0.24009716510772705, grad_mean_norm: 73.78632354736328\n",
      "level: 42, step_size: 0.005747475323562801, grad_norm: 87.92296600341797, image_norm: 66.23834991455078, snr: 0.23863263428211212, grad_mean_norm: 73.80726623535156\n",
      "level: 42, step_size: 0.005747475323562801, grad_norm: 87.91930389404297, image_norm: 66.01195526123047, snr: 0.24110223352909088, grad_mean_norm: 73.54612731933594\n",
      "level: 42, step_size: 0.005747475323562801, grad_norm: 87.9019775390625, image_norm: 65.78504180908203, snr: 0.2373390942811966, grad_mean_norm: 73.61871337890625\n",
      "level: 42, step_size: 0.005747475323562801, grad_norm: 87.83092498779297, image_norm: 65.5476303100586, snr: 0.239249125123024, grad_mean_norm: 73.2837905883789\n",
      "level: 42, step_size: 0.005747475323562801, grad_norm: 87.77457427978516, image_norm: 65.3634033203125, snr: 0.23891320824623108, grad_mean_norm: 73.26472473144531\n",
      "level: 43, step_size: 0.004637785752328972, grad_norm: 97.67327880859375, image_norm: 65.17593383789062, snr: 0.23718897998332977, grad_mean_norm: 73.35498809814453\n",
      "level: 43, step_size: 0.004637785752328972, grad_norm: 97.64840698242188, image_norm: 64.97223663330078, snr: 0.23439042270183563, grad_mean_norm: 73.10767364501953\n",
      "level: 43, step_size: 0.004637785752328972, grad_norm: 97.63618469238281, image_norm: 64.7818832397461, snr: 0.23919248580932617, grad_mean_norm: 73.00517272949219\n",
      "level: 43, step_size: 0.004637785752328972, grad_norm: 97.60118865966797, image_norm: 64.6099853515625, snr: 0.23733976483345032, grad_mean_norm: 72.94048309326172\n",
      "level: 43, step_size: 0.004637785752328972, grad_norm: 97.5614242553711, image_norm: 64.405029296875, snr: 0.24246126413345337, grad_mean_norm: 73.00701141357422\n",
      "level: 43, step_size: 0.004637785752328972, grad_norm: 97.57728576660156, image_norm: 64.20884704589844, snr: 0.23198959231376648, grad_mean_norm: 73.18504333496094\n",
      "level: 43, step_size: 0.004637785752328972, grad_norm: 97.54740905761719, image_norm: 63.980812072753906, snr: 0.23742009699344635, grad_mean_norm: 73.19670867919922\n",
      "level: 43, step_size: 0.004637785752328972, grad_norm: 97.50484466552734, image_norm: 63.784053802490234, snr: 0.2350129783153534, grad_mean_norm: 72.9118423461914\n",
      "level: 43, step_size: 0.004637785752328972, grad_norm: 97.47185516357422, image_norm: 63.59853744506836, snr: 0.23747292160987854, grad_mean_norm: 72.79297637939453\n",
      "level: 43, step_size: 0.004637785752328972, grad_norm: 97.44876861572266, image_norm: 63.41103744506836, snr: 0.23439770936965942, grad_mean_norm: 73.0162353515625\n",
      "level: 44, step_size: 0.0037423486789626465, grad_norm: 108.45063781738281, image_norm: 63.24435043334961, snr: 0.23798157274723053, grad_mean_norm: 72.94561767578125\n",
      "level: 44, step_size: 0.0037423486789626465, grad_norm: 108.4207992553711, image_norm: 63.06020736694336, snr: 0.23676738142967224, grad_mean_norm: 72.94876098632812\n",
      "level: 44, step_size: 0.0037423486789626465, grad_norm: 108.4185791015625, image_norm: 62.88715744018555, snr: 0.24050945043563843, grad_mean_norm: 72.93461608886719\n",
      "level: 44, step_size: 0.0037423486789626465, grad_norm: 108.38038635253906, image_norm: 62.694679260253906, snr: 0.23454008996486664, grad_mean_norm: 72.84748077392578\n",
      "level: 44, step_size: 0.0037423486789626465, grad_norm: 108.37538146972656, image_norm: 62.49506759643555, snr: 0.2407587617635727, grad_mean_norm: 72.76114654541016\n",
      "level: 44, step_size: 0.0037423486789626465, grad_norm: 108.37690734863281, image_norm: 62.30743408203125, snr: 0.236026793718338, grad_mean_norm: 72.87089538574219\n",
      "level: 44, step_size: 0.0037423486789626465, grad_norm: 108.34020233154297, image_norm: 62.12604904174805, snr: 0.23716063797473907, grad_mean_norm: 72.55448913574219\n",
      "level: 44, step_size: 0.0037423486789626465, grad_norm: 108.2992935180664, image_norm: 61.9464111328125, snr: 0.2384854555130005, grad_mean_norm: 72.15789794921875\n",
      "level: 44, step_size: 0.0037423486789626465, grad_norm: 108.32356262207031, image_norm: 61.76979446411133, snr: 0.238153338432312, grad_mean_norm: 72.22512817382812\n",
      "level: 44, step_size: 0.0037423486789626465, grad_norm: 108.340576171875, image_norm: 61.6212158203125, snr: 0.2370409220457077, grad_mean_norm: 72.31797790527344\n",
      "level: 45, step_size: 0.0030197974600056528, grad_norm: 120.5704116821289, image_norm: 61.48966598510742, snr: 0.23613721132278442, grad_mean_norm: 72.29383850097656\n",
      "level: 45, step_size: 0.0030197974600056528, grad_norm: 120.52706146240234, image_norm: 61.3330192565918, snr: 0.23628506064414978, grad_mean_norm: 72.09498596191406\n",
      "level: 45, step_size: 0.0030197974600056528, grad_norm: 120.5308837890625, image_norm: 61.17792892456055, snr: 0.2361980378627777, grad_mean_norm: 72.08710479736328\n",
      "level: 45, step_size: 0.0030197974600056528, grad_norm: 120.51496887207031, image_norm: 61.02099609375, snr: 0.236381396651268, grad_mean_norm: 72.06647491455078\n",
      "level: 45, step_size: 0.0030197974600056528, grad_norm: 120.50410461425781, image_norm: 60.86669921875, snr: 0.2345217764377594, grad_mean_norm: 71.9941635131836\n",
      "level: 45, step_size: 0.0030197974600056528, grad_norm: 120.49053192138672, image_norm: 60.676612854003906, snr: 0.2377721518278122, grad_mean_norm: 71.87700653076172\n",
      "level: 45, step_size: 0.0030197974600056528, grad_norm: 120.4654769897461, image_norm: 60.51152420043945, snr: 0.23858040571212769, grad_mean_norm: 71.86878204345703\n",
      "level: 45, step_size: 0.0030197974600056528, grad_norm: 120.48918914794922, image_norm: 60.356380462646484, snr: 0.23721934854984283, grad_mean_norm: 72.11366271972656\n",
      "level: 45, step_size: 0.0030197974600056528, grad_norm: 120.4963150024414, image_norm: 60.20673370361328, snr: 0.23671771585941315, grad_mean_norm: 72.06755065917969\n",
      "level: 45, step_size: 0.0030197974600056528, grad_norm: 120.45184326171875, image_norm: 60.0765380859375, snr: 0.23322626948356628, grad_mean_norm: 71.97647857666016\n",
      "level: 46, step_size: 0.0024367522862632843, grad_norm: 134.0686798095703, image_norm: 59.95050811767578, snr: 0.24205172061920166, grad_mean_norm: 71.67546081542969\n",
      "level: 46, step_size: 0.0024367522862632843, grad_norm: 134.0398406982422, image_norm: 59.80207443237305, snr: 0.2354428470134735, grad_mean_norm: 71.73426055908203\n",
      "level: 46, step_size: 0.0024367522862632843, grad_norm: 134.0329132080078, image_norm: 59.65034866333008, snr: 0.23794183135032654, grad_mean_norm: 71.64098358154297\n",
      "level: 46, step_size: 0.0024367522862632843, grad_norm: 134.07484436035156, image_norm: 59.4708251953125, snr: 0.23214489221572876, grad_mean_norm: 71.7305679321289\n",
      "level: 46, step_size: 0.0024367522862632843, grad_norm: 134.0828857421875, image_norm: 59.33667755126953, snr: 0.23979270458221436, grad_mean_norm: 71.51541900634766\n",
      "level: 46, step_size: 0.0024367522862632843, grad_norm: 134.0515899658203, image_norm: 59.17822265625, snr: 0.234225794672966, grad_mean_norm: 71.67109680175781\n",
      "level: 46, step_size: 0.0024367522862632843, grad_norm: 134.00228881835938, image_norm: 59.0869026184082, snr: 0.23781715333461761, grad_mean_norm: 71.86936950683594\n",
      "level: 46, step_size: 0.0024367522862632843, grad_norm: 133.9256134033203, image_norm: 58.96598434448242, snr: 0.2337096482515335, grad_mean_norm: 71.8712158203125\n",
      "level: 46, step_size: 0.0024367522862632843, grad_norm: 133.9022674560547, image_norm: 58.81072998046875, snr: 0.23386196792125702, grad_mean_norm: 71.6160888671875\n",
      "level: 46, step_size: 0.0024367522862632843, grad_norm: 133.8375701904297, image_norm: 58.67341232299805, snr: 0.2361254245042801, grad_mean_norm: 71.48692321777344\n",
      "level: 47, step_size: 0.0019662781306525826, grad_norm: 148.97398376464844, image_norm: 58.5380744934082, snr: 0.2357424646615982, grad_mean_norm: 71.2776870727539\n",
      "level: 47, step_size: 0.0019662781306525826, grad_norm: 148.9796600341797, image_norm: 58.389923095703125, snr: 0.23259203135967255, grad_mean_norm: 71.40414428710938\n",
      "level: 47, step_size: 0.0019662781306525826, grad_norm: 149.0019989013672, image_norm: 58.25276565551758, snr: 0.2361212521791458, grad_mean_norm: 71.52049255371094\n",
      "level: 47, step_size: 0.0019662781306525826, grad_norm: 148.97421264648438, image_norm: 58.124542236328125, snr: 0.23549632728099823, grad_mean_norm: 71.48853302001953\n",
      "level: 47, step_size: 0.0019662781306525826, grad_norm: 148.9733428955078, image_norm: 57.96624755859375, snr: 0.23585322499275208, grad_mean_norm: 71.5513687133789\n",
      "level: 47, step_size: 0.0019662781306525826, grad_norm: 148.9603271484375, image_norm: 57.83172607421875, snr: 0.23677922785282135, grad_mean_norm: 71.59896850585938\n",
      "level: 47, step_size: 0.0019662781306525826, grad_norm: 148.94863891601562, image_norm: 57.70215606689453, snr: 0.2358255535364151, grad_mean_norm: 71.41790008544922\n",
      "level: 47, step_size: 0.0019662781306525826, grad_norm: 148.931640625, image_norm: 57.57947540283203, snr: 0.23606307804584503, grad_mean_norm: 71.38194274902344\n",
      "level: 47, step_size: 0.0019662781306525826, grad_norm: 148.86338806152344, image_norm: 57.444393157958984, snr: 0.23871596157550812, grad_mean_norm: 71.36809539794922\n",
      "level: 47, step_size: 0.0019662781306525826, grad_norm: 148.88223266601562, image_norm: 57.335445404052734, snr: 0.24128617346286774, grad_mean_norm: 71.45817565917969\n",
      "level: 48, step_size: 0.001586640426635834, grad_norm: 165.76097106933594, image_norm: 57.2211799621582, snr: 0.23365335166454315, grad_mean_norm: 71.5895004272461\n",
      "level: 48, step_size: 0.001586640426635834, grad_norm: 165.7811279296875, image_norm: 57.09162139892578, snr: 0.23482352495193481, grad_mean_norm: 71.56050872802734\n",
      "level: 48, step_size: 0.001586640426635834, grad_norm: 165.8181610107422, image_norm: 56.989192962646484, snr: 0.23526830971240997, grad_mean_norm: 71.55537414550781\n",
      "level: 48, step_size: 0.001586640426635834, grad_norm: 165.7550506591797, image_norm: 56.8799934387207, snr: 0.2345469892024994, grad_mean_norm: 71.2256851196289\n",
      "level: 48, step_size: 0.001586640426635834, grad_norm: 165.6764373779297, image_norm: 56.770790100097656, snr: 0.23636123538017273, grad_mean_norm: 71.24130249023438\n",
      "level: 48, step_size: 0.001586640426635834, grad_norm: 165.7247314453125, image_norm: 56.652015686035156, snr: 0.23745045065879822, grad_mean_norm: 71.11616516113281\n",
      "level: 48, step_size: 0.001586640426635834, grad_norm: 165.7194366455078, image_norm: 56.54105758666992, snr: 0.23489995300769806, grad_mean_norm: 71.19093322753906\n",
      "level: 48, step_size: 0.001586640426635834, grad_norm: 165.6916046142578, image_norm: 56.430999755859375, snr: 0.23560117185115814, grad_mean_norm: 71.22322082519531\n",
      "level: 48, step_size: 0.001586640426635834, grad_norm: 165.64060974121094, image_norm: 56.29168701171875, snr: 0.2371077984571457, grad_mean_norm: 71.24224853515625\n",
      "level: 48, step_size: 0.001586640426635834, grad_norm: 165.70497131347656, image_norm: 56.14119338989258, snr: 0.23828352987766266, grad_mean_norm: 70.90843200683594\n",
      "level: 49, step_size: 0.0012803009931253392, grad_norm: 184.41587829589844, image_norm: 56.0418815612793, snr: 0.23830758035182953, grad_mean_norm: 71.00602722167969\n",
      "level: 49, step_size: 0.0012803009931253392, grad_norm: 184.39414978027344, image_norm: 55.941986083984375, snr: 0.23570281267166138, grad_mean_norm: 71.05523681640625\n",
      "level: 49, step_size: 0.0012803009931253392, grad_norm: 184.3894500732422, image_norm: 55.83602523803711, snr: 0.23519210517406464, grad_mean_norm: 70.96394348144531\n",
      "level: 49, step_size: 0.0012803009931253392, grad_norm: 184.38510131835938, image_norm: 55.72933578491211, snr: 0.23688818514347076, grad_mean_norm: 70.87600708007812\n",
      "level: 49, step_size: 0.0012803009931253392, grad_norm: 184.3832244873047, image_norm: 55.626258850097656, snr: 0.23538586497306824, grad_mean_norm: 71.0000991821289\n",
      "level: 49, step_size: 0.0012803009931253392, grad_norm: 184.3349609375, image_norm: 55.5190544128418, snr: 0.23263686895370483, grad_mean_norm: 71.09284973144531\n",
      "level: 49, step_size: 0.0012803009931253392, grad_norm: 184.3040771484375, image_norm: 55.4256706237793, snr: 0.23572349548339844, grad_mean_norm: 71.12230682373047\n",
      "level: 49, step_size: 0.0012803009931253392, grad_norm: 184.3436737060547, image_norm: 55.31453323364258, snr: 0.23472221195697784, grad_mean_norm: 70.99357604980469\n",
      "level: 49, step_size: 0.0012803009931253392, grad_norm: 184.34725952148438, image_norm: 55.221473693847656, snr: 0.2378808557987213, grad_mean_norm: 71.09302520751953\n",
      "level: 49, step_size: 0.0012803009931253392, grad_norm: 184.3638458251953, image_norm: 55.135353088378906, snr: 0.23255176842212677, grad_mean_norm: 71.22306060791016\n",
      "level: 50, step_size: 0.0010331078204488184, grad_norm: 205.20970153808594, image_norm: 55.030311584472656, snr: 0.23881953954696655, grad_mean_norm: 71.23899841308594\n",
      "level: 50, step_size: 0.0010331078204488184, grad_norm: 205.2021484375, image_norm: 54.9476203918457, snr: 0.2328210175037384, grad_mean_norm: 71.25467681884766\n",
      "level: 50, step_size: 0.0010331078204488184, grad_norm: 205.19163513183594, image_norm: 54.86466598510742, snr: 0.23731057345867157, grad_mean_norm: 71.18733978271484\n",
      "level: 50, step_size: 0.0010331078204488184, grad_norm: 205.186279296875, image_norm: 54.79098129272461, snr: 0.23579081892967224, grad_mean_norm: 71.13134765625\n",
      "level: 50, step_size: 0.0010331078204488184, grad_norm: 205.162841796875, image_norm: 54.69287109375, snr: 0.23328569531440735, grad_mean_norm: 71.1676254272461\n",
      "level: 50, step_size: 0.0010331078204488184, grad_norm: 205.16445922851562, image_norm: 54.58366775512695, snr: 0.2336895763874054, grad_mean_norm: 71.12442779541016\n",
      "level: 50, step_size: 0.0010331078204488184, grad_norm: 205.08340454101562, image_norm: 54.49862289428711, snr: 0.23735585808753967, grad_mean_norm: 71.02436065673828\n",
      "level: 50, step_size: 0.0010331078204488184, grad_norm: 205.12071228027344, image_norm: 54.39569091796875, snr: 0.2344270497560501, grad_mean_norm: 70.91527557373047\n",
      "level: 50, step_size: 0.0010331078204488184, grad_norm: 205.09719848632812, image_norm: 54.28902816772461, snr: 0.23565727472305298, grad_mean_norm: 71.20691680908203\n",
      "level: 50, step_size: 0.0010331078204488184, grad_norm: 205.0634307861328, image_norm: 54.168800354003906, snr: 0.23798157274723053, grad_mean_norm: 71.17689514160156\n",
      "level: 51, step_size: 0.0008336412877936603, grad_norm: 228.2795867919922, image_norm: 54.06853103637695, snr: 0.23519638180732727, grad_mean_norm: 71.1729507446289\n",
      "level: 51, step_size: 0.0008336412877936603, grad_norm: 228.26724243164062, image_norm: 53.97607421875, snr: 0.2363336831331253, grad_mean_norm: 71.19985961914062\n",
      "level: 51, step_size: 0.0008336412877936603, grad_norm: 228.25865173339844, image_norm: 53.880245208740234, snr: 0.2342839539051056, grad_mean_norm: 71.30083465576172\n",
      "level: 51, step_size: 0.0008336412877936603, grad_norm: 228.240234375, image_norm: 53.790157318115234, snr: 0.23684215545654297, grad_mean_norm: 71.46817016601562\n",
      "level: 51, step_size: 0.0008336412877936603, grad_norm: 228.23696899414062, image_norm: 53.717201232910156, snr: 0.23765338957309723, grad_mean_norm: 71.30670928955078\n",
      "level: 51, step_size: 0.0008336412877936603, grad_norm: 228.18699645996094, image_norm: 53.63720703125, snr: 0.23382583260536194, grad_mean_norm: 71.22845458984375\n",
      "level: 51, step_size: 0.0008336412877936603, grad_norm: 228.203857421875, image_norm: 53.55009841918945, snr: 0.23608694970607758, grad_mean_norm: 71.17329406738281\n",
      "level: 51, step_size: 0.0008336412877936603, grad_norm: 228.19749450683594, image_norm: 53.4522590637207, snr: 0.2352960854768753, grad_mean_norm: 71.12551879882812\n",
      "level: 51, step_size: 0.0008336412877936603, grad_norm: 228.1438446044922, image_norm: 53.3699836730957, snr: 0.2363884449005127, grad_mean_norm: 71.2448501586914\n",
      "level: 51, step_size: 0.0008336412877936603, grad_norm: 228.1441192626953, image_norm: 53.276119232177734, snr: 0.23529227077960968, grad_mean_norm: 71.28084564208984\n",
      "level: 52, step_size: 0.0006726866092373174, grad_norm: 253.9943084716797, image_norm: 53.20435333251953, snr: 0.23616455495357513, grad_mean_norm: 71.27572631835938\n",
      "level: 52, step_size: 0.0006726866092373174, grad_norm: 254.0317840576172, image_norm: 53.13142013549805, snr: 0.23592232167720795, grad_mean_norm: 71.17467498779297\n",
      "level: 52, step_size: 0.0006726866092373174, grad_norm: 254.01455688476562, image_norm: 53.04352951049805, snr: 0.23750180006027222, grad_mean_norm: 71.01978302001953\n",
      "level: 52, step_size: 0.0006726866092373174, grad_norm: 253.99717712402344, image_norm: 52.97037887573242, snr: 0.2320411503314972, grad_mean_norm: 71.11549377441406\n",
      "level: 52, step_size: 0.0006726866092373174, grad_norm: 254.00840759277344, image_norm: 52.90067672729492, snr: 0.23288774490356445, grad_mean_norm: 71.14752960205078\n",
      "level: 52, step_size: 0.0006726866092373174, grad_norm: 254.02293395996094, image_norm: 52.816932678222656, snr: 0.23611971735954285, grad_mean_norm: 71.10887908935547\n",
      "level: 52, step_size: 0.0006726866092373174, grad_norm: 253.9792022705078, image_norm: 52.7491455078125, snr: 0.23509442806243896, grad_mean_norm: 71.02276611328125\n",
      "level: 52, step_size: 0.0006726866092373174, grad_norm: 253.99429321289062, image_norm: 52.66511154174805, snr: 0.232232466340065, grad_mean_norm: 71.05591583251953\n",
      "level: 52, step_size: 0.0006726866092373174, grad_norm: 253.96157836914062, image_norm: 52.589454650878906, snr: 0.23582160472869873, grad_mean_norm: 71.06341552734375\n",
      "level: 52, step_size: 0.0006726866092373174, grad_norm: 253.9107208251953, image_norm: 52.504005432128906, snr: 0.2373950183391571, grad_mean_norm: 71.08091735839844\n",
      "level: 53, step_size: 0.0005428081368724175, grad_norm: 282.5450439453125, image_norm: 52.434242248535156, snr: 0.23622046411037445, grad_mean_norm: 71.05787658691406\n",
      "level: 53, step_size: 0.0005428081368724175, grad_norm: 282.5061950683594, image_norm: 52.3726806640625, snr: 0.23315966129302979, grad_mean_norm: 70.8877182006836\n",
      "level: 53, step_size: 0.0005428081368724175, grad_norm: 282.5194396972656, image_norm: 52.31165313720703, snr: 0.2361130714416504, grad_mean_norm: 70.9689712524414\n",
      "level: 53, step_size: 0.0005428081368724175, grad_norm: 282.4316101074219, image_norm: 52.251861572265625, snr: 0.23551160097122192, grad_mean_norm: 70.92615509033203\n",
      "level: 53, step_size: 0.0005428081368724175, grad_norm: 282.34552001953125, image_norm: 52.17684555053711, snr: 0.23625297844409943, grad_mean_norm: 70.8475341796875\n",
      "level: 53, step_size: 0.0005428081368724175, grad_norm: 282.3326416015625, image_norm: 52.121070861816406, snr: 0.2332194745540619, grad_mean_norm: 70.86093139648438\n",
      "level: 53, step_size: 0.0005428081368724175, grad_norm: 282.3587341308594, image_norm: 52.05073165893555, snr: 0.23367290198802948, grad_mean_norm: 70.77223205566406\n",
      "level: 53, step_size: 0.0005428081368724175, grad_norm: 282.3269348144531, image_norm: 51.98311233520508, snr: 0.23600830137729645, grad_mean_norm: 70.7778549194336\n",
      "level: 53, step_size: 0.0005428081368724175, grad_norm: 282.286376953125, image_norm: 51.91144943237305, snr: 0.2327636480331421, grad_mean_norm: 70.87271118164062\n",
      "level: 53, step_size: 0.0005428081368724175, grad_norm: 282.2536315917969, image_norm: 51.849609375, snr: 0.23374170064926147, grad_mean_norm: 70.86165618896484\n",
      "level: 54, step_size: 0.0004380058550429069, grad_norm: 314.2946472167969, image_norm: 51.79736328125, snr: 0.2377711832523346, grad_mean_norm: 70.86181640625\n",
      "level: 54, step_size: 0.0004380058550429069, grad_norm: 314.3037109375, image_norm: 51.7352294921875, snr: 0.23738150298595428, grad_mean_norm: 70.90113830566406\n",
      "level: 54, step_size: 0.0004380058550429069, grad_norm: 314.3302917480469, image_norm: 51.676177978515625, snr: 0.23479269444942474, grad_mean_norm: 70.87435150146484\n",
      "level: 54, step_size: 0.0004380058550429069, grad_norm: 314.2719421386719, image_norm: 51.61890411376953, snr: 0.23601895570755005, grad_mean_norm: 70.8370361328125\n",
      "level: 54, step_size: 0.0004380058550429069, grad_norm: 314.2040710449219, image_norm: 51.556819915771484, snr: 0.23523318767547607, grad_mean_norm: 70.88619232177734\n",
      "level: 54, step_size: 0.0004380058550429069, grad_norm: 314.1869201660156, image_norm: 51.48720169067383, snr: 0.23025818169116974, grad_mean_norm: 70.81333923339844\n",
      "level: 54, step_size: 0.0004380058550429069, grad_norm: 314.1820373535156, image_norm: 51.434814453125, snr: 0.23607710003852844, grad_mean_norm: 70.8211669921875\n",
      "level: 54, step_size: 0.0004380058550429069, grad_norm: 314.1298828125, image_norm: 51.36970138549805, snr: 0.23407554626464844, grad_mean_norm: 70.76237487792969\n",
      "level: 54, step_size: 0.0004380058550429069, grad_norm: 314.12701416015625, image_norm: 51.2962532043457, snr: 0.2343193143606186, grad_mean_norm: 70.90829467773438\n",
      "level: 54, step_size: 0.0004380058550429069, grad_norm: 314.1436462402344, image_norm: 51.22086715698242, snr: 0.23323854804039001, grad_mean_norm: 70.81542205810547\n",
      "level: 55, step_size: 0.00035343819670293717, grad_norm: 349.70660400390625, image_norm: 51.16340255737305, snr: 0.23513756692409515, grad_mean_norm: 70.74690246582031\n",
      "level: 55, step_size: 0.00035343819670293717, grad_norm: 349.7113342285156, image_norm: 51.11360549926758, snr: 0.2322913557291031, grad_mean_norm: 70.65474700927734\n",
      "level: 55, step_size: 0.00035343819670293717, grad_norm: 349.63555908203125, image_norm: 51.05854034423828, snr: 0.23371459543704987, grad_mean_norm: 70.61817932128906\n",
      "level: 55, step_size: 0.00035343819670293717, grad_norm: 349.6540832519531, image_norm: 51.016204833984375, snr: 0.23362943530082703, grad_mean_norm: 70.60181427001953\n",
      "level: 55, step_size: 0.00035343819670293717, grad_norm: 349.6536560058594, image_norm: 50.954490661621094, snr: 0.23371975123882294, grad_mean_norm: 70.72515869140625\n",
      "level: 55, step_size: 0.00035343819670293717, grad_norm: 349.6852722167969, image_norm: 50.89918518066406, snr: 0.23447054624557495, grad_mean_norm: 70.69839477539062\n",
      "level: 55, step_size: 0.00035343819670293717, grad_norm: 349.6832580566406, image_norm: 50.83623504638672, snr: 0.23735462129116058, grad_mean_norm: 70.7162094116211\n",
      "level: 55, step_size: 0.00035343819670293717, grad_norm: 349.71148681640625, image_norm: 50.784507751464844, snr: 0.23278754949569702, grad_mean_norm: 70.7275619506836\n",
      "level: 55, step_size: 0.00035343819670293717, grad_norm: 349.6314392089844, image_norm: 50.72932815551758, snr: 0.23196633160114288, grad_mean_norm: 70.73033905029297\n",
      "level: 55, step_size: 0.00035343819670293717, grad_norm: 349.6075134277344, image_norm: 50.669185638427734, snr: 0.2355750948190689, grad_mean_norm: 70.72544860839844\n",
      "level: 56, step_size: 0.00028519837680340355, grad_norm: 389.1601257324219, image_norm: 50.614471435546875, snr: 0.23811909556388855, grad_mean_norm: 70.69361114501953\n",
      "level: 56, step_size: 0.00028519837680340355, grad_norm: 389.153564453125, image_norm: 50.5740852355957, snr: 0.23708570003509521, grad_mean_norm: 70.5671615600586\n",
      "level: 56, step_size: 0.00028519837680340355, grad_norm: 389.1644592285156, image_norm: 50.526485443115234, snr: 0.23507969081401825, grad_mean_norm: 70.74105072021484\n",
      "level: 56, step_size: 0.00028519837680340355, grad_norm: 389.1366882324219, image_norm: 50.4804801940918, snr: 0.23520097136497498, grad_mean_norm: 70.63072204589844\n",
      "level: 56, step_size: 0.00028519837680340355, grad_norm: 389.15582275390625, image_norm: 50.422847747802734, snr: 0.23437584936618805, grad_mean_norm: 70.71926879882812\n",
      "level: 56, step_size: 0.00028519837680340355, grad_norm: 389.16790771484375, image_norm: 50.369503021240234, snr: 0.23482748866081238, grad_mean_norm: 70.7552490234375\n",
      "level: 56, step_size: 0.00028519837680340355, grad_norm: 389.1197509765625, image_norm: 50.3142204284668, snr: 0.23315852880477905, grad_mean_norm: 70.70396423339844\n",
      "level: 56, step_size: 0.00028519837680340355, grad_norm: 389.1171569824219, image_norm: 50.25794219970703, snr: 0.2335742712020874, grad_mean_norm: 70.49629211425781\n",
      "level: 56, step_size: 0.00028519837680340355, grad_norm: 389.0715026855469, image_norm: 50.2066764831543, snr: 0.23403704166412354, grad_mean_norm: 70.3704605102539\n",
      "level: 56, step_size: 0.00028519837680340355, grad_norm: 389.05767822265625, image_norm: 50.162384033203125, snr: 0.23260173201560974, grad_mean_norm: 70.33483123779297\n",
      "level: 57, step_size: 0.0002301339099453938, grad_norm: 433.1380920410156, image_norm: 50.11935043334961, snr: 0.23928023874759674, grad_mean_norm: 70.37519073486328\n",
      "level: 57, step_size: 0.0002301339099453938, grad_norm: 433.1309509277344, image_norm: 50.076995849609375, snr: 0.23466625809669495, grad_mean_norm: 70.3846206665039\n",
      "level: 57, step_size: 0.0002301339099453938, grad_norm: 433.1479187011719, image_norm: 50.02756881713867, snr: 0.23482513427734375, grad_mean_norm: 70.42003631591797\n",
      "level: 57, step_size: 0.0002301339099453938, grad_norm: 433.119140625, image_norm: 49.9866943359375, snr: 0.23519158363342285, grad_mean_norm: 70.50753021240234\n",
      "level: 57, step_size: 0.0002301339099453938, grad_norm: 433.11798095703125, image_norm: 49.932979583740234, snr: 0.237375870347023, grad_mean_norm: 70.50836944580078\n",
      "level: 57, step_size: 0.0002301339099453938, grad_norm: 433.13555908203125, image_norm: 49.88584518432617, snr: 0.2351198047399521, grad_mean_norm: 70.42220306396484\n",
      "level: 57, step_size: 0.0002301339099453938, grad_norm: 433.20166015625, image_norm: 49.83207321166992, snr: 0.23479294776916504, grad_mean_norm: 70.45228576660156\n",
      "level: 57, step_size: 0.0002301339099453938, grad_norm: 433.18194580078125, image_norm: 49.78428649902344, snr: 0.22969356179237366, grad_mean_norm: 70.5016860961914\n",
      "level: 57, step_size: 0.0002301339099453938, grad_norm: 433.0948181152344, image_norm: 49.738224029541016, snr: 0.23182033002376556, grad_mean_norm: 70.53192138671875\n",
      "level: 57, step_size: 0.0002301339099453938, grad_norm: 433.0560607910156, image_norm: 49.692138671875, snr: 0.23654577136039734, grad_mean_norm: 70.51105499267578\n",
      "level: 58, step_size: 0.00018570097452995976, grad_norm: 482.0309753417969, image_norm: 49.65216827392578, snr: 0.23504899442195892, grad_mean_norm: 70.53437042236328\n",
      "level: 58, step_size: 0.00018570097452995976, grad_norm: 481.9924011230469, image_norm: 49.60677719116211, snr: 0.23558935523033142, grad_mean_norm: 70.52979278564453\n",
      "level: 58, step_size: 0.00018570097452995976, grad_norm: 481.9139099121094, image_norm: 49.56793975830078, snr: 0.2316374033689499, grad_mean_norm: 70.50144958496094\n",
      "level: 58, step_size: 0.00018570097452995976, grad_norm: 481.8785095214844, image_norm: 49.51935958862305, snr: 0.23445294797420502, grad_mean_norm: 70.5555191040039\n",
      "level: 58, step_size: 0.00018570097452995976, grad_norm: 481.7909851074219, image_norm: 49.476619720458984, snr: 0.23593299090862274, grad_mean_norm: 70.51702117919922\n",
      "level: 58, step_size: 0.00018570097452995976, grad_norm: 481.7834167480469, image_norm: 49.4376106262207, snr: 0.23403030633926392, grad_mean_norm: 70.53461456298828\n",
      "level: 58, step_size: 0.00018570097452995976, grad_norm: 481.8268127441406, image_norm: 49.39101791381836, snr: 0.23684152960777283, grad_mean_norm: 70.49298858642578\n",
      "level: 58, step_size: 0.00018570097452995976, grad_norm: 481.7646484375, image_norm: 49.344512939453125, snr: 0.23475381731987, grad_mean_norm: 70.46919250488281\n",
      "level: 58, step_size: 0.00018570097452995976, grad_norm: 481.75048828125, image_norm: 49.29793167114258, snr: 0.23598353564739227, grad_mean_norm: 70.45657348632812\n",
      "level: 58, step_size: 0.00018570097452995976, grad_norm: 481.6865234375, image_norm: 49.25634765625, snr: 0.2356424778699875, grad_mean_norm: 70.49200439453125\n",
      "level: 59, step_size: 0.00014984689544256773, grad_norm: 536.2359619140625, image_norm: 49.22163009643555, snr: 0.23670649528503418, grad_mean_norm: 70.42776489257812\n",
      "level: 59, step_size: 0.00014984689544256773, grad_norm: 536.2175903320312, image_norm: 49.17973709106445, snr: 0.23405615985393524, grad_mean_norm: 70.43289947509766\n",
      "level: 59, step_size: 0.00014984689544256773, grad_norm: 536.17529296875, image_norm: 49.141014099121094, snr: 0.23532071709632874, grad_mean_norm: 70.45964050292969\n",
      "level: 59, step_size: 0.00014984689544256773, grad_norm: 536.1633911132812, image_norm: 49.102699279785156, snr: 0.2352500855922699, grad_mean_norm: 70.45470428466797\n",
      "level: 59, step_size: 0.00014984689544256773, grad_norm: 536.1398315429688, image_norm: 49.07398223876953, snr: 0.23307445645332336, grad_mean_norm: 70.38470458984375\n",
      "level: 59, step_size: 0.00014984689544256773, grad_norm: 536.1297607421875, image_norm: 49.0333366394043, snr: 0.23638994991779327, grad_mean_norm: 70.298583984375\n",
      "level: 59, step_size: 0.00014984689544256773, grad_norm: 536.1162719726562, image_norm: 48.99881362915039, snr: 0.23444552719593048, grad_mean_norm: 70.29086303710938\n",
      "level: 59, step_size: 0.00014984689544256773, grad_norm: 536.1693725585938, image_norm: 48.9662971496582, snr: 0.23396550118923187, grad_mean_norm: 70.33221435546875\n",
      "level: 59, step_size: 0.00014984689544256773, grad_norm: 536.18408203125, image_norm: 48.931331634521484, snr: 0.23556174337863922, grad_mean_norm: 70.3720474243164\n",
      "level: 59, step_size: 0.00014984689544256773, grad_norm: 536.1882934570312, image_norm: 48.89742660522461, snr: 0.23414185643196106, grad_mean_norm: 70.36094665527344\n",
      "level: 60, step_size: 0.00012091531630682543, grad_norm: 596.9537963867188, image_norm: 48.86646270751953, snr: 0.23571611940860748, grad_mean_norm: 70.31915283203125\n",
      "level: 60, step_size: 0.00012091531630682543, grad_norm: 596.9736328125, image_norm: 48.8326530456543, snr: 0.23582544922828674, grad_mean_norm: 70.38399505615234\n",
      "level: 60, step_size: 0.00012091531630682543, grad_norm: 596.99853515625, image_norm: 48.797767639160156, snr: 0.23917394876480103, grad_mean_norm: 70.45167541503906\n",
      "level: 60, step_size: 0.00012091531630682543, grad_norm: 596.9662475585938, image_norm: 48.764442443847656, snr: 0.2343703657388687, grad_mean_norm: 70.39775848388672\n",
      "level: 60, step_size: 0.00012091531630682543, grad_norm: 596.9957885742188, image_norm: 48.73012924194336, snr: 0.23285521566867828, grad_mean_norm: 70.47229766845703\n",
      "level: 60, step_size: 0.00012091531630682543, grad_norm: 597.0025634765625, image_norm: 48.69621658325195, snr: 0.23454512655735016, grad_mean_norm: 70.45001220703125\n",
      "level: 60, step_size: 0.00012091531630682543, grad_norm: 596.9697265625, image_norm: 48.66115951538086, snr: 0.23343515396118164, grad_mean_norm: 70.45081329345703\n",
      "level: 60, step_size: 0.00012091531630682543, grad_norm: 596.9678955078125, image_norm: 48.62822341918945, snr: 0.23370501399040222, grad_mean_norm: 70.41097259521484\n",
      "level: 60, step_size: 0.00012091531630682543, grad_norm: 596.9469604492188, image_norm: 48.59861373901367, snr: 0.2328658103942871, grad_mean_norm: 70.38790893554688\n",
      "level: 60, step_size: 0.00012091531630682543, grad_norm: 596.9765625, image_norm: 48.566001892089844, snr: 0.23674677312374115, grad_mean_norm: 70.41619873046875\n",
      "level: 61, step_size: 9.756968053557917e-05, grad_norm: 664.6387939453125, image_norm: 48.53669738769531, snr: 0.23647956550121307, grad_mean_norm: 70.41717529296875\n",
      "level: 61, step_size: 9.756968053557917e-05, grad_norm: 664.6137084960938, image_norm: 48.505043029785156, snr: 0.2361760288476944, grad_mean_norm: 70.4761962890625\n",
      "level: 61, step_size: 9.756968053557917e-05, grad_norm: 664.5236206054688, image_norm: 48.4760627746582, snr: 0.23762141168117523, grad_mean_norm: 70.4621353149414\n",
      "level: 61, step_size: 9.756968053557917e-05, grad_norm: 664.5286254882812, image_norm: 48.44674301147461, snr: 0.2372676283121109, grad_mean_norm: 70.52335357666016\n",
      "level: 61, step_size: 9.756968053557917e-05, grad_norm: 664.4970092773438, image_norm: 48.41642379760742, snr: 0.23444506525993347, grad_mean_norm: 70.48062896728516\n",
      "level: 61, step_size: 9.756968053557917e-05, grad_norm: 664.4864501953125, image_norm: 48.38942337036133, snr: 0.2325374186038971, grad_mean_norm: 70.48409271240234\n",
      "level: 61, step_size: 9.756968053557917e-05, grad_norm: 664.4681396484375, image_norm: 48.36039352416992, snr: 0.23573899269104004, grad_mean_norm: 70.5318603515625\n",
      "level: 61, step_size: 9.756968053557917e-05, grad_norm: 664.4602661132812, image_norm: 48.32585906982422, snr: 0.23265370726585388, grad_mean_norm: 70.48904418945312\n",
      "level: 61, step_size: 9.756968053557917e-05, grad_norm: 664.4987182617188, image_norm: 48.298004150390625, snr: 0.23386961221694946, grad_mean_norm: 70.45515441894531\n",
      "level: 61, step_size: 9.756968053557917e-05, grad_norm: 664.4559936523438, image_norm: 48.26935958862305, snr: 0.23810425400733948, grad_mean_norm: 70.47896575927734\n",
      "level: 62, step_size: 7.873148622179625e-05, grad_norm: 739.6790161132812, image_norm: 48.24769973754883, snr: 0.2366989403963089, grad_mean_norm: 70.44552612304688\n",
      "level: 62, step_size: 7.873148622179625e-05, grad_norm: 739.6344604492188, image_norm: 48.22011947631836, snr: 0.23480556905269623, grad_mean_norm: 70.47845458984375\n",
      "level: 62, step_size: 7.873148622179625e-05, grad_norm: 739.6452026367188, image_norm: 48.19691848754883, snr: 0.2343052476644516, grad_mean_norm: 70.48235321044922\n",
      "level: 62, step_size: 7.873148622179625e-05, grad_norm: 739.5999755859375, image_norm: 48.16497802734375, snr: 0.23358316719532013, grad_mean_norm: 70.4298095703125\n",
      "level: 62, step_size: 7.873148622179625e-05, grad_norm: 739.6474609375, image_norm: 48.132469177246094, snr: 0.23527158796787262, grad_mean_norm: 70.477294921875\n",
      "level: 62, step_size: 7.873148622179625e-05, grad_norm: 739.5943603515625, image_norm: 48.1062126159668, snr: 0.23233360052108765, grad_mean_norm: 70.46532440185547\n",
      "level: 62, step_size: 7.873148622179625e-05, grad_norm: 739.5821533203125, image_norm: 48.07799530029297, snr: 0.23485706746578217, grad_mean_norm: 70.46971893310547\n",
      "level: 62, step_size: 7.873148622179625e-05, grad_norm: 739.5209350585938, image_norm: 48.0463981628418, snr: 0.23634636402130127, grad_mean_norm: 70.42608642578125\n",
      "level: 62, step_size: 7.873148622179625e-05, grad_norm: 739.5186767578125, image_norm: 48.017452239990234, snr: 0.23153923451900482, grad_mean_norm: 70.43171691894531\n",
      "level: 62, step_size: 7.873148622179625e-05, grad_norm: 739.5934448242188, image_norm: 47.98958969116211, snr: 0.23214171826839447, grad_mean_norm: 70.45777130126953\n",
      "level: 63, step_size: 6.353046242098273e-05, grad_norm: 823.28515625, image_norm: 47.96329879760742, snr: 0.23525571823120117, grad_mean_norm: 70.47394561767578\n",
      "level: 63, step_size: 6.353046242098273e-05, grad_norm: 823.2463989257812, image_norm: 47.94187545776367, snr: 0.23048868775367737, grad_mean_norm: 70.4724349975586\n",
      "level: 63, step_size: 6.353046242098273e-05, grad_norm: 823.2727661132812, image_norm: 47.91543197631836, snr: 0.23228779435157776, grad_mean_norm: 70.47465515136719\n",
      "level: 63, step_size: 6.353046242098273e-05, grad_norm: 823.2824096679688, image_norm: 47.89070129394531, snr: 0.23345017433166504, grad_mean_norm: 70.43739318847656\n",
      "level: 63, step_size: 6.353046242098273e-05, grad_norm: 823.1632690429688, image_norm: 47.86239242553711, snr: 0.2295106053352356, grad_mean_norm: 70.41938018798828\n",
      "level: 63, step_size: 6.353046242098273e-05, grad_norm: 823.1393432617188, image_norm: 47.83710861206055, snr: 0.23323024809360504, grad_mean_norm: 70.40754699707031\n",
      "level: 63, step_size: 6.353046242098273e-05, grad_norm: 823.1578979492188, image_norm: 47.81196975708008, snr: 0.2371402382850647, grad_mean_norm: 70.42576599121094\n",
      "level: 63, step_size: 6.353046242098273e-05, grad_norm: 823.2577514648438, image_norm: 47.787811279296875, snr: 0.23180444538593292, grad_mean_norm: 70.44596862792969\n",
      "level: 63, step_size: 6.353046242098273e-05, grad_norm: 823.1881713867188, image_norm: 47.76298522949219, snr: 0.23337873816490173, grad_mean_norm: 70.43998718261719\n",
      "level: 63, step_size: 6.353046242098273e-05, grad_norm: 823.169921875, image_norm: 47.73576736450195, snr: 0.23583687841892242, grad_mean_norm: 70.40836334228516\n",
      "level: 64, step_size: 5.126436511122945e-05, grad_norm: 916.3446655273438, image_norm: 47.713138580322266, snr: 0.23757433891296387, grad_mean_norm: 70.37527465820312\n",
      "level: 64, step_size: 5.126436511122945e-05, grad_norm: 916.3902587890625, image_norm: 47.6890983581543, snr: 0.23134146630764008, grad_mean_norm: 70.38581085205078\n",
      "level: 64, step_size: 5.126436511122945e-05, grad_norm: 916.3285522460938, image_norm: 47.66611862182617, snr: 0.23411284387111664, grad_mean_norm: 70.3346176147461\n",
      "level: 64, step_size: 5.126436511122945e-05, grad_norm: 916.2890625, image_norm: 47.6444091796875, snr: 0.23277537524700165, grad_mean_norm: 70.37431335449219\n",
      "level: 64, step_size: 5.126436511122945e-05, grad_norm: 916.2685546875, image_norm: 47.621864318847656, snr: 0.23465174436569214, grad_mean_norm: 70.33907318115234\n",
      "level: 64, step_size: 5.126436511122945e-05, grad_norm: 916.26611328125, image_norm: 47.598876953125, snr: 0.2329130619764328, grad_mean_norm: 70.33428955078125\n",
      "level: 64, step_size: 5.126436511122945e-05, grad_norm: 916.2084350585938, image_norm: 47.57645797729492, snr: 0.23488469421863556, grad_mean_norm: 70.31427001953125\n",
      "level: 64, step_size: 5.126436511122945e-05, grad_norm: 916.1900634765625, image_norm: 47.55685806274414, snr: 0.2354007065296173, grad_mean_norm: 70.32659149169922\n",
      "level: 64, step_size: 5.126436511122945e-05, grad_norm: 916.1681518554688, image_norm: 47.533626556396484, snr: 0.23344755172729492, grad_mean_norm: 70.3375473022461\n",
      "level: 64, step_size: 5.126436511122945e-05, grad_norm: 916.1267700195312, image_norm: 47.51487350463867, snr: 0.2340139001607895, grad_mean_norm: 70.27294158935547\n",
      "level: 65, step_size: 4.1366535518706694e-05, grad_norm: 1019.8480834960938, image_norm: 47.498531341552734, snr: 0.23307572305202484, grad_mean_norm: 70.28189849853516\n",
      "level: 65, step_size: 4.1366535518706694e-05, grad_norm: 1019.8158569335938, image_norm: 47.47847366333008, snr: 0.2364409863948822, grad_mean_norm: 70.30667877197266\n",
      "level: 65, step_size: 4.1366535518706694e-05, grad_norm: 1019.8015747070312, image_norm: 47.46196746826172, snr: 0.2336781620979309, grad_mean_norm: 70.29247283935547\n",
      "level: 65, step_size: 4.1366535518706694e-05, grad_norm: 1019.7484741210938, image_norm: 47.44340896606445, snr: 0.23553963005542755, grad_mean_norm: 70.32205200195312\n",
      "level: 65, step_size: 4.1366535518706694e-05, grad_norm: 1019.7828369140625, image_norm: 47.42131423950195, snr: 0.23545221984386444, grad_mean_norm: 70.27884674072266\n",
      "level: 65, step_size: 4.1366535518706694e-05, grad_norm: 1019.7360229492188, image_norm: 47.40096664428711, snr: 0.23191194236278534, grad_mean_norm: 70.30950164794922\n",
      "level: 65, step_size: 4.1366535518706694e-05, grad_norm: 1019.7587280273438, image_norm: 47.3785400390625, snr: 0.23158736526966095, grad_mean_norm: 70.29928588867188\n",
      "level: 65, step_size: 4.1366535518706694e-05, grad_norm: 1019.7601928710938, image_norm: 47.35447311401367, snr: 0.23227490484714508, grad_mean_norm: 70.29086303710938\n",
      "level: 65, step_size: 4.1366535518706694e-05, grad_norm: 1019.8123168945312, image_norm: 47.332672119140625, snr: 0.23110581934452057, grad_mean_norm: 70.29498291015625\n",
      "level: 65, step_size: 4.1366535518706694e-05, grad_norm: 1019.8458251953125, image_norm: 47.31713104248047, snr: 0.238690584897995, grad_mean_norm: 70.31293487548828\n",
      "level: 66, step_size: 3.337972209560401e-05, grad_norm: 1135.2864990234375, image_norm: 47.29813766479492, snr: 0.23353426158428192, grad_mean_norm: 70.26951599121094\n",
      "level: 66, step_size: 3.337972209560401e-05, grad_norm: 1135.324462890625, image_norm: 47.28132247924805, snr: 0.2339961975812912, grad_mean_norm: 70.2861099243164\n",
      "level: 66, step_size: 3.337972209560401e-05, grad_norm: 1135.326416015625, image_norm: 47.2633171081543, snr: 0.2357427477836609, grad_mean_norm: 70.24698638916016\n",
      "level: 66, step_size: 3.337972209560401e-05, grad_norm: 1135.195556640625, image_norm: 47.24717712402344, snr: 0.2365226149559021, grad_mean_norm: 70.25624084472656\n",
      "level: 66, step_size: 3.337972209560401e-05, grad_norm: 1135.1217041015625, image_norm: 47.22831344604492, snr: 0.23667724430561066, grad_mean_norm: 70.2255859375\n",
      "level: 66, step_size: 3.337972209560401e-05, grad_norm: 1135.0860595703125, image_norm: 47.20824432373047, snr: 0.23327045142650604, grad_mean_norm: 70.21280670166016\n",
      "level: 66, step_size: 3.337972209560401e-05, grad_norm: 1135.0657958984375, image_norm: 47.18864440917969, snr: 0.237036794424057, grad_mean_norm: 70.18882751464844\n",
      "level: 66, step_size: 3.337972209560401e-05, grad_norm: 1135.0009765625, image_norm: 47.17011642456055, snr: 0.23895356059074402, grad_mean_norm: 70.17481231689453\n",
      "level: 66, step_size: 3.337972209560401e-05, grad_norm: 1134.9722900390625, image_norm: 47.15042495727539, snr: 0.23259061574935913, grad_mean_norm: 70.18062591552734\n",
      "level: 66, step_size: 3.337972209560401e-05, grad_norm: 1134.95166015625, image_norm: 47.130462646484375, snr: 0.23680421710014343, grad_mean_norm: 70.18685913085938\n",
      "level: 67, step_size: 2.6934956800428542e-05, grad_norm: 1263.403564453125, image_norm: 47.11182403564453, snr: 0.23503202199935913, grad_mean_norm: 70.17842102050781\n",
      "level: 67, step_size: 2.6934956800428542e-05, grad_norm: 1263.4027099609375, image_norm: 47.09647750854492, snr: 0.23243825137615204, grad_mean_norm: 70.14703369140625\n",
      "level: 67, step_size: 2.6934956800428542e-05, grad_norm: 1263.4388427734375, image_norm: 47.08121871948242, snr: 0.23272909224033356, grad_mean_norm: 70.16947174072266\n",
      "level: 67, step_size: 2.6934956800428542e-05, grad_norm: 1263.4256591796875, image_norm: 47.0637321472168, snr: 0.2338489294052124, grad_mean_norm: 70.15696716308594\n",
      "level: 67, step_size: 2.6934956800428542e-05, grad_norm: 1263.46044921875, image_norm: 47.044464111328125, snr: 0.2381395548582077, grad_mean_norm: 70.18576049804688\n",
      "level: 67, step_size: 2.6934956800428542e-05, grad_norm: 1263.43359375, image_norm: 47.02540588378906, snr: 0.23504352569580078, grad_mean_norm: 70.1758804321289\n",
      "level: 67, step_size: 2.6934956800428542e-05, grad_norm: 1263.368408203125, image_norm: 47.012969970703125, snr: 0.23468802869319916, grad_mean_norm: 70.15512084960938\n",
      "level: 67, step_size: 2.6934956800428542e-05, grad_norm: 1263.317626953125, image_norm: 46.99611282348633, snr: 0.23035717010498047, grad_mean_norm: 70.12847137451172\n",
      "level: 67, step_size: 2.6934956800428542e-05, grad_norm: 1263.2734375, image_norm: 46.97776794433594, snr: 0.23193061351776123, grad_mean_norm: 70.15589141845703\n",
      "level: 67, step_size: 2.6934956800428542e-05, grad_norm: 1263.3221435546875, image_norm: 46.96169662475586, snr: 0.23577649891376495, grad_mean_norm: 70.1436538696289\n",
      "level: 68, step_size: 2.1734509824948384e-05, grad_norm: 1406.29052734375, image_norm: 46.949615478515625, snr: 0.23463484644889832, grad_mean_norm: 70.15589904785156\n",
      "level: 68, step_size: 2.1734509824948384e-05, grad_norm: 1406.2930908203125, image_norm: 46.93586730957031, snr: 0.23611366748809814, grad_mean_norm: 70.18602752685547\n",
      "level: 68, step_size: 2.1734509824948384e-05, grad_norm: 1406.2615966796875, image_norm: 46.92375564575195, snr: 0.23096004128456116, grad_mean_norm: 70.18254852294922\n",
      "level: 68, step_size: 2.1734509824948384e-05, grad_norm: 1406.2076416015625, image_norm: 46.90975570678711, snr: 0.23621401190757751, grad_mean_norm: 70.18396759033203\n",
      "level: 68, step_size: 2.1734509824948384e-05, grad_norm: 1406.2109375, image_norm: 46.894447326660156, snr: 0.2350386679172516, grad_mean_norm: 70.18595123291016\n",
      "level: 68, step_size: 2.1734509824948384e-05, grad_norm: 1406.1658935546875, image_norm: 46.88102340698242, snr: 0.2334446907043457, grad_mean_norm: 70.19975280761719\n",
      "level: 68, step_size: 2.1734509824948384e-05, grad_norm: 1406.1483154296875, image_norm: 46.868534088134766, snr: 0.23421671986579895, grad_mean_norm: 70.18373107910156\n",
      "level: 68, step_size: 2.1734509824948384e-05, grad_norm: 1406.1513671875, image_norm: 46.85227584838867, snr: 0.23500370979309082, grad_mean_norm: 70.1996078491211\n",
      "level: 68, step_size: 2.1734509824948384e-05, grad_norm: 1406.1881103515625, image_norm: 46.8389892578125, snr: 0.2347949743270874, grad_mean_norm: 70.19588470458984\n",
      "level: 68, step_size: 2.1734509824948384e-05, grad_norm: 1406.1236572265625, image_norm: 46.822967529296875, snr: 0.23588068783283234, grad_mean_norm: 70.19934844970703\n",
      "level: 69, step_size: 1.753813532469681e-05, grad_norm: 1565.29931640625, image_norm: 46.81057357788086, snr: 0.2318146675825119, grad_mean_norm: 70.16534423828125\n",
      "level: 69, step_size: 1.753813532469681e-05, grad_norm: 1565.248046875, image_norm: 46.79620361328125, snr: 0.23470166325569153, grad_mean_norm: 70.15973663330078\n",
      "level: 69, step_size: 1.753813532469681e-05, grad_norm: 1565.256103515625, image_norm: 46.78065872192383, snr: 0.23187559843063354, grad_mean_norm: 70.16307067871094\n",
      "level: 69, step_size: 1.753813532469681e-05, grad_norm: 1565.2347412109375, image_norm: 46.76673126220703, snr: 0.2366660237312317, grad_mean_norm: 70.1510238647461\n",
      "level: 69, step_size: 1.753813532469681e-05, grad_norm: 1565.216552734375, image_norm: 46.75639724731445, snr: 0.23629580438137054, grad_mean_norm: 70.16793823242188\n",
      "level: 69, step_size: 1.753813532469681e-05, grad_norm: 1565.211669921875, image_norm: 46.743927001953125, snr: 0.23509208858013153, grad_mean_norm: 70.1536636352539\n",
      "level: 69, step_size: 1.753813532469681e-05, grad_norm: 1565.200439453125, image_norm: 46.73088455200195, snr: 0.23575513064861298, grad_mean_norm: 70.15677642822266\n",
      "level: 69, step_size: 1.753813532469681e-05, grad_norm: 1565.2001953125, image_norm: 46.716552734375, snr: 0.2323019802570343, grad_mean_norm: 70.12882995605469\n",
      "level: 69, step_size: 1.753813532469681e-05, grad_norm: 1565.1912841796875, image_norm: 46.70550537109375, snr: 0.23342108726501465, grad_mean_norm: 70.13916778564453\n",
      "level: 69, step_size: 1.753813532469681e-05, grad_norm: 1565.1932373046875, image_norm: 46.69175338745117, snr: 0.2352036088705063, grad_mean_norm: 70.16258239746094\n",
      "level: 70, step_size: 1.415197274494352e-05, grad_norm: 1742.5316162109375, image_norm: 46.68044662475586, snr: 0.23380322754383087, grad_mean_norm: 70.1585464477539\n",
      "level: 70, step_size: 1.415197274494352e-05, grad_norm: 1742.587158203125, image_norm: 46.66780090332031, snr: 0.23428764939308167, grad_mean_norm: 70.15287780761719\n",
      "level: 70, step_size: 1.415197274494352e-05, grad_norm: 1742.6038818359375, image_norm: 46.65531921386719, snr: 0.2360468953847885, grad_mean_norm: 70.1534194946289\n",
      "level: 70, step_size: 1.415197274494352e-05, grad_norm: 1742.522705078125, image_norm: 46.643489837646484, snr: 0.23417425155639648, grad_mean_norm: 70.12703704833984\n",
      "level: 70, step_size: 1.415197274494352e-05, grad_norm: 1742.5406494140625, image_norm: 46.63090896606445, snr: 0.2339148223400116, grad_mean_norm: 70.11717224121094\n",
      "level: 70, step_size: 1.415197274494352e-05, grad_norm: 1742.4951171875, image_norm: 46.61946105957031, snr: 0.2350846379995346, grad_mean_norm: 70.12598419189453\n",
      "level: 70, step_size: 1.415197274494352e-05, grad_norm: 1742.4703369140625, image_norm: 46.6096305847168, snr: 0.23240353167057037, grad_mean_norm: 70.1263427734375\n",
      "level: 70, step_size: 1.415197274494352e-05, grad_norm: 1742.4752197265625, image_norm: 46.5976676940918, snr: 0.23155388236045837, grad_mean_norm: 70.11587524414062\n",
      "level: 70, step_size: 1.415197274494352e-05, grad_norm: 1742.4891357421875, image_norm: 46.586509704589844, snr: 0.23616746068000793, grad_mean_norm: 70.11174011230469\n",
      "level: 70, step_size: 1.415197274494352e-05, grad_norm: 1742.4080810546875, image_norm: 46.575225830078125, snr: 0.23413239419460297, grad_mean_norm: 70.11927032470703\n",
      "level: 71, step_size: 1.1419591014992194e-05, grad_norm: 1939.771728515625, image_norm: 46.563232421875, snr: 0.23254065215587616, grad_mean_norm: 70.11863708496094\n",
      "level: 71, step_size: 1.1419591014992194e-05, grad_norm: 1939.8392333984375, image_norm: 46.554134368896484, snr: 0.2352641075849533, grad_mean_norm: 70.12781524658203\n",
      "level: 71, step_size: 1.1419591014992194e-05, grad_norm: 1939.8636474609375, image_norm: 46.543922424316406, snr: 0.23353813588619232, grad_mean_norm: 70.14163970947266\n",
      "level: 71, step_size: 1.1419591014992194e-05, grad_norm: 1939.7734375, image_norm: 46.53291702270508, snr: 0.23696313798427582, grad_mean_norm: 70.11408233642578\n",
      "level: 71, step_size: 1.1419591014992194e-05, grad_norm: 1939.7447509765625, image_norm: 46.522064208984375, snr: 0.23082154989242554, grad_mean_norm: 70.11424255371094\n",
      "level: 71, step_size: 1.1419591014992194e-05, grad_norm: 1939.719970703125, image_norm: 46.509613037109375, snr: 0.2355799525976181, grad_mean_norm: 70.11212158203125\n",
      "level: 71, step_size: 1.1419591014992194e-05, grad_norm: 1939.7105712890625, image_norm: 46.49943161010742, snr: 0.23203326761722565, grad_mean_norm: 70.10395812988281\n",
      "level: 71, step_size: 1.1419591014992194e-05, grad_norm: 1939.7186279296875, image_norm: 46.48861312866211, snr: 0.2340066134929657, grad_mean_norm: 70.1093978881836\n",
      "level: 71, step_size: 1.1419591014992194e-05, grad_norm: 1939.6507568359375, image_norm: 46.47663497924805, snr: 0.2339717000722885, grad_mean_norm: 70.0859375\n",
      "level: 71, step_size: 1.1419591014992194e-05, grad_norm: 1939.6217041015625, image_norm: 46.46519088745117, snr: 0.23426786065101624, grad_mean_norm: 70.07201385498047\n",
      "level: 72, step_size: 9.214761878077013e-06, grad_norm: 2159.235595703125, image_norm: 46.455013275146484, snr: 0.2323576956987381, grad_mean_norm: 70.07762145996094\n",
      "level: 72, step_size: 9.214761878077013e-06, grad_norm: 2159.237548828125, image_norm: 46.44437789916992, snr: 0.23401455581188202, grad_mean_norm: 70.08851623535156\n",
      "level: 72, step_size: 9.214761878077013e-06, grad_norm: 2159.210205078125, image_norm: 46.43477249145508, snr: 0.232966810464859, grad_mean_norm: 70.08875274658203\n",
      "level: 72, step_size: 9.214761878077013e-06, grad_norm: 2159.151123046875, image_norm: 46.42716598510742, snr: 0.23854108154773712, grad_mean_norm: 70.07508850097656\n",
      "level: 72, step_size: 9.214761878077013e-06, grad_norm: 2159.080078125, image_norm: 46.41765594482422, snr: 0.2335430085659027, grad_mean_norm: 70.06886291503906\n",
      "level: 72, step_size: 9.214761878077013e-06, grad_norm: 2159.099609375, image_norm: 46.408233642578125, snr: 0.23203259706497192, grad_mean_norm: 70.06333923339844\n",
      "level: 72, step_size: 9.214761878077013e-06, grad_norm: 2159.02685546875, image_norm: 46.40019607543945, snr: 0.238102525472641, grad_mean_norm: 70.06835174560547\n",
      "level: 72, step_size: 9.214761878077013e-06, grad_norm: 2159.024658203125, image_norm: 46.390403747558594, snr: 0.23465462028980255, grad_mean_norm: 70.06184387207031\n",
      "level: 72, step_size: 9.214761878077013e-06, grad_norm: 2159.048095703125, image_norm: 46.380733489990234, snr: 0.23878838121891022, grad_mean_norm: 70.07128143310547\n",
      "level: 72, step_size: 9.214761878077013e-06, grad_norm: 2159.08642578125, image_norm: 46.36910629272461, snr: 0.23674698173999786, grad_mean_norm: 70.08731079101562\n",
      "level: 73, step_size: 7.435628505275253e-06, grad_norm: 2403.512939453125, image_norm: 46.35916519165039, snr: 0.23424328863620758, grad_mean_norm: 70.07858276367188\n",
      "level: 73, step_size: 7.435628505275253e-06, grad_norm: 2403.539794921875, image_norm: 46.35015869140625, snr: 0.23396837711334229, grad_mean_norm: 70.08731842041016\n",
      "level: 73, step_size: 7.435628505275253e-06, grad_norm: 2403.546142578125, image_norm: 46.339698791503906, snr: 0.23456302285194397, grad_mean_norm: 70.0849380493164\n",
      "level: 73, step_size: 7.435628505275253e-06, grad_norm: 2403.510986328125, image_norm: 46.33185958862305, snr: 0.2318705916404724, grad_mean_norm: 70.08504486083984\n",
      "level: 73, step_size: 7.435628505275253e-06, grad_norm: 2403.552490234375, image_norm: 46.32368850708008, snr: 0.23583747446537018, grad_mean_norm: 70.08548736572266\n",
      "level: 73, step_size: 7.435628505275253e-06, grad_norm: 2403.525390625, image_norm: 46.315528869628906, snr: 0.23268325626850128, grad_mean_norm: 70.05369567871094\n",
      "level: 73, step_size: 7.435628505275253e-06, grad_norm: 2403.412841796875, image_norm: 46.305843353271484, snr: 0.23273290693759918, grad_mean_norm: 70.06076049804688\n",
      "level: 73, step_size: 7.435628505275253e-06, grad_norm: 2403.485107421875, image_norm: 46.29677200317383, snr: 0.2371375411748886, grad_mean_norm: 70.06759643554688\n",
      "level: 73, step_size: 7.435628505275253e-06, grad_norm: 2403.51953125, image_norm: 46.28768539428711, snr: 0.23382121324539185, grad_mean_norm: 70.07778930664062\n",
      "level: 73, step_size: 7.435628505275253e-06, grad_norm: 2403.579833984375, image_norm: 46.28043746948242, snr: 0.23355956375598907, grad_mean_norm: 70.07776641845703\n",
      "level: 74, step_size: 6e-06, grad_norm: 2675.717529296875, image_norm: 46.27277755737305, snr: 0.23779548704624176, grad_mean_norm: 70.0674057006836\n",
      "level: 74, step_size: 6e-06, grad_norm: 2675.693115234375, image_norm: 46.264217376708984, snr: 0.23015552759170532, grad_mean_norm: 70.06884002685547\n",
      "level: 74, step_size: 6e-06, grad_norm: 2675.63671875, image_norm: 46.25629806518555, snr: 0.23444737493991852, grad_mean_norm: 70.07121276855469\n",
      "level: 74, step_size: 6e-06, grad_norm: 2675.596923828125, image_norm: 46.2496337890625, snr: 0.23295940458774567, grad_mean_norm: 70.09476470947266\n",
      "level: 74, step_size: 6e-06, grad_norm: 2675.607177734375, image_norm: 46.2408561706543, snr: 0.2347874641418457, grad_mean_norm: 70.08887481689453\n",
      "level: 74, step_size: 6e-06, grad_norm: 2675.651611328125, image_norm: 46.23298263549805, snr: 0.2369629442691803, grad_mean_norm: 70.07505798339844\n",
      "level: 74, step_size: 6e-06, grad_norm: 2675.602294921875, image_norm: 46.2255973815918, snr: 0.23403948545455933, grad_mean_norm: 70.06002044677734\n",
      "level: 74, step_size: 6e-06, grad_norm: 2675.605224609375, image_norm: 46.2177848815918, snr: 0.23888951539993286, grad_mean_norm: 70.04913330078125\n",
      "level: 74, step_size: 6e-06, grad_norm: 2675.531005859375, image_norm: 46.209754943847656, snr: 0.23442459106445312, grad_mean_norm: 70.05123901367188\n",
      "level: 74, step_size: 6e-06, grad_norm: 2675.48876953125, image_norm: 46.202674865722656, snr: 0.23235376179218292, grad_mean_norm: 70.04879760742188\n"
     ]
    }
   ],
   "source": [
    "# sampling\n",
    "try:\n",
    "    from NCSN.model import CondUNet, UNetv2\n",
    "    from NCSN.train import evaluate_denoising, cal_noise_level, langevin\n",
    "    from NCSN.ema import EMAHelper\n",
    "\n",
    "except:\n",
    "    from model import CondUNet, UNetv2\n",
    "    from train import evaluate_denoising, cal_noise_level, langevin\n",
    "    from ema import EMAHelper\n",
    "\n",
    "import torch\n",
    "import torch.nn as nn\n",
    "from torch.utils.data import DataLoader\n",
    "\n",
    "# val_loader = DataLoader(val_set, 500, shuffle=True, drop_last=False, pin_memory=True)\n",
    "\n",
    "criterion = nn.MSELoss()\n",
    "init_sigma = 28\n",
    "final_sigma = 0.01\n",
    "n_sigma = 75\n",
    "eps = 6e-6\n",
    "T = 10\n",
    "ema_decay = 0.999\n",
    "\n",
    "sigmas = cal_noise_level(init_sigma, final_sigma, n_sigma)\n",
    "\n",
    "model = UNetv2(sigmas=torch.tensor(sigmas)).cuda()\n",
    "time_str = \"20241022_182843\"\n",
    "eval_epoch = 199\n",
    "\n",
    "if ema_decay is not None:\n",
    "    ema_helper = EMAHelper(ema_decay)\n",
    "    ema_helper.register(model)\n",
    "    ema_helper.load_state_dict(torch.load(f\"/nobackup/users/sqa24/NCSN/{time_str}/models/{eval_epoch:03d}_ema.pth\"))\n",
    "    ema_helper.ema(model)\n",
    "else:\n",
    "    model.load_state_dict(torch.load(f\"/nobackup/users/sqa24/NCSN/{time_str}/models/{eval_epoch:03d}.pth\"))\n",
    "model.cuda()\n",
    "\n",
    "# x = torch.rand(10, 1, 28, 28).cuda()\n",
    "x = torch.randn(10, 1, 28, 28).cuda()\n",
    "x = (x+1)/2\n",
    "y = langevin(model, x, sigmas, eps=eps, T=T, save=True, epochs=eval_epoch, clamp=False, time_str=time_str, verbose=True)"
   ]
  },
  {
   "cell_type": "code",
   "execution_count": 1,
   "metadata": {},
   "outputs": [
    {
     "name": "stdout",
     "output_type": "stream",
     "text": [
      "Files already downloaded and verified\n",
      "Files already downloaded and verified\n"
     ]
    },
    {
     "name": "stderr",
     "output_type": "stream",
     "text": [
      "Eval:   0%|                                                                                    | 0/2000 [00:00<?, ?it/s]"
     ]
    },
    {
     "name": "stdout",
     "output_type": "stream",
     "text": [
      "level: 0, step_size: 47.03999999999986, grad_norm: 0.9159242510795593, image_norm: 136.65994262695312, snr: 0.22355157136917114, grad_mean_norm: 243.8917236328125\n",
      "level: 0, step_size: 47.03999999999986, grad_norm: 1.0196850299835205, image_norm: 177.761962890625, snr: 0.24864326417446136, grad_mean_norm: 85.75312805175781\n",
      "level: 0, step_size: 47.03999999999986, grad_norm: 1.0420478582382202, image_norm: 203.01678466796875, snr: 0.2536088824272156, grad_mean_norm: 90.26822662353516\n",
      "level: 0, step_size: 47.03999999999986, grad_norm: 1.040546178817749, image_norm: 223.3791046142578, snr: 0.255245178937912, grad_mean_norm: 88.83049011230469\n",
      "level: 0, step_size: 47.03999999999986, grad_norm: 1.0552915334701538, image_norm: 241.1633758544922, snr: 0.2593735456466675, grad_mean_norm: 90.06800842285156\n",
      "level: 0, step_size: 47.03999999999986, grad_norm: 1.046255350112915, image_norm: 255.1326141357422, snr: 0.2589056193828583, grad_mean_norm: 82.48102569580078\n",
      "level: 0, step_size: 47.03999999999986, grad_norm: 1.0388014316558838, image_norm: 269.69268798828125, snr: 0.2523573040962219, grad_mean_norm: 84.93341827392578\n",
      "level: 0, step_size: 47.03999999999986, grad_norm: 1.0337568521499634, image_norm: 281.1125183105469, snr: 0.24937796592712402, grad_mean_norm: 80.39348602294922\n",
      "level: 0, step_size: 47.03999999999986, grad_norm: 1.0220673084259033, image_norm: 294.2245788574219, snr: 0.245948925614357, grad_mean_norm: 74.9525146484375\n",
      "level: 0, step_size: 47.03999999999986, grad_norm: 1.0232633352279663, image_norm: 303.053466796875, snr: 0.25251027941703796, grad_mean_norm: 78.49693298339844\n",
      "level: 1, step_size: 37.95778659460488, grad_norm: 1.1300052404403687, image_norm: 306.1269836425781, snr: 0.24869172275066376, grad_mean_norm: 82.82474517822266\n",
      "level: 1, step_size: 37.95778659460488, grad_norm: 1.1246552467346191, image_norm: 309.7383728027344, snr: 0.24779556691646576, grad_mean_norm: 84.96200561523438\n",
      "level: 1, step_size: 37.95778659460488, grad_norm: 1.1168532371520996, image_norm: 311.13470458984375, snr: 0.24400973320007324, grad_mean_norm: 86.64044952392578\n",
      "level: 1, step_size: 37.95778659460488, grad_norm: 1.1253427267074585, image_norm: 313.1061706542969, snr: 0.24715650081634521, grad_mean_norm: 87.32958984375\n",
      "level: 1, step_size: 37.95778659460488, grad_norm: 1.1180047988891602, image_norm: 316.5118408203125, snr: 0.24689599871635437, grad_mean_norm: 81.64460754394531\n",
      "level: 1, step_size: 37.95778659460488, grad_norm: 1.1125239133834839, image_norm: 322.4828796386719, snr: 0.24389587342739105, grad_mean_norm: 81.83234405517578\n",
      "level: 1, step_size: 37.95778659460488, grad_norm: 1.1093460321426392, image_norm: 327.7293701171875, snr: 0.2433653324842453, grad_mean_norm: 82.43138122558594\n",
      "level: 1, step_size: 37.95778659460488, grad_norm: 1.1056482791900635, image_norm: 331.9557189941406, snr: 0.24758803844451904, grad_mean_norm: 79.30406188964844\n",
      "level: 1, step_size: 37.95778659460488, grad_norm: 1.104277491569519, image_norm: 335.37744140625, snr: 0.24086996912956238, grad_mean_norm: 81.98609161376953\n",
      "level: 1, step_size: 37.95778659460488, grad_norm: 1.0966923236846924, image_norm: 338.4456787109375, snr: 0.2399304211139679, grad_mean_norm: 78.1858139038086\n",
      "level: 2, step_size: 30.629114863128592, grad_norm: 1.216853141784668, image_norm: 340.392333984375, snr: 0.2386011928319931, grad_mean_norm: 75.79365539550781\n",
      "level: 2, step_size: 30.629114863128592, grad_norm: 1.2107778787612915, image_norm: 339.9952392578125, snr: 0.24041450023651123, grad_mean_norm: 75.45921325683594\n",
      "level: 2, step_size: 30.629114863128592, grad_norm: 1.2237690687179565, image_norm: 340.86639404296875, snr: 0.2418294996023178, grad_mean_norm: 78.55447387695312\n",
      "level: 2, step_size: 30.629114863128592, grad_norm: 1.226690411567688, image_norm: 339.8317565917969, snr: 0.24462677538394928, grad_mean_norm: 78.66220092773438\n",
      "level: 2, step_size: 30.629114863128592, grad_norm: 1.2321604490280151, image_norm: 340.098388671875, snr: 0.24549207091331482, grad_mean_norm: 80.7573471069336\n",
      "level: 2, step_size: 30.629114863128592, grad_norm: 1.2220674753189087, image_norm: 336.9347229003906, snr: 0.24175584316253662, grad_mean_norm: 76.19947052001953\n",
      "level: 2, step_size: 30.629114863128592, grad_norm: 1.2320269346237183, image_norm: 338.1127624511719, snr: 0.24458731710910797, grad_mean_norm: 75.71292877197266\n",
      "level: 2, step_size: 30.629114863128592, grad_norm: 1.2255549430847168, image_norm: 339.4388732910156, snr: 0.2424095720052719, grad_mean_norm: 76.21525573730469\n",
      "level: 2, step_size: 30.629114863128592, grad_norm: 1.2241216897964478, image_norm: 339.35968017578125, snr: 0.24427402019500732, grad_mean_norm: 75.02944946289062\n",
      "level: 2, step_size: 30.629114863128592, grad_norm: 1.226957082748413, image_norm: 340.4373474121094, snr: 0.24206186830997467, grad_mean_norm: 72.96613311767578\n",
      "level: 3, step_size: 24.715421036485523, grad_norm: 1.3511812686920166, image_norm: 337.8127746582031, snr: 0.24125774204730988, grad_mean_norm: 73.68487548828125\n",
      "level: 3, step_size: 24.715421036485523, grad_norm: 1.3558295965194702, image_norm: 336.11614990234375, snr: 0.23876142501831055, grad_mean_norm: 78.23895263671875\n",
      "level: 3, step_size: 24.715421036485523, grad_norm: 1.3586212396621704, image_norm: 331.4039001464844, snr: 0.23995822668075562, grad_mean_norm: 73.97868347167969\n",
      "level: 3, step_size: 24.715421036485523, grad_norm: 1.3610694408416748, image_norm: 330.5738830566406, snr: 0.24416038393974304, grad_mean_norm: 78.4025650024414\n",
      "level: 3, step_size: 24.715421036485523, grad_norm: 1.35513436794281, image_norm: 331.7752380371094, snr: 0.24158035218715668, grad_mean_norm: 76.72342681884766\n",
      "level: 3, step_size: 24.715421036485523, grad_norm: 1.363242268562317, image_norm: 331.48406982421875, snr: 0.23922543227672577, grad_mean_norm: 75.48975372314453\n",
      "level: 3, step_size: 24.715421036485523, grad_norm: 1.3638615608215332, image_norm: 329.2137756347656, snr: 0.24483861029148102, grad_mean_norm: 75.71110534667969\n",
      "level: 3, step_size: 24.715421036485523, grad_norm: 1.3576339483261108, image_norm: 329.246337890625, snr: 0.24039264023303986, grad_mean_norm: 78.47354888916016\n",
      "level: 3, step_size: 24.715421036485523, grad_norm: 1.3638226985931396, image_norm: 330.9328308105469, snr: 0.24305720627307892, grad_mean_norm: 79.2880859375\n",
      "level: 3, step_size: 24.715421036485523, grad_norm: 1.365713357925415, image_norm: 331.7822265625, snr: 0.2403944879770279, grad_mean_norm: 78.08549499511719\n",
      "level: 4, step_size: 19.94350929631651, grad_norm: 1.5273228883743286, image_norm: 327.3658142089844, snr: 0.24439111351966858, grad_mean_norm: 79.55484008789062\n",
      "level: 4, step_size: 19.94350929631651, grad_norm: 1.5225471258163452, image_norm: 324.0401916503906, snr: 0.24077343940734863, grad_mean_norm: 78.39041137695312\n",
      "level: 4, step_size: 19.94350929631651, grad_norm: 1.5266172885894775, image_norm: 320.16888427734375, snr: 0.24110420048236847, grad_mean_norm: 81.11236572265625\n",
      "level: 4, step_size: 19.94350929631651, grad_norm: 1.5304901599884033, image_norm: 316.1912536621094, snr: 0.244991734623909, grad_mean_norm: 77.65288543701172\n",
      "level: 4, step_size: 19.94350929631651, grad_norm: 1.5233184099197388, image_norm: 316.9394226074219, snr: 0.24179168045520782, grad_mean_norm: 77.6419906616211\n",
      "level: 4, step_size: 19.94350929631651, grad_norm: 1.5295259952545166, image_norm: 316.6144104003906, snr: 0.24425216019153595, grad_mean_norm: 76.55078125\n",
      "level: 4, step_size: 19.94350929631651, grad_norm: 1.5268217325210571, image_norm: 315.9575500488281, snr: 0.24349252879619598, grad_mean_norm: 76.86973571777344\n",
      "level: 4, step_size: 19.94350929631651, grad_norm: 1.5140577554702759, image_norm: 313.353271484375, snr: 0.24286699295043945, grad_mean_norm: 77.45307159423828\n",
      "level: 4, step_size: 19.94350929631651, grad_norm: 1.51728093624115, image_norm: 310.0119323730469, snr: 0.24282869696617126, grad_mean_norm: 74.82170104980469\n",
      "level: 4, step_size: 19.94350929631651, grad_norm: 1.5204180479049683, image_norm: 310.3668518066406, snr: 0.24284608662128448, grad_mean_norm: 73.50765991210938\n",
      "level: 5, step_size: 16.092930905975823, grad_norm: 1.6959632635116577, image_norm: 307.3133850097656, snr: 0.243849977850914, grad_mean_norm: 72.55371856689453\n",
      "level: 5, step_size: 16.092930905975823, grad_norm: 1.697588324546814, image_norm: 304.6041564941406, snr: 0.2421305924654007, grad_mean_norm: 74.48578643798828\n",
      "level: 5, step_size: 16.092930905975823, grad_norm: 1.6903963088989258, image_norm: 302.0296325683594, snr: 0.24686619639396667, grad_mean_norm: 76.80655670166016\n",
      "level: 5, step_size: 16.092930905975823, grad_norm: 1.7018848657608032, image_norm: 300.33160400390625, snr: 0.24398013949394226, grad_mean_norm: 74.3976058959961\n",
      "level: 5, step_size: 16.092930905975823, grad_norm: 1.6964044570922852, image_norm: 298.4980163574219, snr: 0.2457321286201477, grad_mean_norm: 74.1874771118164\n",
      "level: 5, step_size: 16.092930905975823, grad_norm: 1.6980640888214111, image_norm: 294.5096740722656, snr: 0.24255549907684326, grad_mean_norm: 73.85150909423828\n",
      "level: 5, step_size: 16.092930905975823, grad_norm: 1.7067546844482422, image_norm: 291.80242919921875, snr: 0.24204793572425842, grad_mean_norm: 73.1148681640625\n",
      "level: 5, step_size: 16.092930905975823, grad_norm: 1.7136551141738892, image_norm: 291.9164123535156, snr: 0.2437913417816162, grad_mean_norm: 75.1425552368164\n",
      "level: 5, step_size: 16.092930905975823, grad_norm: 1.720632553100586, image_norm: 290.888916015625, snr: 0.24347516894340515, grad_mean_norm: 74.4632568359375\n",
      "level: 5, step_size: 16.092930905975823, grad_norm: 1.7220016717910767, image_norm: 288.0661315917969, snr: 0.24475625157356262, grad_mean_norm: 73.11054229736328\n",
      "level: 6, step_size: 12.985800106521122, grad_norm: 1.9166942834854126, image_norm: 283.14801025390625, snr: 0.25119802355766296, grad_mean_norm: 72.08387756347656\n",
      "level: 6, step_size: 12.985800106521122, grad_norm: 1.9101070165634155, image_norm: 280.81195068359375, snr: 0.2450512796640396, grad_mean_norm: 71.63310241699219\n",
      "level: 6, step_size: 12.985800106521122, grad_norm: 1.9060219526290894, image_norm: 277.796142578125, snr: 0.2461484670639038, grad_mean_norm: 69.02674865722656\n",
      "level: 6, step_size: 12.985800106521122, grad_norm: 1.902506709098816, image_norm: 275.4457702636719, snr: 0.24559269845485687, grad_mean_norm: 68.36998748779297\n",
      "level: 6, step_size: 12.985800106521122, grad_norm: 1.9110252857208252, image_norm: 273.2093811035156, snr: 0.24303792417049408, grad_mean_norm: 70.40768432617188\n",
      "level: 6, step_size: 12.985800106521122, grad_norm: 1.9190174341201782, image_norm: 268.61309814453125, snr: 0.2484809011220932, grad_mean_norm: 69.28472900390625\n",
      "level: 6, step_size: 12.985800106521122, grad_norm: 1.9228849411010742, image_norm: 266.06231689453125, snr: 0.24357061088085175, grad_mean_norm: 68.677001953125\n",
      "level: 6, step_size: 12.985800106521122, grad_norm: 1.9132944345474243, image_norm: 263.8411560058594, snr: 0.24422642588615417, grad_mean_norm: 69.82823944091797\n",
      "level: 6, step_size: 12.985800106521122, grad_norm: 1.9108822345733643, image_norm: 263.7051086425781, snr: 0.24421793222427368, grad_mean_norm: 69.4437026977539\n",
      "level: 6, step_size: 12.985800106521122, grad_norm: 1.9019094705581665, image_norm: 260.3858337402344, snr: 0.24440684914588928, grad_mean_norm: 72.09700012207031\n",
      "level: 7, step_size: 10.478576301095393, grad_norm: 2.127696990966797, image_norm: 256.88409423828125, snr: 0.2467518448829651, grad_mean_norm: 73.63233184814453\n",
      "level: 7, step_size: 10.478576301095393, grad_norm: 2.133600950241089, image_norm: 253.91357421875, snr: 0.24573498964309692, grad_mean_norm: 75.7116470336914\n",
      "level: 7, step_size: 10.478576301095393, grad_norm: 2.131349563598633, image_norm: 252.38003540039062, snr: 0.24590301513671875, grad_mean_norm: 72.2658462524414\n",
      "level: 7, step_size: 10.478576301095393, grad_norm: 2.132826328277588, image_norm: 249.87255859375, snr: 0.24658335745334625, grad_mean_norm: 73.77413177490234\n",
      "level: 7, step_size: 10.478576301095393, grad_norm: 2.1591107845306396, image_norm: 247.6556854248047, snr: 0.2547297775745392, grad_mean_norm: 72.75399780273438\n",
      "level: 7, step_size: 10.478576301095393, grad_norm: 2.1602561473846436, image_norm: 245.3913116455078, snr: 0.24947844445705414, grad_mean_norm: 74.1343994140625\n",
      "level: 7, step_size: 10.478576301095393, grad_norm: 2.164114475250244, image_norm: 243.06591796875, snr: 0.2498413324356079, grad_mean_norm: 75.63065338134766\n",
      "level: 7, step_size: 10.478576301095393, grad_norm: 2.1594619750976562, image_norm: 239.7979736328125, snr: 0.24899666011333466, grad_mean_norm: 76.79718017578125\n",
      "level: 7, step_size: 10.478576301095393, grad_norm: 2.1668081283569336, image_norm: 237.65586853027344, snr: 0.252666175365448, grad_mean_norm: 74.08403778076172\n",
      "level: 7, step_size: 10.478576301095393, grad_norm: 2.167987585067749, image_norm: 235.28843688964844, snr: 0.24793079495429993, grad_mean_norm: 75.28004455566406\n",
      "level: 8, step_size: 8.45543288801582, grad_norm: 2.4094598293304443, image_norm: 233.322998046875, snr: 0.24941860139369965, grad_mean_norm: 73.86248779296875\n",
      "level: 8, step_size: 8.45543288801582, grad_norm: 2.4236533641815186, image_norm: 232.13858032226562, snr: 0.24901610612869263, grad_mean_norm: 75.52104187011719\n",
      "level: 8, step_size: 8.45543288801582, grad_norm: 2.426847457885742, image_norm: 229.56822204589844, snr: 0.25012531876564026, grad_mean_norm: 74.77071380615234\n",
      "level: 8, step_size: 8.45543288801582, grad_norm: 2.435913562774658, image_norm: 226.19570922851562, snr: 0.25253060460090637, grad_mean_norm: 75.2162094116211\n",
      "level: 8, step_size: 8.45543288801582, grad_norm: 2.4315896034240723, image_norm: 224.356201171875, snr: 0.2515334486961365, grad_mean_norm: 78.406494140625\n",
      "level: 8, step_size: 8.45543288801582, grad_norm: 2.4309804439544678, image_norm: 221.3157196044922, snr: 0.2541520595550537, grad_mean_norm: 82.85395050048828\n",
      "level: 8, step_size: 8.45543288801582, grad_norm: 2.435673475265503, image_norm: 219.2285919189453, snr: 0.25407060980796814, grad_mean_norm: 83.0315933227539\n",
      "level: 8, step_size: 8.45543288801582, grad_norm: 2.421109914779663, image_norm: 216.8204345703125, snr: 0.2504098117351532, grad_mean_norm: 80.3962173461914\n",
      "level: 8, step_size: 8.45543288801582, grad_norm: 2.4272477626800537, image_norm: 213.8879852294922, snr: 0.2508671283721924, grad_mean_norm: 76.98400115966797\n",
      "level: 8, step_size: 8.45543288801582, grad_norm: 2.4267418384552, image_norm: 212.64683532714844, snr: 0.25143784284591675, grad_mean_norm: 74.26654815673828\n",
      "level: 9, step_size: 6.822906401537182, grad_norm: 2.7006924152374268, image_norm: 209.572265625, snr: 0.2510843276977539, grad_mean_norm: 75.4172592163086\n",
      "level: 9, step_size: 6.822906401537182, grad_norm: 2.6923141479492188, image_norm: 206.8596954345703, snr: 0.24966774880886078, grad_mean_norm: 74.37786102294922\n",
      "level: 9, step_size: 6.822906401537182, grad_norm: 2.7038018703460693, image_norm: 204.54351806640625, snr: 0.25081080198287964, grad_mean_norm: 73.44186401367188\n",
      "level: 9, step_size: 6.822906401537182, grad_norm: 2.7076587677001953, image_norm: 203.20449829101562, snr: 0.252003014087677, grad_mean_norm: 77.7013168334961\n",
      "level: 9, step_size: 6.822906401537182, grad_norm: 2.7078073024749756, image_norm: 201.84385681152344, snr: 0.2518155872821808, grad_mean_norm: 75.92140197753906\n",
      "level: 9, step_size: 6.822906401537182, grad_norm: 2.7039523124694824, image_norm: 201.5741729736328, snr: 0.25322312116622925, grad_mean_norm: 79.19689178466797\n",
      "level: 9, step_size: 6.822906401537182, grad_norm: 2.685091018676758, image_norm: 198.1938018798828, snr: 0.25224319100379944, grad_mean_norm: 81.22940063476562\n",
      "level: 9, step_size: 6.822906401537182, grad_norm: 2.686164140701294, image_norm: 196.209716796875, snr: 0.24662265181541443, grad_mean_norm: 80.82701873779297\n",
      "level: 9, step_size: 6.822906401537182, grad_norm: 2.685927391052246, image_norm: 193.4200897216797, snr: 0.25307098031044006, grad_mean_norm: 78.93684387207031\n",
      "level: 9, step_size: 6.822906401537182, grad_norm: 2.686617612838745, image_norm: 190.88796997070312, snr: 0.25106281042099, grad_mean_norm: 77.09880065917969\n",
      "level: 10, step_size: 5.505578765827221, grad_norm: 3.003265142440796, image_norm: 188.9643096923828, snr: 0.24806050956249237, grad_mean_norm: 80.45938110351562\n",
      "level: 10, step_size: 5.505578765827221, grad_norm: 3.0113253593444824, image_norm: 187.7865753173828, snr: 0.24847480654716492, grad_mean_norm: 78.17399597167969\n",
      "level: 10, step_size: 5.505578765827221, grad_norm: 2.9871251583099365, image_norm: 186.0800018310547, snr: 0.25013843178749084, grad_mean_norm: 74.11978912353516\n",
      "level: 10, step_size: 5.505578765827221, grad_norm: 2.9973912239074707, image_norm: 184.44088745117188, snr: 0.252485990524292, grad_mean_norm: 73.91445922851562\n",
      "level: 10, step_size: 5.505578765827221, grad_norm: 3.0046298503875732, image_norm: 183.1887969970703, snr: 0.25215986371040344, grad_mean_norm: 78.23950958251953\n",
      "level: 10, step_size: 5.505578765827221, grad_norm: 3.014230251312256, image_norm: 180.98875427246094, snr: 0.2540573179721832, grad_mean_norm: 82.67488098144531\n",
      "level: 10, step_size: 5.505578765827221, grad_norm: 3.0241317749023438, image_norm: 179.39364624023438, snr: 0.2533043920993805, grad_mean_norm: 83.12875366210938\n",
      "level: 10, step_size: 5.505578765827221, grad_norm: 3.0162386894226074, image_norm: 177.2814483642578, snr: 0.25375670194625854, grad_mean_norm: 82.93904876708984\n",
      "level: 10, step_size: 5.505578765827221, grad_norm: 3.004957914352417, image_norm: 175.54844665527344, snr: 0.24823182821273804, grad_mean_norm: 83.9710922241211\n",
      "level: 10, step_size: 5.505578765827221, grad_norm: 2.9909327030181885, image_norm: 174.04681396484375, snr: 0.2505447268486023, grad_mean_norm: 85.66619110107422\n",
      "level: 11, step_size: 4.442593194580327, grad_norm: 3.338345766067505, image_norm: 171.1798553466797, snr: 0.2547503411769867, grad_mean_norm: 85.00337219238281\n",
      "level: 11, step_size: 4.442593194580327, grad_norm: 3.351868152618408, image_norm: 168.78411865234375, snr: 0.25056323409080505, grad_mean_norm: 83.81851196289062\n",
      "level: 11, step_size: 4.442593194580327, grad_norm: 3.343193769454956, image_norm: 167.5017547607422, snr: 0.25276872515678406, grad_mean_norm: 80.71227264404297\n",
      "level: 11, step_size: 4.442593194580327, grad_norm: 3.3530735969543457, image_norm: 165.87232971191406, snr: 0.2582409083843231, grad_mean_norm: 82.16460418701172\n",
      "level: 11, step_size: 4.442593194580327, grad_norm: 3.35258412361145, image_norm: 163.6478729248047, snr: 0.25258007645606995, grad_mean_norm: 80.17131042480469\n",
      "level: 11, step_size: 4.442593194580327, grad_norm: 3.3431708812713623, image_norm: 160.6349639892578, snr: 0.25105905532836914, grad_mean_norm: 79.93761444091797\n",
      "level: 11, step_size: 4.442593194580327, grad_norm: 3.328453779220581, image_norm: 159.0574188232422, snr: 0.24959729611873627, grad_mean_norm: 77.6639633178711\n",
      "level: 11, step_size: 4.442593194580327, grad_norm: 3.336350202560425, image_norm: 158.35389709472656, snr: 0.2500196099281311, grad_mean_norm: 78.94669342041016\n",
      "level: 11, step_size: 4.442593194580327, grad_norm: 3.342090368270874, image_norm: 157.93426513671875, snr: 0.2516004741191864, grad_mean_norm: 81.59048461914062\n",
      "level: 11, step_size: 4.442593194580327, grad_norm: 3.3472981452941895, image_norm: 156.7842254638672, snr: 0.24779467284679413, grad_mean_norm: 82.29483795166016\n",
      "level: 12, step_size: 3.584842780750943, grad_norm: 3.7296700477600098, image_norm: 155.0924072265625, snr: 0.25250568985939026, grad_mean_norm: 81.92755889892578\n",
      "level: 12, step_size: 3.584842780750943, grad_norm: 3.7173409461975098, image_norm: 153.0502166748047, snr: 0.24969051778316498, grad_mean_norm: 81.85746765136719\n",
      "level: 12, step_size: 3.584842780750943, grad_norm: 3.6998214721679688, image_norm: 150.75979614257812, snr: 0.2510736584663391, grad_mean_norm: 80.29273986816406\n",
      "level: 12, step_size: 3.584842780750943, grad_norm: 3.7150065898895264, image_norm: 149.4716033935547, snr: 0.25339475274086, grad_mean_norm: 84.2798843383789\n",
      "level: 12, step_size: 3.584842780750943, grad_norm: 3.7133686542510986, image_norm: 147.6640625, snr: 0.25312891602516174, grad_mean_norm: 85.18864440917969\n",
      "level: 12, step_size: 3.584842780750943, grad_norm: 3.719581365585327, image_norm: 146.8346710205078, snr: 0.25156721472740173, grad_mean_norm: 84.59720611572266\n",
      "level: 12, step_size: 3.584842780750943, grad_norm: 3.7127768993377686, image_norm: 144.6450958251953, snr: 0.25035732984542847, grad_mean_norm: 86.54182434082031\n",
      "level: 12, step_size: 3.584842780750943, grad_norm: 3.709033250808716, image_norm: 144.1410675048828, snr: 0.25167587399482727, grad_mean_norm: 81.63502502441406\n",
      "level: 12, step_size: 3.584842780750943, grad_norm: 3.6987533569335938, image_norm: 142.84922790527344, snr: 0.24950218200683594, grad_mean_norm: 80.9343490600586\n",
      "level: 12, step_size: 3.584842780750943, grad_norm: 3.701786756515503, image_norm: 140.90237426757812, snr: 0.24891749024391174, grad_mean_norm: 81.01972198486328\n",
      "level: 13, step_size: 2.892701897256689, grad_norm: 4.1152448654174805, image_norm: 138.73690795898438, snr: 0.2520521581172943, grad_mean_norm: 80.82682037353516\n",
      "level: 13, step_size: 2.892701897256689, grad_norm: 4.090397834777832, image_norm: 137.24119567871094, snr: 0.2511487901210785, grad_mean_norm: 78.31475067138672\n",
      "level: 13, step_size: 2.892701897256689, grad_norm: 4.108006954193115, image_norm: 136.05142211914062, snr: 0.25273603200912476, grad_mean_norm: 80.34093475341797\n",
      "level: 13, step_size: 2.892701897256689, grad_norm: 4.117578983306885, image_norm: 134.36244201660156, snr: 0.252201110124588, grad_mean_norm: 83.67694091796875\n",
      "level: 13, step_size: 2.892701897256689, grad_norm: 4.115708351135254, image_norm: 132.72889709472656, snr: 0.24675136804580688, grad_mean_norm: 86.10436248779297\n",
      "level: 13, step_size: 2.892701897256689, grad_norm: 4.1007843017578125, image_norm: 130.7837677001953, snr: 0.24470795691013336, grad_mean_norm: 85.30827331542969\n",
      "level: 13, step_size: 2.892701897256689, grad_norm: 4.096337795257568, image_norm: 129.36924743652344, snr: 0.24802251160144806, grad_mean_norm: 89.14099884033203\n",
      "level: 13, step_size: 2.892701897256689, grad_norm: 4.094881534576416, image_norm: 127.77225494384766, snr: 0.24495866894721985, grad_mean_norm: 88.35143280029297\n",
      "level: 13, step_size: 2.892701897256689, grad_norm: 4.087380886077881, image_norm: 125.76747131347656, snr: 0.25152796506881714, grad_mean_norm: 84.83168029785156\n",
      "level: 13, step_size: 2.892701897256689, grad_norm: 4.078490257263184, image_norm: 123.63933563232422, snr: 0.24873191118240356, grad_mean_norm: 84.9490966796875\n",
      "level: 14, step_size: 2.3341956058222433, grad_norm: 4.546585559844971, image_norm: 122.23397064208984, snr: 0.2503381669521332, grad_mean_norm: 86.1216049194336\n",
      "level: 14, step_size: 2.3341956058222433, grad_norm: 4.521739959716797, image_norm: 121.1716537475586, snr: 0.24688413739204407, grad_mean_norm: 83.34428405761719\n",
      "level: 14, step_size: 2.3341956058222433, grad_norm: 4.515003204345703, image_norm: 119.3235855102539, snr: 0.24631541967391968, grad_mean_norm: 86.51900482177734\n",
      "level: 14, step_size: 2.3341956058222433, grad_norm: 4.501387596130371, image_norm: 118.09789276123047, snr: 0.24517400562763214, grad_mean_norm: 82.9444808959961\n",
      "level: 14, step_size: 2.3341956058222433, grad_norm: 4.497859954833984, image_norm: 116.43065643310547, snr: 0.2418108880519867, grad_mean_norm: 82.6021957397461\n",
      "level: 14, step_size: 2.3341956058222433, grad_norm: 4.4838128089904785, image_norm: 114.8970718383789, snr: 0.2453307956457138, grad_mean_norm: 83.02499389648438\n",
      "level: 14, step_size: 2.3341956058222433, grad_norm: 4.468624114990234, image_norm: 114.60411834716797, snr: 0.23870432376861572, grad_mean_norm: 80.416259765625\n",
      "level: 14, step_size: 2.3341956058222433, grad_norm: 4.470510959625244, image_norm: 113.9066162109375, snr: 0.2441515028476715, grad_mean_norm: 81.52107238769531\n",
      "level: 14, step_size: 2.3341956058222433, grad_norm: 4.469841480255127, image_norm: 112.56868743896484, snr: 0.24487605690956116, grad_mean_norm: 79.61861419677734\n",
      "level: 14, step_size: 2.3341956058222433, grad_norm: 4.471621990203857, image_norm: 111.26411437988281, snr: 0.24351190030574799, grad_mean_norm: 83.74567413330078\n",
      "level: 15, step_size: 1.8835225058644853, grad_norm: 4.988341808319092, image_norm: 110.2147216796875, snr: 0.24464543163776398, grad_mean_norm: 86.50788116455078\n",
      "level: 15, step_size: 1.8835225058644853, grad_norm: 4.981009006500244, image_norm: 108.86002349853516, snr: 0.2436356544494629, grad_mean_norm: 86.66767120361328\n",
      "level: 15, step_size: 1.8835225058644853, grad_norm: 4.973966598510742, image_norm: 108.2706298828125, snr: 0.24424095451831818, grad_mean_norm: 84.28897857666016\n",
      "level: 15, step_size: 1.8835225058644853, grad_norm: 4.979268550872803, image_norm: 106.68070220947266, snr: 0.24569891393184662, grad_mean_norm: 83.3026123046875\n",
      "level: 15, step_size: 1.8835225058644853, grad_norm: 4.962191104888916, image_norm: 105.68126678466797, snr: 0.2465962916612625, grad_mean_norm: 80.00357055664062\n",
      "level: 15, step_size: 1.8835225058644853, grad_norm: 4.952484130859375, image_norm: 104.745361328125, snr: 0.24017848074436188, grad_mean_norm: 79.65201568603516\n",
      "level: 15, step_size: 1.8835225058644853, grad_norm: 4.955688953399658, image_norm: 103.3329086303711, snr: 0.24449068307876587, grad_mean_norm: 77.71614074707031\n",
      "level: 15, step_size: 1.8835225058644853, grad_norm: 4.9279093742370605, image_norm: 101.81391906738281, snr: 0.24436409771442413, grad_mean_norm: 76.92850494384766\n",
      "level: 15, step_size: 1.8835225058644853, grad_norm: 4.918830394744873, image_norm: 100.26883697509766, snr: 0.24131570756435394, grad_mean_norm: 75.61133575439453\n",
      "level: 15, step_size: 1.8835225058644853, grad_norm: 4.900983810424805, image_norm: 99.51091766357422, snr: 0.2385546863079071, grad_mean_norm: 76.02450561523438\n",
      "level: 16, step_size: 1.5198627832427674, grad_norm: 5.469451904296875, image_norm: 99.0892562866211, snr: 0.23984050750732422, grad_mean_norm: 76.4627914428711\n",
      "level: 16, step_size: 1.5198627832427674, grad_norm: 5.472663402557373, image_norm: 97.82659912109375, snr: 0.24261347949504852, grad_mean_norm: 75.22869110107422\n",
      "level: 16, step_size: 1.5198627832427674, grad_norm: 5.470644950866699, image_norm: 96.12699890136719, snr: 0.23882664740085602, grad_mean_norm: 74.52527618408203\n",
      "level: 16, step_size: 1.5198627832427674, grad_norm: 5.4769182205200195, image_norm: 94.31058502197266, snr: 0.24180370569229126, grad_mean_norm: 75.99275207519531\n",
      "level: 16, step_size: 1.5198627832427674, grad_norm: 5.465736389160156, image_norm: 93.01028442382812, snr: 0.2369885891675949, grad_mean_norm: 73.95570373535156\n",
      "level: 16, step_size: 1.5198627832427674, grad_norm: 5.4590582847595215, image_norm: 92.68566131591797, snr: 0.237590029835701, grad_mean_norm: 74.61974334716797\n",
      "level: 16, step_size: 1.5198627832427674, grad_norm: 5.462682723999023, image_norm: 91.31523132324219, snr: 0.2420397698879242, grad_mean_norm: 78.2601089477539\n",
      "level: 16, step_size: 1.5198627832427674, grad_norm: 5.437023162841797, image_norm: 90.03319549560547, snr: 0.24073976278305054, grad_mean_norm: 77.33370208740234\n",
      "level: 16, step_size: 1.5198627832427674, grad_norm: 5.4044108390808105, image_norm: 89.02205657958984, snr: 0.2399541139602661, grad_mean_norm: 80.52790069580078\n",
      "level: 16, step_size: 1.5198627832427674, grad_norm: 5.401648998260498, image_norm: 88.615234375, snr: 0.23509788513183594, grad_mean_norm: 81.65469360351562\n",
      "level: 17, step_size: 1.2264163941201391, grad_norm: 5.98586893081665, image_norm: 88.08882904052734, snr: 0.23668336868286133, grad_mean_norm: 83.40096282958984\n",
      "level: 17, step_size: 1.2264163941201391, grad_norm: 5.981807231903076, image_norm: 87.38874816894531, snr: 0.23668131232261658, grad_mean_norm: 86.89363098144531\n",
      "level: 17, step_size: 1.2264163941201391, grad_norm: 6.004260540008545, image_norm: 86.47887420654297, snr: 0.23876307904720306, grad_mean_norm: 87.2505874633789\n",
      "level: 17, step_size: 1.2264163941201391, grad_norm: 5.973260402679443, image_norm: 84.9991455078125, snr: 0.2358323484659195, grad_mean_norm: 86.13825988769531\n",
      "level: 17, step_size: 1.2264163941201391, grad_norm: 5.942428112030029, image_norm: 84.2732162475586, snr: 0.2378876954317093, grad_mean_norm: 87.26750946044922\n",
      "level: 17, step_size: 1.2264163941201391, grad_norm: 5.952906608581543, image_norm: 83.53558349609375, snr: 0.23430649936199188, grad_mean_norm: 83.9744644165039\n",
      "level: 17, step_size: 1.2264163941201391, grad_norm: 5.944245338439941, image_norm: 83.0479736328125, snr: 0.23597978055477142, grad_mean_norm: 84.94173431396484\n",
      "level: 17, step_size: 1.2264163941201391, grad_norm: 5.925400257110596, image_norm: 82.19314575195312, snr: 0.23327423632144928, grad_mean_norm: 81.40081024169922\n",
      "level: 17, step_size: 1.2264163941201391, grad_norm: 5.9068732261657715, image_norm: 81.4911880493164, snr: 0.23124031722545624, grad_mean_norm: 80.52989959716797\n",
      "level: 17, step_size: 1.2264163941201391, grad_norm: 5.913780212402344, image_norm: 80.8876953125, snr: 0.2323722243309021, grad_mean_norm: 82.7320556640625\n",
      "level: 18, step_size: 0.989626950768223, grad_norm: 6.582674503326416, image_norm: 80.24930572509766, snr: 0.2326052486896515, grad_mean_norm: 83.3408432006836\n",
      "level: 18, step_size: 0.989626950768223, grad_norm: 6.558554172515869, image_norm: 79.85609436035156, snr: 0.23284372687339783, grad_mean_norm: 81.3611831665039\n",
      "level: 18, step_size: 0.989626950768223, grad_norm: 6.545233249664307, image_norm: 79.00566864013672, snr: 0.2343016117811203, grad_mean_norm: 78.34461212158203\n",
      "level: 18, step_size: 0.989626950768223, grad_norm: 6.562602996826172, image_norm: 78.14923858642578, snr: 0.2328437864780426, grad_mean_norm: 77.0099868774414\n",
      "level: 18, step_size: 0.989626950768223, grad_norm: 6.559263706207275, image_norm: 77.14410400390625, snr: 0.2334948182106018, grad_mean_norm: 78.84822082519531\n",
      "level: 18, step_size: 0.989626950768223, grad_norm: 6.5610551834106445, image_norm: 76.5486831665039, snr: 0.23419800400733948, grad_mean_norm: 79.99748229980469\n",
      "level: 18, step_size: 0.989626950768223, grad_norm: 6.553374767303467, image_norm: 76.07977294921875, snr: 0.2311701476573944, grad_mean_norm: 79.51289367675781\n",
      "level: 18, step_size: 0.989626950768223, grad_norm: 6.553934574127197, image_norm: 75.6460952758789, snr: 0.233755961060524, grad_mean_norm: 80.04523468017578\n",
      "level: 18, step_size: 0.989626950768223, grad_norm: 6.557374477386475, image_norm: 75.48772430419922, snr: 0.2341829091310501, grad_mean_norm: 79.2430648803711\n",
      "level: 18, step_size: 0.989626950768223, grad_norm: 6.583553314208984, image_norm: 75.00996398925781, snr: 0.2330903708934784, grad_mean_norm: 79.04220581054688\n",
      "level: 19, step_size: 0.798555455049529, grad_norm: 7.314128398895264, image_norm: 74.32869720458984, snr: 0.23641426861286163, grad_mean_norm: 80.86759948730469\n",
      "level: 19, step_size: 0.798555455049529, grad_norm: 7.316120147705078, image_norm: 73.95045471191406, snr: 0.23037634789943695, grad_mean_norm: 81.10332489013672\n",
      "level: 19, step_size: 0.798555455049529, grad_norm: 7.298478603363037, image_norm: 72.80299377441406, snr: 0.2310260534286499, grad_mean_norm: 82.53827667236328\n",
      "level: 19, step_size: 0.798555455049529, grad_norm: 7.267782688140869, image_norm: 72.27703857421875, snr: 0.2319461852312088, grad_mean_norm: 82.49497985839844\n",
      "level: 19, step_size: 0.798555455049529, grad_norm: 7.275559425354004, image_norm: 71.0117416381836, snr: 0.23700618743896484, grad_mean_norm: 79.51930236816406\n",
      "level: 19, step_size: 0.798555455049529, grad_norm: 7.274662017822266, image_norm: 70.4615249633789, snr: 0.23580394685268402, grad_mean_norm: 77.14202880859375\n",
      "level: 19, step_size: 0.798555455049529, grad_norm: 7.271484375, image_norm: 69.9888916015625, snr: 0.22910267114639282, grad_mean_norm: 76.87346649169922\n",
      "level: 19, step_size: 0.798555455049529, grad_norm: 7.269931316375732, image_norm: 69.3522720336914, snr: 0.2325652539730072, grad_mean_norm: 76.06835174560547\n",
      "level: 19, step_size: 0.798555455049529, grad_norm: 7.245604038238525, image_norm: 68.84261322021484, snr: 0.22857290506362915, grad_mean_norm: 73.20474243164062\n",
      "level: 19, step_size: 0.798555455049529, grad_norm: 7.257240295410156, image_norm: 68.10125732421875, snr: 0.2360640913248062, grad_mean_norm: 71.58602142333984\n",
      "level: 20, step_size: 0.6443749478471025, grad_norm: 8.076544761657715, image_norm: 67.49845123291016, snr: 0.230123370885849, grad_mean_norm: 70.31352233886719\n",
      "level: 20, step_size: 0.6443749478471025, grad_norm: 8.072697639465332, image_norm: 66.69927978515625, snr: 0.231946662068367, grad_mean_norm: 70.43827819824219\n",
      "level: 20, step_size: 0.6443749478471025, grad_norm: 8.045327186584473, image_norm: 66.1380844116211, snr: 0.22959420084953308, grad_mean_norm: 70.33809661865234\n",
      "level: 20, step_size: 0.6443749478471025, grad_norm: 8.059585571289062, image_norm: 65.73290252685547, snr: 0.22874027490615845, grad_mean_norm: 69.47085571289062\n",
      "level: 20, step_size: 0.6443749478471025, grad_norm: 8.07730770111084, image_norm: 65.72806549072266, snr: 0.23141589760780334, grad_mean_norm: 70.03833770751953\n",
      "level: 20, step_size: 0.6443749478471025, grad_norm: 8.07477855682373, image_norm: 65.2020492553711, snr: 0.2326255440711975, grad_mean_norm: 69.89584350585938\n",
      "level: 20, step_size: 0.6443749478471025, grad_norm: 8.063883781433105, image_norm: 64.55970764160156, snr: 0.22800879180431366, grad_mean_norm: 70.25440979003906\n",
      "level: 20, step_size: 0.6443749478471025, grad_norm: 8.069406509399414, image_norm: 64.44327545166016, snr: 0.22847850620746613, grad_mean_norm: 68.92557525634766\n",
      "level: 20, step_size: 0.6443749478471025, grad_norm: 8.048619270324707, image_norm: 63.75252914428711, snr: 0.23405718803405762, grad_mean_norm: 70.79386901855469\n",
      "level: 20, step_size: 0.6443749478471025, grad_norm: 8.012560844421387, image_norm: 63.185951232910156, snr: 0.2276533544063568, grad_mean_norm: 69.5986557006836\n",
      "level: 21, step_size: 0.5199627286838868, grad_norm: 8.922064781188965, image_norm: 62.96273422241211, snr: 0.2290249764919281, grad_mean_norm: 70.70248413085938\n",
      "level: 21, step_size: 0.5199627286838868, grad_norm: 8.919883728027344, image_norm: 62.1224250793457, snr: 0.22859932482242584, grad_mean_norm: 72.20771789550781\n",
      "level: 21, step_size: 0.5199627286838868, grad_norm: 8.905543327331543, image_norm: 61.871734619140625, snr: 0.23034551739692688, grad_mean_norm: 74.99028015136719\n",
      "level: 21, step_size: 0.5199627286838868, grad_norm: 8.905196189880371, image_norm: 61.582820892333984, snr: 0.23050375282764435, grad_mean_norm: 75.71623229980469\n",
      "level: 21, step_size: 0.5199627286838868, grad_norm: 8.898996353149414, image_norm: 61.07204818725586, snr: 0.22859825193881989, grad_mean_norm: 74.40579223632812\n",
      "level: 21, step_size: 0.5199627286838868, grad_norm: 8.853337287902832, image_norm: 60.7385368347168, snr: 0.2250700145959854, grad_mean_norm: 74.79415130615234\n",
      "level: 21, step_size: 0.5199627286838868, grad_norm: 8.878463745117188, image_norm: 59.93610763549805, snr: 0.23047882318496704, grad_mean_norm: 75.65742492675781\n",
      "level: 21, step_size: 0.5199627286838868, grad_norm: 8.941917419433594, image_norm: 59.43951416015625, snr: 0.22783726453781128, grad_mean_norm: 76.34969329833984\n",
      "level: 21, step_size: 0.5199627286838868, grad_norm: 8.91899585723877, image_norm: 58.93790817260742, snr: 0.2293005734682083, grad_mean_norm: 75.1708755493164\n",
      "level: 21, step_size: 0.5199627286838868, grad_norm: 8.901167869567871, image_norm: 58.4635124206543, snr: 0.2291286587715149, grad_mean_norm: 72.81922149658203\n",
      "level: 22, step_size: 0.41957130723918945, grad_norm: 9.942599296569824, image_norm: 57.74831771850586, snr: 0.23135805130004883, grad_mean_norm: 73.4425277709961\n",
      "level: 22, step_size: 0.41957130723918945, grad_norm: 9.951682090759277, image_norm: 57.479949951171875, snr: 0.23013602197170258, grad_mean_norm: 74.12371063232422\n",
      "level: 22, step_size: 0.41957130723918945, grad_norm: 9.901786804199219, image_norm: 57.08828353881836, snr: 0.22629502415657043, grad_mean_norm: 73.41222381591797\n",
      "level: 22, step_size: 0.41957130723918945, grad_norm: 9.956435203552246, image_norm: 56.4803581237793, snr: 0.23357108235359192, grad_mean_norm: 73.59503936767578\n",
      "level: 22, step_size: 0.41957130723918945, grad_norm: 9.931595802307129, image_norm: 55.80018997192383, snr: 0.23175323009490967, grad_mean_norm: 71.76270294189453\n",
      "level: 22, step_size: 0.41957130723918945, grad_norm: 9.955367088317871, image_norm: 55.4127311706543, snr: 0.23026740550994873, grad_mean_norm: 72.39068603515625\n",
      "level: 22, step_size: 0.41957130723918945, grad_norm: 9.913840293884277, image_norm: 54.5775260925293, snr: 0.22925330698490143, grad_mean_norm: 71.5990219116211\n",
      "level: 22, step_size: 0.41957130723918945, grad_norm: 9.858149528503418, image_norm: 54.26934814453125, snr: 0.2274152785539627, grad_mean_norm: 67.80320739746094\n",
      "level: 22, step_size: 0.41957130723918945, grad_norm: 9.838011741638184, image_norm: 53.5042724609375, snr: 0.22848020493984222, grad_mean_norm: 69.64173126220703\n",
      "level: 22, step_size: 0.41957130723918945, grad_norm: 9.85645580291748, image_norm: 52.88827133178711, snr: 0.23032128810882568, grad_mean_norm: 70.16609954833984\n",
      "level: 23, step_size: 0.3385628856591114, grad_norm: 10.928421974182129, image_norm: 52.366024017333984, snr: 0.22770455479621887, grad_mean_norm: 72.03092956542969\n",
      "level: 23, step_size: 0.3385628856591114, grad_norm: 10.936281204223633, image_norm: 51.8983039855957, snr: 0.22572699189186096, grad_mean_norm: 69.66808319091797\n",
      "level: 23, step_size: 0.3385628856591114, grad_norm: 10.8970365524292, image_norm: 51.28933334350586, snr: 0.22835712134838104, grad_mean_norm: 67.80726623535156\n",
      "level: 23, step_size: 0.3385628856591114, grad_norm: 10.907936096191406, image_norm: 50.76921844482422, snr: 0.2263454794883728, grad_mean_norm: 68.17354583740234\n",
      "level: 23, step_size: 0.3385628856591114, grad_norm: 10.91306209564209, image_norm: 50.5750732421875, snr: 0.22492516040802002, grad_mean_norm: 69.29365539550781\n",
      "level: 23, step_size: 0.3385628856591114, grad_norm: 10.917431831359863, image_norm: 49.92128372192383, snr: 0.22567816078662872, grad_mean_norm: 70.17955017089844\n",
      "level: 23, step_size: 0.3385628856591114, grad_norm: 10.891618728637695, image_norm: 49.18327713012695, snr: 0.2283603549003601, grad_mean_norm: 69.82079315185547\n",
      "level: 23, step_size: 0.3385628856591114, grad_norm: 10.98082447052002, image_norm: 48.68683624267578, snr: 0.22747346758842468, grad_mean_norm: 73.10874938964844\n",
      "level: 23, step_size: 0.3385628856591114, grad_norm: 10.939043998718262, image_norm: 48.167564392089844, snr: 0.2313178926706314, grad_mean_norm: 72.978759765625\n",
      "level: 23, step_size: 0.3385628856591114, grad_norm: 10.922075271606445, image_norm: 47.903053283691406, snr: 0.2275950014591217, grad_mean_norm: 69.24172973632812\n",
      "level: 24, step_size: 0.2731951054996216, grad_norm: 12.190844535827637, image_norm: 47.4245719909668, snr: 0.22781743109226227, grad_mean_norm: 72.99995422363281\n",
      "level: 24, step_size: 0.2731951054996216, grad_norm: 12.170592308044434, image_norm: 46.93336868286133, snr: 0.22882595658302307, grad_mean_norm: 74.22962951660156\n",
      "level: 24, step_size: 0.2731951054996216, grad_norm: 12.209643363952637, image_norm: 46.37515640258789, snr: 0.2298726737499237, grad_mean_norm: 71.485107421875\n",
      "level: 24, step_size: 0.2731951054996216, grad_norm: 12.213398933410645, image_norm: 45.88518524169922, snr: 0.22741848230361938, grad_mean_norm: 70.83399200439453\n",
      "level: 24, step_size: 0.2731951054996216, grad_norm: 12.148358345031738, image_norm: 45.45000076293945, snr: 0.22553075850009918, grad_mean_norm: 68.72933197021484\n",
      "level: 24, step_size: 0.2731951054996216, grad_norm: 12.142546653747559, image_norm: 45.01383972167969, snr: 0.2254026234149933, grad_mean_norm: 67.2488021850586\n",
      "level: 24, step_size: 0.2731951054996216, grad_norm: 12.11778450012207, image_norm: 44.793113708496094, snr: 0.2230348438024521, grad_mean_norm: 71.22355651855469\n",
      "level: 24, step_size: 0.2731951054996216, grad_norm: 12.138346672058105, image_norm: 44.27606964111328, snr: 0.2288692146539688, grad_mean_norm: 66.56839752197266\n",
      "level: 24, step_size: 0.2731951054996216, grad_norm: 12.189894676208496, image_norm: 43.97530746459961, snr: 0.22655287384986877, grad_mean_norm: 67.34586334228516\n",
      "level: 24, step_size: 0.2731951054996216, grad_norm: 12.178415298461914, image_norm: 43.05773162841797, snr: 0.22456897795200348, grad_mean_norm: 65.009033203125\n",
      "level: 25, step_size: 0.2204481614210295, grad_norm: 13.539593696594238, image_norm: 42.75053024291992, snr: 0.2269757091999054, grad_mean_norm: 65.72163391113281\n",
      "level: 25, step_size: 0.2204481614210295, grad_norm: 13.52075481414795, image_norm: 42.21818161010742, snr: 0.2249276340007782, grad_mean_norm: 65.3758544921875\n",
      "level: 25, step_size: 0.2204481614210295, grad_norm: 13.51371955871582, image_norm: 41.986732482910156, snr: 0.2276267260313034, grad_mean_norm: 65.20846557617188\n",
      "level: 25, step_size: 0.2204481614210295, grad_norm: 13.519572257995605, image_norm: 41.36470413208008, snr: 0.2272956520318985, grad_mean_norm: 64.89567565917969\n",
      "level: 25, step_size: 0.2204481614210295, grad_norm: 13.5637788772583, image_norm: 40.92234420776367, snr: 0.22787387669086456, grad_mean_norm: 66.8068618774414\n",
      "level: 25, step_size: 0.2204481614210295, grad_norm: 13.516486167907715, image_norm: 40.73143768310547, snr: 0.22435539960861206, grad_mean_norm: 64.18148040771484\n",
      "level: 25, step_size: 0.2204481614210295, grad_norm: 13.556739807128906, image_norm: 40.458404541015625, snr: 0.2289705127477646, grad_mean_norm: 67.44619750976562\n",
      "level: 25, step_size: 0.2204481614210295, grad_norm: 13.582629203796387, image_norm: 40.120357513427734, snr: 0.227761909365654, grad_mean_norm: 68.23308563232422\n",
      "level: 25, step_size: 0.2204481614210295, grad_norm: 13.6001615524292, image_norm: 39.99745559692383, snr: 0.22754733264446259, grad_mean_norm: 70.32057189941406\n",
      "level: 25, step_size: 0.2204481614210295, grad_norm: 13.544817924499512, image_norm: 39.75063705444336, snr: 0.22648094594478607, grad_mean_norm: 70.77926635742188\n",
      "level: 26, step_size: 0.17788529477875153, grad_norm: 15.025500297546387, image_norm: 39.54205322265625, snr: 0.22447393834590912, grad_mean_norm: 67.04590606689453\n",
      "level: 26, step_size: 0.17788529477875153, grad_norm: 15.074885368347168, image_norm: 39.260250091552734, snr: 0.2273256927728653, grad_mean_norm: 64.09574127197266\n",
      "level: 26, step_size: 0.17788529477875153, grad_norm: 15.054945945739746, image_norm: 38.711280822753906, snr: 0.22922135889530182, grad_mean_norm: 64.27057647705078\n",
      "level: 26, step_size: 0.17788529477875153, grad_norm: 15.091464042663574, image_norm: 38.327842712402344, snr: 0.22580116987228394, grad_mean_norm: 65.65515899658203\n",
      "level: 26, step_size: 0.17788529477875153, grad_norm: 15.0878324508667, image_norm: 37.96028518676758, snr: 0.23037557303905487, grad_mean_norm: 66.93415069580078\n",
      "level: 26, step_size: 0.17788529477875153, grad_norm: 15.025537490844727, image_norm: 37.73690414428711, snr: 0.2288646697998047, grad_mean_norm: 66.29524230957031\n",
      "level: 26, step_size: 0.17788529477875153, grad_norm: 15.105812072753906, image_norm: 37.44546127319336, snr: 0.2279270738363266, grad_mean_norm: 66.5334243774414\n",
      "level: 26, step_size: 0.17788529477875153, grad_norm: 15.083345413208008, image_norm: 37.28047561645508, snr: 0.22639858722686768, grad_mean_norm: 66.75350189208984\n",
      "level: 26, step_size: 0.17788529477875153, grad_norm: 15.078181266784668, image_norm: 37.12746047973633, snr: 0.22768431901931763, grad_mean_norm: 65.98087310791016\n",
      "level: 26, step_size: 0.17788529477875153, grad_norm: 15.032355308532715, image_norm: 36.774879455566406, snr: 0.22446627914905548, grad_mean_norm: 64.50642395019531\n",
      "level: 27, step_size: 0.14354022231144228, grad_norm: 16.767715454101562, image_norm: 36.49905776977539, snr: 0.22801725566387177, grad_mean_norm: 66.07775115966797\n",
      "level: 27, step_size: 0.14354022231144228, grad_norm: 16.73895835876465, image_norm: 36.01118850708008, snr: 0.22759605944156647, grad_mean_norm: 63.750205993652344\n",
      "level: 27, step_size: 0.14354022231144228, grad_norm: 16.745847702026367, image_norm: 35.54362106323242, snr: 0.22809576988220215, grad_mean_norm: 65.2470474243164\n",
      "level: 27, step_size: 0.14354022231144228, grad_norm: 16.887372970581055, image_norm: 35.1663703918457, snr: 0.22884830832481384, grad_mean_norm: 67.223388671875\n",
      "level: 27, step_size: 0.14354022231144228, grad_norm: 16.907588958740234, image_norm: 34.620628356933594, snr: 0.23035404086112976, grad_mean_norm: 66.16307830810547\n",
      "level: 27, step_size: 0.14354022231144228, grad_norm: 16.967374801635742, image_norm: 34.150917053222656, snr: 0.23074953258037567, grad_mean_norm: 68.59697723388672\n",
      "level: 27, step_size: 0.14354022231144228, grad_norm: 16.994949340820312, image_norm: 33.817256927490234, snr: 0.2304335981607437, grad_mean_norm: 70.26701354980469\n",
      "level: 27, step_size: 0.14354022231144228, grad_norm: 17.109590530395508, image_norm: 33.59505844116211, snr: 0.23400352895259857, grad_mean_norm: 71.90835571289062\n",
      "level: 27, step_size: 0.14354022231144228, grad_norm: 17.116010665893555, image_norm: 33.318092346191406, snr: 0.22910407185554504, grad_mean_norm: 74.15045928955078\n",
      "level: 27, step_size: 0.14354022231144228, grad_norm: 17.01046371459961, image_norm: 32.99460220336914, snr: 0.22975458204746246, grad_mean_norm: 72.65170288085938\n",
      "level: 28, step_size: 0.1158262994523785, grad_norm: 18.871374130249023, image_norm: 32.692142486572266, snr: 0.22741234302520752, grad_mean_norm: 74.59241485595703\n",
      "level: 28, step_size: 0.1158262994523785, grad_norm: 18.986873626708984, image_norm: 32.424652099609375, snr: 0.23148775100708008, grad_mean_norm: 77.74674224853516\n",
      "level: 28, step_size: 0.1158262994523785, grad_norm: 19.033859252929688, image_norm: 32.09246826171875, snr: 0.22946779429912567, grad_mean_norm: 78.62395477294922\n",
      "level: 28, step_size: 0.1158262994523785, grad_norm: 19.07832145690918, image_norm: 31.57622718811035, snr: 0.23144426941871643, grad_mean_norm: 79.39508056640625\n",
      "level: 28, step_size: 0.1158262994523785, grad_norm: 19.070720672607422, image_norm: 31.414947509765625, snr: 0.23370133340358734, grad_mean_norm: 78.31295776367188\n",
      "level: 28, step_size: 0.1158262994523785, grad_norm: 18.934844970703125, image_norm: 31.18251609802246, snr: 0.23048532009124756, grad_mean_norm: 76.43775939941406\n",
      "level: 28, step_size: 0.1158262994523785, grad_norm: 18.973270416259766, image_norm: 30.840808868408203, snr: 0.23108409345149994, grad_mean_norm: 76.7436294555664\n",
      "level: 28, step_size: 0.1158262994523785, grad_norm: 18.90352439880371, image_norm: 30.634342193603516, snr: 0.2280530482530594, grad_mean_norm: 75.31397247314453\n",
      "level: 28, step_size: 0.1158262994523785, grad_norm: 18.778417587280273, image_norm: 30.517242431640625, snr: 0.22926490008831024, grad_mean_norm: 75.62786865234375\n",
      "level: 28, step_size: 0.1158262994523785, grad_norm: 18.873519897460938, image_norm: 30.050800323486328, snr: 0.22697000205516815, grad_mean_norm: 76.35811614990234\n",
      "level: 29, step_size: 0.09346322186769125, grad_norm: 20.958890914916992, image_norm: 29.72894859313965, snr: 0.22844670712947845, grad_mean_norm: 75.49827575683594\n",
      "level: 29, step_size: 0.09346322186769125, grad_norm: 20.935171127319336, image_norm: 29.21693992614746, snr: 0.23106911778450012, grad_mean_norm: 76.52133178710938\n",
      "level: 29, step_size: 0.09346322186769125, grad_norm: 20.96357536315918, image_norm: 28.917713165283203, snr: 0.22804677486419678, grad_mean_norm: 78.16062927246094\n",
      "level: 29, step_size: 0.09346322186769125, grad_norm: 20.954631805419922, image_norm: 28.6322021484375, snr: 0.22755864262580872, grad_mean_norm: 76.93009185791016\n",
      "level: 29, step_size: 0.09346322186769125, grad_norm: 20.901880264282227, image_norm: 28.27579689025879, snr: 0.22549530863761902, grad_mean_norm: 77.00164794921875\n",
      "level: 29, step_size: 0.09346322186769125, grad_norm: 20.877050399780273, image_norm: 28.15785789489746, snr: 0.2271086871623993, grad_mean_norm: 75.66490173339844\n",
      "level: 29, step_size: 0.09346322186769125, grad_norm: 20.863525390625, image_norm: 27.87784194946289, snr: 0.22842560708522797, grad_mean_norm: 75.99114227294922\n",
      "level: 29, step_size: 0.09346322186769125, grad_norm: 20.903989791870117, image_norm: 27.572309494018555, snr: 0.2289125919342041, grad_mean_norm: 78.66075134277344\n",
      "level: 29, step_size: 0.09346322186769125, grad_norm: 20.89383316040039, image_norm: 27.322784423828125, snr: 0.22763779759407043, grad_mean_norm: 77.80884552001953\n",
      "level: 29, step_size: 0.09346322186769125, grad_norm: 20.873926162719727, image_norm: 27.09259605407715, snr: 0.22569400072097778, grad_mean_norm: 80.02587127685547\n",
      "level: 30, step_size: 0.07541787904119984, grad_norm: 23.300703048706055, image_norm: 26.931787490844727, snr: 0.23063871264457703, grad_mean_norm: 81.898681640625\n",
      "level: 30, step_size: 0.07541787904119984, grad_norm: 23.273908615112305, image_norm: 26.72992515563965, snr: 0.228096604347229, grad_mean_norm: 80.57209014892578\n",
      "level: 30, step_size: 0.07541787904119984, grad_norm: 23.246370315551758, image_norm: 26.4953670501709, snr: 0.2278105467557907, grad_mean_norm: 80.2630615234375\n",
      "level: 30, step_size: 0.07541787904119984, grad_norm: 23.18381690979004, image_norm: 26.315673828125, snr: 0.2270197868347168, grad_mean_norm: 80.60420227050781\n",
      "level: 30, step_size: 0.07541787904119984, grad_norm: 23.2247257232666, image_norm: 26.118066787719727, snr: 0.22885699570178986, grad_mean_norm: 77.29054260253906\n",
      "level: 30, step_size: 0.07541787904119984, grad_norm: 23.16651725769043, image_norm: 25.7757511138916, snr: 0.2277097851037979, grad_mean_norm: 77.76040649414062\n",
      "level: 30, step_size: 0.07541787904119984, grad_norm: 23.240144729614258, image_norm: 25.653196334838867, snr: 0.2249954789876938, grad_mean_norm: 76.64862823486328\n",
      "level: 30, step_size: 0.07541787904119984, grad_norm: 23.261348724365234, image_norm: 25.353954315185547, snr: 0.22807279229164124, grad_mean_norm: 75.26692962646484\n",
      "level: 30, step_size: 0.07541787904119984, grad_norm: 23.156635284423828, image_norm: 25.279531478881836, snr: 0.23000456392765045, grad_mean_norm: 76.02333068847656\n",
      "level: 30, step_size: 0.07541787904119984, grad_norm: 23.085325241088867, image_norm: 25.104124069213867, snr: 0.22590690851211548, grad_mean_norm: 76.61564636230469\n",
      "level: 31, step_size: 0.060856627509855384, grad_norm: 25.65528678894043, image_norm: 24.9476375579834, snr: 0.22667299211025238, grad_mean_norm: 77.88156127929688\n",
      "level: 31, step_size: 0.060856627509855384, grad_norm: 25.6876277923584, image_norm: 24.5963191986084, snr: 0.22668632864952087, grad_mean_norm: 78.36006164550781\n",
      "level: 31, step_size: 0.060856627509855384, grad_norm: 25.702478408813477, image_norm: 24.343481063842773, snr: 0.22822745144367218, grad_mean_norm: 79.5257568359375\n",
      "level: 31, step_size: 0.060856627509855384, grad_norm: 25.6413631439209, image_norm: 24.20413589477539, snr: 0.22071786224842072, grad_mean_norm: 77.49940490722656\n",
      "level: 31, step_size: 0.060856627509855384, grad_norm: 25.66336441040039, image_norm: 23.8642635345459, snr: 0.22738653421401978, grad_mean_norm: 77.03443145751953\n",
      "level: 31, step_size: 0.060856627509855384, grad_norm: 25.57370376586914, image_norm: 23.691204071044922, snr: 0.22573386132717133, grad_mean_norm: 77.12905883789062\n",
      "level: 31, step_size: 0.060856627509855384, grad_norm: 25.673986434936523, image_norm: 23.547718048095703, snr: 0.22438348829746246, grad_mean_norm: 76.2447509765625\n",
      "level: 31, step_size: 0.060856627509855384, grad_norm: 25.649808883666992, image_norm: 23.373533248901367, snr: 0.22947518527507782, grad_mean_norm: 78.35423278808594\n",
      "level: 31, step_size: 0.060856627509855384, grad_norm: 25.708166122436523, image_norm: 23.13904571533203, snr: 0.22607342898845673, grad_mean_norm: 79.01988983154297\n",
      "level: 31, step_size: 0.060856627509855384, grad_norm: 25.717077255249023, image_norm: 22.8967342376709, snr: 0.22926542162895203, grad_mean_norm: 81.70956420898438\n",
      "level: 32, step_size: 0.04910677890915089, grad_norm: 28.47809410095215, image_norm: 22.70924949645996, snr: 0.2234160304069519, grad_mean_norm: 80.65587615966797\n",
      "level: 32, step_size: 0.04910677890915089, grad_norm: 28.5490665435791, image_norm: 22.599323272705078, snr: 0.2257661372423172, grad_mean_norm: 81.70270538330078\n",
      "level: 32, step_size: 0.04910677890915089, grad_norm: 28.596033096313477, image_norm: 22.37080955505371, snr: 0.22539022564888, grad_mean_norm: 80.33799743652344\n",
      "level: 32, step_size: 0.04910677890915089, grad_norm: 28.500768661499023, image_norm: 22.154949188232422, snr: 0.22534000873565674, grad_mean_norm: 78.42057800292969\n",
      "level: 32, step_size: 0.04910677890915089, grad_norm: 28.604169845581055, image_norm: 22.022624969482422, snr: 0.2237660437822342, grad_mean_norm: 77.50113677978516\n",
      "level: 32, step_size: 0.04910677890915089, grad_norm: 28.703079223632812, image_norm: 21.908824920654297, snr: 0.2304900735616684, grad_mean_norm: 79.65023803710938\n",
      "level: 32, step_size: 0.04910677890915089, grad_norm: 28.52265739440918, image_norm: 21.680490493774414, snr: 0.2225383222103119, grad_mean_norm: 75.98577117919922\n",
      "level: 32, step_size: 0.04910677890915089, grad_norm: 28.59396743774414, image_norm: 21.632160186767578, snr: 0.22677212953567505, grad_mean_norm: 74.89303588867188\n",
      "level: 32, step_size: 0.04910677890915089, grad_norm: 28.47059440612793, image_norm: 21.496084213256836, snr: 0.22616791725158691, grad_mean_norm: 72.01698303222656\n",
      "level: 32, step_size: 0.04910677890915089, grad_norm: 28.436304092407227, image_norm: 21.3101806640625, snr: 0.2260313332080841, grad_mean_norm: 72.37043762207031\n",
      "level: 33, step_size: 0.03962552368584177, grad_norm: 31.578754425048828, image_norm: 21.168317794799805, snr: 0.22893773019313812, grad_mean_norm: 73.47513580322266\n",
      "level: 33, step_size: 0.03962552368584177, grad_norm: 31.5324649810791, image_norm: 21.033987045288086, snr: 0.222813680768013, grad_mean_norm: 73.84452056884766\n",
      "level: 33, step_size: 0.03962552368584177, grad_norm: 31.590116500854492, image_norm: 20.812320709228516, snr: 0.22641871869564056, grad_mean_norm: 72.26882934570312\n",
      "level: 33, step_size: 0.03962552368584177, grad_norm: 31.839574813842773, image_norm: 20.63923454284668, snr: 0.22409549355506897, grad_mean_norm: 70.51387786865234\n",
      "level: 33, step_size: 0.03962552368584177, grad_norm: 31.833942413330078, image_norm: 20.565771102905273, snr: 0.22568489611148834, grad_mean_norm: 66.44770812988281\n",
      "level: 33, step_size: 0.03962552368584177, grad_norm: 31.818227767944336, image_norm: 20.424898147583008, snr: 0.226290762424469, grad_mean_norm: 68.4780502319336\n",
      "level: 33, step_size: 0.03962552368584177, grad_norm: 31.852323532104492, image_norm: 20.20462417602539, snr: 0.22546905279159546, grad_mean_norm: 69.06441497802734\n",
      "level: 33, step_size: 0.03962552368584177, grad_norm: 32.13917922973633, image_norm: 20.267629623413086, snr: 0.22636432945728302, grad_mean_norm: 69.85377502441406\n",
      "level: 33, step_size: 0.03962552368584177, grad_norm: 32.00175857543945, image_norm: 19.97511100769043, snr: 0.22839337587356567, grad_mean_norm: 68.14718627929688\n",
      "level: 33, step_size: 0.03962552368584177, grad_norm: 32.32593536376953, image_norm: 19.644872665405273, snr: 0.23270390927791595, grad_mean_norm: 72.00867462158203\n",
      "level: 34, step_size: 0.03197485484197809, grad_norm: 36.06899642944336, image_norm: 19.480602264404297, snr: 0.22744862735271454, grad_mean_norm: 72.58580017089844\n",
      "level: 34, step_size: 0.03197485484197809, grad_norm: 35.99812698364258, image_norm: 19.256818771362305, snr: 0.2311839610338211, grad_mean_norm: 72.37939453125\n",
      "level: 34, step_size: 0.03197485484197809, grad_norm: 36.073150634765625, image_norm: 19.078922271728516, snr: 0.2334090620279312, grad_mean_norm: 72.96986389160156\n",
      "level: 34, step_size: 0.03197485484197809, grad_norm: 36.11336898803711, image_norm: 18.985061645507812, snr: 0.23231108486652374, grad_mean_norm: 72.90140533447266\n",
      "level: 34, step_size: 0.03197485484197809, grad_norm: 36.0204963684082, image_norm: 18.890670776367188, snr: 0.22718645632266998, grad_mean_norm: 70.52066040039062\n",
      "level: 34, step_size: 0.03197485484197809, grad_norm: 35.85313034057617, image_norm: 18.748239517211914, snr: 0.2273465096950531, grad_mean_norm: 68.97919464111328\n",
      "level: 34, step_size: 0.03197485484197809, grad_norm: 35.915992736816406, image_norm: 18.532058715820312, snr: 0.2285144031047821, grad_mean_norm: 69.1589126586914\n",
      "level: 34, step_size: 0.03197485484197809, grad_norm: 35.90654373168945, image_norm: 18.428802490234375, snr: 0.22960659861564636, grad_mean_norm: 71.07909393310547\n",
      "level: 34, step_size: 0.03197485484197809, grad_norm: 36.136009216308594, image_norm: 18.269699096679688, snr: 0.23314322531223297, grad_mean_norm: 71.29637145996094\n",
      "level: 34, step_size: 0.03197485484197809, grad_norm: 36.053958892822266, image_norm: 18.161060333251953, snr: 0.23445163667201996, grad_mean_norm: 73.42170715332031\n",
      "level: 35, step_size: 0.02580133325861554, grad_norm: 40.24734115600586, image_norm: 17.979877471923828, snr: 0.23085524141788483, grad_mean_norm: 74.28697204589844\n",
      "level: 35, step_size: 0.02580133325861554, grad_norm: 40.286964416503906, image_norm: 17.7884521484375, snr: 0.23076345026493073, grad_mean_norm: 75.79939270019531\n",
      "level: 35, step_size: 0.02580133325861554, grad_norm: 40.17394256591797, image_norm: 17.585744857788086, snr: 0.2307790368795395, grad_mean_norm: 77.46334075927734\n",
      "level: 35, step_size: 0.02580133325861554, grad_norm: 40.04670333862305, image_norm: 17.381166458129883, snr: 0.23058685660362244, grad_mean_norm: 75.76388549804688\n",
      "level: 35, step_size: 0.02580133325861554, grad_norm: 39.979591369628906, image_norm: 17.237964630126953, snr: 0.2255677729845047, grad_mean_norm: 75.1163101196289\n",
      "level: 35, step_size: 0.02580133325861554, grad_norm: 40.04629135131836, image_norm: 17.06656837463379, snr: 0.2312154620885849, grad_mean_norm: 75.15660095214844\n",
      "level: 35, step_size: 0.02580133325861554, grad_norm: 40.139373779296875, image_norm: 17.014638900756836, snr: 0.2323296219110489, grad_mean_norm: 75.08169555664062\n",
      "level: 35, step_size: 0.02580133325861554, grad_norm: 40.134521484375, image_norm: 16.91175651550293, snr: 0.23095357418060303, grad_mean_norm: 72.40564727783203\n",
      "level: 35, step_size: 0.02580133325861554, grad_norm: 40.32870101928711, image_norm: 16.800966262817383, snr: 0.23091061413288116, grad_mean_norm: 74.76746368408203\n",
      "level: 35, step_size: 0.02580133325861554, grad_norm: 40.38825607299805, image_norm: 16.697980880737305, snr: 0.23275639116764069, grad_mean_norm: 74.1442642211914\n",
      "level: 36, step_size: 0.020819759814770706, grad_norm: 45.03052520751953, image_norm: 16.65468978881836, snr: 0.23277276754379272, grad_mean_norm: 74.60665893554688\n",
      "level: 36, step_size: 0.020819759814770706, grad_norm: 44.952110290527344, image_norm: 16.50697135925293, snr: 0.23126429319381714, grad_mean_norm: 74.1881332397461\n",
      "level: 36, step_size: 0.020819759814770706, grad_norm: 44.76967239379883, image_norm: 16.36372184753418, snr: 0.23114342987537384, grad_mean_norm: 73.07354736328125\n",
      "level: 36, step_size: 0.020819759814770706, grad_norm: 44.91158676147461, image_norm: 16.139421463012695, snr: 0.2290690690279007, grad_mean_norm: 75.1460189819336\n",
      "level: 36, step_size: 0.020819759814770706, grad_norm: 45.09701156616211, image_norm: 16.017980575561523, snr: 0.23031732439994812, grad_mean_norm: 76.5403060913086\n",
      "level: 36, step_size: 0.020819759814770706, grad_norm: 45.23912811279297, image_norm: 15.903836250305176, snr: 0.23058359324932098, grad_mean_norm: 76.93312072753906\n",
      "level: 36, step_size: 0.020819759814770706, grad_norm: 45.08683395385742, image_norm: 15.766486167907715, snr: 0.2332805097103119, grad_mean_norm: 75.68933868408203\n",
      "level: 36, step_size: 0.020819759814770706, grad_norm: 45.0850830078125, image_norm: 15.688774108886719, snr: 0.23397773504257202, grad_mean_norm: 75.21067810058594\n",
      "level: 36, step_size: 0.020819759814770706, grad_norm: 45.02804946899414, image_norm: 15.510252952575684, snr: 0.23436027765274048, grad_mean_norm: 75.71329498291016\n",
      "level: 36, step_size: 0.020819759814770706, grad_norm: 44.981693267822266, image_norm: 15.4351224899292, snr: 0.2299823760986328, grad_mean_norm: 77.21639251708984\n",
      "level: 37, step_size: 0.016799999999999968, grad_norm: 50.292823791503906, image_norm: 15.321148872375488, snr: 0.23385897278785706, grad_mean_norm: 77.55690002441406\n",
      "level: 37, step_size: 0.016799999999999968, grad_norm: 50.39667510986328, image_norm: 15.138032913208008, snr: 0.23107904195785522, grad_mean_norm: 78.24337768554688\n",
      "level: 37, step_size: 0.016799999999999968, grad_norm: 50.23567199707031, image_norm: 14.993868827819824, snr: 0.2345840483903885, grad_mean_norm: 78.68327331542969\n",
      "level: 37, step_size: 0.016799999999999968, grad_norm: 50.111183166503906, image_norm: 14.828719139099121, snr: 0.23167221248149872, grad_mean_norm: 77.18925476074219\n",
      "level: 37, step_size: 0.016799999999999968, grad_norm: 50.22739791870117, image_norm: 14.706817626953125, snr: 0.2310914546251297, grad_mean_norm: 78.39136505126953\n",
      "level: 37, step_size: 0.016799999999999968, grad_norm: 49.880882263183594, image_norm: 14.60294246673584, snr: 0.23095431923866272, grad_mean_norm: 78.88737487792969\n",
      "level: 37, step_size: 0.016799999999999968, grad_norm: 50.05460739135742, image_norm: 14.521499633789062, snr: 0.22975529730319977, grad_mean_norm: 79.93201446533203\n",
      "level: 37, step_size: 0.016799999999999968, grad_norm: 49.930641174316406, image_norm: 14.456216812133789, snr: 0.2286418080329895, grad_mean_norm: 77.66474914550781\n",
      "level: 37, step_size: 0.016799999999999968, grad_norm: 50.24775314331055, image_norm: 14.345572471618652, snr: 0.23297902941703796, grad_mean_norm: 76.62701416015625\n",
      "level: 37, step_size: 0.016799999999999968, grad_norm: 50.69380569458008, image_norm: 14.233787536621094, snr: 0.23293359577655792, grad_mean_norm: 79.16502380371094\n",
      "level: 38, step_size: 0.013556352355216033, grad_norm: 56.20488357543945, image_norm: 14.229281425476074, snr: 0.23455150425434113, grad_mean_norm: 76.66590118408203\n",
      "level: 38, step_size: 0.013556352355216033, grad_norm: 55.818153381347656, image_norm: 14.101813316345215, snr: 0.2301800698041916, grad_mean_norm: 76.3807373046875\n",
      "level: 38, step_size: 0.013556352355216033, grad_norm: 56.13436508178711, image_norm: 14.014368057250977, snr: 0.23204125463962555, grad_mean_norm: 76.48563385009766\n",
      "level: 38, step_size: 0.013556352355216033, grad_norm: 56.080055236816406, image_norm: 13.937629699707031, snr: 0.23574993014335632, grad_mean_norm: 74.88097381591797\n",
      "level: 38, step_size: 0.013556352355216033, grad_norm: 56.16805648803711, image_norm: 13.860940933227539, snr: 0.23303164541721344, grad_mean_norm: 72.02385711669922\n",
      "level: 38, step_size: 0.013556352355216033, grad_norm: 55.89654541015625, image_norm: 13.906842231750488, snr: 0.23477885127067566, grad_mean_norm: 73.30028533935547\n",
      "level: 38, step_size: 0.013556352355216033, grad_norm: 55.72491455078125, image_norm: 13.779608726501465, snr: 0.23166310787200928, grad_mean_norm: 74.27127075195312\n",
      "level: 38, step_size: 0.013556352355216033, grad_norm: 56.150691986083984, image_norm: 13.706329345703125, snr: 0.23081699013710022, grad_mean_norm: 75.49173736572266\n",
      "level: 38, step_size: 0.013556352355216033, grad_norm: 56.18793869018555, image_norm: 13.608728408813477, snr: 0.23336800932884216, grad_mean_norm: 74.70108032226562\n",
      "level: 38, step_size: 0.013556352355216033, grad_norm: 56.557369232177734, image_norm: 13.560317993164062, snr: 0.23190101981163025, grad_mean_norm: 75.19035339355469\n",
      "level: 39, step_size: 0.010938969593974519, grad_norm: 63.153072357177734, image_norm: 13.46954345703125, snr: 0.23804062604904175, grad_mean_norm: 74.6324234008789\n",
      "level: 39, step_size: 0.010938969593974519, grad_norm: 63.3135986328125, image_norm: 13.404365539550781, snr: 0.2360987812280655, grad_mean_norm: 75.01583862304688\n",
      "level: 39, step_size: 0.010938969593974519, grad_norm: 63.3361930847168, image_norm: 13.271796226501465, snr: 0.23536603152751923, grad_mean_norm: 74.53043365478516\n",
      "level: 39, step_size: 0.010938969593974519, grad_norm: 63.462066650390625, image_norm: 13.17962646484375, snr: 0.2364707738161087, grad_mean_norm: 75.83486938476562\n",
      "level: 39, step_size: 0.010938969593974519, grad_norm: 63.721656799316406, image_norm: 13.09177303314209, snr: 0.2365862876176834, grad_mean_norm: 77.96319580078125\n",
      "level: 39, step_size: 0.010938969593974519, grad_norm: 63.788753509521484, image_norm: 13.003689765930176, snr: 0.23716749250888824, grad_mean_norm: 80.22386169433594\n",
      "level: 39, step_size: 0.010938969593974519, grad_norm: 63.502532958984375, image_norm: 12.917343139648438, snr: 0.2379172444343567, grad_mean_norm: 80.38379669189453\n",
      "level: 39, step_size: 0.010938969593974519, grad_norm: 63.2397346496582, image_norm: 12.85461139678955, snr: 0.23883052170276642, grad_mean_norm: 77.54791259765625\n",
      "level: 39, step_size: 0.010938969593974519, grad_norm: 63.35347366333008, image_norm: 12.799844741821289, snr: 0.2382040172815323, grad_mean_norm: 79.41551208496094\n",
      "level: 39, step_size: 0.010938969593974519, grad_norm: 62.90117263793945, image_norm: 12.7416353225708, snr: 0.237099751830101, grad_mean_norm: 76.84351348876953\n",
      "level: 40, step_size: 0.008826936084459124, grad_norm: 70.05216217041016, image_norm: 12.637908935546875, snr: 0.2359187752008438, grad_mean_norm: 77.6999740600586\n",
      "level: 40, step_size: 0.008826936084459124, grad_norm: 70.27570343017578, image_norm: 12.589556694030762, snr: 0.23732566833496094, grad_mean_norm: 76.8265609741211\n",
      "level: 40, step_size: 0.008826936084459124, grad_norm: 70.51493072509766, image_norm: 12.46850872039795, snr: 0.2387244999408722, grad_mean_norm: 75.64868927001953\n",
      "level: 40, step_size: 0.008826936084459124, grad_norm: 70.3128890991211, image_norm: 12.42224407196045, snr: 0.2365669459104538, grad_mean_norm: 73.75184631347656\n",
      "level: 40, step_size: 0.008826936084459124, grad_norm: 70.37653350830078, image_norm: 12.354216575622559, snr: 0.23851542174816132, grad_mean_norm: 74.90272521972656\n",
      "level: 40, step_size: 0.008826936084459124, grad_norm: 70.79198455810547, image_norm: 12.321249008178711, snr: 0.24009542167186737, grad_mean_norm: 75.43543243408203\n",
      "level: 40, step_size: 0.008826936084459124, grad_norm: 70.90579986572266, image_norm: 12.197440147399902, snr: 0.23864133656024933, grad_mean_norm: 74.32108306884766\n",
      "level: 40, step_size: 0.008826936084459124, grad_norm: 70.72014617919922, image_norm: 12.1539888381958, snr: 0.23593002557754517, grad_mean_norm: 76.09774780273438\n",
      "level: 40, step_size: 0.008826936084459124, grad_norm: 70.75018310546875, image_norm: 12.08026123046875, snr: 0.23682235181331635, grad_mean_norm: 76.02681732177734\n",
      "level: 40, step_size: 0.008826936084459124, grad_norm: 71.01876068115234, image_norm: 12.023513793945312, snr: 0.23906657099723816, grad_mean_norm: 76.6943359375\n",
      "level: 41, step_size: 0.007122681891541624, grad_norm: 79.16429901123047, image_norm: 11.98238754272461, snr: 0.23700706660747528, grad_mean_norm: 77.79610443115234\n",
      "level: 41, step_size: 0.007122681891541624, grad_norm: 78.95452117919922, image_norm: 11.936531066894531, snr: 0.23940551280975342, grad_mean_norm: 77.0411376953125\n",
      "level: 41, step_size: 0.007122681891541624, grad_norm: 79.26651763916016, image_norm: 11.84618854522705, snr: 0.23908641934394836, grad_mean_norm: 73.3387222290039\n",
      "level: 41, step_size: 0.007122681891541624, grad_norm: 80.1049575805664, image_norm: 11.797433853149414, snr: 0.24188511073589325, grad_mean_norm: 72.45620727539062\n",
      "level: 41, step_size: 0.007122681891541624, grad_norm: 79.8510513305664, image_norm: 11.760000228881836, snr: 0.24260149896144867, grad_mean_norm: 74.30371856689453\n",
      "level: 41, step_size: 0.007122681891541624, grad_norm: 79.63741302490234, image_norm: 11.654559135437012, snr: 0.24228981137275696, grad_mean_norm: 75.23809051513672\n",
      "level: 41, step_size: 0.007122681891541624, grad_norm: 79.26673889160156, image_norm: 11.6120023727417, snr: 0.2383788675069809, grad_mean_norm: 73.2696762084961\n",
      "level: 41, step_size: 0.007122681891541624, grad_norm: 79.41674041748047, image_norm: 11.512713432312012, snr: 0.23818622529506683, grad_mean_norm: 70.99528503417969\n",
      "level: 41, step_size: 0.007122681891541624, grad_norm: 79.5795669555664, image_norm: 11.434438705444336, snr: 0.23828890919685364, grad_mean_norm: 70.54899597167969\n",
      "level: 41, step_size: 0.007122681891541624, grad_norm: 79.84521484375, image_norm: 11.369894981384277, snr: 0.24148665368556976, grad_mean_norm: 70.12498474121094\n",
      "level: 42, step_size: 0.005747475323562801, grad_norm: 88.92791748046875, image_norm: 11.338156700134277, snr: 0.23988917469978333, grad_mean_norm: 71.48360443115234\n",
      "level: 42, step_size: 0.005747475323562801, grad_norm: 88.93938446044922, image_norm: 11.322786331176758, snr: 0.2400559037923813, grad_mean_norm: 74.99032592773438\n",
      "level: 42, step_size: 0.005747475323562801, grad_norm: 88.92655944824219, image_norm: 11.247952461242676, snr: 0.24188660085201263, grad_mean_norm: 74.73871612548828\n",
      "level: 42, step_size: 0.005747475323562801, grad_norm: 88.55116271972656, image_norm: 11.190742492675781, snr: 0.24413065612316132, grad_mean_norm: 70.08045959472656\n",
      "level: 42, step_size: 0.005747475323562801, grad_norm: 88.83074951171875, image_norm: 11.1072416305542, snr: 0.24172863364219666, grad_mean_norm: 70.40267181396484\n",
      "level: 42, step_size: 0.005747475323562801, grad_norm: 88.82711029052734, image_norm: 11.056793212890625, snr: 0.23794341087341309, grad_mean_norm: 71.08007049560547\n",
      "level: 42, step_size: 0.005747475323562801, grad_norm: 88.64616394042969, image_norm: 10.983977317810059, snr: 0.2423005998134613, grad_mean_norm: 71.22982788085938\n",
      "level: 42, step_size: 0.005747475323562801, grad_norm: 89.13667297363281, image_norm: 10.936284065246582, snr: 0.24096190929412842, grad_mean_norm: 73.23175811767578\n",
      "level: 42, step_size: 0.005747475323562801, grad_norm: 89.16432189941406, image_norm: 10.907347679138184, snr: 0.24262695014476776, grad_mean_norm: 74.15734100341797\n",
      "level: 42, step_size: 0.005747475323562801, grad_norm: 89.43872833251953, image_norm: 10.852046012878418, snr: 0.2430976927280426, grad_mean_norm: 75.5022964477539\n",
      "level: 43, step_size: 0.004637785752328972, grad_norm: 99.46563720703125, image_norm: 10.834689140319824, snr: 0.24172720313072205, grad_mean_norm: 75.75660705566406\n",
      "level: 43, step_size: 0.004637785752328972, grad_norm: 99.8058090209961, image_norm: 10.776701927185059, snr: 0.2394242137670517, grad_mean_norm: 76.386962890625\n",
      "level: 43, step_size: 0.004637785752328972, grad_norm: 99.33891296386719, image_norm: 10.729901313781738, snr: 0.24228671193122864, grad_mean_norm: 76.9371566772461\n",
      "level: 43, step_size: 0.004637785752328972, grad_norm: 99.25434112548828, image_norm: 10.702760696411133, snr: 0.23878540098667145, grad_mean_norm: 76.3463134765625\n",
      "level: 43, step_size: 0.004637785752328972, grad_norm: 99.24435424804688, image_norm: 10.641935348510742, snr: 0.23806461691856384, grad_mean_norm: 73.29644775390625\n",
      "level: 43, step_size: 0.004637785752328972, grad_norm: 98.72434997558594, image_norm: 10.585278511047363, snr: 0.2426055520772934, grad_mean_norm: 71.68714141845703\n",
      "level: 43, step_size: 0.004637785752328972, grad_norm: 99.01021575927734, image_norm: 10.541996002197266, snr: 0.24063318967819214, grad_mean_norm: 72.35066223144531\n",
      "level: 43, step_size: 0.004637785752328972, grad_norm: 99.26355743408203, image_norm: 10.498930931091309, snr: 0.24151979386806488, grad_mean_norm: 70.79499053955078\n",
      "level: 43, step_size: 0.004637785752328972, grad_norm: 99.0587387084961, image_norm: 10.46667766571045, snr: 0.24316053092479706, grad_mean_norm: 71.65701293945312\n",
      "level: 43, step_size: 0.004637785752328972, grad_norm: 99.28722381591797, image_norm: 10.430499076843262, snr: 0.2423289567232132, grad_mean_norm: 71.97794342041016\n",
      "level: 44, step_size: 0.0037423486789626465, grad_norm: 110.88518524169922, image_norm: 10.409934997558594, snr: 0.24099639058113098, grad_mean_norm: 71.80844116210938\n",
      "level: 44, step_size: 0.0037423486789626465, grad_norm: 110.3741226196289, image_norm: 10.39664363861084, snr: 0.23754943907260895, grad_mean_norm: 69.96600341796875\n",
      "level: 44, step_size: 0.0037423486789626465, grad_norm: 110.56452941894531, image_norm: 10.360037803649902, snr: 0.24140924215316772, grad_mean_norm: 69.64228820800781\n",
      "level: 44, step_size: 0.0037423486789626465, grad_norm: 110.37078094482422, image_norm: 10.352919578552246, snr: 0.2397366315126419, grad_mean_norm: 71.18131256103516\n",
      "level: 44, step_size: 0.0037423486789626465, grad_norm: 110.35546112060547, image_norm: 10.307846069335938, snr: 0.24452106654644012, grad_mean_norm: 74.64584350585938\n",
      "level: 44, step_size: 0.0037423486789626465, grad_norm: 109.9831771850586, image_norm: 10.29083251953125, snr: 0.23683933913707733, grad_mean_norm: 73.6045913696289\n",
      "level: 44, step_size: 0.0037423486789626465, grad_norm: 110.12385559082031, image_norm: 10.24809741973877, snr: 0.23835980892181396, grad_mean_norm: 73.10053253173828\n",
      "level: 44, step_size: 0.0037423486789626465, grad_norm: 109.6268310546875, image_norm: 10.231269836425781, snr: 0.23633207380771637, grad_mean_norm: 72.24827575683594\n",
      "level: 44, step_size: 0.0037423486789626465, grad_norm: 110.0844497680664, image_norm: 10.220572471618652, snr: 0.24326395988464355, grad_mean_norm: 73.40605926513672\n",
      "level: 44, step_size: 0.0037423486789626465, grad_norm: 109.67098236083984, image_norm: 10.1843843460083, snr: 0.23750954866409302, grad_mean_norm: 72.93083953857422\n",
      "level: 45, step_size: 0.0030197974600056528, grad_norm: 121.3476333618164, image_norm: 10.16441822052002, snr: 0.23800000548362732, grad_mean_norm: 70.75836944580078\n",
      "level: 45, step_size: 0.0030197974600056528, grad_norm: 121.30553436279297, image_norm: 10.13779067993164, snr: 0.23882924020290375, grad_mean_norm: 71.78282165527344\n",
      "level: 45, step_size: 0.0030197974600056528, grad_norm: 121.58953094482422, image_norm: 10.098182678222656, snr: 0.2419217824935913, grad_mean_norm: 70.42926788330078\n",
      "level: 45, step_size: 0.0030197974600056528, grad_norm: 121.94622039794922, image_norm: 10.064393997192383, snr: 0.240077942609787, grad_mean_norm: 70.45279693603516\n",
      "level: 45, step_size: 0.0030197974600056528, grad_norm: 121.66169738769531, image_norm: 10.01518726348877, snr: 0.23994672298431396, grad_mean_norm: 69.87989807128906\n",
      "level: 45, step_size: 0.0030197974600056528, grad_norm: 121.58770751953125, image_norm: 9.971963882446289, snr: 0.24253708124160767, grad_mean_norm: 65.69353485107422\n",
      "level: 45, step_size: 0.0030197974600056528, grad_norm: 121.1465072631836, image_norm: 9.911813735961914, snr: 0.23478050529956818, grad_mean_norm: 65.25394439697266\n",
      "level: 45, step_size: 0.0030197974600056528, grad_norm: 121.6148681640625, image_norm: 9.888014793395996, snr: 0.2401026040315628, grad_mean_norm: 65.4704818725586\n",
      "level: 45, step_size: 0.0030197974600056528, grad_norm: 121.56672668457031, image_norm: 9.880256652832031, snr: 0.23871922492980957, grad_mean_norm: 67.03302764892578\n",
      "level: 45, step_size: 0.0030197974600056528, grad_norm: 121.6712875366211, image_norm: 9.852958679199219, snr: 0.23675061762332916, grad_mean_norm: 65.79466247558594\n",
      "level: 46, step_size: 0.0024367522862632843, grad_norm: 135.12730407714844, image_norm: 9.836343765258789, snr: 0.23718343675136566, grad_mean_norm: 62.02170181274414\n",
      "level: 46, step_size: 0.0024367522862632843, grad_norm: 134.9719696044922, image_norm: 9.805391311645508, snr: 0.24053506553173065, grad_mean_norm: 61.84526062011719\n",
      "level: 46, step_size: 0.0024367522862632843, grad_norm: 134.89932250976562, image_norm: 9.766684532165527, snr: 0.23893025517463684, grad_mean_norm: 63.63311004638672\n",
      "level: 46, step_size: 0.0024367522862632843, grad_norm: 134.21092224121094, image_norm: 9.740732192993164, snr: 0.2342643439769745, grad_mean_norm: 66.0967788696289\n",
      "level: 46, step_size: 0.0024367522862632843, grad_norm: 134.3971405029297, image_norm: 9.723828315734863, snr: 0.23679710924625397, grad_mean_norm: 66.06483459472656\n",
      "level: 46, step_size: 0.0024367522862632843, grad_norm: 134.16246032714844, image_norm: 9.713370323181152, snr: 0.23683303594589233, grad_mean_norm: 64.4719009399414\n",
      "level: 46, step_size: 0.0024367522862632843, grad_norm: 134.06033325195312, image_norm: 9.683359146118164, snr: 0.23529714345932007, grad_mean_norm: 66.41445922851562\n",
      "level: 46, step_size: 0.0024367522862632843, grad_norm: 133.9550018310547, image_norm: 9.682982444763184, snr: 0.23652616143226624, grad_mean_norm: 67.33358764648438\n",
      "level: 46, step_size: 0.0024367522862632843, grad_norm: 133.85154724121094, image_norm: 9.658961296081543, snr: 0.23800064623355865, grad_mean_norm: 64.98348236083984\n",
      "level: 46, step_size: 0.0024367522862632843, grad_norm: 133.688232421875, image_norm: 9.654776573181152, snr: 0.23679126799106598, grad_mean_norm: 67.26754760742188\n",
      "level: 47, step_size: 0.0019662781306525826, grad_norm: 148.7511444091797, image_norm: 9.64372444152832, snr: 0.23471669852733612, grad_mean_norm: 67.89774322509766\n",
      "level: 47, step_size: 0.0019662781306525826, grad_norm: 148.2741241455078, image_norm: 9.62417984008789, snr: 0.23373569548130035, grad_mean_norm: 67.2233657836914\n",
      "level: 47, step_size: 0.0019662781306525826, grad_norm: 148.597900390625, image_norm: 9.591479301452637, snr: 0.23518763482570648, grad_mean_norm: 64.64501190185547\n",
      "level: 47, step_size: 0.0019662781306525826, grad_norm: 148.4102020263672, image_norm: 9.572099685668945, snr: 0.23517054319381714, grad_mean_norm: 65.58294677734375\n",
      "level: 47, step_size: 0.0019662781306525826, grad_norm: 147.97549438476562, image_norm: 9.557601928710938, snr: 0.2350117266178131, grad_mean_norm: 65.46491241455078\n",
      "level: 47, step_size: 0.0019662781306525826, grad_norm: 147.7217559814453, image_norm: 9.550250053405762, snr: 0.2310999184846878, grad_mean_norm: 64.37039184570312\n",
      "level: 47, step_size: 0.0019662781306525826, grad_norm: 147.4551544189453, image_norm: 9.530961990356445, snr: 0.23548445105552673, grad_mean_norm: 65.70072174072266\n",
      "level: 47, step_size: 0.0019662781306525826, grad_norm: 147.32211303710938, image_norm: 9.550188064575195, snr: 0.23195412755012512, grad_mean_norm: 65.81505584716797\n",
      "level: 47, step_size: 0.0019662781306525826, grad_norm: 147.3108367919922, image_norm: 9.529658317565918, snr: 0.23079484701156616, grad_mean_norm: 64.08778381347656\n",
      "level: 47, step_size: 0.0019662781306525826, grad_norm: 147.24024963378906, image_norm: 9.522773742675781, snr: 0.23575396835803986, grad_mean_norm: 65.83550262451172\n",
      "level: 48, step_size: 0.001586640426635834, grad_norm: 163.63299560546875, image_norm: 9.515942573547363, snr: 0.23512490093708038, grad_mean_norm: 65.9793472290039\n",
      "level: 48, step_size: 0.001586640426635834, grad_norm: 163.51133728027344, image_norm: 9.49146556854248, snr: 0.22928369045257568, grad_mean_norm: 65.97916412353516\n",
      "level: 48, step_size: 0.001586640426635834, grad_norm: 163.21279907226562, image_norm: 9.465538024902344, snr: 0.23304840922355652, grad_mean_norm: 64.85792541503906\n",
      "level: 48, step_size: 0.001586640426635834, grad_norm: 163.32936096191406, image_norm: 9.451014518737793, snr: 0.23183462023735046, grad_mean_norm: 67.06717681884766\n",
      "level: 48, step_size: 0.001586640426635834, grad_norm: 163.5642547607422, image_norm: 9.429285049438477, snr: 0.23334024846553802, grad_mean_norm: 66.26263427734375\n",
      "level: 48, step_size: 0.001586640426635834, grad_norm: 163.60433959960938, image_norm: 9.422045707702637, snr: 0.23085767030715942, grad_mean_norm: 63.65719985961914\n",
      "level: 48, step_size: 0.001586640426635834, grad_norm: 163.2209930419922, image_norm: 9.407492637634277, snr: 0.2330583930015564, grad_mean_norm: 66.65209197998047\n",
      "level: 48, step_size: 0.001586640426635834, grad_norm: 163.08486938476562, image_norm: 9.400385856628418, snr: 0.23152174055576324, grad_mean_norm: 69.57645416259766\n",
      "level: 48, step_size: 0.001586640426635834, grad_norm: 163.1514434814453, image_norm: 9.386773109436035, snr: 0.23093387484550476, grad_mean_norm: 70.32273864746094\n",
      "level: 48, step_size: 0.001586640426635834, grad_norm: 162.6546630859375, image_norm: 9.378194808959961, snr: 0.2310778796672821, grad_mean_norm: 69.10469818115234\n",
      "level: 49, step_size: 0.0012803009931253392, grad_norm: 181.31143188476562, image_norm: 9.357332229614258, snr: 0.2304736226797104, grad_mean_norm: 70.70669555664062\n",
      "level: 49, step_size: 0.0012803009931253392, grad_norm: 181.93618774414062, image_norm: 9.352171897888184, snr: 0.23201753199100494, grad_mean_norm: 71.0244140625\n",
      "level: 49, step_size: 0.0012803009931253392, grad_norm: 181.1990203857422, image_norm: 9.34697437286377, snr: 0.23224642872810364, grad_mean_norm: 68.07640075683594\n",
      "level: 49, step_size: 0.0012803009931253392, grad_norm: 181.17454528808594, image_norm: 9.339953422546387, snr: 0.23140524327754974, grad_mean_norm: 66.04180908203125\n",
      "level: 49, step_size: 0.0012803009931253392, grad_norm: 180.8053436279297, image_norm: 9.318025588989258, snr: 0.23162414133548737, grad_mean_norm: 67.39855194091797\n",
      "level: 49, step_size: 0.0012803009931253392, grad_norm: 180.28289794921875, image_norm: 9.322894096374512, snr: 0.2304924875497818, grad_mean_norm: 67.15971374511719\n",
      "level: 49, step_size: 0.0012803009931253392, grad_norm: 179.9986572265625, image_norm: 9.324519157409668, snr: 0.2266116738319397, grad_mean_norm: 67.12403106689453\n",
      "level: 49, step_size: 0.0012803009931253392, grad_norm: 179.34132385253906, image_norm: 9.32064437866211, snr: 0.2313791662454605, grad_mean_norm: 67.30198669433594\n",
      "level: 49, step_size: 0.0012803009931253392, grad_norm: 179.2194061279297, image_norm: 9.324925422668457, snr: 0.23022736608982086, grad_mean_norm: 65.44884490966797\n",
      "level: 49, step_size: 0.0012803009931253392, grad_norm: 179.0872802734375, image_norm: 9.316909790039062, snr: 0.2332891821861267, grad_mean_norm: 65.42755126953125\n",
      "level: 50, step_size: 0.0010331078204488184, grad_norm: 199.4216766357422, image_norm: 9.310614585876465, snr: 0.23004662990570068, grad_mean_norm: 63.60584259033203\n",
      "level: 50, step_size: 0.0010331078204488184, grad_norm: 199.30599975585938, image_norm: 9.298120498657227, snr: 0.22859598696231842, grad_mean_norm: 63.13056564331055\n",
      "level: 50, step_size: 0.0010331078204488184, grad_norm: 199.2098846435547, image_norm: 9.2944974899292, snr: 0.22644877433776855, grad_mean_norm: 61.1767692565918\n",
      "level: 50, step_size: 0.0010331078204488184, grad_norm: 199.24545288085938, image_norm: 9.291173934936523, snr: 0.23270820081233978, grad_mean_norm: 62.53871536254883\n",
      "level: 50, step_size: 0.0010331078204488184, grad_norm: 199.03358459472656, image_norm: 9.278250694274902, snr: 0.22864460945129395, grad_mean_norm: 61.828712463378906\n",
      "level: 50, step_size: 0.0010331078204488184, grad_norm: 199.10948181152344, image_norm: 9.277724266052246, snr: 0.22934459149837494, grad_mean_norm: 60.528106689453125\n",
      "level: 50, step_size: 0.0010331078204488184, grad_norm: 198.69895935058594, image_norm: 9.2634916305542, snr: 0.231325164437294, grad_mean_norm: 62.574058532714844\n",
      "level: 50, step_size: 0.0010331078204488184, grad_norm: 198.42100524902344, image_norm: 9.249534606933594, snr: 0.23023779690265656, grad_mean_norm: 64.2634506225586\n",
      "level: 50, step_size: 0.0010331078204488184, grad_norm: 198.2326202392578, image_norm: 9.245295524597168, snr: 0.22785809636116028, grad_mean_norm: 68.24299621582031\n",
      "level: 50, step_size: 0.0010331078204488184, grad_norm: 198.31126403808594, image_norm: 9.245814323425293, snr: 0.2299962192773819, grad_mean_norm: 70.12419891357422\n",
      "level: 51, step_size: 0.0008336412877936603, grad_norm: 219.8417205810547, image_norm: 9.243765830993652, snr: 0.2259916067123413, grad_mean_norm: 68.92813110351562\n",
      "level: 51, step_size: 0.0008336412877936603, grad_norm: 219.5045928955078, image_norm: 9.239226341247559, snr: 0.22519053518772125, grad_mean_norm: 67.73546600341797\n",
      "level: 51, step_size: 0.0008336412877936603, grad_norm: 219.32763671875, image_norm: 9.22977066040039, snr: 0.22557860612869263, grad_mean_norm: 67.16325378417969\n",
      "level: 51, step_size: 0.0008336412877936603, grad_norm: 219.4468231201172, image_norm: 9.232465744018555, snr: 0.2283145785331726, grad_mean_norm: 69.30567932128906\n",
      "level: 51, step_size: 0.0008336412877936603, grad_norm: 219.84451293945312, image_norm: 9.221968650817871, snr: 0.22761765122413635, grad_mean_norm: 68.49884796142578\n",
      "level: 51, step_size: 0.0008336412877936603, grad_norm: 219.2699737548828, image_norm: 9.202914237976074, snr: 0.22275525331497192, grad_mean_norm: 64.99401092529297\n",
      "level: 51, step_size: 0.0008336412877936603, grad_norm: 220.24771118164062, image_norm: 9.185043334960938, snr: 0.22906482219696045, grad_mean_norm: 64.94589233398438\n",
      "level: 51, step_size: 0.0008336412877936603, grad_norm: 219.80484008789062, image_norm: 9.188145637512207, snr: 0.22747522592544556, grad_mean_norm: 64.14620208740234\n",
      "level: 51, step_size: 0.0008336412877936603, grad_norm: 219.3335723876953, image_norm: 9.178179740905762, snr: 0.2241828292608261, grad_mean_norm: 62.604000091552734\n",
      "level: 51, step_size: 0.0008336412877936603, grad_norm: 219.09153747558594, image_norm: 9.169353485107422, snr: 0.22678862512111664, grad_mean_norm: 63.8000373840332\n",
      "level: 52, step_size: 0.0006726866092373174, grad_norm: 243.5184783935547, image_norm: 9.167036056518555, snr: 0.22733476758003235, grad_mean_norm: 64.7549819946289\n",
      "level: 52, step_size: 0.0006726866092373174, grad_norm: 243.0732879638672, image_norm: 9.16055965423584, snr: 0.22584770619869232, grad_mean_norm: 62.03158950805664\n",
      "level: 52, step_size: 0.0006726866092373174, grad_norm: 243.0636749267578, image_norm: 9.158329963684082, snr: 0.22599081695079803, grad_mean_norm: 64.34379577636719\n",
      "level: 52, step_size: 0.0006726866092373174, grad_norm: 242.6793212890625, image_norm: 9.146655082702637, snr: 0.22737853229045868, grad_mean_norm: 63.75950622558594\n",
      "level: 52, step_size: 0.0006726866092373174, grad_norm: 241.94737243652344, image_norm: 9.141825675964355, snr: 0.22498026490211487, grad_mean_norm: 63.512176513671875\n",
      "level: 52, step_size: 0.0006726866092373174, grad_norm: 241.7707977294922, image_norm: 9.127764701843262, snr: 0.2245868444442749, grad_mean_norm: 63.44992446899414\n",
      "level: 52, step_size: 0.0006726866092373174, grad_norm: 241.74734497070312, image_norm: 9.117027282714844, snr: 0.22503294050693512, grad_mean_norm: 66.18743896484375\n",
      "level: 52, step_size: 0.0006726866092373174, grad_norm: 241.01541137695312, image_norm: 9.107151985168457, snr: 0.2226565182209015, grad_mean_norm: 67.15098571777344\n",
      "level: 52, step_size: 0.0006726866092373174, grad_norm: 240.7860565185547, image_norm: 9.1068696975708, snr: 0.22021375596523285, grad_mean_norm: 68.9448471069336\n",
      "level: 52, step_size: 0.0006726866092373174, grad_norm: 240.779541015625, image_norm: 9.104324340820312, snr: 0.2224411964416504, grad_mean_norm: 68.8909912109375\n",
      "level: 53, step_size: 0.0005428081368724175, grad_norm: 268.3158264160156, image_norm: 9.09976863861084, snr: 0.2253233790397644, grad_mean_norm: 67.04574584960938\n",
      "level: 53, step_size: 0.0005428081368724175, grad_norm: 267.7583923339844, image_norm: 9.097766876220703, snr: 0.22280673682689667, grad_mean_norm: 65.68641662597656\n",
      "level: 53, step_size: 0.0005428081368724175, grad_norm: 267.27734375, image_norm: 9.095802307128906, snr: 0.22061452269554138, grad_mean_norm: 63.59592819213867\n",
      "level: 53, step_size: 0.0005428081368724175, grad_norm: 267.15081787109375, image_norm: 9.093360900878906, snr: 0.2217956781387329, grad_mean_norm: 64.71524810791016\n",
      "level: 53, step_size: 0.0005428081368724175, grad_norm: 266.7644958496094, image_norm: 9.092650413513184, snr: 0.22393734753131866, grad_mean_norm: 63.466766357421875\n",
      "level: 53, step_size: 0.0005428081368724175, grad_norm: 265.9140319824219, image_norm: 9.0963716506958, snr: 0.21917270123958588, grad_mean_norm: 61.41141128540039\n",
      "level: 53, step_size: 0.0005428081368724175, grad_norm: 265.9317932128906, image_norm: 9.088542938232422, snr: 0.2219829112291336, grad_mean_norm: 62.01996994018555\n",
      "level: 53, step_size: 0.0005428081368724175, grad_norm: 265.3117980957031, image_norm: 9.07903003692627, snr: 0.22066831588745117, grad_mean_norm: 61.23115921020508\n",
      "level: 53, step_size: 0.0005428081368724175, grad_norm: 264.8448791503906, image_norm: 9.069851875305176, snr: 0.2222241461277008, grad_mean_norm: 63.45415496826172\n",
      "level: 53, step_size: 0.0005428081368724175, grad_norm: 264.628662109375, image_norm: 9.064294815063477, snr: 0.21893295645713806, grad_mean_norm: 63.73909378051758\n",
      "level: 54, step_size: 0.0004380058550429069, grad_norm: 294.5345153808594, image_norm: 9.056401252746582, snr: 0.22581687569618225, grad_mean_norm: 63.69444274902344\n",
      "level: 54, step_size: 0.0004380058550429069, grad_norm: 293.8924255371094, image_norm: 9.057846069335938, snr: 0.21945568919181824, grad_mean_norm: 64.41497802734375\n",
      "level: 54, step_size: 0.0004380058550429069, grad_norm: 293.9942321777344, image_norm: 9.047215461730957, snr: 0.21940213441848755, grad_mean_norm: 64.13262176513672\n",
      "level: 54, step_size: 0.0004380058550429069, grad_norm: 294.6291198730469, image_norm: 9.04072380065918, snr: 0.22006569802761078, grad_mean_norm: 65.8137435913086\n",
      "level: 54, step_size: 0.0004380058550429069, grad_norm: 293.5904235839844, image_norm: 9.044679641723633, snr: 0.22247488796710968, grad_mean_norm: 67.5160140991211\n",
      "level: 54, step_size: 0.0004380058550429069, grad_norm: 293.4314270019531, image_norm: 9.045440673828125, snr: 0.21994484961032867, grad_mean_norm: 66.9866714477539\n",
      "level: 54, step_size: 0.0004380058550429069, grad_norm: 293.23760986328125, image_norm: 9.045817375183105, snr: 0.22014985978603363, grad_mean_norm: 67.20669555664062\n",
      "level: 54, step_size: 0.0004380058550429069, grad_norm: 292.6142883300781, image_norm: 9.04336166381836, snr: 0.22144119441509247, grad_mean_norm: 66.41046905517578\n",
      "level: 54, step_size: 0.0004380058550429069, grad_norm: 292.36065673828125, image_norm: 9.05010986328125, snr: 0.21779264509677887, grad_mean_norm: 64.41641235351562\n",
      "level: 54, step_size: 0.0004380058550429069, grad_norm: 292.4775695800781, image_norm: 9.048786163330078, snr: 0.2186243236064911, grad_mean_norm: 60.61374282836914\n",
      "level: 55, step_size: 0.00035343819670293717, grad_norm: 324.6242370605469, image_norm: 9.046038627624512, snr: 0.21931107342243195, grad_mean_norm: 63.434471130371094\n",
      "level: 55, step_size: 0.00035343819670293717, grad_norm: 323.8692932128906, image_norm: 9.04107666015625, snr: 0.21733854711055756, grad_mean_norm: 62.87271499633789\n",
      "level: 55, step_size: 0.00035343819670293717, grad_norm: 323.0068359375, image_norm: 9.038104057312012, snr: 0.2196384221315384, grad_mean_norm: 60.86033248901367\n",
      "level: 55, step_size: 0.00035343819670293717, grad_norm: 322.1951904296875, image_norm: 9.034785270690918, snr: 0.21725048124790192, grad_mean_norm: 62.268672943115234\n",
      "level: 55, step_size: 0.00035343819670293717, grad_norm: 321.9415588378906, image_norm: 9.038504600524902, snr: 0.21680694818496704, grad_mean_norm: 62.39573669433594\n",
      "level: 55, step_size: 0.00035343819670293717, grad_norm: 320.337890625, image_norm: 9.034029960632324, snr: 0.2154160439968109, grad_mean_norm: 62.53530502319336\n",
      "level: 55, step_size: 0.00035343819670293717, grad_norm: 320.27020263671875, image_norm: 9.02757740020752, snr: 0.21568837761878967, grad_mean_norm: 60.15565872192383\n",
      "level: 55, step_size: 0.00035343819670293717, grad_norm: 320.7098693847656, image_norm: 9.028508186340332, snr: 0.21589162945747375, grad_mean_norm: 59.28850555419922\n",
      "level: 55, step_size: 0.00035343819670293717, grad_norm: 319.484375, image_norm: 9.020517349243164, snr: 0.21606434881687164, grad_mean_norm: 60.14237594604492\n",
      "level: 55, step_size: 0.00035343819670293717, grad_norm: 318.83013916015625, image_norm: 9.009459495544434, snr: 0.2168135792016983, grad_mean_norm: 60.016483306884766\n",
      "level: 56, step_size: 0.00028519837680340355, grad_norm: 353.8260192871094, image_norm: 8.997204780578613, snr: 0.21352966129779816, grad_mean_norm: 61.034976959228516\n",
      "level: 56, step_size: 0.00028519837680340355, grad_norm: 353.85235595703125, image_norm: 8.992724418640137, snr: 0.21545788645744324, grad_mean_norm: 61.2202033996582\n",
      "level: 56, step_size: 0.00028519837680340355, grad_norm: 352.34698486328125, image_norm: 8.987154960632324, snr: 0.2103511244058609, grad_mean_norm: 59.02370071411133\n",
      "level: 56, step_size: 0.00028519837680340355, grad_norm: 351.722412109375, image_norm: 8.97802734375, snr: 0.2143414169549942, grad_mean_norm: 57.483787536621094\n",
      "level: 56, step_size: 0.00028519837680340355, grad_norm: 351.92657470703125, image_norm: 8.977182388305664, snr: 0.21487855911254883, grad_mean_norm: 56.27073287963867\n",
      "level: 56, step_size: 0.00028519837680340355, grad_norm: 352.1565246582031, image_norm: 8.9833984375, snr: 0.2118910849094391, grad_mean_norm: 55.7260627746582\n",
      "level: 56, step_size: 0.00028519837680340355, grad_norm: 351.75714111328125, image_norm: 8.980594635009766, snr: 0.21331940591335297, grad_mean_norm: 56.299835205078125\n",
      "level: 56, step_size: 0.00028519837680340355, grad_norm: 351.6864929199219, image_norm: 8.970488548278809, snr: 0.2126319259405136, grad_mean_norm: 55.32350158691406\n",
      "level: 56, step_size: 0.00028519837680340355, grad_norm: 351.1502380371094, image_norm: 8.969794273376465, snr: 0.21320074796676636, grad_mean_norm: 56.16976547241211\n",
      "level: 56, step_size: 0.00028519837680340355, grad_norm: 350.6064758300781, image_norm: 8.967765808105469, snr: 0.212271586060524, grad_mean_norm: 56.683074951171875\n",
      "level: 57, step_size: 0.0002301339099453938, grad_norm: 389.60845947265625, image_norm: 8.967037200927734, snr: 0.2121373862028122, grad_mean_norm: 55.93327331542969\n",
      "level: 57, step_size: 0.0002301339099453938, grad_norm: 388.8912048339844, image_norm: 8.968795776367188, snr: 0.21153275668621063, grad_mean_norm: 55.73187255859375\n",
      "level: 57, step_size: 0.0002301339099453938, grad_norm: 387.4266052246094, image_norm: 8.96751594543457, snr: 0.2085571438074112, grad_mean_norm: 56.07252502441406\n",
      "level: 57, step_size: 0.0002301339099453938, grad_norm: 387.1398010253906, image_norm: 8.966628074645996, snr: 0.21036848425865173, grad_mean_norm: 56.98334884643555\n",
      "level: 57, step_size: 0.0002301339099453938, grad_norm: 385.63824462890625, image_norm: 8.965840339660645, snr: 0.20990048348903656, grad_mean_norm: 56.445552825927734\n",
      "level: 57, step_size: 0.0002301339099453938, grad_norm: 386.65142822265625, image_norm: 8.961816787719727, snr: 0.21167787909507751, grad_mean_norm: 56.414398193359375\n",
      "level: 57, step_size: 0.0002301339099453938, grad_norm: 386.35528564453125, image_norm: 8.964134216308594, snr: 0.20869705080986023, grad_mean_norm: 56.46877670288086\n",
      "level: 57, step_size: 0.0002301339099453938, grad_norm: 385.1319885253906, image_norm: 8.962933540344238, snr: 0.20610347390174866, grad_mean_norm: 56.473079681396484\n",
      "level: 57, step_size: 0.0002301339099453938, grad_norm: 384.20928955078125, image_norm: 8.96329402923584, snr: 0.2101789265871048, grad_mean_norm: 58.32520294189453\n",
      "level: 57, step_size: 0.0002301339099453938, grad_norm: 383.12957763671875, image_norm: 8.966318130493164, snr: 0.2071867436170578, grad_mean_norm: 57.924232482910156\n",
      "level: 58, step_size: 0.00018570097452995976, grad_norm: 426.25201416015625, image_norm: 8.964231491088867, snr: 0.2063942849636078, grad_mean_norm: 56.188812255859375\n",
      "level: 58, step_size: 0.00018570097452995976, grad_norm: 425.7953186035156, image_norm: 8.963690757751465, snr: 0.20992106199264526, grad_mean_norm: 54.40955352783203\n",
      "level: 58, step_size: 0.00018570097452995976, grad_norm: 425.4778747558594, image_norm: 8.959383964538574, snr: 0.20697154104709625, grad_mean_norm: 53.98565673828125\n",
      "level: 58, step_size: 0.00018570097452995976, grad_norm: 424.95538330078125, image_norm: 8.953719139099121, snr: 0.2053588479757309, grad_mean_norm: 55.16781997680664\n",
      "level: 58, step_size: 0.00018570097452995976, grad_norm: 424.2648620605469, image_norm: 8.950942993164062, snr: 0.20718346536159515, grad_mean_norm: 55.62690353393555\n",
      "level: 58, step_size: 0.00018570097452995976, grad_norm: 423.1636657714844, image_norm: 8.95035457611084, snr: 0.20489902794361115, grad_mean_norm: 56.107635498046875\n",
      "level: 58, step_size: 0.00018570097452995976, grad_norm: 422.4608459472656, image_norm: 8.945744514465332, snr: 0.205750972032547, grad_mean_norm: 55.16276550292969\n",
      "level: 58, step_size: 0.00018570097452995976, grad_norm: 422.1817321777344, image_norm: 8.942054748535156, snr: 0.20350076258182526, grad_mean_norm: 53.95515823364258\n",
      "level: 58, step_size: 0.00018570097452995976, grad_norm: 421.9522399902344, image_norm: 8.9448881149292, snr: 0.20725186169147491, grad_mean_norm: 53.71672821044922\n",
      "level: 58, step_size: 0.00018570097452995976, grad_norm: 422.2193908691406, image_norm: 8.9457426071167, snr: 0.2038659006357193, grad_mean_norm: 54.10964584350586\n",
      "level: 59, step_size: 0.00014984689544256773, grad_norm: 468.7199401855469, image_norm: 8.938089370727539, snr: 0.20765551924705505, grad_mean_norm: 53.85129928588867\n",
      "level: 59, step_size: 0.00014984689544256773, grad_norm: 467.7193298339844, image_norm: 8.939515113830566, snr: 0.20308971405029297, grad_mean_norm: 52.331241607666016\n",
      "level: 59, step_size: 0.00014984689544256773, grad_norm: 466.318359375, image_norm: 8.937457084655762, snr: 0.2002648413181305, grad_mean_norm: 51.42316818237305\n",
      "level: 59, step_size: 0.00014984689544256773, grad_norm: 465.5964050292969, image_norm: 8.934905052185059, snr: 0.20402181148529053, grad_mean_norm: 50.40721893310547\n",
      "level: 59, step_size: 0.00014984689544256773, grad_norm: 464.885498046875, image_norm: 8.933174133300781, snr: 0.20304833352565765, grad_mean_norm: 51.09221649169922\n",
      "level: 59, step_size: 0.00014984689544256773, grad_norm: 464.32452392578125, image_norm: 8.933404922485352, snr: 0.20419368147850037, grad_mean_norm: 51.526153564453125\n",
      "level: 59, step_size: 0.00014984689544256773, grad_norm: 463.9913635253906, image_norm: 8.931151390075684, snr: 0.2040579617023468, grad_mean_norm: 52.91197967529297\n",
      "level: 59, step_size: 0.00014984689544256773, grad_norm: 462.7455139160156, image_norm: 8.927769660949707, snr: 0.2021297663450241, grad_mean_norm: 52.10274124145508\n",
      "level: 59, step_size: 0.00014984689544256773, grad_norm: 462.275146484375, image_norm: 8.929086685180664, snr: 0.20208998024463654, grad_mean_norm: 53.32276916503906\n",
      "level: 59, step_size: 0.00014984689544256773, grad_norm: 461.12255859375, image_norm: 8.92846393585205, snr: 0.20267874002456665, grad_mean_norm: 52.963985443115234\n",
      "level: 60, step_size: 0.00012091531630682543, grad_norm: 511.90020751953125, image_norm: 8.926770210266113, snr: 0.1992601454257965, grad_mean_norm: 54.540077209472656\n",
      "level: 60, step_size: 0.00012091531630682543, grad_norm: 511.9149475097656, image_norm: 8.927130699157715, snr: 0.1999206840991974, grad_mean_norm: 54.719688415527344\n",
      "level: 60, step_size: 0.00012091531630682543, grad_norm: 511.8329162597656, image_norm: 8.926071166992188, snr: 0.1990746110677719, grad_mean_norm: 54.16645431518555\n",
      "level: 60, step_size: 0.00012091531630682543, grad_norm: 511.9817810058594, image_norm: 8.923851013183594, snr: 0.199131041765213, grad_mean_norm: 55.313262939453125\n",
      "level: 60, step_size: 0.00012091531630682543, grad_norm: 510.1023864746094, image_norm: 8.926763534545898, snr: 0.19948771595954895, grad_mean_norm: 57.041656494140625\n",
      "level: 60, step_size: 0.00012091531630682543, grad_norm: 509.3438415527344, image_norm: 8.922430992126465, snr: 0.20265424251556396, grad_mean_norm: 58.98441696166992\n",
      "level: 60, step_size: 0.00012091531630682543, grad_norm: 509.0713806152344, image_norm: 8.91909122467041, snr: 0.20178520679473877, grad_mean_norm: 59.8907356262207\n",
      "level: 60, step_size: 0.00012091531630682543, grad_norm: 508.65093994140625, image_norm: 8.920248985290527, snr: 0.20059344172477722, grad_mean_norm: 60.89784622192383\n",
      "level: 60, step_size: 0.00012091531630682543, grad_norm: 508.53472900390625, image_norm: 8.92066478729248, snr: 0.1984979808330536, grad_mean_norm: 61.0770378112793\n",
      "level: 60, step_size: 0.00012091531630682543, grad_norm: 508.9950256347656, image_norm: 8.920977592468262, snr: 0.1995166391134262, grad_mean_norm: 60.5472526550293\n",
      "level: 61, step_size: 9.756968053557917e-05, grad_norm: 565.8839721679688, image_norm: 8.919097900390625, snr: 0.19957822561264038, grad_mean_norm: 60.36534118652344\n",
      "level: 61, step_size: 9.756968053557917e-05, grad_norm: 564.24267578125, image_norm: 8.920190811157227, snr: 0.20006631314754486, grad_mean_norm: 60.96162033081055\n",
      "level: 61, step_size: 9.756968053557917e-05, grad_norm: 564.6618041992188, image_norm: 8.915755271911621, snr: 0.1983208954334259, grad_mean_norm: 59.532649993896484\n",
      "level: 61, step_size: 9.756968053557917e-05, grad_norm: 565.4154052734375, image_norm: 8.914201736450195, snr: 0.20011726021766663, grad_mean_norm: 61.25404357910156\n",
      "level: 61, step_size: 9.756968053557917e-05, grad_norm: 564.7410278320312, image_norm: 8.915033340454102, snr: 0.2001647800207138, grad_mean_norm: 61.22149658203125\n",
      "level: 61, step_size: 9.756968053557917e-05, grad_norm: 563.9874877929688, image_norm: 8.911498069763184, snr: 0.20020322501659393, grad_mean_norm: 61.694332122802734\n",
      "level: 61, step_size: 9.756968053557917e-05, grad_norm: 562.3560791015625, image_norm: 8.912973403930664, snr: 0.19877298176288605, grad_mean_norm: 60.64775085449219\n",
      "level: 61, step_size: 9.756968053557917e-05, grad_norm: 561.7445068359375, image_norm: 8.912680625915527, snr: 0.19756387174129486, grad_mean_norm: 61.44554901123047\n",
      "level: 61, step_size: 9.756968053557917e-05, grad_norm: 560.4426879882812, image_norm: 8.912818908691406, snr: 0.19866308569908142, grad_mean_norm: 59.94523239135742\n",
      "level: 61, step_size: 9.756968053557917e-05, grad_norm: 559.566650390625, image_norm: 8.914088249206543, snr: 0.19875800609588623, grad_mean_norm: 58.88799285888672\n",
      "level: 62, step_size: 7.873148622179625e-05, grad_norm: 622.6257934570312, image_norm: 8.913180351257324, snr: 0.19698446989059448, grad_mean_norm: 57.60251998901367\n",
      "level: 62, step_size: 7.873148622179625e-05, grad_norm: 621.7232666015625, image_norm: 8.912734985351562, snr: 0.19667772948741913, grad_mean_norm: 59.19634246826172\n",
      "level: 62, step_size: 7.873148622179625e-05, grad_norm: 621.4947509765625, image_norm: 8.912567138671875, snr: 0.1965474933385849, grad_mean_norm: 58.713253021240234\n",
      "level: 62, step_size: 7.873148622179625e-05, grad_norm: 622.11962890625, image_norm: 8.910165786743164, snr: 0.19547434151172638, grad_mean_norm: 57.443355560302734\n",
      "level: 62, step_size: 7.873148622179625e-05, grad_norm: 621.1964721679688, image_norm: 8.907999038696289, snr: 0.19700103998184204, grad_mean_norm: 56.11922073364258\n",
      "level: 62, step_size: 7.873148622179625e-05, grad_norm: 620.7070922851562, image_norm: 8.9075927734375, snr: 0.19606631994247437, grad_mean_norm: 57.279998779296875\n",
      "level: 62, step_size: 7.873148622179625e-05, grad_norm: 619.17578125, image_norm: 8.906588554382324, snr: 0.19614890217781067, grad_mean_norm: 57.29829788208008\n",
      "level: 62, step_size: 7.873148622179625e-05, grad_norm: 619.384521484375, image_norm: 8.907808303833008, snr: 0.1950785219669342, grad_mean_norm: 56.965293884277344\n",
      "level: 62, step_size: 7.873148622179625e-05, grad_norm: 619.2584228515625, image_norm: 8.908087730407715, snr: 0.19556193053722382, grad_mean_norm: 55.752254486083984\n",
      "level: 62, step_size: 7.873148622179625e-05, grad_norm: 617.9631958007812, image_norm: 8.90825080871582, snr: 0.1927293986082077, grad_mean_norm: 54.58229064941406\n",
      "level: 63, step_size: 6.353046242098273e-05, grad_norm: 686.894775390625, image_norm: 8.90762996673584, snr: 0.19477054476737976, grad_mean_norm: 54.34663009643555\n",
      "level: 63, step_size: 6.353046242098273e-05, grad_norm: 685.1792602539062, image_norm: 8.907843589782715, snr: 0.19487595558166504, grad_mean_norm: 54.47294235229492\n",
      "level: 63, step_size: 6.353046242098273e-05, grad_norm: 684.3916625976562, image_norm: 8.90782642364502, snr: 0.19274397194385529, grad_mean_norm: 53.9013786315918\n",
      "level: 63, step_size: 6.353046242098273e-05, grad_norm: 682.2693481445312, image_norm: 8.907641410827637, snr: 0.19360771775245667, grad_mean_norm: 52.28316879272461\n",
      "level: 63, step_size: 6.353046242098273e-05, grad_norm: 681.2905883789062, image_norm: 8.909143447875977, snr: 0.19554275274276733, grad_mean_norm: 51.29437255859375\n",
      "level: 63, step_size: 6.353046242098273e-05, grad_norm: 680.691162109375, image_norm: 8.909431457519531, snr: 0.19546693563461304, grad_mean_norm: 52.108612060546875\n",
      "level: 63, step_size: 6.353046242098273e-05, grad_norm: 680.4750366210938, image_norm: 8.905035972595215, snr: 0.19318024814128876, grad_mean_norm: 51.50089645385742\n",
      "level: 63, step_size: 6.353046242098273e-05, grad_norm: 680.5089721679688, image_norm: 8.906176567077637, snr: 0.1942128688097, grad_mean_norm: 51.86198425292969\n",
      "level: 63, step_size: 6.353046242098273e-05, grad_norm: 680.5700073242188, image_norm: 8.90429401397705, snr: 0.19210854172706604, grad_mean_norm: 51.988216400146484\n",
      "level: 63, step_size: 6.353046242098273e-05, grad_norm: 680.8556518554688, image_norm: 8.904692649841309, snr: 0.19491632282733917, grad_mean_norm: 54.078041076660156\n",
      "level: 64, step_size: 5.126436511122945e-05, grad_norm: 756.3768920898438, image_norm: 8.902915954589844, snr: 0.19492825865745544, grad_mean_norm: 54.365013122558594\n",
      "level: 64, step_size: 5.126436511122945e-05, grad_norm: 755.995849609375, image_norm: 8.904540061950684, snr: 0.19360893964767456, grad_mean_norm: 53.913028717041016\n",
      "level: 64, step_size: 5.126436511122945e-05, grad_norm: 756.4161376953125, image_norm: 8.90554141998291, snr: 0.1926267296075821, grad_mean_norm: 54.32050704956055\n",
      "level: 64, step_size: 5.126436511122945e-05, grad_norm: 755.6239624023438, image_norm: 8.903246879577637, snr: 0.19712434709072113, grad_mean_norm: 53.81087875366211\n",
      "level: 64, step_size: 5.126436511122945e-05, grad_norm: 756.0431518554688, image_norm: 8.902061462402344, snr: 0.19675098359584808, grad_mean_norm: 54.28194046020508\n",
      "level: 64, step_size: 5.126436511122945e-05, grad_norm: 754.6632690429688, image_norm: 8.900018692016602, snr: 0.19294722378253937, grad_mean_norm: 53.610660552978516\n",
      "level: 64, step_size: 5.126436511122945e-05, grad_norm: 753.461669921875, image_norm: 8.901612281799316, snr: 0.1925990730524063, grad_mean_norm: 54.43630599975586\n",
      "level: 64, step_size: 5.126436511122945e-05, grad_norm: 751.8648071289062, image_norm: 8.901206016540527, snr: 0.19169051945209503, grad_mean_norm: 54.6408805847168\n",
      "level: 64, step_size: 5.126436511122945e-05, grad_norm: 753.7512817382812, image_norm: 8.901350975036621, snr: 0.19163204729557037, grad_mean_norm: 55.21284866333008\n",
      "level: 64, step_size: 5.126436511122945e-05, grad_norm: 755.7179565429688, image_norm: 8.90308666229248, snr: 0.19670915603637695, grad_mean_norm: 56.559608459472656\n",
      "level: 65, step_size: 4.1366535518706694e-05, grad_norm: 841.1417846679688, image_norm: 8.903472900390625, snr: 0.19230039417743683, grad_mean_norm: 56.44480514526367\n",
      "level: 65, step_size: 4.1366535518706694e-05, grad_norm: 839.21826171875, image_norm: 8.901313781738281, snr: 0.1917964369058609, grad_mean_norm: 55.76491928100586\n",
      "level: 65, step_size: 4.1366535518706694e-05, grad_norm: 839.7652587890625, image_norm: 8.9025239944458, snr: 0.19455686211585999, grad_mean_norm: 55.75211715698242\n",
      "level: 65, step_size: 4.1366535518706694e-05, grad_norm: 842.12255859375, image_norm: 8.902656555175781, snr: 0.19335688650608063, grad_mean_norm: 56.219234466552734\n",
      "level: 65, step_size: 4.1366535518706694e-05, grad_norm: 841.2473754882812, image_norm: 8.900092124938965, snr: 0.1947820633649826, grad_mean_norm: 54.343265533447266\n",
      "level: 65, step_size: 4.1366535518706694e-05, grad_norm: 840.2238159179688, image_norm: 8.901354789733887, snr: 0.194065123796463, grad_mean_norm: 54.10028839111328\n",
      "level: 65, step_size: 4.1366535518706694e-05, grad_norm: 841.4064331054688, image_norm: 8.900826454162598, snr: 0.19391515851020813, grad_mean_norm: 54.066104888916016\n",
      "level: 65, step_size: 4.1366535518706694e-05, grad_norm: 842.0853881835938, image_norm: 8.902060508728027, snr: 0.19179683923721313, grad_mean_norm: 52.77527618408203\n",
      "level: 65, step_size: 4.1366535518706694e-05, grad_norm: 841.1422119140625, image_norm: 8.89793872833252, snr: 0.19434696435928345, grad_mean_norm: 51.26792907714844\n",
      "level: 65, step_size: 4.1366535518706694e-05, grad_norm: 840.9949340820312, image_norm: 8.898126602172852, snr: 0.19251592457294464, grad_mean_norm: 50.651466369628906\n",
      "level: 66, step_size: 3.337972209560401e-05, grad_norm: 935.51953125, image_norm: 8.897297859191895, snr: 0.193197101354599, grad_mean_norm: 50.10175704956055\n",
      "level: 66, step_size: 3.337972209560401e-05, grad_norm: 934.9535522460938, image_norm: 8.898017883300781, snr: 0.19219818711280823, grad_mean_norm: 48.649635314941406\n",
      "level: 66, step_size: 3.337972209560401e-05, grad_norm: 933.5283203125, image_norm: 8.899672508239746, snr: 0.18915607035160065, grad_mean_norm: 48.00068283081055\n",
      "level: 66, step_size: 3.337972209560401e-05, grad_norm: 931.1605834960938, image_norm: 8.901229858398438, snr: 0.18926456570625305, grad_mean_norm: 45.500877380371094\n",
      "level: 66, step_size: 3.337972209560401e-05, grad_norm: 931.9786987304688, image_norm: 8.899174690246582, snr: 0.19473525881767273, grad_mean_norm: 45.56618881225586\n",
      "level: 66, step_size: 3.337972209560401e-05, grad_norm: 931.1834106445312, image_norm: 8.900280952453613, snr: 0.19183601438999176, grad_mean_norm: 45.600223541259766\n",
      "level: 66, step_size: 3.337972209560401e-05, grad_norm: 930.6349487304688, image_norm: 8.900141716003418, snr: 0.19389665126800537, grad_mean_norm: 46.2098388671875\n",
      "level: 66, step_size: 3.337972209560401e-05, grad_norm: 931.8058471679688, image_norm: 8.901208877563477, snr: 0.19234317541122437, grad_mean_norm: 46.80733108520508\n",
      "level: 66, step_size: 3.337972209560401e-05, grad_norm: 932.8204956054688, image_norm: 8.899950981140137, snr: 0.19264453649520874, grad_mean_norm: 47.64521026611328\n",
      "level: 66, step_size: 3.337972209560401e-05, grad_norm: 932.6982421875, image_norm: 8.898092269897461, snr: 0.19587655365467072, grad_mean_norm: 46.94623947143555\n",
      "level: 67, step_size: 2.6934956800428542e-05, grad_norm: 1039.466796875, image_norm: 8.899447441101074, snr: 0.191231369972229, grad_mean_norm: 47.54813766479492\n",
      "level: 67, step_size: 2.6934956800428542e-05, grad_norm: 1036.6314697265625, image_norm: 8.900813102722168, snr: 0.1934029906988144, grad_mean_norm: 48.531253814697266\n",
      "level: 67, step_size: 2.6934956800428542e-05, grad_norm: 1038.0634765625, image_norm: 8.899343490600586, snr: 0.19176238775253296, grad_mean_norm: 47.96351623535156\n",
      "level: 67, step_size: 2.6934956800428542e-05, grad_norm: 1041.6170654296875, image_norm: 8.898795127868652, snr: 0.19204024970531464, grad_mean_norm: 46.95435333251953\n",
      "level: 67, step_size: 2.6934956800428542e-05, grad_norm: 1039.58740234375, image_norm: 8.898210525512695, snr: 0.1951804906129837, grad_mean_norm: 47.019161224365234\n",
      "level: 67, step_size: 2.6934956800428542e-05, grad_norm: 1039.6009521484375, image_norm: 8.896745681762695, snr: 0.19219714403152466, grad_mean_norm: 47.54179000854492\n",
      "level: 67, step_size: 2.6934956800428542e-05, grad_norm: 1041.1240234375, image_norm: 8.899157524108887, snr: 0.1923498660326004, grad_mean_norm: 49.35862731933594\n",
      "level: 67, step_size: 2.6934956800428542e-05, grad_norm: 1041.486572265625, image_norm: 8.898749351501465, snr: 0.19568410515785217, grad_mean_norm: 49.591732025146484\n",
      "level: 67, step_size: 2.6934956800428542e-05, grad_norm: 1041.056884765625, image_norm: 8.898272514343262, snr: 0.19294916093349457, grad_mean_norm: 49.229270935058594\n",
      "level: 67, step_size: 2.6934956800428542e-05, grad_norm: 1037.55078125, image_norm: 8.896977424621582, snr: 0.19064077734947205, grad_mean_norm: 47.453914642333984\n",
      "level: 68, step_size: 2.1734509824948384e-05, grad_norm: 1152.1090087890625, image_norm: 8.896186828613281, snr: 0.19289563596248627, grad_mean_norm: 45.56939697265625\n",
      "level: 68, step_size: 2.1734509824948384e-05, grad_norm: 1152.4239501953125, image_norm: 8.895828247070312, snr: 0.19868063926696777, grad_mean_norm: 46.599464416503906\n",
      "level: 68, step_size: 2.1734509824948384e-05, grad_norm: 1150.501953125, image_norm: 8.895949363708496, snr: 0.19265906512737274, grad_mean_norm: 45.97360610961914\n",
      "level: 68, step_size: 2.1734509824948384e-05, grad_norm: 1151.2275390625, image_norm: 8.89500617980957, snr: 0.19035151600837708, grad_mean_norm: 47.83268356323242\n",
      "level: 68, step_size: 2.1734509824948384e-05, grad_norm: 1152.9500732421875, image_norm: 8.894381523132324, snr: 0.19042395055294037, grad_mean_norm: 49.36001205444336\n",
      "level: 68, step_size: 2.1734509824948384e-05, grad_norm: 1156.3172607421875, image_norm: 8.894386291503906, snr: 0.1917119324207306, grad_mean_norm: 47.905975341796875\n",
      "level: 68, step_size: 2.1734509824948384e-05, grad_norm: 1153.3218994140625, image_norm: 8.89408016204834, snr: 0.19151386618614197, grad_mean_norm: 48.956573486328125\n",
      "level: 68, step_size: 2.1734509824948384e-05, grad_norm: 1151.58154296875, image_norm: 8.895164489746094, snr: 0.19144770503044128, grad_mean_norm: 49.61996078491211\n",
      "level: 68, step_size: 2.1734509824948384e-05, grad_norm: 1154.18310546875, image_norm: 8.89463996887207, snr: 0.1917271465063095, grad_mean_norm: 48.399024963378906\n",
      "level: 68, step_size: 2.1734509824948384e-05, grad_norm: 1151.2017822265625, image_norm: 8.89399528503418, snr: 0.19297254085540771, grad_mean_norm: 49.42120361328125\n",
      "level: 69, step_size: 1.753813532469681e-05, grad_norm: 1279.4954833984375, image_norm: 8.893632888793945, snr: 0.19365446269512177, grad_mean_norm: 49.73056411743164\n",
      "level: 69, step_size: 1.753813532469681e-05, grad_norm: 1275.376953125, image_norm: 8.893580436706543, snr: 0.1890416145324707, grad_mean_norm: 50.295127868652344\n",
      "level: 69, step_size: 1.753813532469681e-05, grad_norm: 1271.815185546875, image_norm: 8.89255428314209, snr: 0.18955540657043457, grad_mean_norm: 49.535892486572266\n",
      "level: 69, step_size: 1.753813532469681e-05, grad_norm: 1267.2249755859375, image_norm: 8.892501831054688, snr: 0.18947258591651917, grad_mean_norm: 49.028568267822266\n",
      "level: 69, step_size: 1.753813532469681e-05, grad_norm: 1263.8109130859375, image_norm: 8.891657829284668, snr: 0.19082671403884888, grad_mean_norm: 49.36897277832031\n",
      "level: 69, step_size: 1.753813532469681e-05, grad_norm: 1257.8447265625, image_norm: 8.890889167785645, snr: 0.18635158240795135, grad_mean_norm: 49.105224609375\n",
      "level: 69, step_size: 1.753813532469681e-05, grad_norm: 1256.4573974609375, image_norm: 8.891006469726562, snr: 0.18851475417613983, grad_mean_norm: 47.150962829589844\n",
      "level: 69, step_size: 1.753813532469681e-05, grad_norm: 1255.1595458984375, image_norm: 8.89124584197998, snr: 0.1875474601984024, grad_mean_norm: 47.41838455200195\n",
      "level: 69, step_size: 1.753813532469681e-05, grad_norm: 1249.498779296875, image_norm: 8.887547492980957, snr: 0.18633201718330383, grad_mean_norm: 45.834232330322266\n",
      "level: 69, step_size: 1.753813532469681e-05, grad_norm: 1244.379638671875, image_norm: 8.888650894165039, snr: 0.18812796473503113, grad_mean_norm: 45.685646057128906\n",
      "level: 70, step_size: 1.415197274494352e-05, grad_norm: 1385.8089599609375, image_norm: 8.888656616210938, snr: 0.18432922661304474, grad_mean_norm: 45.38814926147461\n",
      "level: 70, step_size: 1.415197274494352e-05, grad_norm: 1382.994140625, image_norm: 8.887725830078125, snr: 0.1843225061893463, grad_mean_norm: 45.694129943847656\n",
      "level: 70, step_size: 1.415197274494352e-05, grad_norm: 1374.7357177734375, image_norm: 8.887222290039062, snr: 0.18699149787425995, grad_mean_norm: 44.92117691040039\n",
      "level: 70, step_size: 1.415197274494352e-05, grad_norm: 1369.52978515625, image_norm: 8.885333061218262, snr: 0.18264907598495483, grad_mean_norm: 44.597923278808594\n",
      "level: 70, step_size: 1.415197274494352e-05, grad_norm: 1369.489013671875, image_norm: 8.885844230651855, snr: 0.18477261066436768, grad_mean_norm: 44.746482849121094\n",
      "level: 70, step_size: 1.415197274494352e-05, grad_norm: 1369.85400390625, image_norm: 8.886804580688477, snr: 0.18500728905200958, grad_mean_norm: 43.99784851074219\n",
      "level: 70, step_size: 1.415197274494352e-05, grad_norm: 1364.077392578125, image_norm: 8.888276100158691, snr: 0.18379278481006622, grad_mean_norm: 43.69450378417969\n",
      "level: 70, step_size: 1.415197274494352e-05, grad_norm: 1367.6265869140625, image_norm: 8.887873649597168, snr: 0.18175561726093292, grad_mean_norm: 43.84280014038086\n",
      "level: 70, step_size: 1.415197274494352e-05, grad_norm: 1365.1243896484375, image_norm: 8.887274742126465, snr: 0.18235106766223907, grad_mean_norm: 44.256805419921875\n",
      "level: 70, step_size: 1.415197274494352e-05, grad_norm: 1363.7152099609375, image_norm: 8.887039184570312, snr: 0.18322353065013885, grad_mean_norm: 44.10495376586914\n",
      "level: 71, step_size: 1.1419591014992194e-05, grad_norm: 1518.2567138671875, image_norm: 8.885965347290039, snr: 0.18278326094150543, grad_mean_norm: 45.83518981933594\n",
      "level: 71, step_size: 1.1419591014992194e-05, grad_norm: 1517.0380859375, image_norm: 8.885201454162598, snr: 0.18244069814682007, grad_mean_norm: 44.610897064208984\n",
      "level: 71, step_size: 1.1419591014992194e-05, grad_norm: 1511.5478515625, image_norm: 8.884498596191406, snr: 0.1828082799911499, grad_mean_norm: 45.0681037902832\n",
      "level: 71, step_size: 1.1419591014992194e-05, grad_norm: 1512.4075927734375, image_norm: 8.88418960571289, snr: 0.1815824657678604, grad_mean_norm: 44.70956802368164\n",
      "level: 71, step_size: 1.1419591014992194e-05, grad_norm: 1505.7855224609375, image_norm: 8.884299278259277, snr: 0.18037253618240356, grad_mean_norm: 43.86566925048828\n",
      "level: 71, step_size: 1.1419591014992194e-05, grad_norm: 1502.7562255859375, image_norm: 8.8841552734375, snr: 0.18132269382476807, grad_mean_norm: 42.63575744628906\n",
      "level: 71, step_size: 1.1419591014992194e-05, grad_norm: 1504.9072265625, image_norm: 8.883158683776855, snr: 0.18272660672664642, grad_mean_norm: 43.410400390625\n",
      "level: 71, step_size: 1.1419591014992194e-05, grad_norm: 1501.725830078125, image_norm: 8.882807731628418, snr: 0.18263866007328033, grad_mean_norm: 43.77144241333008\n",
      "level: 71, step_size: 1.1419591014992194e-05, grad_norm: 1498.3739013671875, image_norm: 8.883255958557129, snr: 0.1818566620349884, grad_mean_norm: 42.80780792236328\n",
      "level: 71, step_size: 1.1419591014992194e-05, grad_norm: 1495.0933837890625, image_norm: 8.883638381958008, snr: 0.17834357917308807, grad_mean_norm: 42.61421203613281\n",
      "level: 72, step_size: 9.214761878077013e-06, grad_norm: 1665.159423828125, image_norm: 8.882647514343262, snr: 0.1792289912700653, grad_mean_norm: 42.846778869628906\n",
      "level: 72, step_size: 9.214761878077013e-06, grad_norm: 1666.0770263671875, image_norm: 8.881909370422363, snr: 0.17910827696323395, grad_mean_norm: 42.3254508972168\n",
      "level: 72, step_size: 9.214761878077013e-06, grad_norm: 1655.0159912109375, image_norm: 8.88227367401123, snr: 0.18160343170166016, grad_mean_norm: 40.89749526977539\n",
      "level: 72, step_size: 9.214761878077013e-06, grad_norm: 1647.796142578125, image_norm: 8.881851196289062, snr: 0.17893202602863312, grad_mean_norm: 41.55863571166992\n",
      "level: 72, step_size: 9.214761878077013e-06, grad_norm: 1644.3402099609375, image_norm: 8.880844116210938, snr: 0.17895948886871338, grad_mean_norm: 42.502777099609375\n",
      "level: 72, step_size: 9.214761878077013e-06, grad_norm: 1642.6668701171875, image_norm: 8.880739212036133, snr: 0.17835451662540436, grad_mean_norm: 41.94437026977539\n",
      "level: 72, step_size: 9.214761878077013e-06, grad_norm: 1639.0999755859375, image_norm: 8.880386352539062, snr: 0.17781060934066772, grad_mean_norm: 41.71809768676758\n",
      "level: 72, step_size: 9.214761878077013e-06, grad_norm: 1636.5457763671875, image_norm: 8.881098747253418, snr: 0.17864249646663666, grad_mean_norm: 41.804168701171875\n",
      "level: 72, step_size: 9.214761878077013e-06, grad_norm: 1635.7425537109375, image_norm: 8.879473686218262, snr: 0.17643092572689056, grad_mean_norm: 42.26331329345703\n",
      "level: 72, step_size: 9.214761878077013e-06, grad_norm: 1631.5166015625, image_norm: 8.879725456237793, snr: 0.1785743683576584, grad_mean_norm: 41.75325393676758\n",
      "level: 73, step_size: 7.435628505275253e-06, grad_norm: 1811.954345703125, image_norm: 8.879793167114258, snr: 0.17515422403812408, grad_mean_norm: 40.87983322143555\n",
      "level: 73, step_size: 7.435628505275253e-06, grad_norm: 1806.0181884765625, image_norm: 8.879393577575684, snr: 0.17335648834705353, grad_mean_norm: 40.20814895629883\n",
      "level: 73, step_size: 7.435628505275253e-06, grad_norm: 1798.583251953125, image_norm: 8.877763748168945, snr: 0.17509324848651886, grad_mean_norm: 40.825035095214844\n",
      "level: 73, step_size: 7.435628505275253e-06, grad_norm: 1793.6448974609375, image_norm: 8.877875328063965, snr: 0.17378970980644226, grad_mean_norm: 40.80409240722656\n",
      "level: 73, step_size: 7.435628505275253e-06, grad_norm: 1791.0465087890625, image_norm: 8.87677001953125, snr: 0.17484831809997559, grad_mean_norm: 41.343536376953125\n",
      "level: 73, step_size: 7.435628505275253e-06, grad_norm: 1786.9066162109375, image_norm: 8.8761625289917, snr: 0.17403286695480347, grad_mean_norm: 41.858665466308594\n",
      "level: 73, step_size: 7.435628505275253e-06, grad_norm: 1781.251953125, image_norm: 8.875956535339355, snr: 0.1742222011089325, grad_mean_norm: 42.20061111450195\n",
      "level: 73, step_size: 7.435628505275253e-06, grad_norm: 1770.732666015625, image_norm: 8.874879837036133, snr: 0.1747763305902481, grad_mean_norm: 41.851375579833984\n",
      "level: 73, step_size: 7.435628505275253e-06, grad_norm: 1763.32421875, image_norm: 8.874125480651855, snr: 0.1735699623823166, grad_mean_norm: 41.04981994628906\n"
     ]
    },
    {
     "name": "stderr",
     "output_type": "stream",
     "text": [
      "Corruption MSE: 0.061749, Recovered MSE: 0.010772:   0%|▏                             | 10/2000 [00:02<07:04,  4.69it/s]"
     ]
    },
    {
     "name": "stdout",
     "output_type": "stream",
     "text": [
      "level: 73, step_size: 7.435628505275253e-06, grad_norm: 1756.0316162109375, image_norm: 8.873946189880371, snr: 0.17186549305915833, grad_mean_norm: 40.148109436035156\n",
      "level: 74, step_size: 6e-06, grad_norm: 1948.3406982421875, image_norm: 8.873139381408691, snr: 0.16766342520713806, grad_mean_norm: 39.099159240722656\n",
      "level: 74, step_size: 6e-06, grad_norm: 1938.2613525390625, image_norm: 8.872430801391602, snr: 0.16760388016700745, grad_mean_norm: 37.262847900390625\n",
      "level: 74, step_size: 6e-06, grad_norm: 1922.4471435546875, image_norm: 8.873458862304688, snr: 0.16932858526706696, grad_mean_norm: 36.89952850341797\n",
      "level: 74, step_size: 6e-06, grad_norm: 1923.2427978515625, image_norm: 8.873641014099121, snr: 0.16934734582901, grad_mean_norm: 38.14802932739258\n",
      "level: 74, step_size: 6e-06, grad_norm: 1911.0859375, image_norm: 8.873896598815918, snr: 0.1662289947271347, grad_mean_norm: 38.34357833862305\n",
      "level: 74, step_size: 6e-06, grad_norm: 1904.0819091796875, image_norm: 8.873351097106934, snr: 0.16571734845638275, grad_mean_norm: 38.49924087524414\n",
      "level: 74, step_size: 6e-06, grad_norm: 1897.2132568359375, image_norm: 8.87314510345459, snr: 0.16548115015029907, grad_mean_norm: 38.945865631103516\n",
      "level: 74, step_size: 6e-06, grad_norm: 1887.730712890625, image_norm: 8.873085975646973, snr: 0.16477258503437042, grad_mean_norm: 38.79153823852539\n",
      "level: 74, step_size: 6e-06, grad_norm: 1885.999267578125, image_norm: 8.872665405273438, snr: 0.1665845513343811, grad_mean_norm: 38.78567886352539\n",
      "level: 74, step_size: 6e-06, grad_norm: 1880.4510498046875, image_norm: 8.872055053710938, snr: 0.16354811191558838, grad_mean_norm: 38.79050064086914\n"
     ]
    },
    {
     "name": "stderr",
     "output_type": "stream",
     "text": [
      "\n"
     ]
    }
   ],
   "source": [
    "# visualize denoising\n",
    "try:\n",
    "    from NCSN.utils import val_set\n",
    "    from NCSN.model import CondUNet, UNetv2\n",
    "    from NCSN.train import evaluate_denoising, cal_noise_level, langevin\n",
    "    from NCSN.ema import EMAHelper\n",
    "\n",
    "except:\n",
    "    from utils import val_set\n",
    "    from model import CondUNet, UNetv2\n",
    "    from train import evaluate_denoising, cal_noise_level, langevin\n",
    "    from ema import EMAHelper\n",
    "\n",
    "import torch\n",
    "import torch.nn as nn\n",
    "from torch.utils.data import DataLoader\n",
    "\n",
    "val_loader = DataLoader(val_set, 10, shuffle=True, drop_last=False, pin_memory=True)\n",
    "\n",
    "criterion = nn.MSELoss()\n",
    "init_sigma = 28\n",
    "final_sigma = 0.01\n",
    "n_sigma = 75\n",
    "eps = 6e-6\n",
    "T = 10\n",
    "ema_decay = 0.999\n",
    "\n",
    "sigmas = cal_noise_level(init_sigma, final_sigma, n_sigma)\n",
    "\n",
    "model = UNetv2(sigmas=torch.tensor(sigmas)).cuda()\n",
    "time_str = \"20241022_182843\"\n",
    "eval_epoch = 199\n",
    "\n",
    "if ema_decay is not None:\n",
    "    ema_helper = EMAHelper(ema_decay)\n",
    "    ema_helper.register(model)\n",
    "    ema_helper.load_state_dict(torch.load(f\"/nobackup/users/sqa24/NCSN/{time_str}/models/{eval_epoch:03d}_ema.pth\"))\n",
    "    ema_helper.ema(model)\n",
    "else:\n",
    "    model.load_state_dict(torch.load(f\"/nobackup/users/sqa24/NCSN/{time_str}/models/{eval_epoch:03d}.pth\"))\n",
    "model.cuda()\n",
    "\n",
    "corruption_mse, mse, original, broken, recovered = evaluate_denoising(\n",
    "    model, sigmas, eps=eps, T=T, val_loader=val_loader, outdir=f'NCSN/rubbish.out', visualize=True\n",
    ")"
   ]
  },
  {
   "cell_type": "code",
   "execution_count": 2,
   "metadata": {},
   "outputs": [
    {
     "ename": "FileNotFoundError",
     "evalue": "[Errno 2] No such file or directory: '/nobackup/users/sqa24/NCSN/20241009_193254/models/010_ema.pth'",
     "output_type": "error",
     "traceback": [
      "\u001b[0;31m---------------------------------------------------------------------------\u001b[0m",
      "\u001b[0;31mFileNotFoundError\u001b[0m                         Traceback (most recent call last)",
      "\u001b[0;32m/tmp/ipykernel_1817668/964097406.py\u001b[0m in \u001b[0;36m<module>\u001b[0;34m\u001b[0m\n\u001b[1;32m     35\u001b[0m     \u001b[0mema_helper\u001b[0m \u001b[0;34m=\u001b[0m \u001b[0mEMAHelper\u001b[0m\u001b[0;34m(\u001b[0m\u001b[0mema_decay\u001b[0m\u001b[0;34m)\u001b[0m\u001b[0;34m\u001b[0m\u001b[0;34m\u001b[0m\u001b[0m\n\u001b[1;32m     36\u001b[0m     \u001b[0mema_helper\u001b[0m\u001b[0;34m.\u001b[0m\u001b[0mregister\u001b[0m\u001b[0;34m(\u001b[0m\u001b[0mmodel\u001b[0m\u001b[0;34m)\u001b[0m\u001b[0;34m\u001b[0m\u001b[0;34m\u001b[0m\u001b[0m\n\u001b[0;32m---> 37\u001b[0;31m     \u001b[0mema_helper\u001b[0m\u001b[0;34m.\u001b[0m\u001b[0mload_state_dict\u001b[0m\u001b[0;34m(\u001b[0m\u001b[0mtorch\u001b[0m\u001b[0;34m.\u001b[0m\u001b[0mload\u001b[0m\u001b[0;34m(\u001b[0m\u001b[0;34mf\"/nobackup/users/sqa24/NCSN/{time_str}/models/{eval_epoch:03d}_ema.pth\"\u001b[0m\u001b[0;34m)\u001b[0m\u001b[0;34m)\u001b[0m\u001b[0;34m\u001b[0m\u001b[0;34m\u001b[0m\u001b[0m\n\u001b[0m\u001b[1;32m     38\u001b[0m     \u001b[0mema_helper\u001b[0m\u001b[0;34m.\u001b[0m\u001b[0mema\u001b[0m\u001b[0;34m(\u001b[0m\u001b[0mmodel\u001b[0m\u001b[0;34m)\u001b[0m\u001b[0;34m\u001b[0m\u001b[0;34m\u001b[0m\u001b[0m\n\u001b[1;32m     39\u001b[0m \u001b[0;32melse\u001b[0m\u001b[0;34m:\u001b[0m\u001b[0;34m\u001b[0m\u001b[0;34m\u001b[0m\u001b[0m\n",
      "\u001b[0;32m/nobackup/users/sqa24/anaconda3/envs/wgt/lib/python3.7/site-packages/torch/serialization.py\u001b[0m in \u001b[0;36mload\u001b[0;34m(f, map_location, pickle_module, **pickle_load_args)\u001b[0m\n\u001b[1;32m    379\u001b[0m             \u001b[0;34m(\u001b[0m\u001b[0msys\u001b[0m\u001b[0;34m.\u001b[0m\u001b[0mversion_info\u001b[0m\u001b[0;34m[\u001b[0m\u001b[0;36m0\u001b[0m\u001b[0;34m]\u001b[0m \u001b[0;34m==\u001b[0m \u001b[0;36m2\u001b[0m \u001b[0;32mand\u001b[0m \u001b[0misinstance\u001b[0m\u001b[0;34m(\u001b[0m\u001b[0mf\u001b[0m\u001b[0;34m,\u001b[0m \u001b[0municode\u001b[0m\u001b[0;34m)\u001b[0m\u001b[0;34m)\u001b[0m\u001b[0;34m:\u001b[0m\u001b[0;34m\u001b[0m\u001b[0;34m\u001b[0m\u001b[0m\n\u001b[1;32m    380\u001b[0m         \u001b[0mnew_fd\u001b[0m \u001b[0;34m=\u001b[0m \u001b[0;32mTrue\u001b[0m\u001b[0;34m\u001b[0m\u001b[0;34m\u001b[0m\u001b[0m\n\u001b[0;32m--> 381\u001b[0;31m         \u001b[0mf\u001b[0m \u001b[0;34m=\u001b[0m \u001b[0mopen\u001b[0m\u001b[0;34m(\u001b[0m\u001b[0mf\u001b[0m\u001b[0;34m,\u001b[0m \u001b[0;34m'rb'\u001b[0m\u001b[0;34m)\u001b[0m\u001b[0;34m\u001b[0m\u001b[0;34m\u001b[0m\u001b[0m\n\u001b[0m\u001b[1;32m    382\u001b[0m     \u001b[0;32melif\u001b[0m \u001b[0;34m(\u001b[0m\u001b[0msys\u001b[0m\u001b[0;34m.\u001b[0m\u001b[0mversion_info\u001b[0m\u001b[0;34m[\u001b[0m\u001b[0;36m0\u001b[0m\u001b[0;34m]\u001b[0m \u001b[0;34m==\u001b[0m \u001b[0;36m3\u001b[0m \u001b[0;32mand\u001b[0m \u001b[0misinstance\u001b[0m\u001b[0;34m(\u001b[0m\u001b[0mf\u001b[0m\u001b[0;34m,\u001b[0m \u001b[0mpathlib\u001b[0m\u001b[0;34m.\u001b[0m\u001b[0mPath\u001b[0m\u001b[0;34m)\u001b[0m\u001b[0;34m)\u001b[0m\u001b[0;34m:\u001b[0m\u001b[0;34m\u001b[0m\u001b[0;34m\u001b[0m\u001b[0m\n\u001b[1;32m    383\u001b[0m         \u001b[0mnew_fd\u001b[0m \u001b[0;34m=\u001b[0m \u001b[0;32mTrue\u001b[0m\u001b[0;34m\u001b[0m\u001b[0;34m\u001b[0m\u001b[0m\n",
      "\u001b[0;31mFileNotFoundError\u001b[0m: [Errno 2] No such file or directory: '/nobackup/users/sqa24/NCSN/20241009_193254/models/010_ema.pth'"
     ]
    }
   ],
   "source": [
    "# experiment on recovering\n",
    "try:\n",
    "    from NCSN.utils import val_set\n",
    "    from NCSN.model import CondUNet, UNetv2\n",
    "    from NCSN.train import evaluate_denoising, cal_noise_level, langevin\n",
    "    from NCSN.ema import EMAHelper\n",
    "\n",
    "except:\n",
    "    from utils import val_set\n",
    "    from model import CondUNet, UNetv2\n",
    "    from train import evaluate_denoising, cal_noise_level, langevin\n",
    "    from ema import EMAHelper\n",
    "\n",
    "import torch\n",
    "import torch.nn as nn\n",
    "from torch.utils.data import DataLoader\n",
    "\n",
    "val_loader = DataLoader(val_set, 500, shuffle=True, drop_last=False, pin_memory=True)\n",
    "\n",
    "criterion = nn.MSELoss()\n",
    "init_sigma = 28\n",
    "final_sigma = 0.01\n",
    "n_sigma = 75\n",
    "eps = 6e-6\n",
    "T = 10\n",
    "ema_decay = 0.999\n",
    "\n",
    "sigmas = cal_noise_level(init_sigma, final_sigma, n_sigma)\n",
    "\n",
    "model = UNetv2(sigmas=torch.tensor(sigmas)).cuda()\n",
    "time_str = \"20241009_193254\"\n",
    "eval_epoch = 10\n",
    "\n",
    "if ema_decay is not None:\n",
    "    ema_helper = EMAHelper(ema_decay)\n",
    "    ema_helper.register(model)\n",
    "    ema_helper.load_state_dict(torch.load(f\"/nobackup/users/sqa24/NCSN/{time_str}/models/{eval_epoch:03d}_ema.pth\"))\n",
    "    ema_helper.ema(model)\n",
    "else:\n",
    "    model.load_state_dict(torch.load(f\"/nobackup/users/sqa24/NCSN/{time_str}/models/{eval_epoch:03d}.pth\"))\n",
    "model.cuda()\n",
    "\n",
    "corruption_mse, mse, original, broken, recovered = evaluate_denoising(\n",
    "    model, sigmas, eps=eps, T=T, val_loader=val_loader, outdir=f'NCSN/rubbish.out'\n",
    ")"
   ]
  }
 ],
 "metadata": {
  "kernelspec": {
   "display_name": "Python 3 (ipykernel)",
   "language": "python",
   "name": "python3"
  },
  "language_info": {
   "codemirror_mode": {
    "name": "ipython",
    "version": 3
   },
   "file_extension": ".py",
   "mimetype": "text/x-python",
   "name": "python",
   "nbconvert_exporter": "python",
   "pygments_lexer": "ipython3",
   "version": "3.7.6"
  }
 },
 "nbformat": 4,
 "nbformat_minor": 2
}
