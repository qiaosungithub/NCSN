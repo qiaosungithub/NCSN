{
 "cells": [
  {
   "cell_type": "markdown",
   "metadata": {},
   "source": [
    "# Implementation of NCSN (Noise Conditional Score Networks)"
   ]
  },
  {
   "cell_type": "code",
   "execution_count": 1,
   "metadata": {},
   "outputs": [
    {
     "name": "stdout",
     "output_type": "stream",
     "text": [
      "Tue Oct 22 19:49:01 2024       \n",
      "+---------------------------------------------------------------------------------------+\n",
      "| NVIDIA-SMI 535.86.10              Driver Version: 535.86.10    CUDA Version: 12.2     |\n",
      "|-----------------------------------------+----------------------+----------------------+\n",
      "| GPU  Name                 Persistence-M | Bus-Id        Disp.A | Volatile Uncorr. ECC |\n",
      "| Fan  Temp   Perf          Pwr:Usage/Cap |         Memory-Usage | GPU-Util  Compute M. |\n",
      "|                                         |                      |               MIG M. |\n",
      "|=========================================+======================+======================|\n",
      "|   0  Tesla V100-SXM2-32GB           On  | 00000004:04:00.0 Off |                    0 |\n",
      "| N/A   44C    P0              43W / 300W |      0MiB / 32768MiB |      0%      Default |\n",
      "|                                         |                      |                  N/A |\n",
      "+-----------------------------------------+----------------------+----------------------+\n",
      "|   1  Tesla V100-SXM2-32GB           On  | 00000004:05:00.0 Off |                    0 |\n",
      "| N/A   44C    P0              44W / 300W |      0MiB / 32768MiB |      0%      Default |\n",
      "|                                         |                      |                  N/A |\n",
      "+-----------------------------------------+----------------------+----------------------+\n",
      "|   2  Tesla V100-SXM2-32GB           On  | 00000035:03:00.0 Off |                    0 |\n",
      "| N/A   39C    P0              43W / 300W |      0MiB / 32768MiB |      0%      Default |\n",
      "|                                         |                      |                  N/A |\n",
      "+-----------------------------------------+----------------------+----------------------+\n",
      "|   3  Tesla V100-SXM2-32GB           On  | 00000035:04:00.0 Off |                    0 |\n",
      "| N/A   43C    P0              41W / 300W |      0MiB / 32768MiB |      0%      Default |\n",
      "|                                         |                      |                  N/A |\n",
      "+-----------------------------------------+----------------------+----------------------+\n",
      "                                                                                         \n",
      "+---------------------------------------------------------------------------------------+\n",
      "| Processes:                                                                            |\n",
      "|  GPU   GI   CI        PID   Type   Process name                            GPU Memory |\n",
      "|        ID   ID                                                             Usage      |\n",
      "|=======================================================================================|\n",
      "|  No running processes found                                                           |\n",
      "+---------------------------------------------------------------------------------------+\n",
      "/nobackup/users/sqa24/anaconda3/envs/wgt/bin/python\n"
     ]
    }
   ],
   "source": [
    "%load_ext autoreload\n",
    "%autoreload 2\n",
    "!nvidia-smi\n",
    "!which python"
   ]
  },
  {
   "cell_type": "code",
   "execution_count": 2,
   "metadata": {},
   "outputs": [
    {
     "name": "stdout",
     "output_type": "stream",
     "text": [
      "Files already downloaded and verified\n",
      "Files already downloaded and verified\n"
     ]
    }
   ],
   "source": [
    "try:\n",
    "    from NCSN.train import train, make_dataset, cal_noise_level, langevin\n",
    "    from NCSN.utils import train_set, val_set\n",
    "    from NCSN.model import CondUNet, UNetv2\n",
    "except:\n",
    "    from train import train, make_dataset, cal_noise_level, langevin\n",
    "    from utils import train_set, val_set\n",
    "    from model import CondUNet, UNetv2\n",
    "\n",
    "from torch.utils.data import DataLoader\n",
    "\n",
    "import torch\n",
    "import torch.nn as nn\n",
    "import torch.nn.functional as F\n",
    "import datetime\n",
    "import os\n",
    "\n",
    "train_loader = DataLoader(train_set, 256, shuffle=True, drop_last=False, pin_memory=True)\n",
    "val_loader = DataLoader(val_set, 500, shuffle=True, drop_last=False, pin_memory=True)\n",
    "\n",
    "def timestr():\n",
    "    now = datetime.datetime.now()\n",
    "    return now.strftime(\"%Y%m%d_%H%M%S\")"
   ]
  },
  {
   "cell_type": "code",
   "execution_count": 3,
   "metadata": {},
   "outputs": [
    {
     "name": "stdout",
     "output_type": "stream",
     "text": [
      "model: UNetv2(\n",
      "  (conv1): Conv2d(1, 16, kernel_size=(3, 3), stride=(1, 1), padding=(1, 1))\n",
      "  (conv2): Conv2d(16, 64, kernel_size=(3, 3), stride=(1, 1), padding=(1, 1))\n",
      "  (conv3): Conv2d(64, 256, kernel_size=(3, 3), stride=(1, 1), padding=(1, 1))\n",
      "  (conv_up1): Conv2d(128, 32, kernel_size=(3, 3), stride=(1, 1), padding=(1, 1))\n",
      "  (conv_up2): Conv2d(32, 8, kernel_size=(3, 3), stride=(1, 1), padding=(1, 1))\n",
      "  (conv_up3): Conv2d(8, 1, kernel_size=(3, 3), stride=(1, 1), padding=(1, 1))\n",
      "  (up1): ConvTranspose2d(256, 64, kernel_size=(2, 2), stride=(2, 2))\n",
      "  (up2): ConvTranspose2d(32, 16, kernel_size=(2, 2), stride=(2, 2))\n",
      "  (pool): AvgPool2d(kernel_size=2, stride=2, padding=0)\n",
      ")\n",
      "number of parameters: 264097\n",
      "time string: 20241022_182843\n",
      "code files copied\n"
     ]
    },
    {
     "name": "stderr",
     "output_type": "stream",
     "text": [
      "Epoch 2/200:   1%|▍                                                     | 2/235 [00:00<00:20, 11.39it/s, Train Loss=1.5]"
     ]
    },
    {
     "name": "stdout",
     "output_type": "stream",
     "text": [
      "Epoch 0: train loss 0.859027462817253\n"
     ]
    },
    {
     "name": "stderr",
     "output_type": "stream",
     "text": [
      "Epoch 3/200:   1%|▍                                                    | 2/235 [00:00<00:20, 11.39it/s, Train Loss=1.24]"
     ]
    },
    {
     "name": "stdout",
     "output_type": "stream",
     "text": [
      "Epoch 1: train loss 0.6839413024009542\n"
     ]
    },
    {
     "name": "stderr",
     "output_type": "stream",
     "text": [
      "Epoch 4/200:   1%|▍                                                    | 2/235 [00:00<00:20, 11.34it/s, Train Loss=1.17]"
     ]
    },
    {
     "name": "stdout",
     "output_type": "stream",
     "text": [
      "Epoch 2: train loss 0.5908247067573222\n"
     ]
    },
    {
     "name": "stderr",
     "output_type": "stream",
     "text": [
      "Epoch 5/200:   1%|▍                                                    | 2/235 [00:00<00:20, 11.37it/s, Train Loss=1.01]"
     ]
    },
    {
     "name": "stdout",
     "output_type": "stream",
     "text": [
      "Epoch 3: train loss 0.5324361089696276\n"
     ]
    },
    {
     "name": "stderr",
     "output_type": "stream",
     "text": [
      "                                                                                                                        \r"
     ]
    },
    {
     "name": "stdout",
     "output_type": "stream",
     "text": [
      "Epoch 4: train loss 0.4908827690368003\n"
     ]
    },
    {
     "name": "stderr",
     "output_type": "stream",
     "text": [
      "Corruption MSE: 0.063251, Recovered MSE: 22.471667: 100%|██████████████████████████| 2000/2000 [00:07<00:00, 269.83it/s]\n",
      "Epoch 6/200:   1%|▍                                                   | 2/235 [00:00<00:20, 11.63it/s, Train Loss=0.962]"
     ]
    },
    {
     "name": "stdout",
     "output_type": "stream",
     "text": [
      "Current best MSE: inf -> 22.4716669921875\n"
     ]
    },
    {
     "name": "stderr",
     "output_type": "stream",
     "text": [
      "Epoch 7/200:   1%|▍                                                   | 2/235 [00:00<00:20, 11.37it/s, Train Loss=0.859]"
     ]
    },
    {
     "name": "stdout",
     "output_type": "stream",
     "text": [
      "Epoch 5: train loss 0.45820495346759227\n"
     ]
    },
    {
     "name": "stderr",
     "output_type": "stream",
     "text": [
      "Epoch 8/200:   1%|▍                                                   | 2/235 [00:00<00:20, 11.37it/s, Train Loss=0.843]"
     ]
    },
    {
     "name": "stdout",
     "output_type": "stream",
     "text": [
      "Epoch 6: train loss 0.4276010959706408\n"
     ]
    },
    {
     "name": "stderr",
     "output_type": "stream",
     "text": [
      "Epoch 9/200:   1%|▍                                                   | 2/235 [00:00<00:20, 11.32it/s, Train Loss=0.765]"
     ]
    },
    {
     "name": "stdout",
     "output_type": "stream",
     "text": [
      "Epoch 7: train loss 0.4025224393986641\n"
     ]
    },
    {
     "name": "stderr",
     "output_type": "stream",
     "text": [
      "Epoch 10/200:   1%|▍                                                  | 2/235 [00:00<00:21, 11.04it/s, Train Loss=0.693]"
     ]
    },
    {
     "name": "stdout",
     "output_type": "stream",
     "text": [
      "Epoch 8: train loss 0.3826751970230265\n"
     ]
    },
    {
     "name": "stderr",
     "output_type": "stream",
     "text": [
      "                                                                                                                        \r"
     ]
    },
    {
     "name": "stdout",
     "output_type": "stream",
     "text": [
      "Epoch 9: train loss 0.3634591368918723\n"
     ]
    },
    {
     "name": "stderr",
     "output_type": "stream",
     "text": [
      "Corruption MSE: 0.063603, Recovered MSE: 0.865407: 100%|███████████████████████████| 2000/2000 [00:07<00:00, 269.57it/s]\n",
      "Epoch 11/200:   1%|▍                                                  | 2/235 [00:00<00:20, 11.61it/s, Train Loss=0.718]"
     ]
    },
    {
     "name": "stdout",
     "output_type": "stream",
     "text": [
      "Current best MSE: 22.4716669921875 -> 0.8654071044921875\n"
     ]
    },
    {
     "name": "stderr",
     "output_type": "stream",
     "text": [
      "Epoch 12/200:   1%|▍                                                  | 2/235 [00:00<00:21, 11.07it/s, Train Loss=0.658]"
     ]
    },
    {
     "name": "stdout",
     "output_type": "stream",
     "text": [
      "Epoch 10: train loss 0.345896104295203\n"
     ]
    },
    {
     "name": "stderr",
     "output_type": "stream",
     "text": [
      "Epoch 13/200:   1%|▍                                                  | 2/235 [00:00<00:20, 11.35it/s, Train Loss=0.692]"
     ]
    },
    {
     "name": "stdout",
     "output_type": "stream",
     "text": [
      "Epoch 11: train loss 0.3283837616443634\n"
     ]
    },
    {
     "name": "stderr",
     "output_type": "stream",
     "text": [
      "Epoch 14/200:   1%|▍                                                  | 2/235 [00:00<00:20, 11.36it/s, Train Loss=0.586]"
     ]
    },
    {
     "name": "stdout",
     "output_type": "stream",
     "text": [
      "Epoch 12: train loss 0.3172486161932032\n"
     ]
    },
    {
     "name": "stderr",
     "output_type": "stream",
     "text": [
      "Epoch 15/200:   1%|▍                                                  | 2/235 [00:00<00:20, 11.24it/s, Train Loss=0.637]"
     ]
    },
    {
     "name": "stdout",
     "output_type": "stream",
     "text": [
      "Epoch 13: train loss 0.306239194565631\n"
     ]
    },
    {
     "name": "stderr",
     "output_type": "stream",
     "text": [
      "                                                                                                                        \r"
     ]
    },
    {
     "name": "stdout",
     "output_type": "stream",
     "text": [
      "Epoch 14: train loss 0.2967737380494463\n"
     ]
    },
    {
     "name": "stderr",
     "output_type": "stream",
     "text": [
      "Corruption MSE: 0.063277, Recovered MSE: 0.070385: 100%|███████████████████████████| 2000/2000 [00:07<00:00, 270.15it/s]\n",
      "Epoch 16/200:   1%|▍                                                  | 2/235 [00:00<00:20, 11.61it/s, Train Loss=0.599]"
     ]
    },
    {
     "name": "stdout",
     "output_type": "stream",
     "text": [
      "Current best MSE: 0.8654071044921875 -> 0.0703850040435791\n"
     ]
    },
    {
     "name": "stderr",
     "output_type": "stream",
     "text": [
      "Epoch 17/200:   1%|▍                                                  | 2/235 [00:00<00:20, 11.36it/s, Train Loss=0.577]"
     ]
    },
    {
     "name": "stdout",
     "output_type": "stream",
     "text": [
      "Epoch 15: train loss 0.2929829736339285\n"
     ]
    },
    {
     "name": "stderr",
     "output_type": "stream",
     "text": [
      "Epoch 18/200:   1%|▍                                                  | 2/235 [00:00<00:20, 11.35it/s, Train Loss=0.542]"
     ]
    },
    {
     "name": "stdout",
     "output_type": "stream",
     "text": [
      "Epoch 16: train loss 0.28272727398162195\n"
     ]
    },
    {
     "name": "stderr",
     "output_type": "stream",
     "text": [
      "Epoch 19/200:   1%|▍                                                  | 2/235 [00:00<00:20, 11.35it/s, Train Loss=0.555]"
     ]
    },
    {
     "name": "stdout",
     "output_type": "stream",
     "text": [
      "Epoch 17: train loss 0.2771655801128834\n"
     ]
    },
    {
     "name": "stderr",
     "output_type": "stream",
     "text": [
      "Epoch 20/200:   1%|▍                                                  | 2/235 [00:00<00:20, 11.26it/s, Train Loss=0.549]"
     ]
    },
    {
     "name": "stdout",
     "output_type": "stream",
     "text": [
      "Epoch 18: train loss 0.27051367835795626\n"
     ]
    },
    {
     "name": "stderr",
     "output_type": "stream",
     "text": [
      "                                                                                                                        \r"
     ]
    },
    {
     "name": "stdout",
     "output_type": "stream",
     "text": [
      "Epoch 19: train loss 0.26124767122116493\n"
     ]
    },
    {
     "name": "stderr",
     "output_type": "stream",
     "text": [
      "Corruption MSE: 0.063627, Recovered MSE: 0.034632: 100%|███████████████████████████| 2000/2000 [00:07<00:00, 270.32it/s]\n",
      "Epoch 21/200:   1%|▍                                                  | 2/235 [00:00<00:20, 11.60it/s, Train Loss=0.516]"
     ]
    },
    {
     "name": "stdout",
     "output_type": "stream",
     "text": [
      "Current best MSE: 0.0703850040435791 -> 0.03463201999664307\n"
     ]
    },
    {
     "name": "stderr",
     "output_type": "stream",
     "text": [
      "Epoch 22/200:   1%|▍                                                  | 2/235 [00:00<00:20, 11.15it/s, Train Loss=0.518]"
     ]
    },
    {
     "name": "stdout",
     "output_type": "stream",
     "text": [
      "Epoch 20: train loss 0.2571842821354562\n"
     ]
    },
    {
     "name": "stderr",
     "output_type": "stream",
     "text": [
      "Epoch 23/200:   1%|▍                                                  | 2/235 [00:00<00:20, 11.37it/s, Train Loss=0.483]"
     ]
    },
    {
     "name": "stdout",
     "output_type": "stream",
     "text": [
      "Epoch 21: train loss 0.25072640351792597\n"
     ]
    },
    {
     "name": "stderr",
     "output_type": "stream",
     "text": [
      "Epoch 24/200:   1%|▍                                                  | 2/235 [00:00<00:20, 11.38it/s, Train Loss=0.499]"
     ]
    },
    {
     "name": "stdout",
     "output_type": "stream",
     "text": [
      "Epoch 22: train loss 0.24482885966909693\n"
     ]
    },
    {
     "name": "stderr",
     "output_type": "stream",
     "text": [
      "Epoch 25/200:   1%|▍                                                  | 2/235 [00:00<00:20, 11.36it/s, Train Loss=0.497]"
     ]
    },
    {
     "name": "stdout",
     "output_type": "stream",
     "text": [
      "Epoch 23: train loss 0.23908180550057836\n"
     ]
    },
    {
     "name": "stderr",
     "output_type": "stream",
     "text": [
      "                                                                                                                        \r"
     ]
    },
    {
     "name": "stdout",
     "output_type": "stream",
     "text": [
      "Epoch 24: train loss 0.23416482736455632\n"
     ]
    },
    {
     "name": "stderr",
     "output_type": "stream",
     "text": [
      "Corruption MSE: 0.063745, Recovered MSE: 0.034992: 100%|███████████████████████████| 2000/2000 [00:07<00:00, 270.37it/s]\n",
      "Epoch 27/200:   1%|▍                                                  | 2/235 [00:00<00:20, 11.37it/s, Train Loss=0.451]"
     ]
    },
    {
     "name": "stdout",
     "output_type": "stream",
     "text": [
      "Epoch 25: train loss 0.22934356598143882\n"
     ]
    },
    {
     "name": "stderr",
     "output_type": "stream",
     "text": [
      "Epoch 28/200:   1%|▍                                                  | 2/235 [00:00<00:20, 11.27it/s, Train Loss=0.441]"
     ]
    },
    {
     "name": "stdout",
     "output_type": "stream",
     "text": [
      "Epoch 26: train loss 0.22452552014208854\n"
     ]
    },
    {
     "name": "stderr",
     "output_type": "stream",
     "text": [
      "Epoch 29/200:   1%|▍                                                  | 2/235 [00:00<00:20, 11.36it/s, Train Loss=0.432]"
     ]
    },
    {
     "name": "stdout",
     "output_type": "stream",
     "text": [
      "Epoch 27: train loss 0.22066808495115728\n"
     ]
    },
    {
     "name": "stderr",
     "output_type": "stream",
     "text": [
      "Epoch 30/200:   1%|▍                                                  | 2/235 [00:00<00:20, 11.36it/s, Train Loss=0.415]"
     ]
    },
    {
     "name": "stdout",
     "output_type": "stream",
     "text": [
      "Epoch 28: train loss 0.21666624723596775\n"
     ]
    },
    {
     "name": "stderr",
     "output_type": "stream",
     "text": [
      "                                                                                                                        \r"
     ]
    },
    {
     "name": "stdout",
     "output_type": "stream",
     "text": [
      "Epoch 29: train loss 0.21123694067305707\n"
     ]
    },
    {
     "name": "stderr",
     "output_type": "stream",
     "text": [
      "Corruption MSE: 0.062824, Recovered MSE: 0.034241: 100%|███████████████████████████| 2000/2000 [00:07<00:00, 270.45it/s]\n",
      "Epoch 31/200:   1%|▍                                                  | 2/235 [00:00<00:20, 11.58it/s, Train Loss=0.393]"
     ]
    },
    {
     "name": "stdout",
     "output_type": "stream",
     "text": [
      "Current best MSE: 0.03463201999664307 -> 0.03424135971069336\n"
     ]
    },
    {
     "name": "stderr",
     "output_type": "stream",
     "text": [
      "Epoch 32/200:   1%|▍                                                  | 2/235 [00:00<00:21, 11.09it/s, Train Loss=0.409]"
     ]
    },
    {
     "name": "stdout",
     "output_type": "stream",
     "text": [
      "Epoch 30: train loss 0.20714781239945837\n"
     ]
    },
    {
     "name": "stderr",
     "output_type": "stream",
     "text": [
      "Epoch 33/200:   1%|▍                                                  | 2/235 [00:00<00:20, 11.35it/s, Train Loss=0.404]"
     ]
    },
    {
     "name": "stdout",
     "output_type": "stream",
     "text": [
      "Epoch 31: train loss 0.2058558814069058\n"
     ]
    },
    {
     "name": "stderr",
     "output_type": "stream",
     "text": [
      "Epoch 34/200:   1%|▍                                                   | 2/235 [00:00<00:20, 11.37it/s, Train Loss=0.41]"
     ]
    },
    {
     "name": "stdout",
     "output_type": "stream",
     "text": [
      "Epoch 32: train loss 0.20111428930404338\n"
     ]
    },
    {
     "name": "stderr",
     "output_type": "stream",
     "text": [
      "Epoch 35/200:   1%|▍                                                  | 2/235 [00:00<00:20, 11.36it/s, Train Loss=0.407]"
     ]
    },
    {
     "name": "stdout",
     "output_type": "stream",
     "text": [
      "Epoch 33: train loss 0.19937373031961156\n"
     ]
    },
    {
     "name": "stderr",
     "output_type": "stream",
     "text": [
      "                                                                                                                        \r"
     ]
    },
    {
     "name": "stdout",
     "output_type": "stream",
     "text": [
      "Epoch 34: train loss 0.19573026711636402\n"
     ]
    },
    {
     "name": "stderr",
     "output_type": "stream",
     "text": [
      "Corruption MSE: 0.063299, Recovered MSE: 0.031557: 100%|███████████████████████████| 2000/2000 [00:07<00:00, 270.33it/s]\n",
      "Epoch 36/200:   1%|▍                                                  | 2/235 [00:00<00:20, 11.59it/s, Train Loss=0.404]"
     ]
    },
    {
     "name": "stdout",
     "output_type": "stream",
     "text": [
      "Current best MSE: 0.03424135971069336 -> 0.03155719995498657\n"
     ]
    },
    {
     "name": "stderr",
     "output_type": "stream",
     "text": [
      "Epoch 37/200:   1%|▍                                                  | 2/235 [00:00<00:20, 11.38it/s, Train Loss=0.378]"
     ]
    },
    {
     "name": "stdout",
     "output_type": "stream",
     "text": [
      "Epoch 35: train loss 0.1922135018287821\n"
     ]
    },
    {
     "name": "stderr",
     "output_type": "stream",
     "text": [
      "Epoch 38/200:   1%|▍                                                  | 2/235 [00:00<00:20, 11.35it/s, Train Loss=0.367]"
     ]
    },
    {
     "name": "stdout",
     "output_type": "stream",
     "text": [
      "Epoch 36: train loss 0.18997571690285459\n"
     ]
    },
    {
     "name": "stderr",
     "output_type": "stream",
     "text": [
      "Epoch 39/200:   1%|▍                                                  | 2/235 [00:00<00:20, 11.37it/s, Train Loss=0.373]"
     ]
    },
    {
     "name": "stdout",
     "output_type": "stream",
     "text": [
      "Epoch 37: train loss 0.18739591811565642\n"
     ]
    },
    {
     "name": "stderr",
     "output_type": "stream",
     "text": [
      "Epoch 40/200:   1%|▍                                                  | 2/235 [00:00<00:20, 11.39it/s, Train Loss=0.364]"
     ]
    },
    {
     "name": "stdout",
     "output_type": "stream",
     "text": [
      "Epoch 38: train loss 0.1847243163179844\n"
     ]
    },
    {
     "name": "stderr",
     "output_type": "stream",
     "text": [
      "                                                                                                                        \r"
     ]
    },
    {
     "name": "stdout",
     "output_type": "stream",
     "text": [
      "Epoch 39: train loss 0.1817318353881227\n"
     ]
    },
    {
     "name": "stderr",
     "output_type": "stream",
     "text": [
      "Corruption MSE: 0.063168, Recovered MSE: 0.027131: 100%|███████████████████████████| 2000/2000 [00:07<00:00, 270.30it/s]\n",
      "Epoch 41/200:   1%|▍                                                  | 2/235 [00:00<00:20, 11.58it/s, Train Loss=0.351]"
     ]
    },
    {
     "name": "stdout",
     "output_type": "stream",
     "text": [
      "Current best MSE: 0.03155719995498657 -> 0.027131324291229247\n"
     ]
    },
    {
     "name": "stderr",
     "output_type": "stream",
     "text": [
      "Epoch 42/200:   1%|▍                                                   | 2/235 [00:00<00:20, 11.37it/s, Train Loss=0.36]"
     ]
    },
    {
     "name": "stdout",
     "output_type": "stream",
     "text": [
      "Epoch 40: train loss 0.18009236049144825\n"
     ]
    },
    {
     "name": "stderr",
     "output_type": "stream",
     "text": [
      "Epoch 43/200:   1%|▍                                                  | 2/235 [00:00<00:20, 11.24it/s, Train Loss=0.382]"
     ]
    },
    {
     "name": "stdout",
     "output_type": "stream",
     "text": [
      "Epoch 41: train loss 0.1771092082591767\n"
     ]
    },
    {
     "name": "stderr",
     "output_type": "stream",
     "text": [
      "Epoch 44/200:   1%|▍                                                  | 2/235 [00:00<00:20, 11.37it/s, Train Loss=0.328]"
     ]
    },
    {
     "name": "stdout",
     "output_type": "stream",
     "text": [
      "Epoch 42: train loss 0.17494234816825135\n"
     ]
    },
    {
     "name": "stderr",
     "output_type": "stream",
     "text": [
      "Epoch 45/200:   1%|▍                                                  | 2/235 [00:00<00:20, 11.40it/s, Train Loss=0.336]"
     ]
    },
    {
     "name": "stdout",
     "output_type": "stream",
     "text": [
      "Epoch 43: train loss 0.17246685345122154\n"
     ]
    },
    {
     "name": "stderr",
     "output_type": "stream",
     "text": [
      "                                                                                                                        \r"
     ]
    },
    {
     "name": "stdout",
     "output_type": "stream",
     "text": [
      "Epoch 44: train loss 0.17206198604817086\n"
     ]
    },
    {
     "name": "stderr",
     "output_type": "stream",
     "text": [
      "Corruption MSE: 0.063075, Recovered MSE: 0.023604: 100%|███████████████████████████| 2000/2000 [00:07<00:00, 270.12it/s]\n",
      "Epoch 46/200:   1%|▍                                                   | 2/235 [00:00<00:20, 11.53it/s, Train Loss=0.34]"
     ]
    },
    {
     "name": "stdout",
     "output_type": "stream",
     "text": [
      "Current best MSE: 0.027131324291229247 -> 0.02360369825363159\n"
     ]
    },
    {
     "name": "stderr",
     "output_type": "stream",
     "text": [
      "Epoch 47/200:   1%|▍                                                   | 2/235 [00:00<00:20, 11.36it/s, Train Loss=0.35]"
     ]
    },
    {
     "name": "stdout",
     "output_type": "stream",
     "text": [
      "Epoch 45: train loss 0.17090274697922644\n"
     ]
    },
    {
     "name": "stderr",
     "output_type": "stream",
     "text": [
      "Epoch 48/200:   1%|▍                                                  | 2/235 [00:00<00:20, 11.19it/s, Train Loss=0.336]"
     ]
    },
    {
     "name": "stdout",
     "output_type": "stream",
     "text": [
      "Epoch 46: train loss 0.16750357563191273\n"
     ]
    },
    {
     "name": "stderr",
     "output_type": "stream",
     "text": [
      "Epoch 49/200:   1%|▍                                                  | 2/235 [00:00<00:20, 11.27it/s, Train Loss=0.328]"
     ]
    },
    {
     "name": "stdout",
     "output_type": "stream",
     "text": [
      "Epoch 47: train loss 0.16673955777858165\n"
     ]
    },
    {
     "name": "stderr",
     "output_type": "stream",
     "text": [
      "Epoch 50/200:   1%|▍                                                  | 2/235 [00:00<00:20, 11.33it/s, Train Loss=0.336]"
     ]
    },
    {
     "name": "stdout",
     "output_type": "stream",
     "text": [
      "Epoch 48: train loss 0.16450463476333213\n"
     ]
    },
    {
     "name": "stderr",
     "output_type": "stream",
     "text": [
      "                                                                                                                        \r"
     ]
    },
    {
     "name": "stdout",
     "output_type": "stream",
     "text": [
      "Epoch 49: train loss 0.16458004110671104\n"
     ]
    },
    {
     "name": "stderr",
     "output_type": "stream",
     "text": [
      "Corruption MSE: 0.063258, Recovered MSE: 0.021561: 100%|███████████████████████████| 2000/2000 [00:07<00:00, 270.02it/s]\n",
      "Epoch 51/200:   1%|▍                                                  | 2/235 [00:00<00:20, 11.60it/s, Train Loss=0.326]"
     ]
    },
    {
     "name": "stdout",
     "output_type": "stream",
     "text": [
      "Current best MSE: 0.02360369825363159 -> 0.021560906410217285\n"
     ]
    },
    {
     "name": "stderr",
     "output_type": "stream",
     "text": [
      "Epoch 52/200:   1%|▍                                                  | 2/235 [00:00<00:20, 11.38it/s, Train Loss=0.317]"
     ]
    },
    {
     "name": "stdout",
     "output_type": "stream",
     "text": [
      "Epoch 50: train loss 0.16166934611949516\n"
     ]
    },
    {
     "name": "stderr",
     "output_type": "stream",
     "text": [
      "Epoch 53/200:   1%|▍                                                   | 2/235 [00:00<00:20, 11.37it/s, Train Loss=0.32]"
     ]
    },
    {
     "name": "stdout",
     "output_type": "stream",
     "text": [
      "Epoch 51: train loss 0.16132931582471158\n"
     ]
    },
    {
     "name": "stderr",
     "output_type": "stream",
     "text": [
      "Epoch 54/200:   1%|▍                                                  | 2/235 [00:00<00:20, 11.35it/s, Train Loss=0.313]"
     ]
    },
    {
     "name": "stdout",
     "output_type": "stream",
     "text": [
      "Epoch 52: train loss 0.15922782706453445\n"
     ]
    },
    {
     "name": "stderr",
     "output_type": "stream",
     "text": [
      "Epoch 55/200:   1%|▍                                                  | 2/235 [00:00<00:20, 11.35it/s, Train Loss=0.319]"
     ]
    },
    {
     "name": "stdout",
     "output_type": "stream",
     "text": [
      "Epoch 53: train loss 0.1580064504070485\n"
     ]
    },
    {
     "name": "stderr",
     "output_type": "stream",
     "text": [
      "                                                                                                                        \r"
     ]
    },
    {
     "name": "stdout",
     "output_type": "stream",
     "text": [
      "Epoch 54: train loss 0.15764250070490735\n"
     ]
    },
    {
     "name": "stderr",
     "output_type": "stream",
     "text": [
      "Corruption MSE: 0.062952, Recovered MSE: 0.020424: 100%|███████████████████████████| 2000/2000 [00:07<00:00, 270.09it/s]\n",
      "Epoch 56/200:   1%|▍                                                   | 2/235 [00:00<00:20, 11.63it/s, Train Loss=0.31]"
     ]
    },
    {
     "name": "stdout",
     "output_type": "stream",
     "text": [
      "Current best MSE: 0.021560906410217285 -> 0.02042408227920532\n"
     ]
    },
    {
     "name": "stderr",
     "output_type": "stream",
     "text": [
      "Epoch 57/200:   1%|▍                                                  | 2/235 [00:00<00:20, 11.37it/s, Train Loss=0.293]"
     ]
    },
    {
     "name": "stdout",
     "output_type": "stream",
     "text": [
      "Epoch 55: train loss 0.15566779895031707\n"
     ]
    },
    {
     "name": "stderr",
     "output_type": "stream",
     "text": [
      "Epoch 58/200:   1%|▍                                                  | 2/235 [00:00<00:20, 11.38it/s, Train Loss=0.327]"
     ]
    },
    {
     "name": "stdout",
     "output_type": "stream",
     "text": [
      "Epoch 56: train loss 0.1537410593413292\n"
     ]
    },
    {
     "name": "stderr",
     "output_type": "stream",
     "text": [
      "Epoch 59/200:   1%|▍                                                  | 2/235 [00:00<00:20, 11.38it/s, Train Loss=0.329]"
     ]
    },
    {
     "name": "stdout",
     "output_type": "stream",
     "text": [
      "Epoch 57: train loss 0.15403796599266376\n"
     ]
    },
    {
     "name": "stderr",
     "output_type": "stream",
     "text": [
      "Epoch 60/200:   1%|▍                                                  | 2/235 [00:00<00:20, 11.38it/s, Train Loss=0.304]"
     ]
    },
    {
     "name": "stdout",
     "output_type": "stream",
     "text": [
      "Epoch 58: train loss 0.15306366396711227\n"
     ]
    },
    {
     "name": "stderr",
     "output_type": "stream",
     "text": [
      "                                                                                                                        \r"
     ]
    },
    {
     "name": "stdout",
     "output_type": "stream",
     "text": [
      "Epoch 59: train loss 0.15242252590808464\n"
     ]
    },
    {
     "name": "stderr",
     "output_type": "stream",
     "text": [
      "Corruption MSE: 0.063691, Recovered MSE: 0.020379: 100%|███████████████████████████| 2000/2000 [00:07<00:00, 270.48it/s]\n",
      "Epoch 61/200:   1%|▍                                                  | 2/235 [00:00<00:20, 11.62it/s, Train Loss=0.288]"
     ]
    },
    {
     "name": "stdout",
     "output_type": "stream",
     "text": [
      "Current best MSE: 0.02042408227920532 -> 0.02037925577163696\n"
     ]
    },
    {
     "name": "stderr",
     "output_type": "stream",
     "text": [
      "Epoch 62/200:   1%|▍                                                  | 2/235 [00:00<00:21, 11.09it/s, Train Loss=0.295]"
     ]
    },
    {
     "name": "stdout",
     "output_type": "stream",
     "text": [
      "Epoch 60: train loss 0.15145528303815964\n"
     ]
    },
    {
     "name": "stderr",
     "output_type": "stream",
     "text": [
      "Epoch 63/200:   1%|▍                                                  | 2/235 [00:00<00:20, 11.38it/s, Train Loss=0.316]"
     ]
    },
    {
     "name": "stdout",
     "output_type": "stream",
     "text": [
      "Epoch 61: train loss 0.14881277249214497\n"
     ]
    },
    {
     "name": "stderr",
     "output_type": "stream",
     "text": [
      "Epoch 64/200:   1%|▍                                                  | 2/235 [00:00<00:20, 11.39it/s, Train Loss=0.282]"
     ]
    },
    {
     "name": "stdout",
     "output_type": "stream",
     "text": [
      "Epoch 62: train loss 0.1481739417352575\n"
     ]
    },
    {
     "name": "stderr",
     "output_type": "stream",
     "text": [
      "Epoch 65/200:   1%|▍                                                  | 2/235 [00:00<00:20, 11.31it/s, Train Loss=0.293]"
     ]
    },
    {
     "name": "stdout",
     "output_type": "stream",
     "text": [
      "Epoch 63: train loss 0.1466607097298541\n"
     ]
    },
    {
     "name": "stderr",
     "output_type": "stream",
     "text": [
      "                                                                                                                        \r"
     ]
    },
    {
     "name": "stdout",
     "output_type": "stream",
     "text": [
      "Epoch 64: train loss 0.14602479465464327\n"
     ]
    },
    {
     "name": "stderr",
     "output_type": "stream",
     "text": [
      "Corruption MSE: 0.063321, Recovered MSE: 0.019797: 100%|███████████████████████████| 2000/2000 [00:07<00:00, 270.06it/s]\n",
      "Epoch 66/200:   1%|▍                                                  | 2/235 [00:00<00:20, 11.63it/s, Train Loss=0.277]"
     ]
    },
    {
     "name": "stdout",
     "output_type": "stream",
     "text": [
      "Current best MSE: 0.02037925577163696 -> 0.01979719352722168\n"
     ]
    },
    {
     "name": "stderr",
     "output_type": "stream",
     "text": [
      "Epoch 67/200:   1%|▍                                                  | 2/235 [00:00<00:20, 11.38it/s, Train Loss=0.292]"
     ]
    },
    {
     "name": "stdout",
     "output_type": "stream",
     "text": [
      "Epoch 65: train loss 0.14669729325365513\n"
     ]
    },
    {
     "name": "stderr",
     "output_type": "stream",
     "text": [
      "Epoch 68/200:   1%|▍                                                  | 2/235 [00:00<00:20, 11.38it/s, Train Loss=0.285]"
     ]
    },
    {
     "name": "stdout",
     "output_type": "stream",
     "text": [
      "Epoch 66: train loss 0.1448725940699273\n"
     ]
    },
    {
     "name": "stderr",
     "output_type": "stream",
     "text": [
      "Epoch 69/200:   1%|▍                                                  | 2/235 [00:00<00:20, 11.39it/s, Train Loss=0.281]"
     ]
    },
    {
     "name": "stdout",
     "output_type": "stream",
     "text": [
      "Epoch 67: train loss 0.14522760225103257\n"
     ]
    },
    {
     "name": "stderr",
     "output_type": "stream",
     "text": [
      "Epoch 70/200:   1%|▍                                                  | 2/235 [00:00<00:20, 11.37it/s, Train Loss=0.272]"
     ]
    },
    {
     "name": "stdout",
     "output_type": "stream",
     "text": [
      "Epoch 68: train loss 0.14377667618558762\n"
     ]
    },
    {
     "name": "stderr",
     "output_type": "stream",
     "text": [
      "                                                                                                                        \r"
     ]
    },
    {
     "name": "stdout",
     "output_type": "stream",
     "text": [
      "Epoch 69: train loss 0.1427923561093655\n"
     ]
    },
    {
     "name": "stderr",
     "output_type": "stream",
     "text": [
      "Corruption MSE: 0.063547, Recovered MSE: 0.020440: 100%|███████████████████████████| 2000/2000 [00:07<00:00, 269.73it/s]\n",
      "Epoch 72/200:   1%|▍                                                   | 2/235 [00:00<00:20, 11.37it/s, Train Loss=0.29]"
     ]
    },
    {
     "name": "stdout",
     "output_type": "stream",
     "text": [
      "Epoch 70: train loss 0.14237501126654606\n"
     ]
    },
    {
     "name": "stderr",
     "output_type": "stream",
     "text": [
      "Epoch 73/200:   1%|▍                                                  | 2/235 [00:00<00:20, 11.38it/s, Train Loss=0.285]"
     ]
    },
    {
     "name": "stdout",
     "output_type": "stream",
     "text": [
      "Epoch 71: train loss 0.14177614834080352\n"
     ]
    },
    {
     "name": "stderr",
     "output_type": "stream",
     "text": [
      "Epoch 74/200:   1%|▍                                                  | 2/235 [00:00<00:20, 11.37it/s, Train Loss=0.278]"
     ]
    },
    {
     "name": "stdout",
     "output_type": "stream",
     "text": [
      "Epoch 72: train loss 0.13996847363862586\n"
     ]
    },
    {
     "name": "stderr",
     "output_type": "stream",
     "text": [
      "Epoch 75/200:   1%|▍                                                  | 2/235 [00:00<00:20, 11.36it/s, Train Loss=0.288]"
     ]
    },
    {
     "name": "stdout",
     "output_type": "stream",
     "text": [
      "Epoch 73: train loss 0.14060537558286748\n"
     ]
    },
    {
     "name": "stderr",
     "output_type": "stream",
     "text": [
      "                                                                                                                        \r"
     ]
    },
    {
     "name": "stdout",
     "output_type": "stream",
     "text": [
      "Epoch 74: train loss 0.13983499303143077\n"
     ]
    },
    {
     "name": "stderr",
     "output_type": "stream",
     "text": [
      "Corruption MSE: 0.063768, Recovered MSE: 0.020772: 100%|███████████████████████████| 2000/2000 [00:07<00:00, 270.37it/s]\n",
      "Epoch 77/200:   1%|▍                                                  | 2/235 [00:00<00:20, 11.38it/s, Train Loss=0.258]"
     ]
    },
    {
     "name": "stdout",
     "output_type": "stream",
     "text": [
      "Epoch 75: train loss 0.13999576400569144\n"
     ]
    },
    {
     "name": "stderr",
     "output_type": "stream",
     "text": [
      "Epoch 78/200:   1%|▍                                                  | 2/235 [00:00<00:20, 11.38it/s, Train Loss=0.276]"
     ]
    },
    {
     "name": "stdout",
     "output_type": "stream",
     "text": [
      "Epoch 76: train loss 0.13843538957707424\n"
     ]
    },
    {
     "name": "stderr",
     "output_type": "stream",
     "text": [
      "Epoch 79/200:   1%|▍                                                  | 2/235 [00:00<00:20, 11.37it/s, Train Loss=0.279]"
     ]
    },
    {
     "name": "stdout",
     "output_type": "stream",
     "text": [
      "Epoch 77: train loss 0.1388238325398019\n"
     ]
    },
    {
     "name": "stderr",
     "output_type": "stream",
     "text": [
      "Epoch 80/200:   1%|▍                                                  | 2/235 [00:00<00:20, 11.35it/s, Train Loss=0.279]"
     ]
    },
    {
     "name": "stdout",
     "output_type": "stream",
     "text": [
      "Epoch 78: train loss 0.13736441167111094\n"
     ]
    },
    {
     "name": "stderr",
     "output_type": "stream",
     "text": [
      "                                                                                                                        \r"
     ]
    },
    {
     "name": "stdout",
     "output_type": "stream",
     "text": [
      "Epoch 79: train loss 0.1371757280636341\n"
     ]
    },
    {
     "name": "stderr",
     "output_type": "stream",
     "text": [
      "Corruption MSE: 0.063230, Recovered MSE: 0.020564: 100%|███████████████████████████| 2000/2000 [00:07<00:00, 270.73it/s]\n",
      "Epoch 82/200:   1%|▍                                                  | 2/235 [00:00<00:21, 11.06it/s, Train Loss=0.258]"
     ]
    },
    {
     "name": "stdout",
     "output_type": "stream",
     "text": [
      "Epoch 80: train loss 0.13650093921955594\n"
     ]
    },
    {
     "name": "stderr",
     "output_type": "stream",
     "text": [
      "Epoch 83/200:   1%|▍                                                  | 2/235 [00:00<00:20, 11.35it/s, Train Loss=0.287]"
     ]
    },
    {
     "name": "stdout",
     "output_type": "stream",
     "text": [
      "Epoch 81: train loss 0.13538390141218268\n"
     ]
    },
    {
     "name": "stderr",
     "output_type": "stream",
     "text": [
      "Epoch 84/200:   1%|▍                                                  | 2/235 [00:00<00:20, 11.38it/s, Train Loss=0.271]"
     ]
    },
    {
     "name": "stdout",
     "output_type": "stream",
     "text": [
      "Epoch 82: train loss 0.13597636631828675\n"
     ]
    },
    {
     "name": "stderr",
     "output_type": "stream",
     "text": [
      "Epoch 85/200:   1%|▍                                                  | 2/235 [00:00<00:20, 11.39it/s, Train Loss=0.328]"
     ]
    },
    {
     "name": "stdout",
     "output_type": "stream",
     "text": [
      "Epoch 83: train loss 0.13545020869437685\n"
     ]
    },
    {
     "name": "stderr",
     "output_type": "stream",
     "text": [
      "                                                                                                                        \r"
     ]
    },
    {
     "name": "stdout",
     "output_type": "stream",
     "text": [
      "Epoch 84: train loss 0.13528253905316617\n"
     ]
    },
    {
     "name": "stderr",
     "output_type": "stream",
     "text": [
      "Corruption MSE: 0.063569, Recovered MSE: 0.020712: 100%|███████████████████████████| 2000/2000 [00:07<00:00, 269.44it/s]\n",
      "Epoch 87/200:   1%|▍                                                  | 2/235 [00:00<00:20, 11.34it/s, Train Loss=0.268]"
     ]
    },
    {
     "name": "stdout",
     "output_type": "stream",
     "text": [
      "Epoch 85: train loss 0.134137062569882\n"
     ]
    },
    {
     "name": "stderr",
     "output_type": "stream",
     "text": [
      "Epoch 88/200:   1%|▍                                                  | 2/235 [00:00<00:20, 11.39it/s, Train Loss=0.283]"
     ]
    },
    {
     "name": "stdout",
     "output_type": "stream",
     "text": [
      "Epoch 86: train loss 0.13350899305115355\n"
     ]
    },
    {
     "name": "stderr",
     "output_type": "stream",
     "text": [
      "Epoch 89/200:   1%|▍                                                    | 2/235 [00:00<00:20, 11.38it/s, Train Loss=0.3]"
     ]
    },
    {
     "name": "stdout",
     "output_type": "stream",
     "text": [
      "Epoch 87: train loss 0.13362099344426012\n"
     ]
    },
    {
     "name": "stderr",
     "output_type": "stream",
     "text": [
      "Epoch 90/200:   1%|▍                                                  | 2/235 [00:00<00:20, 11.37it/s, Train Loss=0.246]"
     ]
    },
    {
     "name": "stdout",
     "output_type": "stream",
     "text": [
      "Epoch 88: train loss 0.13294790219119254\n"
     ]
    },
    {
     "name": "stderr",
     "output_type": "stream",
     "text": [
      "                                                                                                                        \r"
     ]
    },
    {
     "name": "stdout",
     "output_type": "stream",
     "text": [
      "Epoch 89: train loss 0.1320389649018328\n"
     ]
    },
    {
     "name": "stderr",
     "output_type": "stream",
     "text": [
      "Corruption MSE: 0.063121, Recovered MSE: 0.020649: 100%|███████████████████████████| 2000/2000 [00:07<00:00, 270.31it/s]\n",
      "Epoch 92/200:   1%|▍                                                   | 2/235 [00:00<00:20, 11.39it/s, Train Loss=0.29]"
     ]
    },
    {
     "name": "stdout",
     "output_type": "stream",
     "text": [
      "Epoch 90: train loss 0.13118743550904255\n"
     ]
    },
    {
     "name": "stderr",
     "output_type": "stream",
     "text": [
      "Epoch 93/200:   1%|▍                                                  | 2/235 [00:00<00:20, 11.26it/s, Train Loss=0.265]"
     ]
    },
    {
     "name": "stdout",
     "output_type": "stream",
     "text": [
      "Epoch 91: train loss 0.13155740553394277\n"
     ]
    },
    {
     "name": "stderr",
     "output_type": "stream",
     "text": [
      "Epoch 94/200:   1%|▍                                                  | 2/235 [00:00<00:20, 11.36it/s, Train Loss=0.277]"
     ]
    },
    {
     "name": "stdout",
     "output_type": "stream",
     "text": [
      "Epoch 92: train loss 0.13096307053210887\n"
     ]
    },
    {
     "name": "stderr",
     "output_type": "stream",
     "text": [
      "Epoch 95/200:   1%|▍                                                  | 2/235 [00:00<00:20, 11.36it/s, Train Loss=0.258]"
     ]
    },
    {
     "name": "stdout",
     "output_type": "stream",
     "text": [
      "Epoch 93: train loss 0.13098567721057444\n"
     ]
    },
    {
     "name": "stderr",
     "output_type": "stream",
     "text": [
      "                                                                                                                        \r"
     ]
    },
    {
     "name": "stdout",
     "output_type": "stream",
     "text": [
      "Epoch 94: train loss 0.13068048126519993\n"
     ]
    },
    {
     "name": "stderr",
     "output_type": "stream",
     "text": [
      "Corruption MSE: 0.063386, Recovered MSE: 0.020944: 100%|███████████████████████████| 2000/2000 [00:07<00:00, 270.31it/s]\n",
      "Epoch 97/200:   1%|▍                                                  | 2/235 [00:00<00:20, 11.39it/s, Train Loss=0.267]"
     ]
    },
    {
     "name": "stdout",
     "output_type": "stream",
     "text": [
      "Epoch 95: train loss 0.13046671028466936\n"
     ]
    },
    {
     "name": "stderr",
     "output_type": "stream",
     "text": [
      "Epoch 98/200:   1%|▍                                                   | 2/235 [00:00<00:20, 11.37it/s, Train Loss=0.25]"
     ]
    },
    {
     "name": "stdout",
     "output_type": "stream",
     "text": [
      "Epoch 96: train loss 0.1297378901154437\n"
     ]
    },
    {
     "name": "stderr",
     "output_type": "stream",
     "text": [
      "Epoch 99/200:   1%|▍                                                  | 2/235 [00:00<00:20, 11.38it/s, Train Loss=0.264]"
     ]
    },
    {
     "name": "stdout",
     "output_type": "stream",
     "text": [
      "Epoch 97: train loss 0.1301741768388038\n"
     ]
    },
    {
     "name": "stderr",
     "output_type": "stream",
     "text": [
      "Epoch 100/200:   1%|▍                                                 | 2/235 [00:00<00:20, 11.39it/s, Train Loss=0.257]"
     ]
    },
    {
     "name": "stdout",
     "output_type": "stream",
     "text": [
      "Epoch 98: train loss 0.12854104073757822\n"
     ]
    },
    {
     "name": "stderr",
     "output_type": "stream",
     "text": [
      "                                                                                                                        \r"
     ]
    },
    {
     "name": "stdout",
     "output_type": "stream",
     "text": [
      "Epoch 99: train loss 0.12855251152464683\n"
     ]
    },
    {
     "name": "stderr",
     "output_type": "stream",
     "text": [
      "Corruption MSE: 0.063495, Recovered MSE: 0.020649: 100%|███████████████████████████| 2000/2000 [00:07<00:00, 270.27it/s]\n",
      "Epoch 102/200:   1%|▍                                                  | 2/235 [00:00<00:20, 11.38it/s, Train Loss=0.26]"
     ]
    },
    {
     "name": "stdout",
     "output_type": "stream",
     "text": [
      "Epoch 100: train loss 0.12779595953352907\n"
     ]
    },
    {
     "name": "stderr",
     "output_type": "stream",
     "text": [
      "Epoch 103/200:   1%|▍                                                 | 2/235 [00:00<00:20, 11.39it/s, Train Loss=0.269]"
     ]
    },
    {
     "name": "stdout",
     "output_type": "stream",
     "text": [
      "Epoch 101: train loss 0.12819080184748832\n"
     ]
    },
    {
     "name": "stderr",
     "output_type": "stream",
     "text": [
      "Epoch 104/200:   1%|▍                                                 | 2/235 [00:00<00:20, 11.37it/s, Train Loss=0.263]"
     ]
    },
    {
     "name": "stdout",
     "output_type": "stream",
     "text": [
      "Epoch 102: train loss 0.12765642001907876\n"
     ]
    },
    {
     "name": "stderr",
     "output_type": "stream",
     "text": [
      "Epoch 105/200:   1%|▍                                                 | 2/235 [00:00<00:20, 11.39it/s, Train Loss=0.259]"
     ]
    },
    {
     "name": "stdout",
     "output_type": "stream",
     "text": [
      "Epoch 103: train loss 0.1283897728361982\n"
     ]
    },
    {
     "name": "stderr",
     "output_type": "stream",
     "text": [
      "                                                                                                                        \r"
     ]
    },
    {
     "name": "stdout",
     "output_type": "stream",
     "text": [
      "Epoch 104: train loss 0.12686093570070064\n"
     ]
    },
    {
     "name": "stderr",
     "output_type": "stream",
     "text": [
      "Corruption MSE: 0.063317, Recovered MSE: 0.020396: 100%|███████████████████████████| 2000/2000 [00:07<00:00, 270.24it/s]\n",
      "Epoch 107/200:   1%|▍                                                 | 2/235 [00:00<00:20, 11.39it/s, Train Loss=0.263]"
     ]
    },
    {
     "name": "stdout",
     "output_type": "stream",
     "text": [
      "Epoch 105: train loss 0.12836695313453675\n"
     ]
    },
    {
     "name": "stderr",
     "output_type": "stream",
     "text": [
      "Epoch 108/200:   1%|▍                                                  | 2/235 [00:00<00:20, 11.37it/s, Train Loss=0.25]"
     ]
    },
    {
     "name": "stdout",
     "output_type": "stream",
     "text": [
      "Epoch 106: train loss 0.12673480770689377\n"
     ]
    },
    {
     "name": "stderr",
     "output_type": "stream",
     "text": [
      "Epoch 109/200:   1%|▍                                                 | 2/235 [00:00<00:20, 11.34it/s, Train Loss=0.252]"
     ]
    },
    {
     "name": "stdout",
     "output_type": "stream",
     "text": [
      "Epoch 107: train loss 0.12573092915910355\n"
     ]
    },
    {
     "name": "stderr",
     "output_type": "stream",
     "text": [
      "Epoch 110/200:   1%|▍                                                 | 2/235 [00:00<00:20, 11.36it/s, Train Loss=0.263]"
     ]
    },
    {
     "name": "stdout",
     "output_type": "stream",
     "text": [
      "Epoch 108: train loss 0.1264291505864326\n"
     ]
    },
    {
     "name": "stderr",
     "output_type": "stream",
     "text": [
      "                                                                                                                        \r"
     ]
    },
    {
     "name": "stdout",
     "output_type": "stream",
     "text": [
      "Epoch 109: train loss 0.12527477348104438\n"
     ]
    },
    {
     "name": "stderr",
     "output_type": "stream",
     "text": [
      "Corruption MSE: 0.063683, Recovered MSE: 0.020465: 100%|███████████████████████████| 2000/2000 [00:07<00:00, 270.12it/s]\n",
      "Epoch 112/200:   1%|▍                                                 | 2/235 [00:00<00:20, 11.37it/s, Train Loss=0.248]"
     ]
    },
    {
     "name": "stdout",
     "output_type": "stream",
     "text": [
      "Epoch 110: train loss 0.12582724779210192\n"
     ]
    },
    {
     "name": "stderr",
     "output_type": "stream",
     "text": [
      "Epoch 113/200:   1%|▍                                                 | 2/235 [00:00<00:20, 11.37it/s, Train Loss=0.268]"
     ]
    },
    {
     "name": "stdout",
     "output_type": "stream",
     "text": [
      "Epoch 111: train loss 0.12473677644070158\n"
     ]
    },
    {
     "name": "stderr",
     "output_type": "stream",
     "text": [
      "Epoch 114/200:   1%|▍                                                 | 2/235 [00:00<00:20, 11.39it/s, Train Loss=0.257]"
     ]
    },
    {
     "name": "stdout",
     "output_type": "stream",
     "text": [
      "Epoch 112: train loss 0.1243591070175171\n"
     ]
    },
    {
     "name": "stderr",
     "output_type": "stream",
     "text": [
      "Epoch 115/200:   1%|▍                                                  | 2/235 [00:00<00:20, 11.36it/s, Train Loss=0.25]"
     ]
    },
    {
     "name": "stdout",
     "output_type": "stream",
     "text": [
      "Epoch 113: train loss 0.12449872829812639\n"
     ]
    },
    {
     "name": "stderr",
     "output_type": "stream",
     "text": [
      "                                                                                                                        \r"
     ]
    },
    {
     "name": "stdout",
     "output_type": "stream",
     "text": [
      "Epoch 114: train loss 0.12458135117875768\n"
     ]
    },
    {
     "name": "stderr",
     "output_type": "stream",
     "text": [
      "Corruption MSE: 0.063465, Recovered MSE: 0.019710: 100%|███████████████████████████| 2000/2000 [00:07<00:00, 270.59it/s]\n",
      "Epoch 116/200:   1%|▍                                                 | 2/235 [00:00<00:20, 11.63it/s, Train Loss=0.245]"
     ]
    },
    {
     "name": "stdout",
     "output_type": "stream",
     "text": [
      "Current best MSE: 0.01979719352722168 -> 0.01970965814590454\n"
     ]
    },
    {
     "name": "stderr",
     "output_type": "stream",
     "text": [
      "Epoch 117/200:   1%|▍                                                 | 2/235 [00:00<00:20, 11.37it/s, Train Loss=0.262]"
     ]
    },
    {
     "name": "stdout",
     "output_type": "stream",
     "text": [
      "Epoch 115: train loss 0.12382206127364585\n"
     ]
    },
    {
     "name": "stderr",
     "output_type": "stream",
     "text": [
      "Epoch 118/200:   1%|▍                                                  | 2/235 [00:00<00:20, 11.36it/s, Train Loss=0.24]"
     ]
    },
    {
     "name": "stdout",
     "output_type": "stream",
     "text": [
      "Epoch 116: train loss 0.12336747630479487\n"
     ]
    },
    {
     "name": "stderr",
     "output_type": "stream",
     "text": [
      "Epoch 119/200:   1%|▍                                                 | 2/235 [00:00<00:20, 11.36it/s, Train Loss=0.264]"
     ]
    },
    {
     "name": "stdout",
     "output_type": "stream",
     "text": [
      "Epoch 117: train loss 0.12332484893342283\n"
     ]
    },
    {
     "name": "stderr",
     "output_type": "stream",
     "text": [
      "Epoch 120/200:   1%|▍                                                 | 2/235 [00:00<00:20, 11.37it/s, Train Loss=0.242]"
     ]
    },
    {
     "name": "stdout",
     "output_type": "stream",
     "text": [
      "Epoch 118: train loss 0.12329484772809009\n"
     ]
    },
    {
     "name": "stderr",
     "output_type": "stream",
     "text": [
      "                                                                                                                        \r"
     ]
    },
    {
     "name": "stdout",
     "output_type": "stream",
     "text": [
      "Epoch 119: train loss 0.12628978703250276\n"
     ]
    },
    {
     "name": "stderr",
     "output_type": "stream",
     "text": [
      "Corruption MSE: 0.062862, Recovered MSE: 0.019385: 100%|███████████████████████████| 2000/2000 [00:07<00:00, 270.47it/s]\n",
      "Epoch 121/200:   1%|▍                                                 | 2/235 [00:00<00:20, 11.62it/s, Train Loss=0.251]"
     ]
    },
    {
     "name": "stdout",
     "output_type": "stream",
     "text": [
      "Current best MSE: 0.01970965814590454 -> 0.019385410785675048\n"
     ]
    },
    {
     "name": "stderr",
     "output_type": "stream",
     "text": [
      "Epoch 122/200:   1%|▍                                                 | 2/235 [00:00<00:20, 11.38it/s, Train Loss=0.236]"
     ]
    },
    {
     "name": "stdout",
     "output_type": "stream",
     "text": [
      "Epoch 120: train loss 0.12325161724014486\n"
     ]
    },
    {
     "name": "stderr",
     "output_type": "stream",
     "text": [
      "Epoch 123/200:   1%|▍                                                 | 2/235 [00:00<00:20, 11.38it/s, Train Loss=0.232]"
     ]
    },
    {
     "name": "stdout",
     "output_type": "stream",
     "text": [
      "Epoch 121: train loss 0.12276738656962172\n"
     ]
    },
    {
     "name": "stderr",
     "output_type": "stream",
     "text": [
      "Epoch 124/200:   1%|▍                                                 | 2/235 [00:00<00:20, 11.36it/s, Train Loss=0.237]"
     ]
    },
    {
     "name": "stdout",
     "output_type": "stream",
     "text": [
      "Epoch 122: train loss 0.12237586420267187\n"
     ]
    },
    {
     "name": "stderr",
     "output_type": "stream",
     "text": [
      "Epoch 125/200:   1%|▍                                                 | 2/235 [00:00<00:20, 11.36it/s, Train Loss=0.245]"
     ]
    },
    {
     "name": "stdout",
     "output_type": "stream",
     "text": [
      "Epoch 123: train loss 0.12255880743899245\n"
     ]
    },
    {
     "name": "stderr",
     "output_type": "stream",
     "text": [
      "                                                                                                                        \r"
     ]
    },
    {
     "name": "stdout",
     "output_type": "stream",
     "text": [
      "Epoch 124: train loss 0.12240887347688066\n"
     ]
    },
    {
     "name": "stderr",
     "output_type": "stream",
     "text": [
      "Corruption MSE: 0.063554, Recovered MSE: 0.019197: 100%|███████████████████████████| 2000/2000 [00:07<00:00, 270.36it/s]\n",
      "Epoch 126/200:   1%|▍                                                 | 2/235 [00:00<00:20, 11.63it/s, Train Loss=0.234]"
     ]
    },
    {
     "name": "stdout",
     "output_type": "stream",
     "text": [
      "Current best MSE: 0.019385410785675048 -> 0.019197020530700683\n"
     ]
    },
    {
     "name": "stderr",
     "output_type": "stream",
     "text": [
      "Epoch 127/200:   1%|▍                                                 | 2/235 [00:00<00:20, 11.38it/s, Train Loss=0.254]"
     ]
    },
    {
     "name": "stdout",
     "output_type": "stream",
     "text": [
      "Epoch 125: train loss 0.12166365023623121\n"
     ]
    },
    {
     "name": "stderr",
     "output_type": "stream",
     "text": [
      "Epoch 128/200:   1%|▍                                                 | 2/235 [00:00<00:20, 11.38it/s, Train Loss=0.253]"
     ]
    },
    {
     "name": "stdout",
     "output_type": "stream",
     "text": [
      "Epoch 126: train loss 0.12190272392744714\n"
     ]
    },
    {
     "name": "stderr",
     "output_type": "stream",
     "text": [
      "Epoch 129/200:   1%|▍                                                 | 2/235 [00:00<00:20, 11.37it/s, Train Loss=0.241]"
     ]
    },
    {
     "name": "stdout",
     "output_type": "stream",
     "text": [
      "Epoch 127: train loss 0.12159345254619071\n"
     ]
    },
    {
     "name": "stderr",
     "output_type": "stream",
     "text": [
      "Epoch 130/200:   1%|▍                                                 | 2/235 [00:00<00:20, 11.38it/s, Train Loss=0.243]"
     ]
    },
    {
     "name": "stdout",
     "output_type": "stream",
     "text": [
      "Epoch 128: train loss 0.12250698024922228\n"
     ]
    },
    {
     "name": "stderr",
     "output_type": "stream",
     "text": [
      "                                                                                                                        \r"
     ]
    },
    {
     "name": "stdout",
     "output_type": "stream",
     "text": [
      "Epoch 129: train loss 0.12044163118017481\n"
     ]
    },
    {
     "name": "stderr",
     "output_type": "stream",
     "text": [
      "Corruption MSE: 0.063558, Recovered MSE: 0.018838: 100%|███████████████████████████| 2000/2000 [00:07<00:00, 270.02it/s]\n",
      "Epoch 131/200:   1%|▍                                                 | 2/235 [00:00<00:20, 11.63it/s, Train Loss=0.253]"
     ]
    },
    {
     "name": "stdout",
     "output_type": "stream",
     "text": [
      "Current best MSE: 0.019197020530700683 -> 0.018837801933288573\n"
     ]
    },
    {
     "name": "stderr",
     "output_type": "stream",
     "text": [
      "Epoch 132/200:   1%|▍                                                 | 2/235 [00:00<00:20, 11.36it/s, Train Loss=0.231]"
     ]
    },
    {
     "name": "stdout",
     "output_type": "stream",
     "text": [
      "Epoch 130: train loss 0.12105234772601026\n"
     ]
    },
    {
     "name": "stderr",
     "output_type": "stream",
     "text": [
      "Epoch 133/200:   1%|▍                                                 | 2/235 [00:00<00:21, 11.06it/s, Train Loss=0.242]"
     ]
    },
    {
     "name": "stdout",
     "output_type": "stream",
     "text": [
      "Epoch 131: train loss 0.12180107901705073\n"
     ]
    },
    {
     "name": "stderr",
     "output_type": "stream",
     "text": [
      "Epoch 134/200:   1%|▍                                                 | 2/235 [00:00<00:20, 11.37it/s, Train Loss=0.242]"
     ]
    },
    {
     "name": "stdout",
     "output_type": "stream",
     "text": [
      "Epoch 132: train loss 0.12073918130803615\n"
     ]
    },
    {
     "name": "stderr",
     "output_type": "stream",
     "text": [
      "Epoch 135/200:   1%|▍                                                 | 2/235 [00:00<00:20, 11.38it/s, Train Loss=0.232]"
     ]
    },
    {
     "name": "stdout",
     "output_type": "stream",
     "text": [
      "Epoch 133: train loss 0.12050531211685626\n"
     ]
    },
    {
     "name": "stderr",
     "output_type": "stream",
     "text": [
      "                                                                                                                        \r"
     ]
    },
    {
     "name": "stdout",
     "output_type": "stream",
     "text": [
      "Epoch 134: train loss 0.12030074025722261\n"
     ]
    },
    {
     "name": "stderr",
     "output_type": "stream",
     "text": [
      "Corruption MSE: 0.063960, Recovered MSE: 0.018549: 100%|███████████████████████████| 2000/2000 [00:07<00:00, 270.27it/s]\n",
      "Epoch 136/200:   1%|▍                                                 | 2/235 [00:00<00:20, 11.62it/s, Train Loss=0.237]"
     ]
    },
    {
     "name": "stdout",
     "output_type": "stream",
     "text": [
      "Current best MSE: 0.018837801933288573 -> 0.01854940128326416\n"
     ]
    },
    {
     "name": "stderr",
     "output_type": "stream",
     "text": [
      "Epoch 137/200:   1%|▍                                                 | 2/235 [00:00<00:20, 11.37it/s, Train Loss=0.227]"
     ]
    },
    {
     "name": "stdout",
     "output_type": "stream",
     "text": [
      "Epoch 135: train loss 0.11948839074119609\n"
     ]
    },
    {
     "name": "stderr",
     "output_type": "stream",
     "text": [
      "Epoch 138/200:   1%|▍                                                 | 2/235 [00:00<00:20, 11.30it/s, Train Loss=0.233]"
     ]
    },
    {
     "name": "stdout",
     "output_type": "stream",
     "text": [
      "Epoch 136: train loss 0.11893501630488862\n"
     ]
    },
    {
     "name": "stderr",
     "output_type": "stream",
     "text": [
      "Epoch 139/200:   1%|▍                                                 | 2/235 [00:00<00:20, 11.39it/s, Train Loss=0.231]"
     ]
    },
    {
     "name": "stdout",
     "output_type": "stream",
     "text": [
      "Epoch 137: train loss 0.11908819723002453\n"
     ]
    },
    {
     "name": "stderr",
     "output_type": "stream",
     "text": [
      "Epoch 140/200:   1%|▍                                                 | 2/235 [00:00<00:20, 11.38it/s, Train Loss=0.226]"
     ]
    },
    {
     "name": "stdout",
     "output_type": "stream",
     "text": [
      "Epoch 138: train loss 0.11895119040570361\n"
     ]
    },
    {
     "name": "stderr",
     "output_type": "stream",
     "text": [
      "                                                                                                                        \r"
     ]
    },
    {
     "name": "stdout",
     "output_type": "stream",
     "text": [
      "Epoch 139: train loss 0.11891442286841412\n"
     ]
    },
    {
     "name": "stderr",
     "output_type": "stream",
     "text": [
      "Corruption MSE: 0.063700, Recovered MSE: 0.018198: 100%|███████████████████████████| 2000/2000 [00:07<00:00, 270.29it/s]\n",
      "Epoch 141/200:   1%|▍                                                 | 2/235 [00:00<00:20, 11.62it/s, Train Loss=0.245]"
     ]
    },
    {
     "name": "stdout",
     "output_type": "stream",
     "text": [
      "Current best MSE: 0.01854940128326416 -> 0.018197588443756102\n"
     ]
    },
    {
     "name": "stderr",
     "output_type": "stream",
     "text": [
      "Epoch 142/200:   1%|▍                                                 | 2/235 [00:00<00:20, 11.38it/s, Train Loss=0.237]"
     ]
    },
    {
     "name": "stdout",
     "output_type": "stream",
     "text": [
      "Epoch 140: train loss 0.1188614805962177\n"
     ]
    },
    {
     "name": "stderr",
     "output_type": "stream",
     "text": [
      "Epoch 143/200:   1%|▍                                                 | 2/235 [00:00<00:20, 11.37it/s, Train Loss=0.258]"
     ]
    },
    {
     "name": "stdout",
     "output_type": "stream",
     "text": [
      "Epoch 141: train loss 0.11822997537699152\n"
     ]
    },
    {
     "name": "stderr",
     "output_type": "stream",
     "text": [
      "Epoch 144/200:   1%|▍                                                 | 2/235 [00:00<00:20, 11.37it/s, Train Loss=0.235]"
     ]
    },
    {
     "name": "stdout",
     "output_type": "stream",
     "text": [
      "Epoch 142: train loss 0.11856533399921783\n"
     ]
    },
    {
     "name": "stderr",
     "output_type": "stream",
     "text": [
      "Epoch 145/200:   1%|▍                                                 | 2/235 [00:00<00:20, 11.37it/s, Train Loss=0.234]"
     ]
    },
    {
     "name": "stdout",
     "output_type": "stream",
     "text": [
      "Epoch 143: train loss 0.11862746477127076\n"
     ]
    },
    {
     "name": "stderr",
     "output_type": "stream",
     "text": [
      "                                                                                                                        \r"
     ]
    },
    {
     "name": "stdout",
     "output_type": "stream",
     "text": [
      "Epoch 144: train loss 0.11870580477283356\n"
     ]
    },
    {
     "name": "stderr",
     "output_type": "stream",
     "text": [
      "Corruption MSE: 0.063334, Recovered MSE: 0.017587: 100%|███████████████████████████| 2000/2000 [00:07<00:00, 270.08it/s]\n",
      "Epoch 146/200:   1%|▍                                                 | 2/235 [00:00<00:20, 11.62it/s, Train Loss=0.238]"
     ]
    },
    {
     "name": "stdout",
     "output_type": "stream",
     "text": [
      "Current best MSE: 0.018197588443756102 -> 0.017587113857269288\n"
     ]
    },
    {
     "name": "stderr",
     "output_type": "stream",
     "text": [
      "Epoch 147/200:   1%|▍                                                 | 2/235 [00:00<00:20, 11.37it/s, Train Loss=0.234]"
     ]
    },
    {
     "name": "stdout",
     "output_type": "stream",
     "text": [
      "Epoch 145: train loss 0.1174482895338789\n"
     ]
    },
    {
     "name": "stderr",
     "output_type": "stream",
     "text": [
      "Epoch 148/200:   1%|▍                                                 | 2/235 [00:00<00:20, 11.39it/s, Train Loss=0.243]"
     ]
    },
    {
     "name": "stdout",
     "output_type": "stream",
     "text": [
      "Epoch 146: train loss 0.11736462480844335\n"
     ]
    },
    {
     "name": "stderr",
     "output_type": "stream",
     "text": [
      "Epoch 149/200:   1%|▍                                                 | 2/235 [00:00<00:20, 11.38it/s, Train Loss=0.233]"
     ]
    },
    {
     "name": "stdout",
     "output_type": "stream",
     "text": [
      "Epoch 147: train loss 0.11738282794013936\n"
     ]
    },
    {
     "name": "stderr",
     "output_type": "stream",
     "text": [
      "Epoch 150/200:   1%|▍                                                 | 2/235 [00:00<00:20, 11.37it/s, Train Loss=0.252]"
     ]
    },
    {
     "name": "stdout",
     "output_type": "stream",
     "text": [
      "Epoch 148: train loss 0.11627369754491969\n"
     ]
    },
    {
     "name": "stderr",
     "output_type": "stream",
     "text": [
      "                                                                                                                        \r"
     ]
    },
    {
     "name": "stdout",
     "output_type": "stream",
     "text": [
      "Epoch 149: train loss 0.11648311925695297\n"
     ]
    },
    {
     "name": "stderr",
     "output_type": "stream",
     "text": [
      "Corruption MSE: 0.063506, Recovered MSE: 0.017462: 100%|███████████████████████████| 2000/2000 [00:07<00:00, 270.04it/s]\n",
      "Epoch 151/200:   1%|▍                                                 | 2/235 [00:00<00:20, 11.63it/s, Train Loss=0.231]"
     ]
    },
    {
     "name": "stdout",
     "output_type": "stream",
     "text": [
      "Current best MSE: 0.017587113857269288 -> 0.017461986541748048\n"
     ]
    },
    {
     "name": "stderr",
     "output_type": "stream",
     "text": [
      "Epoch 152/200:   1%|▍                                                 | 2/235 [00:00<00:20, 11.39it/s, Train Loss=0.236]"
     ]
    },
    {
     "name": "stdout",
     "output_type": "stream",
     "text": [
      "Epoch 150: train loss 0.11691089678317942\n"
     ]
    },
    {
     "name": "stderr",
     "output_type": "stream",
     "text": [
      "Epoch 153/200:   1%|▍                                                 | 2/235 [00:00<00:20, 11.38it/s, Train Loss=0.231]"
     ]
    },
    {
     "name": "stdout",
     "output_type": "stream",
     "text": [
      "Epoch 151: train loss 0.11606646097720938\n"
     ]
    },
    {
     "name": "stderr",
     "output_type": "stream",
     "text": [
      "Epoch 154/200:   1%|▍                                                 | 2/235 [00:00<00:20, 11.37it/s, Train Loss=0.234]"
     ]
    },
    {
     "name": "stdout",
     "output_type": "stream",
     "text": [
      "Epoch 152: train loss 0.11576821382375474\n"
     ]
    },
    {
     "name": "stderr",
     "output_type": "stream",
     "text": [
      "Epoch 155/200:   1%|▍                                                 | 2/235 [00:00<00:20, 11.37it/s, Train Loss=0.226]"
     ]
    },
    {
     "name": "stdout",
     "output_type": "stream",
     "text": [
      "Epoch 153: train loss 0.115918168267037\n"
     ]
    },
    {
     "name": "stderr",
     "output_type": "stream",
     "text": [
      "                                                                                                                        \r"
     ]
    },
    {
     "name": "stdout",
     "output_type": "stream",
     "text": [
      "Epoch 154: train loss 0.11612759115214044\n"
     ]
    },
    {
     "name": "stderr",
     "output_type": "stream",
     "text": [
      "Corruption MSE: 0.063866, Recovered MSE: 0.017095: 100%|███████████████████████████| 2000/2000 [00:07<00:00, 270.26it/s]\n",
      "Epoch 156/200:   1%|▍                                                 | 2/235 [00:00<00:20, 11.62it/s, Train Loss=0.241]"
     ]
    },
    {
     "name": "stdout",
     "output_type": "stream",
     "text": [
      "Current best MSE: 0.017461986541748048 -> 0.017094592094421386\n"
     ]
    },
    {
     "name": "stderr",
     "output_type": "stream",
     "text": [
      "Epoch 157/200:   1%|▍                                                 | 2/235 [00:00<00:20, 11.38it/s, Train Loss=0.225]"
     ]
    },
    {
     "name": "stdout",
     "output_type": "stream",
     "text": [
      "Epoch 155: train loss 0.11531510803293675\n"
     ]
    },
    {
     "name": "stderr",
     "output_type": "stream",
     "text": [
      "Epoch 158/200:   1%|▍                                                 | 2/235 [00:00<00:20, 11.37it/s, Train Loss=0.228]"
     ]
    },
    {
     "name": "stdout",
     "output_type": "stream",
     "text": [
      "Epoch 156: train loss 0.11555520109039671\n"
     ]
    },
    {
     "name": "stderr",
     "output_type": "stream",
     "text": [
      "Epoch 159/200:   1%|▍                                                 | 2/235 [00:00<00:20, 11.37it/s, Train Loss=0.232]"
     ]
    },
    {
     "name": "stdout",
     "output_type": "stream",
     "text": [
      "Epoch 157: train loss 0.11510013738211165\n"
     ]
    },
    {
     "name": "stderr",
     "output_type": "stream",
     "text": [
      "Epoch 160/200:   1%|▍                                                 | 2/235 [00:00<00:20, 11.36it/s, Train Loss=0.238]"
     ]
    },
    {
     "name": "stdout",
     "output_type": "stream",
     "text": [
      "Epoch 158: train loss 0.11485823285072408\n"
     ]
    },
    {
     "name": "stderr",
     "output_type": "stream",
     "text": [
      "                                                                                                                        \r"
     ]
    },
    {
     "name": "stdout",
     "output_type": "stream",
     "text": [
      "Epoch 159: train loss 0.1158831166460159\n"
     ]
    },
    {
     "name": "stderr",
     "output_type": "stream",
     "text": [
      "Corruption MSE: 0.063526, Recovered MSE: 0.016527: 100%|███████████████████████████| 2000/2000 [00:07<00:00, 270.60it/s]\n",
      "Epoch 161/200:   1%|▍                                                 | 2/235 [00:00<00:20, 11.60it/s, Train Loss=0.218]"
     ]
    },
    {
     "name": "stdout",
     "output_type": "stream",
     "text": [
      "Current best MSE: 0.017094592094421386 -> 0.016527249813079833\n"
     ]
    },
    {
     "name": "stderr",
     "output_type": "stream",
     "text": [
      "Epoch 162/200:   1%|▍                                                 | 2/235 [00:00<00:20, 11.37it/s, Train Loss=0.236]"
     ]
    },
    {
     "name": "stdout",
     "output_type": "stream",
     "text": [
      "Epoch 160: train loss 0.11459587213206798\n"
     ]
    },
    {
     "name": "stderr",
     "output_type": "stream",
     "text": [
      "Epoch 163/200:   1%|▍                                                 | 2/235 [00:00<00:20, 11.38it/s, Train Loss=0.228]"
     ]
    },
    {
     "name": "stdout",
     "output_type": "stream",
     "text": [
      "Epoch 161: train loss 0.11431515714589585\n"
     ]
    },
    {
     "name": "stderr",
     "output_type": "stream",
     "text": [
      "Epoch 164/200:   1%|▍                                                 | 2/235 [00:00<00:20, 11.38it/s, Train Loss=0.215]"
     ]
    },
    {
     "name": "stdout",
     "output_type": "stream",
     "text": [
      "Epoch 162: train loss 0.11393966652611469\n"
     ]
    },
    {
     "name": "stderr",
     "output_type": "stream",
     "text": [
      "Epoch 165/200:   1%|▍                                                 | 2/235 [00:00<00:20, 11.38it/s, Train Loss=0.226]"
     ]
    },
    {
     "name": "stdout",
     "output_type": "stream",
     "text": [
      "Epoch 163: train loss 0.11424086838960648\n"
     ]
    },
    {
     "name": "stderr",
     "output_type": "stream",
     "text": [
      "                                                                                                                        \r"
     ]
    },
    {
     "name": "stdout",
     "output_type": "stream",
     "text": [
      "Epoch 164: train loss 0.1143592357001406\n"
     ]
    },
    {
     "name": "stderr",
     "output_type": "stream",
     "text": [
      "Corruption MSE: 0.063434, Recovered MSE: 0.016393: 100%|███████████████████████████| 2000/2000 [00:07<00:00, 270.55it/s]\n",
      "Epoch 166/200:   1%|▍                                                 | 2/235 [00:00<00:20, 11.63it/s, Train Loss=0.223]"
     ]
    },
    {
     "name": "stdout",
     "output_type": "stream",
     "text": [
      "Current best MSE: 0.016527249813079833 -> 0.016392613887786865\n"
     ]
    },
    {
     "name": "stderr",
     "output_type": "stream",
     "text": [
      "Epoch 167/200:   1%|▍                                                  | 2/235 [00:00<00:20, 11.38it/s, Train Loss=0.22]"
     ]
    },
    {
     "name": "stdout",
     "output_type": "stream",
     "text": [
      "Epoch 165: train loss 0.11438938087605416\n"
     ]
    },
    {
     "name": "stderr",
     "output_type": "stream",
     "text": [
      "Epoch 168/200:   1%|▍                                                 | 2/235 [00:00<00:20, 11.37it/s, Train Loss=0.238]"
     ]
    },
    {
     "name": "stdout",
     "output_type": "stream",
     "text": [
      "Epoch 166: train loss 0.11352610271027748\n"
     ]
    },
    {
     "name": "stderr",
     "output_type": "stream",
     "text": [
      "Epoch 169/200:   1%|▍                                                 | 2/235 [00:00<00:20, 11.38it/s, Train Loss=0.225]"
     ]
    },
    {
     "name": "stdout",
     "output_type": "stream",
     "text": [
      "Epoch 167: train loss 0.11340187718259527\n"
     ]
    },
    {
     "name": "stderr",
     "output_type": "stream",
     "text": [
      "Epoch 170/200:   1%|▍                                                 | 2/235 [00:00<00:20, 11.38it/s, Train Loss=0.225]"
     ]
    },
    {
     "name": "stdout",
     "output_type": "stream",
     "text": [
      "Epoch 168: train loss 0.11328564692050852\n"
     ]
    },
    {
     "name": "stderr",
     "output_type": "stream",
     "text": [
      "                                                                                                                        \r"
     ]
    },
    {
     "name": "stdout",
     "output_type": "stream",
     "text": [
      "Epoch 169: train loss 0.11275709968932132\n"
     ]
    },
    {
     "name": "stderr",
     "output_type": "stream",
     "text": [
      "Corruption MSE: 0.063356, Recovered MSE: 0.016112: 100%|███████████████████████████| 2000/2000 [00:07<00:00, 270.36it/s]\n",
      "Epoch 171/200:   1%|▍                                                 | 2/235 [00:00<00:20, 11.61it/s, Train Loss=0.223]"
     ]
    },
    {
     "name": "stdout",
     "output_type": "stream",
     "text": [
      "Current best MSE: 0.016392613887786865 -> 0.01611180567741394\n"
     ]
    },
    {
     "name": "stderr",
     "output_type": "stream",
     "text": [
      "Epoch 172/200:   1%|▍                                                 | 2/235 [00:00<00:20, 11.37it/s, Train Loss=0.219]"
     ]
    },
    {
     "name": "stdout",
     "output_type": "stream",
     "text": [
      "Epoch 170: train loss 0.1131298337845092\n"
     ]
    },
    {
     "name": "stderr",
     "output_type": "stream",
     "text": [
      "Epoch 173/200:   1%|▍                                                 | 2/235 [00:00<00:20, 11.39it/s, Train Loss=0.223]"
     ]
    },
    {
     "name": "stdout",
     "output_type": "stream",
     "text": [
      "Epoch 171: train loss 0.11311738145478228\n"
     ]
    },
    {
     "name": "stderr",
     "output_type": "stream",
     "text": [
      "Epoch 174/200:   1%|▍                                                 | 2/235 [00:00<00:20, 11.38it/s, Train Loss=0.221]"
     ]
    },
    {
     "name": "stdout",
     "output_type": "stream",
     "text": [
      "Epoch 172: train loss 0.11248682968794031\n"
     ]
    },
    {
     "name": "stderr",
     "output_type": "stream",
     "text": [
      "Epoch 175/200:   1%|▍                                                  | 2/235 [00:00<00:20, 11.39it/s, Train Loss=0.22]"
     ]
    },
    {
     "name": "stdout",
     "output_type": "stream",
     "text": [
      "Epoch 173: train loss 0.11249310256952935\n"
     ]
    },
    {
     "name": "stderr",
     "output_type": "stream",
     "text": [
      "                                                                                                                        \r"
     ]
    },
    {
     "name": "stdout",
     "output_type": "stream",
     "text": [
      "Epoch 174: train loss 0.11157135383245793\n"
     ]
    },
    {
     "name": "stderr",
     "output_type": "stream",
     "text": [
      "Corruption MSE: 0.062932, Recovered MSE: 0.015661: 100%|███████████████████████████| 2000/2000 [00:07<00:00, 270.59it/s]\n",
      "Epoch 176/200:   1%|▍                                                 | 2/235 [00:00<00:20, 11.63it/s, Train Loss=0.224]"
     ]
    },
    {
     "name": "stdout",
     "output_type": "stream",
     "text": [
      "Current best MSE: 0.01611180567741394 -> 0.015660959005355836\n"
     ]
    },
    {
     "name": "stderr",
     "output_type": "stream",
     "text": [
      "Epoch 177/200:   1%|▍                                                 | 2/235 [00:00<00:20, 11.39it/s, Train Loss=0.233]"
     ]
    },
    {
     "name": "stdout",
     "output_type": "stream",
     "text": [
      "Epoch 175: train loss 0.11206752074525711\n"
     ]
    },
    {
     "name": "stderr",
     "output_type": "stream",
     "text": [
      "Epoch 178/200:   1%|▍                                                 | 2/235 [00:00<00:20, 11.35it/s, Train Loss=0.229]"
     ]
    },
    {
     "name": "stdout",
     "output_type": "stream",
     "text": [
      "Epoch 176: train loss 0.11122222612512872\n"
     ]
    },
    {
     "name": "stderr",
     "output_type": "stream",
     "text": [
      "Epoch 179/200:   1%|▍                                                 | 2/235 [00:00<00:20, 11.36it/s, Train Loss=0.215]"
     ]
    },
    {
     "name": "stdout",
     "output_type": "stream",
     "text": [
      "Epoch 177: train loss 0.11175525629139961\n"
     ]
    },
    {
     "name": "stderr",
     "output_type": "stream",
     "text": [
      "Epoch 180/200:   1%|▍                                                 | 2/235 [00:00<00:20, 11.36it/s, Train Loss=0.231]"
     ]
    },
    {
     "name": "stdout",
     "output_type": "stream",
     "text": [
      "Epoch 178: train loss 0.11140319565509228\n"
     ]
    },
    {
     "name": "stderr",
     "output_type": "stream",
     "text": [
      "                                                                                                                        \r"
     ]
    },
    {
     "name": "stdout",
     "output_type": "stream",
     "text": [
      "Epoch 179: train loss 0.11095807793292593\n"
     ]
    },
    {
     "name": "stderr",
     "output_type": "stream",
     "text": [
      "Corruption MSE: 0.063600, Recovered MSE: 0.015585: 100%|███████████████████████████| 2000/2000 [00:07<00:00, 270.80it/s]\n",
      "Epoch 181/200:   1%|▍                                                 | 2/235 [00:00<00:20, 11.63it/s, Train Loss=0.221]"
     ]
    },
    {
     "name": "stdout",
     "output_type": "stream",
     "text": [
      "Current best MSE: 0.015660959005355836 -> 0.015584585428237915\n"
     ]
    },
    {
     "name": "stderr",
     "output_type": "stream",
     "text": [
      "Epoch 182/200:   1%|▍                                                 | 2/235 [00:00<00:20, 11.39it/s, Train Loss=0.213]"
     ]
    },
    {
     "name": "stdout",
     "output_type": "stream",
     "text": [
      "Epoch 180: train loss 0.11036612664131408\n"
     ]
    },
    {
     "name": "stderr",
     "output_type": "stream",
     "text": [
      "Epoch 183/200:   1%|▍                                                 | 2/235 [00:00<00:20, 11.39it/s, Train Loss=0.204]"
     ]
    },
    {
     "name": "stdout",
     "output_type": "stream",
     "text": [
      "Epoch 181: train loss 0.11070944378350643\n"
     ]
    },
    {
     "name": "stderr",
     "output_type": "stream",
     "text": [
      "Epoch 184/200:   1%|▍                                                 | 2/235 [00:00<00:20, 11.40it/s, Train Loss=0.221]"
     ]
    },
    {
     "name": "stdout",
     "output_type": "stream",
     "text": [
      "Epoch 182: train loss 0.11009767686432981\n"
     ]
    },
    {
     "name": "stderr",
     "output_type": "stream",
     "text": [
      "Epoch 185/200:   1%|▍                                                 | 2/235 [00:00<00:20, 11.39it/s, Train Loss=0.225]"
     ]
    },
    {
     "name": "stdout",
     "output_type": "stream",
     "text": [
      "Epoch 183: train loss 0.11082219373672567\n"
     ]
    },
    {
     "name": "stderr",
     "output_type": "stream",
     "text": [
      "                                                                                                                        \r"
     ]
    },
    {
     "name": "stdout",
     "output_type": "stream",
     "text": [
      "Epoch 184: train loss 0.11093870819883143\n"
     ]
    },
    {
     "name": "stderr",
     "output_type": "stream",
     "text": [
      "Corruption MSE: 0.063594, Recovered MSE: 0.015284: 100%|███████████████████████████| 2000/2000 [00:07<00:00, 269.97it/s]\n",
      "Epoch 186/200:   1%|▍                                                 | 2/235 [00:00<00:20, 11.63it/s, Train Loss=0.222]"
     ]
    },
    {
     "name": "stdout",
     "output_type": "stream",
     "text": [
      "Current best MSE: 0.015584585428237915 -> 0.015283512353897095\n"
     ]
    },
    {
     "name": "stderr",
     "output_type": "stream",
     "text": [
      "Epoch 187/200:   1%|▍                                                 | 2/235 [00:00<00:20, 11.38it/s, Train Loss=0.216]"
     ]
    },
    {
     "name": "stdout",
     "output_type": "stream",
     "text": [
      "Epoch 185: train loss 0.11000582468002401\n"
     ]
    },
    {
     "name": "stderr",
     "output_type": "stream",
     "text": [
      "Epoch 188/200:   1%|▍                                                 | 2/235 [00:00<00:20, 11.38it/s, Train Loss=0.227]"
     ]
    },
    {
     "name": "stdout",
     "output_type": "stream",
     "text": [
      "Epoch 186: train loss 0.10991515317495833\n"
     ]
    },
    {
     "name": "stderr",
     "output_type": "stream",
     "text": [
      "Epoch 189/200:   1%|▍                                                 | 2/235 [00:00<00:20, 11.38it/s, Train Loss=0.218]"
     ]
    },
    {
     "name": "stdout",
     "output_type": "stream",
     "text": [
      "Epoch 187: train loss 0.10918758628850288\n"
     ]
    },
    {
     "name": "stderr",
     "output_type": "stream",
     "text": [
      "Epoch 190/200:   1%|▍                                                 | 2/235 [00:00<00:20, 11.36it/s, Train Loss=0.212]"
     ]
    },
    {
     "name": "stdout",
     "output_type": "stream",
     "text": [
      "Epoch 188: train loss 0.10876090063693676\n"
     ]
    },
    {
     "name": "stderr",
     "output_type": "stream",
     "text": [
      "                                                                                                                        \r"
     ]
    },
    {
     "name": "stdout",
     "output_type": "stream",
     "text": [
      "Epoch 189: train loss 0.10916099538828464\n"
     ]
    },
    {
     "name": "stderr",
     "output_type": "stream",
     "text": [
      "Corruption MSE: 0.063099, Recovered MSE: 0.014984: 100%|███████████████████████████| 2000/2000 [00:07<00:00, 270.12it/s]\n",
      "Epoch 191/200:   1%|▍                                                 | 2/235 [00:00<00:20, 11.60it/s, Train Loss=0.223]"
     ]
    },
    {
     "name": "stdout",
     "output_type": "stream",
     "text": [
      "Current best MSE: 0.015283512353897095 -> 0.01498395299911499\n"
     ]
    },
    {
     "name": "stderr",
     "output_type": "stream",
     "text": [
      "Epoch 192/200:   1%|▍                                                 | 2/235 [00:00<00:20, 11.37it/s, Train Loss=0.216]"
     ]
    },
    {
     "name": "stdout",
     "output_type": "stream",
     "text": [
      "Epoch 190: train loss 0.1095327780601826\n"
     ]
    },
    {
     "name": "stderr",
     "output_type": "stream",
     "text": [
      "Epoch 193/200:   1%|▍                                                 | 2/235 [00:00<00:20, 11.37it/s, Train Loss=0.209]"
     ]
    },
    {
     "name": "stdout",
     "output_type": "stream",
     "text": [
      "Epoch 191: train loss 0.10943602158668193\n"
     ]
    },
    {
     "name": "stderr",
     "output_type": "stream",
     "text": [
      "Epoch 194/200:   1%|▍                                                 | 2/235 [00:00<00:20, 11.38it/s, Train Loss=0.214]"
     ]
    },
    {
     "name": "stdout",
     "output_type": "stream",
     "text": [
      "Epoch 192: train loss 0.108037073307849\n"
     ]
    },
    {
     "name": "stderr",
     "output_type": "stream",
     "text": [
      "Epoch 195/200:   1%|▍                                                 | 2/235 [00:00<00:20, 11.39it/s, Train Loss=0.209]"
     ]
    },
    {
     "name": "stdout",
     "output_type": "stream",
     "text": [
      "Epoch 193: train loss 0.10922080792011099\n"
     ]
    },
    {
     "name": "stderr",
     "output_type": "stream",
     "text": [
      "                                                                                                                        \r"
     ]
    },
    {
     "name": "stdout",
     "output_type": "stream",
     "text": [
      "Epoch 194: train loss 0.10813406033718839\n"
     ]
    },
    {
     "name": "stderr",
     "output_type": "stream",
     "text": [
      "Corruption MSE: 0.062573, Recovered MSE: 0.014441: 100%|███████████████████████████| 2000/2000 [00:07<00:00, 270.16it/s]\n",
      "Epoch 196/200:   1%|▍                                                 | 2/235 [00:00<00:20, 11.51it/s, Train Loss=0.216]"
     ]
    },
    {
     "name": "stdout",
     "output_type": "stream",
     "text": [
      "Current best MSE: 0.01498395299911499 -> 0.014440977573394775\n"
     ]
    },
    {
     "name": "stderr",
     "output_type": "stream",
     "text": [
      "Epoch 197/200:   1%|▍                                                 | 2/235 [00:00<00:21, 11.07it/s, Train Loss=0.222]"
     ]
    },
    {
     "name": "stdout",
     "output_type": "stream",
     "text": [
      "Epoch 195: train loss 0.10932942552769438\n"
     ]
    },
    {
     "name": "stderr",
     "output_type": "stream",
     "text": [
      "Epoch 198/200:   1%|▍                                                 | 2/235 [00:00<00:20, 11.30it/s, Train Loss=0.211]"
     ]
    },
    {
     "name": "stdout",
     "output_type": "stream",
     "text": [
      "Epoch 196: train loss 0.10828428484023886\n"
     ]
    },
    {
     "name": "stderr",
     "output_type": "stream",
     "text": [
      "Epoch 199/200:   1%|▍                                                 | 2/235 [00:00<00:20, 11.38it/s, Train Loss=0.214]"
     ]
    },
    {
     "name": "stdout",
     "output_type": "stream",
     "text": [
      "Epoch 197: train loss 0.10818495563370116\n"
     ]
    },
    {
     "name": "stderr",
     "output_type": "stream",
     "text": [
      "Epoch 200/200:   1%|▍                                                 | 2/235 [00:00<00:20, 11.38it/s, Train Loss=0.222]"
     ]
    },
    {
     "name": "stdout",
     "output_type": "stream",
     "text": [
      "Epoch 198: train loss 0.10855060993356908\n"
     ]
    },
    {
     "name": "stderr",
     "output_type": "stream",
     "text": [
      "                                                                                                                        \r"
     ]
    },
    {
     "name": "stdout",
     "output_type": "stream",
     "text": [
      "Epoch 199: train loss 0.10697510635599176\n"
     ]
    },
    {
     "name": "stderr",
     "output_type": "stream",
     "text": [
      "Corruption MSE: 0.063483, Recovered MSE: 0.014693: 100%|███████████████████████████| 2000/2000 [00:07<00:00, 270.44it/s]\n"
     ]
    }
   ],
   "source": [
    "# Here are the hyperparameters\n",
    "\n",
    "epochs = 200\n",
    "criterion = nn.MSELoss()\n",
    "init_sigma = 28\n",
    "final_sigma = 0.01\n",
    "n_sigma = 75\n",
    "eps = 1e-5\n",
    "T = 5\n",
    "eval_freq = 5\n",
    "ema_decay = 0.999\n",
    "\n",
    "sigmas = cal_noise_level(init_sigma, final_sigma, n_sigma)\n",
    "model = UNetv2(sigmas=torch.tensor(sigmas))\n",
    "optimizer = torch.optim.Adam(model.parameters(), lr=1e-4)\n",
    "\n",
    "print(\"model:\", model)\n",
    "# calculate the number of parameters\n",
    "num_params = sum(p.numel() for p in model.parameters())\n",
    "print(\"number of parameters:\", num_params)\n",
    "\n",
    "\n",
    "time_str = timestr()\n",
    "print(\"time string:\", time_str)\n",
    "\n",
    "train(epochs=epochs, model=model, optimizer=optimizer, criterion=criterion, train_loader=train_loader, val_loader=val_loader, sigmas=sigmas, eps=eps, T=T, time_str=time_str, eval_freq=eval_freq, ema_decay=ema_decay)"
   ]
  },
  {
   "cell_type": "code",
   "execution_count": 4,
   "metadata": {},
   "outputs": [],
   "source": [
    "# # load a model\n",
    "# import os\n",
    "# model = UNet(L=n_sigma).cuda()\n",
    "# print(sum(p.numel() for p in model.parameters() if p.requires_grad))\n",
    "# eval_epoch = 70\n",
    "# model.load_state_dict(torch.load(f'NCSN/models/{eval_epoch}.pth'))\n",
    "# make_dataset(model, sigmas, eps=eps, T=T)\n",
    "# print(\"Dataset created\")\n",
    "# os.system(\"python NCSN/evaluate.py\")"
   ]
  },
  {
   "cell_type": "code",
   "execution_count": 1,
   "metadata": {},
   "outputs": [
    {
     "name": "stdout",
     "output_type": "stream",
     "text": [
      "Files already downloaded and verified\n",
      "Files already downloaded and verified\n"
     ]
    }
   ],
   "source": [
    "# sampling\n",
    "try:\n",
    "    from NCSN.utils import val_set\n",
    "    from NCSN.model import CondUNet, UNetv2\n",
    "    from NCSN.train import evaluate_denoising, cal_noise_level, langevin\n",
    "    from NCSN.ema import EMAHelper\n",
    "\n",
    "except:\n",
    "    from utils import val_set\n",
    "    from model import CondUNet, UNetv2\n",
    "    from train import evaluate_denoising, cal_noise_level, langevin\n",
    "    from ema import EMAHelper\n",
    "\n",
    "import torch\n",
    "import torch.nn as nn\n",
    "from torch.utils.data import DataLoader\n",
    "\n",
    "# val_loader = DataLoader(val_set, 500, shuffle=True, drop_last=False, pin_memory=True)\n",
    "\n",
    "criterion = nn.MSELoss()\n",
    "init_sigma = 28\n",
    "final_sigma = 0.01\n",
    "n_sigma = 75\n",
    "eps = 6e-6\n",
    "T = 10\n",
    "ema_decay = 0.999\n",
    "\n",
    "sigmas = cal_noise_level(init_sigma, final_sigma, n_sigma)\n",
    "\n",
    "model = UNetv2(sigmas=torch.tensor(sigmas)).cuda()\n",
    "time_str = \"20241022_182843\"\n",
    "eval_epoch = 199\n",
    "\n",
    "if ema_decay is not None:\n",
    "    ema_helper = EMAHelper(ema_decay)\n",
    "    ema_helper.register(model)\n",
    "    ema_helper.load_state_dict(torch.load(f\"/nobackup/users/sqa24/NCSN/{time_str}/models/{eval_epoch:03d}_ema.pth\"))\n",
    "    ema_helper.ema(model)\n",
    "else:\n",
    "    model.load_state_dict(torch.load(f\"/nobackup/users/sqa24/NCSN/{time_str}/models/{eval_epoch:03d}.pth\"))\n",
    "model.cuda()\n",
    "\n",
    "# x = torch.rand(10, 1, 28, 28).cuda()\n",
    "x = torch.randn(10, 1, 28, 28).cuda()\n",
    "x = (x+1)/2\n",
    "y = langevin(model, x, sigmas, eps=eps, T=T, save=True, epochs=eval_epoch, clamp=False, time_str=time_str)"
   ]
  },
  {
   "cell_type": "code",
   "execution_count": 1,
   "metadata": {},
   "outputs": [
    {
     "name": "stdout",
     "output_type": "stream",
     "text": [
      "Files already downloaded and verified\n",
      "Files already downloaded and verified\n"
     ]
    },
    {
     "name": "stderr",
     "output_type": "stream",
     "text": [
      "Corruption MSE: 0.061190, Recovered MSE: 0.008740:   0%|▏                             | 10/2000 [00:01<05:54,  5.61it/s]\n"
     ]
    }
   ],
   "source": [
    "# visualize denoising\n",
    "try:\n",
    "    from NCSN.utils import val_set\n",
    "    from NCSN.model import CondUNet, UNetv2\n",
    "    from NCSN.train import evaluate_denoising, cal_noise_level, langevin\n",
    "    from NCSN.ema import EMAHelper\n",
    "\n",
    "except:\n",
    "    from utils import val_set\n",
    "    from model import CondUNet, UNetv2\n",
    "    from train import evaluate_denoising, cal_noise_level, langevin\n",
    "    from ema import EMAHelper\n",
    "\n",
    "import torch\n",
    "import torch.nn as nn\n",
    "from torch.utils.data import DataLoader\n",
    "\n",
    "val_loader = DataLoader(val_set, 10, shuffle=True, drop_last=False, pin_memory=True)\n",
    "\n",
    "criterion = nn.MSELoss()\n",
    "init_sigma = 28\n",
    "final_sigma = 0.01\n",
    "n_sigma = 75\n",
    "eps = 6e-6\n",
    "T = 10\n",
    "ema_decay = 0.999\n",
    "\n",
    "sigmas = cal_noise_level(init_sigma, final_sigma, n_sigma)\n",
    "\n",
    "model = UNetv2(sigmas=torch.tensor(sigmas)).cuda()\n",
    "time_str = \"20241022_182843\"\n",
    "eval_epoch = 199\n",
    "\n",
    "if ema_decay is not None:\n",
    "    ema_helper = EMAHelper(ema_decay)\n",
    "    ema_helper.register(model)\n",
    "    ema_helper.load_state_dict(torch.load(f\"/nobackup/users/sqa24/NCSN/{time_str}/models/{eval_epoch:03d}_ema.pth\"))\n",
    "    ema_helper.ema(model)\n",
    "else:\n",
    "    model.load_state_dict(torch.load(f\"/nobackup/users/sqa24/NCSN/{time_str}/models/{eval_epoch:03d}.pth\"))\n",
    "model.cuda()\n",
    "\n",
    "corruption_mse, mse, original, broken, recovered = evaluate_denoising(\n",
    "    model, sigmas, eps=eps, T=T, val_loader=val_loader, outdir=f'NCSN/rubbish.out', visualize=True\n",
    ")"
   ]
  },
  {
   "cell_type": "code",
   "execution_count": 2,
   "metadata": {},
   "outputs": [
    {
     "ename": "FileNotFoundError",
     "evalue": "[Errno 2] No such file or directory: '/nobackup/users/sqa24/NCSN/20241009_193254/models/010_ema.pth'",
     "output_type": "error",
     "traceback": [
      "\u001b[0;31m---------------------------------------------------------------------------\u001b[0m",
      "\u001b[0;31mFileNotFoundError\u001b[0m                         Traceback (most recent call last)",
      "\u001b[0;32m/tmp/ipykernel_1817668/964097406.py\u001b[0m in \u001b[0;36m<module>\u001b[0;34m\u001b[0m\n\u001b[1;32m     35\u001b[0m     \u001b[0mema_helper\u001b[0m \u001b[0;34m=\u001b[0m \u001b[0mEMAHelper\u001b[0m\u001b[0;34m(\u001b[0m\u001b[0mema_decay\u001b[0m\u001b[0;34m)\u001b[0m\u001b[0;34m\u001b[0m\u001b[0;34m\u001b[0m\u001b[0m\n\u001b[1;32m     36\u001b[0m     \u001b[0mema_helper\u001b[0m\u001b[0;34m.\u001b[0m\u001b[0mregister\u001b[0m\u001b[0;34m(\u001b[0m\u001b[0mmodel\u001b[0m\u001b[0;34m)\u001b[0m\u001b[0;34m\u001b[0m\u001b[0;34m\u001b[0m\u001b[0m\n\u001b[0;32m---> 37\u001b[0;31m     \u001b[0mema_helper\u001b[0m\u001b[0;34m.\u001b[0m\u001b[0mload_state_dict\u001b[0m\u001b[0;34m(\u001b[0m\u001b[0mtorch\u001b[0m\u001b[0;34m.\u001b[0m\u001b[0mload\u001b[0m\u001b[0;34m(\u001b[0m\u001b[0;34mf\"/nobackup/users/sqa24/NCSN/{time_str}/models/{eval_epoch:03d}_ema.pth\"\u001b[0m\u001b[0;34m)\u001b[0m\u001b[0;34m)\u001b[0m\u001b[0;34m\u001b[0m\u001b[0;34m\u001b[0m\u001b[0m\n\u001b[0m\u001b[1;32m     38\u001b[0m     \u001b[0mema_helper\u001b[0m\u001b[0;34m.\u001b[0m\u001b[0mema\u001b[0m\u001b[0;34m(\u001b[0m\u001b[0mmodel\u001b[0m\u001b[0;34m)\u001b[0m\u001b[0;34m\u001b[0m\u001b[0;34m\u001b[0m\u001b[0m\n\u001b[1;32m     39\u001b[0m \u001b[0;32melse\u001b[0m\u001b[0;34m:\u001b[0m\u001b[0;34m\u001b[0m\u001b[0;34m\u001b[0m\u001b[0m\n",
      "\u001b[0;32m/nobackup/users/sqa24/anaconda3/envs/wgt/lib/python3.7/site-packages/torch/serialization.py\u001b[0m in \u001b[0;36mload\u001b[0;34m(f, map_location, pickle_module, **pickle_load_args)\u001b[0m\n\u001b[1;32m    379\u001b[0m             \u001b[0;34m(\u001b[0m\u001b[0msys\u001b[0m\u001b[0;34m.\u001b[0m\u001b[0mversion_info\u001b[0m\u001b[0;34m[\u001b[0m\u001b[0;36m0\u001b[0m\u001b[0;34m]\u001b[0m \u001b[0;34m==\u001b[0m \u001b[0;36m2\u001b[0m \u001b[0;32mand\u001b[0m \u001b[0misinstance\u001b[0m\u001b[0;34m(\u001b[0m\u001b[0mf\u001b[0m\u001b[0;34m,\u001b[0m \u001b[0municode\u001b[0m\u001b[0;34m)\u001b[0m\u001b[0;34m)\u001b[0m\u001b[0;34m:\u001b[0m\u001b[0;34m\u001b[0m\u001b[0;34m\u001b[0m\u001b[0m\n\u001b[1;32m    380\u001b[0m         \u001b[0mnew_fd\u001b[0m \u001b[0;34m=\u001b[0m \u001b[0;32mTrue\u001b[0m\u001b[0;34m\u001b[0m\u001b[0;34m\u001b[0m\u001b[0m\n\u001b[0;32m--> 381\u001b[0;31m         \u001b[0mf\u001b[0m \u001b[0;34m=\u001b[0m \u001b[0mopen\u001b[0m\u001b[0;34m(\u001b[0m\u001b[0mf\u001b[0m\u001b[0;34m,\u001b[0m \u001b[0;34m'rb'\u001b[0m\u001b[0;34m)\u001b[0m\u001b[0;34m\u001b[0m\u001b[0;34m\u001b[0m\u001b[0m\n\u001b[0m\u001b[1;32m    382\u001b[0m     \u001b[0;32melif\u001b[0m \u001b[0;34m(\u001b[0m\u001b[0msys\u001b[0m\u001b[0;34m.\u001b[0m\u001b[0mversion_info\u001b[0m\u001b[0;34m[\u001b[0m\u001b[0;36m0\u001b[0m\u001b[0;34m]\u001b[0m \u001b[0;34m==\u001b[0m \u001b[0;36m3\u001b[0m \u001b[0;32mand\u001b[0m \u001b[0misinstance\u001b[0m\u001b[0;34m(\u001b[0m\u001b[0mf\u001b[0m\u001b[0;34m,\u001b[0m \u001b[0mpathlib\u001b[0m\u001b[0;34m.\u001b[0m\u001b[0mPath\u001b[0m\u001b[0;34m)\u001b[0m\u001b[0;34m)\u001b[0m\u001b[0;34m:\u001b[0m\u001b[0;34m\u001b[0m\u001b[0;34m\u001b[0m\u001b[0m\n\u001b[1;32m    383\u001b[0m         \u001b[0mnew_fd\u001b[0m \u001b[0;34m=\u001b[0m \u001b[0;32mTrue\u001b[0m\u001b[0;34m\u001b[0m\u001b[0;34m\u001b[0m\u001b[0m\n",
      "\u001b[0;31mFileNotFoundError\u001b[0m: [Errno 2] No such file or directory: '/nobackup/users/sqa24/NCSN/20241009_193254/models/010_ema.pth'"
     ]
    }
   ],
   "source": [
    "# experiment on recovering\n",
    "try:\n",
    "    from NCSN.utils import val_set\n",
    "    from NCSN.model import CondUNet, UNetv2\n",
    "    from NCSN.train import evaluate_denoising, cal_noise_level, langevin\n",
    "    from NCSN.ema import EMAHelper\n",
    "\n",
    "except:\n",
    "    from utils import val_set\n",
    "    from model import CondUNet, UNetv2\n",
    "    from train import evaluate_denoising, cal_noise_level, langevin\n",
    "    from ema import EMAHelper\n",
    "\n",
    "import torch\n",
    "import torch.nn as nn\n",
    "from torch.utils.data import DataLoader\n",
    "\n",
    "val_loader = DataLoader(val_set, 500, shuffle=True, drop_last=False, pin_memory=True)\n",
    "\n",
    "criterion = nn.MSELoss()\n",
    "init_sigma = 28\n",
    "final_sigma = 0.01\n",
    "n_sigma = 75\n",
    "eps = 6e-6\n",
    "T = 10\n",
    "ema_decay = 0.999\n",
    "\n",
    "sigmas = cal_noise_level(init_sigma, final_sigma, n_sigma)\n",
    "\n",
    "model = UNetv2(sigmas=torch.tensor(sigmas)).cuda()\n",
    "time_str = \"20241009_193254\"\n",
    "eval_epoch = 10\n",
    "\n",
    "if ema_decay is not None:\n",
    "    ema_helper = EMAHelper(ema_decay)\n",
    "    ema_helper.register(model)\n",
    "    ema_helper.load_state_dict(torch.load(f\"/nobackup/users/sqa24/NCSN/{time_str}/models/{eval_epoch:03d}_ema.pth\"))\n",
    "    ema_helper.ema(model)\n",
    "else:\n",
    "    model.load_state_dict(torch.load(f\"/nobackup/users/sqa24/NCSN/{time_str}/models/{eval_epoch:03d}.pth\"))\n",
    "model.cuda()\n",
    "\n",
    "corruption_mse, mse, original, broken, recovered = evaluate_denoising(\n",
    "    model, sigmas, eps=eps, T=T, val_loader=val_loader, outdir=f'NCSN/rubbish.out'\n",
    ")"
   ]
  }
 ],
 "metadata": {
  "kernelspec": {
   "display_name": "Python 3 (ipykernel)",
   "language": "python",
   "name": "python3"
  },
  "language_info": {
   "codemirror_mode": {
    "name": "ipython",
    "version": 3
   },
   "file_extension": ".py",
   "mimetype": "text/x-python",
   "name": "python",
   "nbconvert_exporter": "python",
   "pygments_lexer": "ipython3",
   "version": "3.7.6"
  }
 },
 "nbformat": 4,
 "nbformat_minor": 2
}
